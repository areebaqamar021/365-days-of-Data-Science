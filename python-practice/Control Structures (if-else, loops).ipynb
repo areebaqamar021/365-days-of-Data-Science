{
 "cells": [
  {
   "cell_type": "markdown",
   "id": "e0fdc631-c5ad-4d25-9c9b-13d990d30012",
   "metadata": {},
   "source": [
    "## If-Else Problems"
   ]
  },
  {
   "cell_type": "markdown",
   "id": "38284b7b-cf10-4195-885e-dd4470bd4d73",
   "metadata": {},
   "source": [
    "###  Write a program that checks if a letter is a vowel or a consonant."
   ]
  },
  {
   "cell_type": "code",
   "execution_count": 2,
   "id": "dfe6c57e-9a13-447d-9439-3dc5400a6a61",
   "metadata": {},
   "outputs": [
    {
     "name": "stdout",
     "output_type": "stream",
     "text": [
      "A is a Vowel.\n"
     ]
    }
   ],
   "source": [
    "letter = 'A'  # Change the letter to test\n",
    "letter = letter.lower()  # Convert to lowercase\n",
    "\n",
    "if letter in ['a', 'e', 'i', 'o', 'u']:\n",
    "    print(f\"{letter.upper()} is a Vowel.\")\n",
    "else:\n",
    "    print(f\"{letter.upper()} is a Consonant.\")"
   ]
  },
  {
   "cell_type": "markdown",
   "id": "30a27ebf-9577-48be-8632-e2960df0fc99",
   "metadata": {},
   "source": [
    "### Write a program to find the largest of three numbers."
   ]
  },
  {
   "cell_type": "code",
   "execution_count": 5,
   "id": "868efc52-d9e2-4bf0-aba3-b8087217794a",
   "metadata": {},
   "outputs": [
    {
     "name": "stdout",
     "output_type": "stream",
     "text": [
      "The largest number is 20\n"
     ]
    }
   ],
   "source": [
    "a, b, c = 10, 20, 15  # Change these numbers to test\n",
    "\n",
    "if a > b and a > c:\n",
    "    print(f\"The largest number is {a}\")\n",
    "elif b > c:\n",
    "    print(f\"The largest number is {b}\")\n",
    "else:\n",
    "    print(f\"The largest number is {c}\")"
   ]
  },
  {
   "cell_type": "markdown",
   "id": "22a1a74b-eeb7-4d7e-9d77-6c26e4e14882",
   "metadata": {},
   "source": [
    "### Write a program to check if a number is divisible by 3, 5, or both."
   ]
  },
  {
   "cell_type": "code",
   "execution_count": 8,
   "id": "e91fbe49-35bc-4b99-887a-e5e5bc67ab06",
   "metadata": {},
   "outputs": [
    {
     "name": "stdout",
     "output_type": "stream",
     "text": [
      "Divisible by 3 and 5\n"
     ]
    }
   ],
   "source": [
    "number = 15  # Change this number to test\n",
    "\n",
    "if number % 3 == 0 and number % 5 == 0:\n",
    "    print(\"Divisible by 3 and 5\")\n",
    "elif number % 3 == 0:\n",
    "    print(\"Divisible by 3\")\n",
    "elif number % 5 == 0:\n",
    "    print(\"Divisible by 5\")\n",
    "else:\n",
    "    print(\"Not divisible by 3 or 5\")"
   ]
  },
  {
   "cell_type": "markdown",
   "id": "061ce1ee-dd21-4074-bcb8-b12dd0c544b5",
   "metadata": {},
   "source": [
    "### Write a program to check the strength of a password based on these rules:\n",
    "\n",
    "- If the password length is greater than 8 and contains both letters and numbers, print \"Strong.\"\n",
    "- If the password is longer than 8 but only has letters or numbers, print \"Moderate.\"\n",
    "- If it's shorter than 8, print \"Weak.\""
   ]
  },
  {
   "cell_type": "code",
   "execution_count": 14,
   "id": "9a4608c8-d2b7-4498-907b-782352c136e8",
   "metadata": {},
   "outputs": [
    {
     "name": "stdout",
     "output_type": "stream",
     "text": [
      "Strong Password\n"
     ]
    }
   ],
   "source": [
    "password = \"P@ssw0rd123\"  # Change this to test\n",
    "\n",
    "if len(password) > 8 and any(char.isalpha() for char in password) and any(char.isdigit() for char in password):\n",
    "    print(\"Strong Password\")\n",
    "elif len(password) > 8:\n",
    "    print(\"Moderate Password\")\n",
    "else:\n",
    "    print(\"Weak Password\")"
   ]
  },
  {
   "cell_type": "markdown",
   "id": "4611370b-7bbe-43fb-8e09-7d713245a580",
   "metadata": {},
   "source": [
    "### Write a program to check if a person is eligible to vote."
   ]
  },
  {
   "cell_type": "code",
   "execution_count": 17,
   "id": "fbcf2974-a6d7-44bd-85d2-16d994a5d4ab",
   "metadata": {},
   "outputs": [
    {
     "name": "stdout",
     "output_type": "stream",
     "text": [
      "You are not eligible to vote.\n"
     ]
    }
   ],
   "source": [
    "age = 16  # Change this age to test\n",
    "\n",
    "if age >= 18:\n",
    "    print(\"You are eligible to vote.\")\n",
    "else:\n",
    "    print(\"You are not eligible to vote.\")"
   ]
  },
  {
   "cell_type": "markdown",
   "id": "ccd51931-f7ec-418e-a613-26eba57d028a",
   "metadata": {},
   "source": [
    "## Loop Problems"
   ]
  },
  {
   "cell_type": "markdown",
   "id": "3972f23d-d65d-46cc-9763-945a2b5f9f52",
   "metadata": {},
   "source": [
    "### Write a program to calculate the factorial of a number using a loop."
   ]
  },
  {
   "cell_type": "code",
   "execution_count": 22,
   "id": "5fa65218-8075-4056-9315-843fb64aaa7b",
   "metadata": {},
   "outputs": [
    {
     "name": "stdout",
     "output_type": "stream",
     "text": [
      "The factorial of 5 is 120\n"
     ]
    }
   ],
   "source": [
    "number = 5  # Change this to test\n",
    "result = 1\n",
    "\n",
    "for i in range(1, number + 1):\n",
    "    result *= i\n",
    "\n",
    "print(f\"The factorial of {number} is {result}\")"
   ]
  },
  {
   "cell_type": "markdown",
   "id": "f312ea1b-8d8c-47ef-a3ec-bc74a1e63dd5",
   "metadata": {},
   "source": [
    "### Write a program to calculate the sum of digits of a number."
   ]
  },
  {
   "cell_type": "code",
   "execution_count": 26,
   "id": "6fe1bd2a-beea-49e2-a08a-a80380afbbd2",
   "metadata": {},
   "outputs": [
    {
     "name": "stdout",
     "output_type": "stream",
     "text": [
      "The sum of digits is 6\n"
     ]
    }
   ],
   "source": [
    "number = 123  # Change this to test\n",
    "sum_of_digits = 0\n",
    "\n",
    "while number > 0:\n",
    "    sum_of_digits += number % 10\n",
    "    number //= 10\n",
    "\n",
    "print(f\"The sum of digits is {sum_of_digits}\")"
   ]
  },
  {
   "cell_type": "markdown",
   "id": "b09ce7a4-1acf-45e4-be2c-e80a35e47c1a",
   "metadata": {},
   "source": [
    "### Write a program to reverse a number."
   ]
  },
  {
   "cell_type": "code",
   "execution_count": 29,
   "id": "221e93a5-e9d4-44c1-b3c5-5f92ac025417",
   "metadata": {},
   "outputs": [
    {
     "name": "stdout",
     "output_type": "stream",
     "text": [
      "The reversed number is 321\n"
     ]
    }
   ],
   "source": [
    "number = 123  # Change this to test\n",
    "reverse = 0\n",
    "\n",
    "while number > 0:\n",
    "    reverse = reverse * 10 + number % 10\n",
    "    number //= 10\n",
    "\n",
    "print(f\"The reversed number is {reverse}\")"
   ]
  },
  {
   "cell_type": "markdown",
   "id": "dc89399d-48ed-4af7-ab93-f6d6eddbe1d1",
   "metadata": {},
   "source": [
    "###  Write a program to print the first 10 multiples of a given number."
   ]
  },
  {
   "cell_type": "code",
   "execution_count": 32,
   "id": "f5bd7d7b-f3ce-47bd-af2e-5b26a003c618",
   "metadata": {},
   "outputs": [
    {
     "name": "stdout",
     "output_type": "stream",
     "text": [
      "3 x 1 = 3\n",
      "3 x 2 = 6\n",
      "3 x 3 = 9\n",
      "3 x 4 = 12\n",
      "3 x 5 = 15\n",
      "3 x 6 = 18\n",
      "3 x 7 = 21\n",
      "3 x 8 = 24\n",
      "3 x 9 = 27\n",
      "3 x 10 = 30\n"
     ]
    }
   ],
   "source": [
    "number = 3  # Change this to test\n",
    "\n",
    "for i in range(1, 11):\n",
    "    print(f\"{number} x {i} = {number * i}\")"
   ]
  },
  {
   "cell_type": "markdown",
   "id": "fad105f4-6746-453a-a33d-2185ee70bdca",
   "metadata": {},
   "source": [
    "### Write a program to print the first 10 numbers in the Fibonacci series."
   ]
  },
  {
   "cell_type": "code",
   "execution_count": 35,
   "id": "de370043-768f-4f4d-99a7-8f87e5af3882",
   "metadata": {},
   "outputs": [
    {
     "name": "stdout",
     "output_type": "stream",
     "text": [
      "0 1 1 2 3 5 8 13 21 34 "
     ]
    }
   ],
   "source": [
    "n = 10  # Number of terms\n",
    "a, b = 0, 1\n",
    "\n",
    "print(a, b, end=\" \")  # Print the first two terms\n",
    "\n",
    "for _ in range(n - 2):\n",
    "    c = a + b\n",
    "    print(c, end=\" \")\n",
    "    a, b = b, c"
   ]
  }
 ],
 "metadata": {
  "kernelspec": {
   "display_name": "Python 3 (ipykernel)",
   "language": "python",
   "name": "python3"
  },
  "language_info": {
   "codemirror_mode": {
    "name": "ipython",
    "version": 3
   },
   "file_extension": ".py",
   "mimetype": "text/x-python",
   "name": "python",
   "nbconvert_exporter": "python",
   "pygments_lexer": "ipython3",
   "version": "3.11.7"
  }
 },
 "nbformat": 4,
 "nbformat_minor": 5
}
