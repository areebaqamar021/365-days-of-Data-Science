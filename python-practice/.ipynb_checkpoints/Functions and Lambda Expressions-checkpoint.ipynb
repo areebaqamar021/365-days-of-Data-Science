{
 "cells": [
  {
   "cell_type": "markdown",
   "id": "be6f8b1a-cdcc-4a2b-ae8c-e84309ca1db2",
   "metadata": {},
   "source": [
    "###  Problem 1: Custom Sorting with Regular Function"
   ]
  },
  {
   "cell_type": "code",
   "execution_count": 3,
   "id": "aa437301-d930-489a-8543-56e6b27ec6dd",
   "metadata": {},
   "outputs": [
    {
     "name": "stdout",
     "output_type": "stream",
     "text": [
      "[{'name': 'Tablet', 'price': 500}, {'name': 'Phone', 'price': 800}, {'name': 'Laptop', 'price': 1200}]\n"
     ]
    }
   ],
   "source": [
    "# Problem: Sort a list of dictionaries based on a specific key\n",
    "def sort_by_value(dict_list, key):\n",
    "    # Define custom sorting function that returns the value of specified key\n",
    "    def get_sort_key(item):\n",
    "        return item[key]\n",
    "    \n",
    "    # Use sorted() with key function to sort the list\n",
    "    return sorted(dict_list, key=get_sort_key)\n",
    "\n",
    "# Example usage\n",
    "products = [\n",
    "    {\"name\": \"Laptop\", \"price\": 1200},\n",
    "    {\"name\": \"Phone\", \"price\": 800},\n",
    "    {\"name\": \"Tablet\", \"price\": 500}\n",
    "]\n",
    "\n",
    "# Sort products by price\n",
    "sorted_products = sort_by_value(products, \"price\")\n",
    "print(sorted_products)"
   ]
  },
  {
   "cell_type": "markdown",
   "id": "b117d630-3b9a-400a-b573-d037efe3a8ba",
   "metadata": {},
   "source": [
    "### Problem 2: Function Factory with Closure"
   ]
  },
  {
   "cell_type": "code",
   "execution_count": 6,
   "id": "75eb8a87-9d5e-46ab-820c-c2fd68c00fb2",
   "metadata": {},
   "outputs": [
    {
     "name": "stdout",
     "output_type": "stream",
     "text": [
      "10\n",
      "15\n"
     ]
    }
   ],
   "source": [
    "# Problem: Create a multiplier function factory\n",
    "def create_multiplier(factor):\n",
    "    # Outer function creates a closure\n",
    "    def multiplier(x):\n",
    "        # Inner function has access to factor from outer scope\n",
    "        return x * factor\n",
    "    \n",
    "    # Return the inner function\n",
    "    return multiplier\n",
    "\n",
    "# Example usage\n",
    "# Create functions that multiply by 2 and 3\n",
    "double = create_multiplier(2)\n",
    "triple = create_multiplier(3)\n",
    "\n",
    "# Use the created functions\n",
    "print(double(5)) \n",
    "print(triple(5))  "
   ]
  },
  {
   "cell_type": "markdown",
   "id": "61352574-44c6-40ec-91b6-ed0619c42ab3",
   "metadata": {},
   "source": [
    "### Problem 3: Function to find prime numbers within a given range:"
   ]
  },
  {
   "cell_type": "code",
   "execution_count": 22,
   "id": "05206821-5ce4-41b4-b088-1fafb4ea2c98",
   "metadata": {},
   "outputs": [
    {
     "name": "stdout",
     "output_type": "stream",
     "text": [
      "[11, 13, 17, 19, 23, 29, 31, 37, 41, 43, 47]\n"
     ]
    }
   ],
   "source": [
    "def find_primes(start, end):\n",
    "    # Initialize empty list to store prime numbers\n",
    "    prime_list = []\n",
    "    \n",
    "    # Loop through each number in the range\n",
    "    for num in range(start, end + 1):\n",
    "        # Numbers less than 2 are not prime\n",
    "        if num < 2:\n",
    "            continue\n",
    "            \n",
    "        # Assume number is prime until proven otherwise\n",
    "        is_prime = True\n",
    "        \n",
    "        # Check if number is divisible by any integer up to its square root\n",
    "        for i in range(2, int(num ** 0.5) + 1):\n",
    "            if num % i == 0:\n",
    "                is_prime = False\n",
    "                break\n",
    "                \n",
    "        # If number is prime, add to list\n",
    "        if is_prime:\n",
    "            prime_list.append(num)\n",
    "            \n",
    "    return prime_list\n",
    "\n",
    "# Example usage\n",
    "primes = find_primes(10, 50)\n",
    "print(primes)"
   ]
  },
  {
   "cell_type": "code",
   "execution_count": null,
   "id": "58b8935b-7bfd-4e71-b9de-465ea4a9ffaa",
   "metadata": {},
   "outputs": [],
   "source": []
  }
 ],
 "metadata": {
  "kernelspec": {
   "display_name": "Python 3 (ipykernel)",
   "language": "python",
   "name": "python3"
  },
  "language_info": {
   "codemirror_mode": {
    "name": "ipython",
    "version": 3
   },
   "file_extension": ".py",
   "mimetype": "text/x-python",
   "name": "python",
   "nbconvert_exporter": "python",
   "pygments_lexer": "ipython3",
   "version": "3.11.7"
  }
 },
 "nbformat": 4,
 "nbformat_minor": 5
}
