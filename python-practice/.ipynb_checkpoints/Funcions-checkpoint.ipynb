{
 "cells": [
  {
   "cell_type": "code",
   "execution_count": 16,
   "id": "c95e3b33-3651-4f7a-b5d3-f97d617a8e87",
   "metadata": {},
   "outputs": [
    {
     "name": "stdout",
     "output_type": "stream",
     "text": [
      "Print pattern with input=3\n",
      "*\n",
      "**\n",
      "***\n",
      "Print pattern with input=4\n",
      "*\n",
      "**\n",
      "***\n",
      "****\n",
      "Print pattern with no input number\n",
      "*\n",
      "**\n",
      "***\n",
      "****\n",
      "*****\n"
     ]
    }
   ],
   "source": [
    "def print_pattern(n=5):\n",
    "    '''\n",
    "    :param n: Integer number representing number of lines\n",
    "    to be printed in a pattern. If n=3 it will print,\n",
    "      *\n",
    "      **\n",
    "      ***\n",
    "    If n=4, it will print,\n",
    "      *\n",
    "      **\n",
    "      ***\n",
    "      ****\n",
    "    Default value for n is 5. So if function caller doesn't\n",
    "    supply the input number then it will assume it to be 5\n",
    "    :return: None\n",
    "    '''\n",
    "    # we need to run two for loops. Outer loop prints patterns line by line\n",
    "    # where as inner loop print the content of that specific lines\n",
    "    for i in range(n):\n",
    "        s = ''\n",
    "        for j in range(i+1):\n",
    "            s = s + '*'\n",
    "        print(s)\n",
    "print(\"Print pattern with input=3\")\n",
    "print_pattern(3)\n",
    "print(\"Print pattern with input=4\")\n",
    "print_pattern(4)\n",
    "print(\"Print pattern with no input number\")\n",
    "print_pattern() # Not supplying any input will use default argument which is 5"
   ]
  },
  {
   "cell_type": "code",
   "execution_count": 20,
   "id": "01df888a-0a4b-43b5-bfc3-dd7c17c8067c",
   "metadata": {},
   "outputs": [
    {
     "name": "stdout",
     "output_type": "stream",
     "text": [
      "Area of triangle is: 25.0\n",
      "Area of rectangle is: 600\n",
      "Area of triangle with no shape supplied:  25.0\n"
     ]
    }
   ],
   "source": [
    "def calculate_area(dimension1,dimension2,shape=\"triangle\"):\n",
    "    '''\n",
    "    :param dimension1: In case of triangle it is \"base\". For rectangle it is \"length\".\n",
    "    :param dimension2: In case of triangle it is \"height\". For rectangle it is \"width\".\n",
    "    :param shape: Either \"triangle\" or \"rectangle\"\n",
    "    :return: Area of a shape\n",
    "    '''\n",
    "    if shape==\"triangle\":\n",
    "        area=1/2*(dimension1*dimension2) # Triangle area is : 1/2(Base*Height)\n",
    "    elif shape==\"rectangle\":\n",
    "        area=dimension1*dimension2 # Rectangle area is: Length*Width\n",
    "    else:\n",
    "        print(\"Error: Input shape is neither triangle nor rectangle.\")\n",
    "        area=None # If user didn't supply \"triangle\" or \"rectangle\" as shape then return None\n",
    "    return area\n",
    "# 1. Write a function called calculate_area that takes base and height as an input and returns and area of a triangle. Equation of an area of a triangle is,\n",
    "# ```\n",
    "# area = (1/2)*base*height\n",
    "# ```\n",
    "#\n",
    "# 2. Modify above function to take third parameter shape type. It can be either \"triangle\" or \"rectangle\". Based on shape type it will calculate area. Equation of rectangle's area is,\n",
    "# ```\n",
    "# rectangle area=length*width\n",
    "# ```\n",
    "# If no shape is supplied then it should take triangle as a default shape\n",
    "\n",
    "# Calculate area of triangle whose base is 10 and height is 5\n",
    "base=10\n",
    "height=5\n",
    "triangle_area=calculate_area(base,height,\"triangle\")\n",
    "print(\"Area of triangle is:\",triangle_area)\n",
    "\n",
    "# Calculate area of a rectangle whose length is 20 and width is 30\n",
    "length=20\n",
    "width=30\n",
    "rectangle_area=calculate_area(length,width,\"rectangle\")\n",
    "print(\"Area of rectangle is:\",rectangle_area)\n",
    "\n",
    "# Calculate area of a triangle without supplying shape argument in a function call\n",
    "triangle_area=calculate_area(base,height) # Here third argument is missing\n",
    "print(\"Area of triangle with no shape supplied: \",triangle_area)"
   ]
  }
 ],
 "metadata": {
  "kernelspec": {
   "display_name": "Python 3 (ipykernel)",
   "language": "python",
   "name": "python3"
  },
  "language_info": {
   "codemirror_mode": {
    "name": "ipython",
    "version": 3
   },
   "file_extension": ".py",
   "mimetype": "text/x-python",
   "name": "python",
   "nbconvert_exporter": "python",
   "pygments_lexer": "ipython3",
   "version": "3.11.7"
  }
 },
 "nbformat": 4,
 "nbformat_minor": 5
}
