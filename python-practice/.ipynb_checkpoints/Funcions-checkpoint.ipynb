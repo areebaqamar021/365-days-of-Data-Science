{
 "cells": [
  {
   "cell_type": "code",
   "execution_count": 14,
   "id": "c95e3b33-3651-4f7a-b5d3-f97d617a8e87",
   "metadata": {},
   "outputs": [
    {
     "name": "stdout",
     "output_type": "stream",
     "text": [
      "Print pattern with input=3\n",
      "*\n",
      "**\n",
      "***\n",
      "Print pattern with input=4\n",
      "*\n",
      "**\n",
      "***\n",
      "****\n",
      "Print pattern with no input number\n",
      "*\n",
      "**\n",
      "***\n",
      "****\n",
      "*****\n"
     ]
    }
   ],
   "source": [
    "def print_pattern(n=5):\n",
    "    '''\n",
    "    :param n: Integer number representing number of lines\n",
    "    to be printed in a pattern. If n=3 it will print,\n",
    "      *\n",
    "      **\n",
    "      ***\n",
    "    If n=4, it will print,\n",
    "      *\n",
    "      **\n",
    "      ***\n",
    "      ****\n",
    "    Default value for n is 5. So if function caller doesn't\n",
    "    supply the input number then it will assume it to be 5\n",
    "    :return: None\n",
    "    '''\n",
    "    # we need to run two for loops. Outer loop prints patterns line by line\n",
    "    # where as inner loop print the content of that specific lines\n",
    "    for i in range(n):\n",
    "        s = ''\n",
    "        for j in range(i+1):\n",
    "            s = s + '*'\n",
    "        print(s)\n",
    "print(\"Print pattern with input=3\")\n",
    "print_pattern(3)\n",
    "print(\"Print pattern with input=4\")\n",
    "print_pattern(4)\n",
    "print(\"Print pattern with no input number\")\n",
    "print_pattern() # Not supplying any input will use default argument which is 5"
   ]
  }
 ],
 "metadata": {
  "kernelspec": {
   "display_name": "Python 3 (ipykernel)",
   "language": "python",
   "name": "python3"
  },
  "language_info": {
   "codemirror_mode": {
    "name": "ipython",
    "version": 3
   },
   "file_extension": ".py",
   "mimetype": "text/x-python",
   "name": "python",
   "nbconvert_exporter": "python",
   "pygments_lexer": "ipython3",
   "version": "3.11.7"
  }
 },
 "nbformat": 4,
 "nbformat_minor": 5
}
