{
 "cells": [
  {
   "cell_type": "markdown",
   "id": "317c582c-a414-42ae-948f-26f1d1b92f4e",
   "metadata": {},
   "source": [
    "## Data Types and Variables"
   ]
  },
  {
   "cell_type": "markdown",
   "id": "27918432-8c4f-41a9-8265-5be670f57d9a",
   "metadata": {},
   "source": [
    "#### Create a program to calculate compound interest using different numeric types"
   ]
  },
  {
   "cell_type": "code",
   "execution_count": 1,
   "id": "abe44fec-8b44-4a79-92dc-f3bef3afb1e7",
   "metadata": {},
   "outputs": [
    {
     "name": "stdin",
     "output_type": "stream",
     "text": [
      "Enter the principal amount:  1000\n",
      "Enter the interest rate (%):  10\n",
      "Enter the time period (years):  2\n",
      "Enter number of times interest is compounded per year:  24\n"
     ]
    },
    {
     "name": "stdout",
     "output_type": "stream",
     "text": [
      "Final amount after 2.0 years: $1220.9\n"
     ]
    }
   ],
   "source": [
    "def calculate_compound_interest(principal: float, rate: float, time: float, compounds_per_year: int) -> float:\n",
    "    \"\"\"\n",
    "    Calculate compound interest with given parameters\n",
    "    \"\"\"\n",
    "    # Convert rate to decimal (e.g., 5% becomes 0.05)\n",
    "    rate = rate / 100\n",
    "    \n",
    "    # Compound interest formula: A = P(1 + r/n)^(nt)\n",
    "    # Where: A = final amount, P = principal, r = rate, n = compounds per year, t = time\n",
    "    amount = principal * (1 + rate/compounds_per_year)**(compounds_per_year * time)\n",
    "    \n",
    "    return round(amount, 2)\n",
    "\n",
    "# Example usage\n",
    "principal = float(input(\"Enter the principal amount: \"))\n",
    "rate = float(input(\"Enter the interest rate (%): \"))\n",
    "time = float(input(\"Enter the time period (years): \"))\n",
    "compounds = int(input(\"Enter number of times interest is compounded per year: \"))\n",
    "\n",
    "final_amount = calculate_compound_interest(principal, rate, time, compounds)\n",
    "print(f\"Final amount after {time} years: ${final_amount}\")"
   ]
  },
  {
   "cell_type": "markdown",
   "id": "d3b5d2a8-5519-43c8-88d2-d07ddb2064cc",
   "metadata": {},
   "source": [
    "#### Build a temperature converter that handles Celsius, Fahrenheit, and Kelvin"
   ]
  },
  {
   "cell_type": "code",
   "execution_count": 4,
   "id": "042a0dbd-1b2b-490e-b20c-b6a984472e07",
   "metadata": {},
   "outputs": [
    {
     "name": "stdout",
     "output_type": "stream",
     "text": [
      "\n",
      "Temperature Converter\n",
      "1. Celsius to Fahrenheit\n",
      "2. Fahrenheit to Celsius\n",
      "3. Celsius to Kelvin\n",
      "4. Kelvin to Celsius\n"
     ]
    },
    {
     "name": "stdin",
     "output_type": "stream",
     "text": [
      "Enter your choice (1-4):  3\n",
      "Enter temperature:  27.3\n"
     ]
    },
    {
     "name": "stdout",
     "output_type": "stream",
     "text": [
      "27.3°C = 300.45K\n"
     ]
    }
   ],
   "source": [
    "def temp_converter():\n",
    "    print(\"\\nTemperature Converter\")\n",
    "    print(\"1. Celsius to Fahrenheit\")\n",
    "    print(\"2. Fahrenheit to Celsius\")\n",
    "    print(\"3. Celsius to Kelvin\")\n",
    "    print(\"4. Kelvin to Celsius\")\n",
    "    \n",
    "    choice = int(input(\"Enter your choice (1-4): \"))\n",
    "    temp = float(input(\"Enter temperature: \"))\n",
    "    \n",
    "    if choice == 1:\n",
    "        # C to F: (C × 9/5) + 32\n",
    "        # Formula: Fahrenheit = (Celsius × 9/5) + 32\n",
    "        result = (temp * 9 / 5) + 32\n",
    "        print(f\"{temp}°C = {result}°F\")\n",
    "    elif choice == 2:\n",
    "        # F to C: (F - 32) × 5/9\n",
    "        # Formula: Celsius = (Fahrenheit - 32) × 5/9\n",
    "        result = (temp - 32) * 5 / 9\n",
    "        print(f\"{temp}°F = {result}°C\")\n",
    "    elif choice == 3:\n",
    "        # C to K: C + 273.15\n",
    "        # Formula: Kelvin = Celsius + 273.15\n",
    "        result = temp + 273.15\n",
    "        print(f\"{temp}°C = {result}K\")\n",
    "    elif choice == 4:\n",
    "        # K to C: K - 273.15\n",
    "        # Formula: Celsius = Kelvin - 273.15\n",
    "        result = temp - 273.15\n",
    "        print(f\"{temp}K = {result}°C\")\n",
    "    else:\n",
    "        print(\"Invalid choice!\")\n",
    "\n",
    "# Run the converter\n",
    "temp_converter()"
   ]
  },
  {
   "cell_type": "code",
   "execution_count": null,
   "id": "c1c1efba-d393-4319-88f6-0ab3b927a250",
   "metadata": {},
   "outputs": [],
   "source": []
  }
 ],
 "metadata": {
  "kernelspec": {
   "display_name": "Python 3 (ipykernel)",
   "language": "python",
   "name": "python3"
  },
  "language_info": {
   "codemirror_mode": {
    "name": "ipython",
    "version": 3
   },
   "file_extension": ".py",
   "mimetype": "text/x-python",
   "name": "python",
   "nbconvert_exporter": "python",
   "pygments_lexer": "ipython3",
   "version": "3.11.7"
  }
 },
 "nbformat": 4,
 "nbformat_minor": 5
}
