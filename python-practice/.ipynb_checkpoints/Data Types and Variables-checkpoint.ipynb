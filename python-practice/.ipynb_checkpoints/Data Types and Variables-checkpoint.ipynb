{
 "cells": [
  {
   "cell_type": "markdown",
   "id": "317c582c-a414-42ae-948f-26f1d1b92f4e",
   "metadata": {},
   "source": [
    "## Data Types and Variables"
   ]
  },
  {
   "cell_type": "markdown",
   "id": "27918432-8c4f-41a9-8265-5be670f57d9a",
   "metadata": {},
   "source": [
    "#### Create a program to calculate compound interest using different numeric types"
   ]
  },
  {
   "cell_type": "code",
   "execution_count": 4,
   "id": "abe44fec-8b44-4a79-92dc-f3bef3afb1e7",
   "metadata": {},
   "outputs": [
    {
     "name": "stdin",
     "output_type": "stream",
     "text": [
      "Enter the principal amount:  1000\n",
      "Enter the interest rate (%):  10\n",
      "Enter the time period (years):  2\n",
      "Enter number of times interest is compounded per year:  24\n"
     ]
    },
    {
     "name": "stdout",
     "output_type": "stream",
     "text": [
      "Final amount after 2.0 years: $1220.9\n"
     ]
    }
   ],
   "source": [
    "def calculate_compound_interest(principal: float, rate: float, time: float, compounds_per_year: int) -> float:\n",
    "    \"\"\"\n",
    "    Calculate compound interest with given parameters\n",
    "    \"\"\"\n",
    "    # Convert rate to decimal (e.g., 5% becomes 0.05)\n",
    "    rate = rate / 100\n",
    "    \n",
    "    # Compound interest formula: A = P(1 + r/n)^(nt)\n",
    "    # Where: A = final amount, P = principal, r = rate, n = compounds per year, t = time\n",
    "    amount = principal * (1 + rate/compounds_per_year)**(compounds_per_year * time)\n",
    "    \n",
    "    return round(amount, 2)\n",
    "\n",
    "# Example usage\n",
    "principal = float(input(\"Enter the principal amount: \"))\n",
    "rate = float(input(\"Enter the interest rate (%): \"))\n",
    "time = float(input(\"Enter the time period (years): \"))\n",
    "compounds = int(input(\"Enter number of times interest is compounded per year: \"))\n",
    "\n",
    "final_amount = calculate_compound_interest(principal, rate, time, compounds)\n",
    "print(f\"Final amount after {time} years: ${final_amount}\")"
   ]
  },
  {
   "cell_type": "code",
   "execution_count": null,
   "id": "59da1f6f-c468-4b0c-8936-e2673560fb3d",
   "metadata": {},
   "outputs": [],
   "source": []
  }
 ],
 "metadata": {
  "kernelspec": {
   "display_name": "Python 3 (ipykernel)",
   "language": "python",
   "name": "python3"
  },
  "language_info": {
   "codemirror_mode": {
    "name": "ipython",
    "version": 3
   },
   "file_extension": ".py",
   "mimetype": "text/x-python",
   "name": "python",
   "nbconvert_exporter": "python",
   "pygments_lexer": "ipython3",
   "version": "3.11.7"
  }
 },
 "nbformat": 4,
 "nbformat_minor": 5
}
