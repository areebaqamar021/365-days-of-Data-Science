{
 "cells": [
  {
   "cell_type": "markdown",
   "id": "ef601986-d55e-49d0-8e38-58a5c7656800",
   "metadata": {},
   "source": [
    "### Write a list comprehension that creates a list of tuples (number, square, cube) for numbers 1 through n."
   ]
  },
  {
   "cell_type": "code",
   "execution_count": 5,
   "id": "a54686b9-65c8-4d36-aa4b-4d6931e50fea",
   "metadata": {},
   "outputs": [
    {
     "name": "stdout",
     "output_type": "stream",
     "text": [
      "[(1, 1, 1), (2, 4, 8), (3, 9, 27), (4, 16, 64), (5, 25, 125)]\n"
     ]
    }
   ],
   "source": [
    "n = 5  # Define the range endpoint (inclusive)\n",
    "result = [(x, x**2, x**3) for x in range(1, n+1)]  \n",
    "# Create a list of tuples (x, x^2, x^3) for each number x from 1 to n\n",
    "print(result)  # Print the final list of tuples"
   ]
  },
  {
   "cell_type": "code",
   "execution_count": null,
   "id": "916a36c6-2908-47b8-99eb-4d4e297b9d28",
   "metadata": {},
   "outputs": [],
   "source": []
  }
 ],
 "metadata": {
  "kernelspec": {
   "display_name": "Python 3 (ipykernel)",
   "language": "python",
   "name": "python3"
  },
  "language_info": {
   "codemirror_mode": {
    "name": "ipython",
    "version": 3
   },
   "file_extension": ".py",
   "mimetype": "text/x-python",
   "name": "python",
   "nbconvert_exporter": "python",
   "pygments_lexer": "ipython3",
   "version": "3.11.7"
  }
 },
 "nbformat": 4,
 "nbformat_minor": 5
}
