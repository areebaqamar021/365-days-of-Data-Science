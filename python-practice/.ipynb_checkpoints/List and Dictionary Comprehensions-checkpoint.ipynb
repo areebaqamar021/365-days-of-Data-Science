{
 "cells": [
  {
   "cell_type": "markdown",
   "id": "ef601986-d55e-49d0-8e38-58a5c7656800",
   "metadata": {},
   "source": [
    "### Write a list comprehension that creates a list of tuples (number, square, cube) for numbers 1 through n."
   ]
  },
  {
   "cell_type": "code",
   "execution_count": 8,
   "id": "a54686b9-65c8-4d36-aa4b-4d6931e50fea",
   "metadata": {},
   "outputs": [
    {
     "name": "stdout",
     "output_type": "stream",
     "text": [
      "[(1, 1, 1), (2, 4, 8), (3, 9, 27), (4, 16, 64), (5, 25, 125)]\n"
     ]
    }
   ],
   "source": [
    "# Define the range of numbers\n",
    "n = 5  \n",
    "# Create an empty list to store the tuples\n",
    "result = []  \n",
    "for x in range(1, n + 1):  # Loop from 1 to n (inclusive)\n",
    "    result.append((x, x**2, x**3))  # Add the tuple (number, square, cube) to the list\n",
    "print(result)  # Print the list of tuples"
   ]
  },
  {
   "cell_type": "markdown",
   "id": "15c02de3-123d-4703-96a3-9b58003e412a",
   "metadata": {},
   "source": [
    "### Create a dictionary comprehension that takes a string and maps each unique character to its frequency."
   ]
  },
  {
   "cell_type": "code",
   "execution_count": 10,
   "id": "9906ec59-b601-402a-8888-0fd9adba4c7f",
   "metadata": {},
   "outputs": [
    {
     "name": "stdout",
     "output_type": "stream",
     "text": [
      "{'h': 1, 'e': 1, 'l': 2, 'o': 1}\n"
     ]
    }
   ],
   "source": [
    "# Define the input string\n",
    "string = \"hello\"  \n",
    "# Create an empty dictionary to store frequencies\n",
    "frequency = {}  \n",
    "for char in string:  # Loop through each character in the string\n",
    "    if char in frequency:  \n",
    "        frequency[char] += 1  # If the character is already in the dictionary, increase its count\n",
    "    else:  \n",
    "        frequency[char] = 1  # If the character is not in the dictionary, set its count to 1\n",
    "print(frequency)  # Print the character frequency dictionary"
   ]
  },
  {
   "cell_type": "code",
   "execution_count": null,
   "id": "61e2af67-794b-4166-a91a-6d453af3e17c",
   "metadata": {},
   "outputs": [],
   "source": []
  }
 ],
 "metadata": {
  "kernelspec": {
   "display_name": "Python 3 (ipykernel)",
   "language": "python",
   "name": "python3"
  },
  "language_info": {
   "codemirror_mode": {
    "name": "ipython",
    "version": 3
   },
   "file_extension": ".py",
   "mimetype": "text/x-python",
   "name": "python",
   "nbconvert_exporter": "python",
   "pygments_lexer": "ipython3",
   "version": "3.11.7"
  }
 },
 "nbformat": 4,
 "nbformat_minor": 5
}
