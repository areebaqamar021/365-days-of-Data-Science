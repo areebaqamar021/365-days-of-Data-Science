{
 "cells": [
  {
   "cell_type": "markdown",
   "id": "243ca5e9-1bf2-40d3-896e-517ad5dc67c7",
   "metadata": {},
   "source": [
    "#### Create a function that takes a list of numbers and returns a new list containing only the prime numbers."
   ]
  },
  {
   "cell_type": "code",
   "execution_count": 2,
   "id": "b33d5322-146f-4f64-8024-b6b089eaa627",
   "metadata": {},
   "outputs": [
    {
     "name": "stdout",
     "output_type": "stream",
     "text": [
      "[2, 3, 5, 7]\n"
     ]
    }
   ],
   "source": [
    "def find_primes(numbers):\n",
    "    primes = []  # Start with an empty list to store prime numbers\n",
    "    for num in numbers:\n",
    "        if num > 1:  # Only check numbers greater than 1\n",
    "            for i in range(2, num):  # Check divisors from 2 to the number before num\n",
    "                if num % i == 0:  # If divisible, it's not a prime number\n",
    "                    break  # Stop checking further\n",
    "            else:\n",
    "                primes.append(num)  # If no divisor was found, it's a prime number\n",
    "    return primes\n",
    "\n",
    "# Example:\n",
    "numbers = [2, 3, 4, 5, 6, 7, 8, 9, 10]\n",
    "print(find_primes(numbers)) "
   ]
  },
  {
   "cell_type": "markdown",
   "id": "af673073-f996-43aa-aebd-37200d35bfc1",
   "metadata": {},
   "source": [
    "#### Write a program that takes a list of words and groups them by their first letter using a dictionary. The result should map each starting letter to a list of words."
   ]
  },
  {
   "cell_type": "code",
   "execution_count": null,
   "id": "c7ee9c9c-e69e-4075-b34e-352820df7df6",
   "metadata": {},
   "outputs": [],
   "source": []
  }
 ],
 "metadata": {
  "kernelspec": {
   "display_name": "Python 3 (ipykernel)",
   "language": "python",
   "name": "python3"
  },
  "language_info": {
   "codemirror_mode": {
    "name": "ipython",
    "version": 3
   },
   "file_extension": ".py",
   "mimetype": "text/x-python",
   "name": "python",
   "nbconvert_exporter": "python",
   "pygments_lexer": "ipython3",
   "version": "3.11.7"
  }
 },
 "nbformat": 4,
 "nbformat_minor": 5
}
