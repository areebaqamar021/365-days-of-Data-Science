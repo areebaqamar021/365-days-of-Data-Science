{
 "cells": [
  {
   "cell_type": "markdown",
   "id": "243ca5e9-1bf2-40d3-896e-517ad5dc67c7",
   "metadata": {},
   "source": [
    "#### Create a function that takes a list of numbers and returns a new list containing only the prime numbers."
   ]
  },
  {
   "cell_type": "code",
   "execution_count": 2,
   "id": "b33d5322-146f-4f64-8024-b6b089eaa627",
   "metadata": {},
   "outputs": [
    {
     "name": "stdout",
     "output_type": "stream",
     "text": [
      "[2, 3, 5, 7]\n"
     ]
    }
   ],
   "source": [
    "def find_primes(numbers):\n",
    "    primes = []  # Start with an empty list to store prime numbers\n",
    "    for num in numbers:\n",
    "        if num > 1:  # Only check numbers greater than 1\n",
    "            for i in range(2, num):  # Check divisors from 2 to the number before num\n",
    "                if num % i == 0:  # If divisible, it's not a prime number\n",
    "                    break  # Stop checking further\n",
    "            else:\n",
    "                primes.append(num)  # If no divisor was found, it's a prime number\n",
    "    return primes\n",
    "\n",
    "# Example:\n",
    "numbers = [2, 3, 4, 5, 6, 7, 8, 9, 10]\n",
    "print(find_primes(numbers)) "
   ]
  },
  {
   "cell_type": "markdown",
   "id": "af673073-f996-43aa-aebd-37200d35bfc1",
   "metadata": {},
   "source": [
    "#### Write a program that takes a list of words and groups them by their first letter using a dictionary. The result should map each starting letter to a list of words."
   ]
  },
  {
   "cell_type": "code",
   "execution_count": 8,
   "id": "c7ee9c9c-e69e-4075-b34e-352820df7df6",
   "metadata": {},
   "outputs": [
    {
     "name": "stdout",
     "output_type": "stream",
     "text": [
      "{'a': ['apple', 'avocado'], 'b': ['banana', 'blueberry'], 'c': ['cherry', 'carrot']}\n"
     ]
    }
   ],
   "source": [
    "def group_words(words):\n",
    "    grouped = {}  # Start with an empty dictionary\n",
    "    for word in words:\n",
    "        first_letter = word[0]  # Get the first letter of the word\n",
    "        if first_letter not in grouped:  # If this letter isn’t in the dictionary yet\n",
    "            grouped[first_letter] = []  # Create a new empty list for this letter\n",
    "        grouped[first_letter].append(word)  # Add the word to the list for its letter\n",
    "    return grouped\n",
    "\n",
    "# Example:\n",
    "words = [\"apple\", \"banana\", \"cherry\", \"avocado\", \"blueberry\", \"carrot\"]\n",
    "print(group_words(words))"
   ]
  },
  {
   "cell_type": "markdown",
   "id": "ad1a7756-5c7a-4c45-9ce2-6a925b6ece06",
   "metadata": {},
   "source": [
    "#### Create a function that finds the intersection and union of two lists using sets, then returns both results as a tuple."
   ]
  },
  {
   "cell_type": "code",
   "execution_count": 13,
   "id": "9965da8a-8256-453a-9e0a-89a0837e0db6",
   "metadata": {},
   "outputs": [
    {
     "name": "stdout",
     "output_type": "stream",
     "text": [
      "([4, 5], [1, 2, 3, 4, 5, 6, 7, 8])\n"
     ]
    }
   ],
   "source": [
    "def find_sets(list1, list2):\n",
    "    set1 = set(list1)  # Convert the first list to a set\n",
    "    set2 = set(list2)  # Convert the second list to a set\n",
    "\n",
    "    intersection = set1 & set2  # Find common items\n",
    "    union = set1 | set2  # Combine all unique items\n",
    "\n",
    "    return list(intersection), list(union)  # Convert back to lists\n",
    "\n",
    "# Example:\n",
    "list1 = [1, 2, 3, 4, 5]\n",
    "list2 = [4, 5, 6, 7, 8]\n",
    "print(find_sets(list1, list2))"
   ]
  },
  {
   "cell_type": "markdown",
   "id": "1e2dd9f6-b2d3-4431-bd69-4722a5f0d2f8",
   "metadata": {},
   "source": [
    "#### Write a program that maintains a frequency dictionary of words from a given text, ignoring case and punctuation."
   ]
  },
  {
   "cell_type": "code",
   "execution_count": 16,
   "id": "8890a89a-292d-45af-b6a1-681e0c009349",
   "metadata": {},
   "outputs": [
    {
     "name": "stdout",
     "output_type": "stream",
     "text": [
      "{'hello': 2, 'world!': 1, 'again.': 1}\n"
     ]
    }
   ],
   "source": [
    "def word_count(text):\n",
    "    text = text.lower()  # Convert to lowercase\n",
    "    words = text.split()  # Split text into words\n",
    "\n",
    "    counts = {}  # Start with an empty dictionary\n",
    "    for word in words:\n",
    "        counts[word] = counts.get(word, 0) + 1  # Add 1 to the count (default is 0)\n",
    "    return counts\n",
    "\n",
    "# Example:\n",
    "text = \"Hello world! Hello again.\"\n",
    "print(word_count(text))"
   ]
  },
  {
   "cell_type": "markdown",
   "id": "7c55eef9-06c0-4dbc-b602-8f5c95b83a8d",
   "metadata": {},
   "source": [
    "#### Create a function that takes a list of tuples containing student names and grades, then returns a dictionary mapping grade ranges (A: 90-100, B: 80-89, etc.) to lists of student names."
   ]
  },
  {
   "cell_type": "code",
   "execution_count": 19,
   "id": "278d497c-2f7e-4935-8070-049e84b346ec",
   "metadata": {},
   "outputs": [
    {
     "name": "stdout",
     "output_type": "stream",
     "text": [
      "{'A': ['Alice'], 'B': ['Bob'], 'C': ['Charlie'], 'D': [], 'F': ['Dave']}\n"
     ]
    }
   ],
   "source": [
    "def grade_ranges(students):\n",
    "    grades = {'A': [], 'B': [], 'C': [], 'D': [], 'F': []}  # Create grade ranges\n",
    "    for name, score in students:\n",
    "        if 90 <= score <= 100:\n",
    "            grades['A'].append(name)\n",
    "        elif 80 <= score <= 89:\n",
    "            grades['B'].append(name)\n",
    "        elif 70 <= score <= 79:\n",
    "            grades['C'].append(name)\n",
    "        elif 60 <= score <= 69:\n",
    "            grades['D'].append(name)\n",
    "        else:\n",
    "            grades['F'].append(name)\n",
    "    return grades\n",
    "\n",
    "# Example:\n",
    "students = [(\"Alice\", 95), (\"Bob\", 82), (\"Charlie\", 70), (\"Dave\", 59)]\n",
    "print(grade_ranges(students))"
   ]
  }
 ],
 "metadata": {
  "kernelspec": {
   "display_name": "Python 3 (ipykernel)",
   "language": "python",
   "name": "python3"
  },
  "language_info": {
   "codemirror_mode": {
    "name": "ipython",
    "version": 3
   },
   "file_extension": ".py",
   "mimetype": "text/x-python",
   "name": "python",
   "nbconvert_exporter": "python",
   "pygments_lexer": "ipython3",
   "version": "3.11.7"
  }
 },
 "nbformat": 4,
 "nbformat_minor": 5
}
