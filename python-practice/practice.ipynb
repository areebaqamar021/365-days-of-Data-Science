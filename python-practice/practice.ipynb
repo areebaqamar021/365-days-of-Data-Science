{
 "cells": [
  {
   "cell_type": "markdown",
   "id": "90d71445-c71b-413d-8a37-d158a149e263",
   "metadata": {},
   "source": [
    "### Variables"
   ]
  },
  {
   "cell_type": "code",
   "execution_count": 14,
   "id": "dbc77c79-9ae5-4a56-8f74-58cce439d221",
   "metadata": {},
   "outputs": [
    {
     "name": "stdout",
     "output_type": "stream",
     "text": [
      "Expenses:\n",
      "Rent: $1220\n",
      "Gas: $250\n",
      "Groceries: $305.7\n",
      "Total: $1775.7\n"
     ]
    }
   ],
   "source": [
    "# Defining expenses\n",
    "rent = 1220\n",
    "gas = 250\n",
    "groceries = 305.7\n",
    "\n",
    "# Calculating total\n",
    "total = rent + gas + groceries\n",
    "\n",
    "# Defining item names\n",
    "item1 = 'rent'\n",
    "item2 = 'gas'\n",
    "item3 = 'groceries'\n",
    "\n",
    "# Printing the expenses in a proper way\n",
    "print(f\"Expenses:\")\n",
    "print(f\"{item1.capitalize()}: ${rent}\")\n",
    "print(f\"{item2.capitalize()}: ${gas}\")\n",
    "print(f\"{item3.capitalize()}: ${groceries}\")\n",
    "print(f\"Total: ${total}\")"
   ]
  },
  {
   "cell_type": "markdown",
   "id": "5b7ea014-c72c-429e-b4f7-b0c08805c218",
   "metadata": {},
   "source": [
    "### Numbers"
   ]
  },
  {
   "cell_type": "code",
   "execution_count": 34,
   "id": "fa3e1984-26e6-4fe4-b2b9-6cad56d1929a",
   "metadata": {},
   "outputs": [
    {
     "name": "stdout",
     "output_type": "stream",
     "text": [
      "total_distance : 435\n",
      "Time :  6.69\n",
      "24\n",
      "20\n"
     ]
    }
   ],
   "source": [
    "nyc_bal = 188\n",
    "bal_pitt = 247\n",
    "total_distance = nyc_bal + bal_pitt\n",
    "print(\"total_distance :\", total_distance)\n",
    "mph = 65\n",
    "time = total_distance/mph\n",
    "print('Time : ', round(time, 2))\n",
    "\n",
    "a = 4;\n",
    "b = 6;\n",
    "area = a*b;\n",
    "perimeter = 2 * (a+b)\n",
    "print(area);\n",
    "print(perimeter);"
   ]
  },
  {
   "cell_type": "code",
   "execution_count": null,
   "id": "d0321706-5ba6-40ba-b288-f44d26591186",
   "metadata": {},
   "outputs": [],
   "source": []
  }
 ],
 "metadata": {
  "kernelspec": {
   "display_name": "Python 3 (ipykernel)",
   "language": "python",
   "name": "python3"
  },
  "language_info": {
   "codemirror_mode": {
    "name": "ipython",
    "version": 3
   },
   "file_extension": ".py",
   "mimetype": "text/x-python",
   "name": "python",
   "nbconvert_exporter": "python",
   "pygments_lexer": "ipython3",
   "version": "3.11.7"
  }
 },
 "nbformat": 4,
 "nbformat_minor": 5
}
