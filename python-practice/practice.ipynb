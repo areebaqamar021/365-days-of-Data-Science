{
 "cells": [
  {
   "cell_type": "markdown",
   "id": "90d71445-c71b-413d-8a37-d158a149e263",
   "metadata": {},
   "source": [
    "### Variables"
   ]
  },
  {
   "cell_type": "code",
   "execution_count": 14,
   "id": "dbc77c79-9ae5-4a56-8f74-58cce439d221",
   "metadata": {},
   "outputs": [
    {
     "name": "stdout",
     "output_type": "stream",
     "text": [
      "Expenses:\n",
      "Rent: $1220\n",
      "Gas: $250\n",
      "Groceries: $305.7\n",
      "Total: $1775.7\n"
     ]
    }
   ],
   "source": [
    "# Defining expenses\n",
    "rent = 1220\n",
    "gas = 250\n",
    "groceries = 305.7\n",
    "\n",
    "# Calculating total\n",
    "total = rent + gas + groceries\n",
    "\n",
    "# Defining item names\n",
    "item1 = 'rent'\n",
    "item2 = 'gas'\n",
    "item3 = 'groceries'\n",
    "\n",
    "# Printing the expenses in a proper way\n",
    "print(f\"Expenses:\")\n",
    "print(f\"{item1.capitalize()}: ${rent}\")\n",
    "print(f\"{item2.capitalize()}: ${gas}\")\n",
    "print(f\"{item3.capitalize()}: ${groceries}\")\n",
    "print(f\"Total: ${total}\")"
   ]
  },
  {
   "cell_type": "markdown",
   "id": "5b7ea014-c72c-429e-b4f7-b0c08805c218",
   "metadata": {},
   "source": [
    "### Numbers"
   ]
  },
  {
   "cell_type": "code",
   "execution_count": 36,
   "id": "fa3e1984-26e6-4fe4-b2b9-6cad56d1929a",
   "metadata": {},
   "outputs": [
    {
     "name": "stdout",
     "output_type": "stream",
     "text": [
      "total_distance : 435\n",
      "Time :  6.69\n",
      "24\n",
      "20\n"
     ]
    }
   ],
   "source": [
    "nyc_bal = 188\n",
    "bal_pitt = 247\n",
    "total_distance = nyc_bal + bal_pitt\n",
    "print(\"total_distance :\", total_distance)\n",
    "mph = 65\n",
    "time = total_distance/mph\n",
    "print('Time : ', round(time, 2))\n",
    "\n",
    "a = 4\n",
    "b = 6\n",
    "area = a*b\n",
    "perimeter = 2 * (a+b)\n",
    "print(area)\n",
    "print(perimeter)"
   ]
  },
  {
   "cell_type": "markdown",
   "id": "770fd221-007c-4a6e-bf58-de53abad95c5",
   "metadata": {},
   "source": [
    "### Strings"
   ]
  },
  {
   "cell_type": "code",
   "execution_count": 14,
   "id": "b07ffe35-4514-4bfe-86f3-18ba3fce385f",
   "metadata": {},
   "outputs": [
    {
     "name": "stdout",
     "output_type": "stream",
     "text": [
      "ice cream\n",
      "i\n",
      "ice\n",
      "cream\n",
      "ice\n",
      " 1 . purple Street\n",
      "new york\n",
      "USA \n"
     ]
    },
    {
     "data": {
      "text/plain": [
       "'a'"
      ]
     },
     "execution_count": 14,
     "metadata": {},
     "output_type": "execute_result"
    }
   ],
   "source": [
    "text = 'ice cream'\n",
    "print(text)\n",
    "print(text[0])\n",
    "print(text[0:3])\n",
    "print(text[4:])\n",
    "print(text[:3])\n",
    "address = ''' 1 . purple Street\n",
    "new york\n",
    "USA '''\n",
    "print(address)\n",
    "my_string = 'Hello Areeba';\n",
    "my_string[-1]"
   ]
  },
  {
   "cell_type": "markdown",
   "id": "4c6ba58a-f89e-4b5a-9c5f-b6887c490217",
   "metadata": {},
   "source": [
    "### Tuples"
   ]
  },
  {
   "cell_type": "code",
   "execution_count": 12,
   "id": "255a54fa-ba63-490c-89ce-04fe51dfde4e",
   "metadata": {},
   "outputs": [
    {
     "data": {
      "text/plain": [
       "('sparta', 200, 'sparta', 200, 'sparta', 200, 12, True, 23.13, (5-7j))"
      ]
     },
     "execution_count": 12,
     "metadata": {},
     "output_type": "execute_result"
    }
   ],
   "source": [
    "#tuples are immutable\n",
    "\n",
    "tup1 = (12, True, 23.13, 5-7j)\n",
    "tup1\n",
    "tup1[0]\n",
    "tup1[-1]\n",
    "tup1[1:3]\n",
    "tup2 = (\"sparta\", 200)\n",
    "tup2 * 3\n",
    "tup2 * 3 + tup1"
   ]
  },
  {
   "cell_type": "markdown",
   "id": "17275693-ac72-418d-8131-60e815f13eae",
   "metadata": {},
   "source": [
    "### Lists"
   ]
  },
  {
   "cell_type": "code",
   "execution_count": 20,
   "id": "557584d5-2751-4d69-b0a5-ed3a493dabfc",
   "metadata": {},
   "outputs": [
    {
     "name": "stdout",
     "output_type": "stream",
     "text": [
      "['bread', 'pasta', 'fruits', 'veggies']\n"
     ]
    },
    {
     "data": {
      "text/plain": [
       "['bread', 'eggs', 'pasta', 'fruits', 'veggies']"
      ]
     },
     "execution_count": 20,
     "metadata": {},
     "output_type": "execute_result"
    }
   ],
   "source": [
    "#lists are mutable\n",
    "\n",
    "items = ['bread', 'pasta', 'fruits', 'veggies']\n",
    "print(items)\n",
    "items[0] = 'chips'\n",
    "items\n",
    "items.append('butter')\n",
    "items\n",
    "items = ['bread', 'pasta', 'fruits', 'veggies']\n",
    "items\n",
    "items.insert(1, 'eggs')\n",
    "items"
   ]
  },
  {
   "cell_type": "markdown",
   "id": "7f352328-72dc-422f-baf4-1e33a4fe4f1c",
   "metadata": {},
   "source": [
    "### If Statements"
   ]
  },
  {
   "cell_type": "code",
   "execution_count": 25,
   "id": "a2234555-ca1c-4fe3-abde-1892a6433344",
   "metadata": {},
   "outputs": [
    {
     "name": "stdout",
     "output_type": "stream",
     "text": [
      "Enter a number:  6\n"
     ]
    },
    {
     "name": "stdout",
     "output_type": "stream",
     "text": [
      "Number is even\n"
     ]
    }
   ],
   "source": [
    "# Prompt the user to enter a number\n",
    "num = input('Enter a number: ')\n",
    "\n",
    "# Convert the input to an integer\n",
    "num = int(num)\n",
    "\n",
    "# Check if the number is even or odd\n",
    "if num % 2 == 0:\n",
    "    print('Number is even')\n",
    "else:\n",
    "    print('Number is odd')\n"
   ]
  },
  {
   "cell_type": "code",
   "execution_count": 29,
   "id": "76a06ff1-b99e-446f-b882-b593d5dce725",
   "metadata": {},
   "outputs": [
    {
     "name": "stdout",
     "output_type": "stream",
     "text": [
      "Enter a number:  5\n"
     ]
    },
    {
     "name": "stdout",
     "output_type": "stream",
     "text": [
      "The number is positive.\n"
     ]
    }
   ],
   "source": [
    "num = int(input(\"Enter a number: \"))\n",
    "\n",
    "if num > 0:\n",
    "    print(\"The number is positive.\")\n",
    "elif num < 0:\n",
    "    print(\"The number is negative.\")\n",
    "else:\n",
    "    print(\"The number is zero.\")\n"
   ]
  },
  {
   "cell_type": "code",
   "execution_count": 31,
   "id": "3052ae2c-18ac-4361-8ebf-ecce37ba9392",
   "metadata": {},
   "outputs": [
    {
     "name": "stdout",
     "output_type": "stream",
     "text": [
      "Enter a character:  a\n"
     ]
    },
    {
     "name": "stdout",
     "output_type": "stream",
     "text": [
      "a is a vowel.\n"
     ]
    }
   ],
   "source": [
    "char = input(\"Enter a character: \").lower()\n",
    "\n",
    "if char in 'aeiou':\n",
    "    print(f\"{char} is a vowel.\")\n",
    "elif char.isalpha():\n",
    "    print(f\"{char} is a consonant.\")\n",
    "else:\n",
    "    print(\"Invalid input. Please enter a single letter.\")\n"
   ]
  },
  {
   "cell_type": "markdown",
   "id": "c55f5c83-6097-4315-a6bf-bb5ddaa61c13",
   "metadata": {},
   "source": [
    "### while loop"
   ]
  },
  {
   "cell_type": "code",
   "execution_count": 6,
   "id": "ebe6a451-3a76-484e-8b8d-a852ddacbd22",
   "metadata": {},
   "outputs": [
    {
     "name": "stdout",
     "output_type": "stream",
     "text": [
      "1\n",
      "2\n",
      "3\n",
      "4\n",
      "5\n",
      "6\n",
      "7\n",
      "8\n",
      "9\n",
      "10\n"
     ]
    }
   ],
   "source": [
    "i = 1; \n",
    "while i<=10:\n",
    "    print(i)\n",
    "    i=i+1"
   ]
  },
  {
   "cell_type": "code",
   "execution_count": 8,
   "id": "ad8bf3f8-2db9-421a-b947-d4ea95a3bf71",
   "metadata": {},
   "outputs": [
    {
     "name": "stdout",
     "output_type": "stream",
     "text": [
      "2 * 1 = 2\n",
      "2 * 2 = 4\n",
      "2 * 3 = 6\n",
      "2 * 4 = 8\n",
      "2 * 5 = 10\n",
      "2 * 6 = 12\n",
      "2 * 7 = 14\n",
      "2 * 8 = 16\n",
      "2 * 9 = 18\n",
      "2 * 10 = 20\n"
     ]
    }
   ],
   "source": [
    "i = 1;\n",
    "n = 2;\n",
    "while i<=10:\n",
    "    print(n, \"*\", i, \"=\", n*i)\n",
    "    i = i+1"
   ]
  },
  {
   "cell_type": "code",
   "execution_count": 14,
   "id": "999ace9e-9011-417c-8098-51c464edfc13",
   "metadata": {},
   "outputs": [
    {
     "data": {
      "text/plain": [
       "[101, 102, 103, 104, 105]"
      ]
     },
     "execution_count": 14,
     "metadata": {},
     "output_type": "execute_result"
    }
   ],
   "source": [
    "l1 = [1, 2, 3, 4, 5]\n",
    "i = 0;\n",
    "while i<len(l1):\n",
    "    l1[i] = l1[i]+100\n",
    "    i=i+1\n",
    "l1"
   ]
  },
  {
   "cell_type": "markdown",
   "id": "53713171-189f-4abd-8a30-89bbfc8eeee3",
   "metadata": {},
   "source": [
    "### for loop"
   ]
  },
  {
   "cell_type": "code",
   "execution_count": 16,
   "id": "0d39bdbb-6199-4308-ae97-15d0c73730f3",
   "metadata": {},
   "outputs": [
    {
     "name": "stdout",
     "output_type": "stream",
     "text": [
      "46313\n",
      "Sum: 5050\n",
      "P\n",
      "y\n",
      "t\n",
      "h\n",
      "o\n",
      "n\n",
      "2 is even\n",
      "4 is even\n",
      "6 is even\n",
      "8 is even\n",
      "10 is even\n",
      "*\n",
      "**\n",
      "***\n",
      "****\n",
      "*****\n"
     ]
    },
    {
     "name": "stdin",
     "output_type": "stream",
     "text": [
      "Enter a number:  6\n"
     ]
    },
    {
     "name": "stdout",
     "output_type": "stream",
     "text": [
      "The factorial of 6 is 720\n",
      "There are 3 vowels in the string.\n",
      "orange chair\n",
      "orange book\n",
      "orange laptop\n",
      "black chair\n",
      "black book\n",
      "black laptop\n",
      "white chair\n",
      "white book\n",
      "white laptop\n"
     ]
    },
    {
     "name": "stdout",
     "output_type": "stream",
     "text": [
      "The factorial of 7 is 5040\n",
      "There are 3 vowels in the string.\n"
     ]
    }
   ],
   "source": [
    "exp = [22500, 3409, 2425, 9869, 3455, 4655]\n",
    "total = 0\n",
    "for item in exp: \n",
    "    total = total + item\n",
    "print(total)\n",
    "\n",
    "total = 0  # Initialize total to store the sum\n",
    "\n",
    "for num in range(1, 101):  # `num` iterates from 1 to 100\n",
    "    total += num  # Add `num` to `total` in each iteration\n",
    "\n",
    "print(f\"Sum: {total}\")  # Print the result\n",
    "\n",
    "string = \"Python\"\n",
    "\n",
    "for char in string:  # `char` iterates through each character in \"Python\"\n",
    "    print(char)  # Print the character\n",
    "\n",
    "numbers = [1, 2, 3, 4, 5, 6, 7, 8, 9, 10]\n",
    "\n",
    "for num in numbers:  # `num` iterates through the list\n",
    "    if num % 2 == 0:  # Check if `num` is divisible by 2\n",
    "        print(f\"{num} is even\")  # Print the even number\n",
    "\n",
    "rows = 5\n",
    "\n",
    "for i in range(1, rows + 1):  # `i` determines the current row\n",
    "    print(\"*\" * i)  # Print `i` stars in the current row\n",
    "\n",
    "num = int(input(\"Enter a number: \"))\n",
    "factorial = 1  # Initialize factorial to 1\n",
    "\n",
    "for i in range(1, num + 1):  # `i` iterates from 1 to `num`\n",
    "    factorial *= i  # Multiply `factorial` by `i`\n",
    "\n",
    "print(f\"The factorial of {num} is {factorial}\")\n",
    "\n",
    "string = \"hello world\"\n",
    "vowels = \"aeiou\"\n",
    "count = 0\n",
    "\n",
    "for char in string:  # `char` iterates through each character\n",
    "    if char in vowels:  # Check if the character is a vowel\n",
    "        count += 1  # Increment the count\n",
    "\n",
    "print(f\"There are {count} vowels in the string.\")\n",
    "\n",
    "l1 = ['orange', 'black', 'white']\n",
    "l2 = ['chair', 'book', 'laptop']\n",
    "\n",
    "for i in l1:\n",
    "    for j in l2:\n",
    "        print(i,j)"
   ]
  },
  {
   "cell_type": "markdown",
   "id": "f282ace0-29b3-49b5-8d26-9917fb27ef6f",
   "metadata": {},
   "source": [
    "### Functions"
   ]
  },
  {
   "cell_type": "code",
   "execution_count": 7,
   "id": "ec0c0fa0-1462-46e7-996e-5fc13e9c26bf",
   "metadata": {},
   "outputs": [
    {
     "name": "stdout",
     "output_type": "stream",
     "text": [
      "50\n",
      "True\n",
      "False\n",
      "120\n"
     ]
    }
   ],
   "source": [
    "def rectangle_area(length, width):  # Function with two parameters\n",
    "    return length * width  # Return the area of the rectangle\n",
    "\n",
    "# Test the function\n",
    "print(rectangle_area(5, 10))  # Output: 50\n",
    "\n",
    "def is_palindrome(s):  # Function with one parameter 's'\n",
    "    s = s.lower()  # Convert the string to lowercase\n",
    "    return s == s[::-1]  # Check if the string is equal to its reverse\n",
    "\n",
    "# Test the function\n",
    "print(is_palindrome(\"Madam\"))  # Output: True\n",
    "print(is_palindrome(\"Hello\"))  # Output: False\n",
    "\n",
    "def factorial(n):  # Function with one parameter 'n'\n",
    "    result = 1  # Initialize 'result' to 1\n",
    "    for i in range(1, n + 1):  # Loop from 1 to n\n",
    "        result *= i  # Multiply result by the current value of 'i'\n",
    "    return result  # Return the calculated factorial\n",
    "\n",
    "# Test the function\n",
    "print(factorial(5))  # Output: 120\n"
   ]
  },
  {
   "cell_type": "markdown",
   "id": "1252b6f2-f182-48fc-bd83-9bdc0f4a8253",
   "metadata": {},
   "source": [
    "#### lambda function"
   ]
  },
  {
   "cell_type": "code",
   "execution_count": 4,
   "id": "3f47ec6e-ed2c-4720-8296-7b1e9ab1dd40",
   "metadata": {},
   "outputs": [
    {
     "name": "stdout",
     "output_type": "stream",
     "text": [
      "[65, 23, 89, 45, 39]\n",
      "[2, 4, 6, 8, 10, 12, 14, 16]\n"
     ]
    }
   ],
   "source": [
    "#lambda with filter\n",
    "l1 = [24, 65, 34, 23, 89, 4, 8, 45, 39]\n",
    "final_list = list(filter(lambda x: (x%2!=0),l1))\n",
    "print(final_list)\n",
    "\n",
    "#lambda with map\n",
    "l2 = [1, 2, 3, 4, 5, 6, 7, 8]\n",
    "final_list2 = list(map(lambda x: x*2,l2))\n",
    "print(final_list2)"
   ]
  },
  {
   "cell_type": "markdown",
   "id": "e809297b-629f-4e8b-9fea-e2e5c80377a3",
   "metadata": {},
   "source": [
    "### Dictionary"
   ]
  },
  {
   "cell_type": "code",
   "execution_count": 26,
   "id": "bef24b79-4e36-40bc-af64-80f3eae31167",
   "metadata": {},
   "outputs": [
    {
     "name": "stdout",
     "output_type": "stream",
     "text": [
      "dict_keys(['name', 'age', 'major'])\n",
      "dict_values(['Alice', 20, 'Computer Science'])\n",
      "{'name': 'Alice', 'age': 20, 'major': 'Computer Science', 'Id': 18}\n",
      "Name: Alice\n",
      "Age: 20\n",
      "GPA: Not provided\n",
      "After adding grapes: {'apples': 10, 'bananas': 5, 'oranges': 8, 'grapes': 15}\n",
      "After updating apples: {'apples': 12, 'bananas': 5, 'oranges': 8, 'grapes': 15}\n",
      "After removing bananas: {'apples': 12, 'oranges': 8, 'grapes': 15}\n",
      "Items:\n",
      "bread\n",
      "milk\n",
      "eggs\n",
      "\n",
      "Items with prices:\n",
      "bread: $2.5\n",
      "milk: $1.5\n",
      "eggs: $3.0\n",
      "Employee 101: {'name': 'Alice', 'position': 'Manager'}\n",
      "Employee 102's position: Developer\n",
      "Color frequencies: {'red': 2, 'blue': 3, 'green': 1}\n",
      "Merged dictionary: {'a': 1, 'b': 3, 'c': 4}\n"
     ]
    }
   ],
   "source": [
    "# Creating a dictionary\n",
    "student = {\n",
    "    \"name\": \"Alice\",\n",
    "    \"age\": 20,\n",
    "    \"major\": \"Computer Science\"\n",
    "}\n",
    "print(student.keys())\n",
    "print(student.values())\n",
    "student[\"Id\"] = 18\n",
    "print(student)\n",
    "\n",
    "# Accessing values\n",
    "print(\"Name:\", student[\"name\"])  # Access value using key\n",
    "print(\"Age:\", student.get(\"age\"))  # Access value using get()\n",
    "print(\"GPA:\", student.get(\"gpa\", \"Not provided\"))  # Default value for missing key\n",
    "\n",
    "# Create a dictionary\n",
    "inventory = {\n",
    "    \"apples\": 10,\n",
    "    \"bananas\": 5,\n",
    "    \"oranges\": 8\n",
    "}\n",
    "\n",
    "# Add a new item\n",
    "inventory[\"grapes\"] = 15\n",
    "print(\"After adding grapes:\", inventory)\n",
    "\n",
    "# Update an item\n",
    "inventory[\"apples\"] = 12\n",
    "print(\"After updating apples:\", inventory)\n",
    "\n",
    "# Remove an item\n",
    "del inventory[\"bananas\"]\n",
    "print(\"After removing bananas:\", inventory)\n",
    "\n",
    "# Dictionary of items and prices\n",
    "items = {\n",
    "    \"bread\": 2.5,\n",
    "    \"milk\": 1.5,\n",
    "    \"eggs\": 3.0\n",
    "}\n",
    "\n",
    "# Iterate over keys\n",
    "print(\"Items:\")\n",
    "for item in items:\n",
    "    print(item)\n",
    "\n",
    "# Iterate over keys and values\n",
    "print(\"\\nItems with prices:\")\n",
    "for item, price in items.items():\n",
    "    print(f\"{item}: ${price}\")\n",
    "\n",
    "# Nested dictionary\n",
    "employees = {\n",
    "    101: {\"name\": \"Alice\", \"position\": \"Manager\"},\n",
    "    102: {\"name\": \"Bob\", \"position\": \"Developer\"},\n",
    "    103: {\"name\": \"Charlie\", \"position\": \"Designer\"}\n",
    "}\n",
    "\n",
    "# Access nested values\n",
    "print(\"Employee 101:\", employees[101])\n",
    "print(\"Employee 102's position:\", employees[102][\"position\"])\n",
    "\n",
    "# Count frequency of elements in a list\n",
    "colors = [\"red\", \"blue\", \"red\", \"green\", \"blue\", \"blue\"]\n",
    "\n",
    "# Use a dictionary for counting\n",
    "frequency = {}\n",
    "for color in colors:\n",
    "    frequency[color] = frequency.get(color, 0) + 1\n",
    "\n",
    "print(\"Color frequencies:\", frequency)\n",
    "\n",
    "# Two dictionaries\n",
    "dict1 = {\"a\": 1, \"b\": 2}\n",
    "dict2 = {\"b\": 3, \"c\": 4}\n",
    "\n",
    "# Merge using the `update()` method\n",
    "dict1.update(dict2)\n",
    "print(\"Merged dictionary:\", dict1)\n"
   ]
  },
  {
   "cell_type": "markdown",
   "id": "45a5117b-a47f-4d07-a03e-cbb384e78e18",
   "metadata": {},
   "source": [
    "### OOP Concepts"
   ]
  },
  {
   "cell_type": "code",
   "execution_count": 17,
   "id": "0513ea02-a882-493d-9de1-2d087681f512",
   "metadata": {},
   "outputs": [
    {
     "name": "stdout",
     "output_type": "stream",
     "text": [
      "I am making a call\n"
     ]
    }
   ],
   "source": [
    "class Phone:\n",
    "    def make_call(self):\n",
    "        print(\"I am making a call\")\n",
    "    def play_game(self):\n",
    "        print(\"I am playing a game\")\n",
    "p1 = Phone()\n",
    "p1.make_call()"
   ]
  },
  {
   "cell_type": "markdown",
   "id": "c580e215-2043-4f32-8221-0c89e96619c5",
   "metadata": {},
   "source": [
    "#### Example 1: Representing a Person"
   ]
  },
  {
   "cell_type": "code",
   "execution_count": 25,
   "id": "84210571-fdc8-4370-9bc7-45c611dedd2f",
   "metadata": {},
   "outputs": [
    {
     "name": "stdout",
     "output_type": "stream",
     "text": [
      "Hello, my name is Alice and I am 25 years old.\n",
      "Hello, my name is Bob and I am 30 years old.\n",
      "Hello, my name is John and I am 20 years old.\n"
     ]
    }
   ],
   "source": [
    "class Person:\n",
    "    def __init__(self, name, age):\n",
    "        self.name = name  # Instance variable for name\n",
    "        self.age = age    # Instance variable for age\n",
    "\n",
    "    def greet(self):\n",
    "        print(f\"Hello, my name is {self.name} and I am {self.age} years old.\")\n",
    "\n",
    "# Create objects\n",
    "person1 = Person(\"Alice\", 25)\n",
    "person2 = Person(\"Bob\", 30)\n",
    "person3 = Person(\"John\", 20)\n",
    "\n",
    "# Call the method\n",
    "person1.greet()\n",
    "person2.greet()\n",
    "person3.greet()"
   ]
  },
  {
   "cell_type": "markdown",
   "id": "4af48578-a54f-41fd-a500-3a1dd80ce05a",
   "metadata": {},
   "source": [
    "#### Example 2: Representing a Bank Account"
   ]
  },
  {
   "cell_type": "code",
   "execution_count": 29,
   "id": "b56c71e0-ab6d-4ae6-9ecf-f6a0976d597a",
   "metadata": {},
   "outputs": [
    {
     "name": "stdout",
     "output_type": "stream",
     "text": [
      "200 deposited. New balance: 700\n",
      "100 withdrawn. Remaining balance: 600\n",
      "Insufficient balance!\n"
     ]
    }
   ],
   "source": [
    "# Define a class to represent a bank account\n",
    "class BankAccount:\n",
    "    # Constructor to initialize account holder's name and initial balance\n",
    "    def __init__(self, account_holder, balance):\n",
    "        self.account_holder = account_holder  # The name of the account holder\n",
    "        self.balance = balance  # The initial balance of the account\n",
    "\n",
    "    # Method to deposit money into the account\n",
    "    def deposit(self, amount):\n",
    "        self.balance += amount  # Add the deposit amount to the balance\n",
    "        print(f\"{amount} deposited. New balance: {self.balance}\")\n",
    "\n",
    "    # Method to withdraw money from the account\n",
    "    def withdraw(self, amount):\n",
    "        # Check if the account has enough balance for the withdrawal\n",
    "        if amount > self.balance:\n",
    "            print(\"Insufficient balance!\")  # Notify if balance is insufficient\n",
    "        else:\n",
    "            self.balance -= amount  # Deduct the amount from the balance\n",
    "            print(f\"{amount} withdrawn. Remaining balance: {self.balance}\")\n",
    "\n",
    "# Create an object of the BankAccount class with an initial balance of 500\n",
    "account = BankAccount(\"John Doe\", 500)\n",
    "\n",
    "# Perform a deposit operation\n",
    "account.deposit(200)  # Deposit 200 into the account. New balance should be 700.\n",
    "\n",
    "# Perform a withdrawal operation\n",
    "account.withdraw(100)  # Withdraw 100 from the account. Remaining balance should be 600.\n",
    "\n",
    "# Attempt to withdraw more money than available in the account\n",
    "account.withdraw(700)  # Withdrawal of 700 should fail, as the balance is insufficient."
   ]
  },
  {
   "cell_type": "markdown",
   "id": "e3594f0d-0c1a-46f8-9620-2f94f0859d4e",
   "metadata": {},
   "source": [
    "#### Example 3: Representing a Rectangle"
   ]
  },
  {
   "cell_type": "code",
   "execution_count": 2,
   "id": "8bd7152d-29c1-4cfa-99da-163e686215fe",
   "metadata": {},
   "outputs": [
    {
     "name": "stdout",
     "output_type": "stream",
     "text": [
      "Area: 50\n",
      "Perimeter: 30\n"
     ]
    }
   ],
   "source": [
    "class Rectangle:\n",
    "    def __init__(self, length, width):\n",
    "        self.length = length\n",
    "        self.width = width\n",
    "\n",
    "    def calculate_area(self):\n",
    "        return self.length * self.width\n",
    "\n",
    "    def calculate_perimeter(self):\n",
    "        return 2 * (self.length + self.width)\n",
    "\n",
    "# Create an object\n",
    "rect = Rectangle(10, 5)\n",
    "\n",
    "# Calculate area and perimeter\n",
    "print(\"Area:\", rect.calculate_area())\n",
    "print(\"Perimeter:\", rect.calculate_perimeter())"
   ]
  },
  {
   "cell_type": "markdown",
   "id": "a184dea2-7183-489e-8157-a319f7f7d388",
   "metadata": {},
   "source": [
    "#### Example 4: Representing a Student"
   ]
  },
  {
   "cell_type": "code",
   "execution_count": 5,
   "id": "daffa842-efee-4704-8566-98da498db127",
   "metadata": {},
   "outputs": [
    {
     "name": "stdout",
     "output_type": "stream",
     "text": [
      "Student Name: Emma, Student ID: S101\n",
      "Student Name: Liam, Student ID: S102\n"
     ]
    }
   ],
   "source": [
    "class Student:\n",
    "    def __init__(self, name, student_id):\n",
    "        self.name = name\n",
    "        self.student_id = student_id\n",
    "\n",
    "    def display_info(self):\n",
    "        print(f\"Student Name: {self.name}, Student ID: {self.student_id}\")\n",
    "\n",
    "# Create objects\n",
    "student1 = Student(\"Emma\", \"S101\")\n",
    "student2 = Student(\"Liam\", \"S102\")\n",
    "\n",
    "# Display student information\n",
    "student1.display_info()\n",
    "student2.display_info()"
   ]
  },
  {
   "cell_type": "markdown",
   "id": "abe26ef1-564d-4545-bdc7-5a2b8dcaf184",
   "metadata": {},
   "source": [
    "#### Example 5: Representing a Car"
   ]
  },
  {
   "cell_type": "code",
   "execution_count": 8,
   "id": "958b5985-6f75-4c45-9ff3-e0a50eab4763",
   "metadata": {},
   "outputs": [
    {
     "name": "stdout",
     "output_type": "stream",
     "text": [
      "Car: Toyota Corolla, Year: 2022\n"
     ]
    }
   ],
   "source": [
    "class Car:\n",
    "    def __init__(self, brand, model, year):\n",
    "        self.brand = brand\n",
    "        self.model = model\n",
    "        self.year = year\n",
    "\n",
    "    def display_details(self):\n",
    "        print(f\"Car: {self.brand} {self.model}, Year: {self.year}\")\n",
    "\n",
    "# Create an object\n",
    "car1 = Car(\"Toyota\", \"Corolla\", 2022)\n",
    "\n",
    "# Display car details\n",
    "car1.display_details()"
   ]
  },
  {
   "cell_type": "markdown",
   "id": "52bd58c2-b205-41f3-99cd-206d1d87ee8c",
   "metadata": {},
   "source": [
    "### Inheritance"
   ]
  },
  {
   "cell_type": "code",
   "execution_count": 12,
   "id": "a8e47374-c1ed-4971-bc58-5a46ea10eadd",
   "metadata": {},
   "outputs": [
    {
     "name": "stdout",
     "output_type": "stream",
     "text": [
      "Generic Animal makes a sound.\n",
      "Buddy barks.\n"
     ]
    }
   ],
   "source": [
    "#  Example 1: Single Inheritance\n",
    "# Base class\n",
    "class Animal:\n",
    "    def __init__(self, name):\n",
    "        self.name = name\n",
    "\n",
    "    def speak(self):\n",
    "        print(f\"{self.name} makes a sound.\")\n",
    "\n",
    "# Derived class\n",
    "class Dog(Animal):\n",
    "    def speak(self):\n",
    "        print(f\"{self.name} barks.\")\n",
    "\n",
    "# Create objects\n",
    "animal = Animal(\"Generic Animal\")\n",
    "dog = Dog(\"Buddy\")\n",
    "\n",
    "# Call methods\n",
    "animal.speak()\n",
    "dog.speak()"
   ]
  },
  {
   "cell_type": "code",
   "execution_count": 14,
   "id": "97ba86ed-213f-4e3d-8cb9-4ee4b1f154fc",
   "metadata": {},
   "outputs": [
    {
     "name": "stdout",
     "output_type": "stream",
     "text": [
      "This is a vehicle by Toyota.\n",
      "Toyota car says: Beep Beep!\n"
     ]
    }
   ],
   "source": [
    "# Example 2: Adding New Method in Derived Class\n",
    "# Base class\n",
    "class Vehicle:\n",
    "    def __init__(self, brand):\n",
    "        self.brand = brand\n",
    "\n",
    "    def describe(self):\n",
    "        print(f\"This is a vehicle by {self.brand}.\")\n",
    "\n",
    "# Derived class\n",
    "class Car(Vehicle):\n",
    "    def honk(self):\n",
    "        print(f\"{self.brand} car says: Beep Beep!\")\n",
    "\n",
    "# Create object\n",
    "car = Car(\"Toyota\")\n",
    "\n",
    "# Call methods\n",
    "car.describe()\n",
    "car.honk()"
   ]
  },
  {
   "cell_type": "code",
   "execution_count": 16,
   "id": "0081dff1-9b25-4ae2-b516-b80a1560a0d6",
   "metadata": {},
   "outputs": [
    {
     "name": "stdout",
     "output_type": "stream",
     "text": [
      "My name is Alice, and I am 20 years old.\n",
      "My student ID is S12345.\n"
     ]
    }
   ],
   "source": [
    "#Example 3: Using super() to Call Parent Class Constructor\n",
    "# Base class\n",
    "class Person:\n",
    "    def __init__(self, name, age):\n",
    "        self.name = name\n",
    "        self.age = age\n",
    "\n",
    "    def introduce(self):\n",
    "        print(f\"My name is {self.name}, and I am {self.age} years old.\")\n",
    "\n",
    "# Derived class\n",
    "class Student(Person):\n",
    "    def __init__(self, name, age, student_id):\n",
    "        super().__init__(name, age)  # Call parent constructor\n",
    "        self.student_id = student_id\n",
    "\n",
    "    def introduce(self):\n",
    "        super().introduce()  # Call parent method\n",
    "        print(f\"My student ID is {self.student_id}.\")\n",
    "\n",
    "# Create object\n",
    "student = Student(\"Alice\", 20, \"S12345\")\n",
    "\n",
    "# Call methods\n",
    "student.introduce()"
   ]
  },
  {
   "cell_type": "code",
   "execution_count": 18,
   "id": "da3bff18-bd0f-46aa-8b77-983d29c6b992",
   "metadata": {},
   "outputs": [
    {
     "name": "stdout",
     "output_type": "stream",
     "text": [
      "This is Parent1.\n",
      "This is Parent2.\n",
      "Hello from Child.\n"
     ]
    }
   ],
   "source": [
    "# 2. Multiple Inheritance\n",
    "# A class inherits from more than one base class.\n",
    "\n",
    "# Base class 1\n",
    "class Parent1:\n",
    "    def show(self):\n",
    "        print(\"This is Parent1.\")\n",
    "\n",
    "# Base class 2\n",
    "class Parent2:\n",
    "    def display(self):\n",
    "        print(\"This is Parent2.\")\n",
    "\n",
    "# Derived class\n",
    "class Child(Parent1, Parent2):\n",
    "    def greet(self):\n",
    "        print(\"Hello from Child.\")\n",
    "\n",
    "# Create object\n",
    "child = Child()\n",
    "child.show()\n",
    "child.display()\n",
    "child.greet()"
   ]
  },
  {
   "cell_type": "code",
   "execution_count": 20,
   "id": "e58fa6e3-f91d-4edc-bf25-659dff959211",
   "metadata": {},
   "outputs": [
    {
     "name": "stdout",
     "output_type": "stream",
     "text": [
      "This is the grandparent's family tree.\n",
      "This is a message from the parent.\n",
      "This is a message from the child.\n"
     ]
    }
   ],
   "source": [
    "#3. Multilevel Inheritance\n",
    "#A class is derived from a class that is already derived from another class.\n",
    "# Base class\n",
    "class Grandparent:\n",
    "    def family_tree(self):\n",
    "        print(\"This is the grandparent's family tree.\")\n",
    "\n",
    "# Intermediate class\n",
    "class Parent(Grandparent):\n",
    "    def parent_message(self):\n",
    "        print(\"This is a message from the parent.\")\n",
    "\n",
    "# Derived class\n",
    "class Child(Parent):\n",
    "    def child_message(self):\n",
    "        print(\"This is a message from the child.\")\n",
    "\n",
    "# Create object\n",
    "child = Child()\n",
    "child.family_tree()\n",
    "child.parent_message()\n",
    "child.child_message()"
   ]
  },
  {
   "cell_type": "code",
   "execution_count": 22,
   "id": "f82ad9a6-9377-43b0-920f-d5e0e439c30c",
   "metadata": {},
   "outputs": [
    {
     "name": "stdout",
     "output_type": "stream",
     "text": [
      "This is a vehicle from Ferrari.\n",
      "This is a car from Ferrari.\n",
      "This is a bike from Ferrari.\n",
      "This is a sports vehicle from Ferrari.\n"
     ]
    }
   ],
   "source": [
    "#4. Hybrid Inheritance\n",
    "#A combination of multiple and multilevel inheritance.\n",
    "# Base class\n",
    "class Vehicle:\n",
    "    def __init__(self, brand):\n",
    "        self.brand = brand\n",
    "\n",
    "    def vehicle_info(self):\n",
    "        print(f\"This is a vehicle from {self.brand}.\")\n",
    "\n",
    "# Derived class 1\n",
    "class Car(Vehicle):\n",
    "    def car_info(self):\n",
    "        print(f\"This is a car from {self.brand}.\")\n",
    "\n",
    "# Derived class 2\n",
    "class Bike(Vehicle):\n",
    "    def bike_info(self):\n",
    "        print(f\"This is a bike from {self.brand}.\")\n",
    "\n",
    "# Derived class from Car and Bike\n",
    "class SportsVehicle(Car, Bike):\n",
    "    def sports_info(self):\n",
    "        print(f\"This is a sports vehicle from {self.brand}.\")\n",
    "\n",
    "# Create object\n",
    "sports_vehicle = SportsVehicle(\"Ferrari\")\n",
    "sports_vehicle.vehicle_info()\n",
    "sports_vehicle.car_info()\n",
    "sports_vehicle.bike_info()\n",
    "sports_vehicle.sports_info()"
   ]
  },
  {
   "cell_type": "markdown",
   "id": "935add41-2fa6-48dc-bcf6-43b0a0fe0241",
   "metadata": {},
   "source": [
    "### Numpy"
   ]
  },
  {
   "cell_type": "code",
   "execution_count": 10,
   "id": "74b60604-1654-494c-8af7-6dda5f574cc0",
   "metadata": {},
   "outputs": [],
   "source": [
    "import numpy as np"
   ]
  },
  {
   "cell_type": "code",
   "execution_count": 12,
   "id": "bf44d4b1-6e06-4387-a1d6-b29e14ab4f14",
   "metadata": {},
   "outputs": [
    {
     "name": "stdout",
     "output_type": "stream",
     "text": [
      "[1 2 3 4 5]\n",
      "<class 'numpy.ndarray'>\n"
     ]
    }
   ],
   "source": [
    "arr1 = np.array ([1, 2, 3, 4, 5])\n",
    "print(arr1)\n",
    "print(type(arr1))"
   ]
  },
  {
   "cell_type": "code",
   "execution_count": 10,
   "id": "3b6b4446-1c4c-4710-9bbf-240b241f8259",
   "metadata": {},
   "outputs": [
    {
     "name": "stdout",
     "output_type": "stream",
     "text": [
      "[[1 2 3]\n",
      " [4 5 6]]\n"
     ]
    }
   ],
   "source": [
    "arr2 = np.array([[1, 2, 3], [4, 5, 6]])\n",
    "print(arr2)"
   ]
  },
  {
   "cell_type": "code",
   "execution_count": 14,
   "id": "744b7c9c-de5d-4046-8041-81aee24c800e",
   "metadata": {},
   "outputs": [
    {
     "name": "stdout",
     "output_type": "stream",
     "text": [
      "[[0. 0. 0.]\n",
      " [0. 0. 0.]]\n",
      "[[1. 1.]\n",
      " [1. 1.]\n",
      " [1. 1.]]\n"
     ]
    }
   ],
   "source": [
    "zero_arr = np.zeros((2, 3))  # 2 rows, 3 columns\n",
    "print(zero_arr)\n",
    "\n",
    "ones = np.ones((3, 2))   # 3 rows, 2 columns\n",
    "print(ones)"
   ]
  },
  {
   "cell_type": "code",
   "execution_count": 22,
   "id": "e9b5df93-eb4b-4527-ad87-f8f3175b95aa",
   "metadata": {},
   "outputs": [
    {
     "name": "stdout",
     "output_type": "stream",
     "text": [
      "[1 3 5 7 9]\n"
     ]
    }
   ],
   "source": [
    "arr = np.arange(1,11,2) # Start at 0, go to 10, step by 2\n",
    "print(arr)"
   ]
  },
  {
   "cell_type": "code",
   "execution_count": 28,
   "id": "481f0f9c-338f-44a4-9d5a-08f444600b48",
   "metadata": {},
   "outputs": [
    {
     "name": "stdout",
     "output_type": "stream",
     "text": [
      "[0.   0.25 0.5  0.75 1.  ]\n"
     ]
    }
   ],
   "source": [
    "arr = np.linspace(0,1,5)\n",
    "print(arr)"
   ]
  },
  {
   "cell_type": "code",
   "execution_count": null,
   "id": "dfaed3c2-dfad-4e29-b981-23ead6e064f2",
   "metadata": {},
   "outputs": [],
   "source": []
  }
 ],
 "metadata": {
  "kernelspec": {
   "display_name": "Python 3 (ipykernel)",
   "language": "python",
   "name": "python3"
  },
  "language_info": {
   "codemirror_mode": {
    "name": "ipython",
    "version": 3
   },
   "file_extension": ".py",
   "mimetype": "text/x-python",
   "name": "python",
   "nbconvert_exporter": "python",
   "pygments_lexer": "ipython3",
   "version": "3.11.7"
  }
 },
 "nbformat": 4,
 "nbformat_minor": 5
}
