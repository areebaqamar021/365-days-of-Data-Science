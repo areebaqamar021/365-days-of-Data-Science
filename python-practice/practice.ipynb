{
 "cells": [
  {
   "cell_type": "markdown",
   "id": "90d71445-c71b-413d-8a37-d158a149e263",
   "metadata": {},
   "source": [
    "### Variables"
   ]
  },
  {
   "cell_type": "code",
   "execution_count": 14,
   "id": "dbc77c79-9ae5-4a56-8f74-58cce439d221",
   "metadata": {},
   "outputs": [
    {
     "name": "stdout",
     "output_type": "stream",
     "text": [
      "Expenses:\n",
      "Rent: $1220\n",
      "Gas: $250\n",
      "Groceries: $305.7\n",
      "Total: $1775.7\n"
     ]
    }
   ],
   "source": [
    "# Defining expenses\n",
    "rent = 1220\n",
    "gas = 250\n",
    "groceries = 305.7\n",
    "\n",
    "# Calculating total\n",
    "total = rent + gas + groceries\n",
    "\n",
    "# Defining item names\n",
    "item1 = 'rent'\n",
    "item2 = 'gas'\n",
    "item3 = 'groceries'\n",
    "\n",
    "# Printing the expenses in a proper way\n",
    "print(f\"Expenses:\")\n",
    "print(f\"{item1.capitalize()}: ${rent}\")\n",
    "print(f\"{item2.capitalize()}: ${gas}\")\n",
    "print(f\"{item3.capitalize()}: ${groceries}\")\n",
    "print(f\"Total: ${total}\")"
   ]
  },
  {
   "cell_type": "markdown",
   "id": "5b7ea014-c72c-429e-b4f7-b0c08805c218",
   "metadata": {},
   "source": [
    "### Numbers"
   ]
  },
  {
   "cell_type": "code",
   "execution_count": 36,
   "id": "fa3e1984-26e6-4fe4-b2b9-6cad56d1929a",
   "metadata": {},
   "outputs": [
    {
     "name": "stdout",
     "output_type": "stream",
     "text": [
      "total_distance : 435\n",
      "Time :  6.69\n",
      "24\n",
      "20\n"
     ]
    }
   ],
   "source": [
    "nyc_bal = 188\n",
    "bal_pitt = 247\n",
    "total_distance = nyc_bal + bal_pitt\n",
    "print(\"total_distance :\", total_distance)\n",
    "mph = 65\n",
    "time = total_distance/mph\n",
    "print('Time : ', round(time, 2))\n",
    "\n",
    "a = 4\n",
    "b = 6\n",
    "area = a*b\n",
    "perimeter = 2 * (a+b)\n",
    "print(area)\n",
    "print(perimeter)"
   ]
  },
  {
   "cell_type": "markdown",
   "id": "770fd221-007c-4a6e-bf58-de53abad95c5",
   "metadata": {},
   "source": [
    "### Strings"
   ]
  },
  {
   "cell_type": "code",
   "execution_count": 55,
   "id": "b07ffe35-4514-4bfe-86f3-18ba3fce385f",
   "metadata": {},
   "outputs": [
    {
     "name": "stdout",
     "output_type": "stream",
     "text": [
      "ice cream\n",
      "i\n",
      "ice\n",
      "cream\n",
      "ice\n",
      " 1 . purple Street\n",
      "new york\n",
      "USA \n"
     ]
    }
   ],
   "source": [
    "text = 'ice cream'\n",
    "print(text)\n",
    "print(text[0])\n",
    "print(text[0:3])\n",
    "print(text[4:])\n",
    "print(text[:3])\n",
    "address = ''' 1 . purple Street\n",
    "new york\n",
    "USA '''\n",
    "print(address)"
   ]
  },
  {
   "cell_type": "markdown",
   "id": "17275693-ac72-418d-8131-60e815f13eae",
   "metadata": {},
   "source": [
    "### Lists"
   ]
  },
  {
   "cell_type": "code",
   "execution_count": 16,
   "id": "557584d5-2751-4d69-b0a5-ed3a493dabfc",
   "metadata": {},
   "outputs": [
    {
     "name": "stdout",
     "output_type": "stream",
     "text": [
      "['bread', 'pasta', 'fruits', 'veggies']\n"
     ]
    },
    {
     "data": {
      "text/plain": [
       "['bread', 'eggs', 'pasta', 'fruits', 'veggies']"
      ]
     },
     "execution_count": 16,
     "metadata": {},
     "output_type": "execute_result"
    }
   ],
   "source": [
    "items = ['bread', 'pasta', 'fruits', 'veggies']\n",
    "print(items)\n",
    "items[0] = 'chips'\n",
    "items\n",
    "items.append('butter')\n",
    "items\n",
    "items = ['bread', 'pasta', 'fruits', 'veggies']\n",
    "items\n",
    "items.insert(1, 'eggs')\n",
    "items"
   ]
  },
  {
   "cell_type": "markdown",
   "id": "7f352328-72dc-422f-baf4-1e33a4fe4f1c",
   "metadata": {},
   "source": [
    "### If Statements"
   ]
  },
  {
   "cell_type": "code",
   "execution_count": 25,
   "id": "a2234555-ca1c-4fe3-abde-1892a6433344",
   "metadata": {},
   "outputs": [
    {
     "name": "stdin",
     "output_type": "stream",
     "text": [
      "Enter a number:  6\n"
     ]
    },
    {
     "name": "stdout",
     "output_type": "stream",
     "text": [
      "Number is even\n"
     ]
    }
   ],
   "source": [
    "# Prompt the user to enter a number\n",
    "num = input('Enter a number: ')\n",
    "\n",
    "# Convert the input to an integer\n",
    "num = int(num)\n",
    "\n",
    "# Check if the number is even or odd\n",
    "if num % 2 == 0:\n",
    "    print('Number is even')\n",
    "else:\n",
    "    print('Number is odd')\n"
   ]
  },
  {
   "cell_type": "code",
   "execution_count": 29,
   "id": "76a06ff1-b99e-446f-b882-b593d5dce725",
   "metadata": {},
   "outputs": [
    {
     "name": "stdin",
     "output_type": "stream",
     "text": [
      "Enter a number:  5\n"
     ]
    },
    {
     "name": "stdout",
     "output_type": "stream",
     "text": [
      "The number is positive.\n"
     ]
    }
   ],
   "source": [
    "num = int(input(\"Enter a number: \"))\n",
    "\n",
    "if num > 0:\n",
    "    print(\"The number is positive.\")\n",
    "elif num < 0:\n",
    "    print(\"The number is negative.\")\n",
    "else:\n",
    "    print(\"The number is zero.\")\n"
   ]
  },
  {
   "cell_type": "code",
   "execution_count": null,
   "id": "3052ae2c-18ac-4361-8ebf-ecce37ba9392",
   "metadata": {},
   "outputs": [],
   "source": []
  }
 ],
 "metadata": {
  "kernelspec": {
   "display_name": "Python 3 (ipykernel)",
   "language": "python",
   "name": "python3"
  },
  "language_info": {
   "codemirror_mode": {
    "name": "ipython",
    "version": 3
   },
   "file_extension": ".py",
   "mimetype": "text/x-python",
   "name": "python",
   "nbconvert_exporter": "python",
   "pygments_lexer": "ipython3",
   "version": "3.11.7"
  }
 },
 "nbformat": 4,
 "nbformat_minor": 5
}
