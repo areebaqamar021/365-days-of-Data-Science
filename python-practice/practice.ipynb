{
 "cells": [
  {
   "cell_type": "markdown",
   "id": "90d71445-c71b-413d-8a37-d158a149e263",
   "metadata": {},
   "source": [
    "### Variables"
   ]
  },
  {
   "cell_type": "code",
   "execution_count": 4,
   "id": "dbc77c79-9ae5-4a56-8f74-58cce439d221",
   "metadata": {},
   "outputs": [
    {
     "name": "stdout",
     "output_type": "stream",
     "text": [
      "1775.7\n"
     ]
    }
   ],
   "source": [
    "rent = 1220;\n",
    "gas = 250;\n",
    "groceries = 305.7\n",
    "\n",
    "total = rent + gas + groceries\n",
    "\n",
    "item1 = 'rent';\n",
    "item2 = 'gas';\n",
    "item3 = 'groceries';\n",
    "\n",
    "print(\"Expenses : \" item1total)"
   ]
  },
  {
   "cell_type": "code",
   "execution_count": null,
   "id": "5125a063-c6c0-42a0-befe-ecc6a03204d5",
   "metadata": {},
   "outputs": [],
   "source": []
  }
 ],
 "metadata": {
  "kernelspec": {
   "display_name": "Python 3 (ipykernel)",
   "language": "python",
   "name": "python3"
  },
  "language_info": {
   "codemirror_mode": {
    "name": "ipython",
    "version": 3
   },
   "file_extension": ".py",
   "mimetype": "text/x-python",
   "name": "python",
   "nbconvert_exporter": "python",
   "pygments_lexer": "ipython3",
   "version": "3.11.7"
  }
 },
 "nbformat": 4,
 "nbformat_minor": 5
}
