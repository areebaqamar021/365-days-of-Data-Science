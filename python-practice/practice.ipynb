{
 "cells": [
  {
   "cell_type": "markdown",
   "id": "90d71445-c71b-413d-8a37-d158a149e263",
   "metadata": {},
   "source": [
    "### Variables"
   ]
  },
  {
   "cell_type": "code",
   "execution_count": 14,
   "id": "dbc77c79-9ae5-4a56-8f74-58cce439d221",
   "metadata": {},
   "outputs": [
    {
     "name": "stdout",
     "output_type": "stream",
     "text": [
      "Expenses:\n",
      "Rent: $1220\n",
      "Gas: $250\n",
      "Groceries: $305.7\n",
      "Total: $1775.7\n"
     ]
    }
   ],
   "source": [
    "# Defining expenses\n",
    "rent = 1220\n",
    "gas = 250\n",
    "groceries = 305.7\n",
    "\n",
    "# Calculating total\n",
    "total = rent + gas + groceries\n",
    "\n",
    "# Defining item names\n",
    "item1 = 'rent'\n",
    "item2 = 'gas'\n",
    "item3 = 'groceries'\n",
    "\n",
    "# Printing the expenses in a proper way\n",
    "print(f\"Expenses:\")\n",
    "print(f\"{item1.capitalize()}: ${rent}\")\n",
    "print(f\"{item2.capitalize()}: ${gas}\")\n",
    "print(f\"{item3.capitalize()}: ${groceries}\")\n",
    "print(f\"Total: ${total}\")"
   ]
  },
  {
   "cell_type": "markdown",
   "id": "5b7ea014-c72c-429e-b4f7-b0c08805c218",
   "metadata": {},
   "source": [
    "### Numbers"
   ]
  },
  {
   "cell_type": "code",
   "execution_count": 36,
   "id": "fa3e1984-26e6-4fe4-b2b9-6cad56d1929a",
   "metadata": {},
   "outputs": [
    {
     "name": "stdout",
     "output_type": "stream",
     "text": [
      "total_distance : 435\n",
      "Time :  6.69\n",
      "24\n",
      "20\n"
     ]
    }
   ],
   "source": [
    "nyc_bal = 188\n",
    "bal_pitt = 247\n",
    "total_distance = nyc_bal + bal_pitt\n",
    "print(\"total_distance :\", total_distance)\n",
    "mph = 65\n",
    "time = total_distance/mph\n",
    "print('Time : ', round(time, 2))\n",
    "\n",
    "a = 4\n",
    "b = 6\n",
    "area = a*b\n",
    "perimeter = 2 * (a+b)\n",
    "print(area)\n",
    "print(perimeter)"
   ]
  },
  {
   "cell_type": "markdown",
   "id": "770fd221-007c-4a6e-bf58-de53abad95c5",
   "metadata": {},
   "source": [
    "### Strings"
   ]
  },
  {
   "cell_type": "code",
   "execution_count": 14,
   "id": "b07ffe35-4514-4bfe-86f3-18ba3fce385f",
   "metadata": {},
   "outputs": [
    {
     "name": "stdout",
     "output_type": "stream",
     "text": [
      "ice cream\n",
      "i\n",
      "ice\n",
      "cream\n",
      "ice\n",
      " 1 . purple Street\n",
      "new york\n",
      "USA \n"
     ]
    },
    {
     "data": {
      "text/plain": [
       "'a'"
      ]
     },
     "execution_count": 14,
     "metadata": {},
     "output_type": "execute_result"
    }
   ],
   "source": [
    "text = 'ice cream'\n",
    "print(text)\n",
    "print(text[0])\n",
    "print(text[0:3])\n",
    "print(text[4:])\n",
    "print(text[:3])\n",
    "address = ''' 1 . purple Street\n",
    "new york\n",
    "USA '''\n",
    "print(address)\n",
    "my_string = 'Hello Areeba';\n",
    "my_string[-1]"
   ]
  },
  {
   "cell_type": "markdown",
   "id": "4c6ba58a-f89e-4b5a-9c5f-b6887c490217",
   "metadata": {},
   "source": [
    "### Tuples"
   ]
  },
  {
   "cell_type": "code",
   "execution_count": 12,
   "id": "255a54fa-ba63-490c-89ce-04fe51dfde4e",
   "metadata": {},
   "outputs": [
    {
     "data": {
      "text/plain": [
       "('sparta', 200, 'sparta', 200, 'sparta', 200, 12, True, 23.13, (5-7j))"
      ]
     },
     "execution_count": 12,
     "metadata": {},
     "output_type": "execute_result"
    }
   ],
   "source": [
    "#tuples are immutable\n",
    "\n",
    "tup1 = (12, True, 23.13, 5-7j)\n",
    "tup1\n",
    "tup1[0]\n",
    "tup1[-1]\n",
    "tup1[1:3]\n",
    "tup2 = (\"sparta\", 200)\n",
    "tup2 * 3\n",
    "tup2 * 3 + tup1"
   ]
  },
  {
   "cell_type": "markdown",
   "id": "17275693-ac72-418d-8131-60e815f13eae",
   "metadata": {},
   "source": [
    "### Lists"
   ]
  },
  {
   "cell_type": "code",
   "execution_count": 20,
   "id": "557584d5-2751-4d69-b0a5-ed3a493dabfc",
   "metadata": {},
   "outputs": [
    {
     "name": "stdout",
     "output_type": "stream",
     "text": [
      "['bread', 'pasta', 'fruits', 'veggies']\n"
     ]
    },
    {
     "data": {
      "text/plain": [
       "['bread', 'eggs', 'pasta', 'fruits', 'veggies']"
      ]
     },
     "execution_count": 20,
     "metadata": {},
     "output_type": "execute_result"
    }
   ],
   "source": [
    "#lists are mutable\n",
    "\n",
    "items = ['bread', 'pasta', 'fruits', 'veggies']\n",
    "print(items)\n",
    "items[0] = 'chips'\n",
    "items\n",
    "items.append('butter')\n",
    "items\n",
    "items = ['bread', 'pasta', 'fruits', 'veggies']\n",
    "items\n",
    "items.insert(1, 'eggs')\n",
    "items"
   ]
  },
  {
   "cell_type": "markdown",
   "id": "7f352328-72dc-422f-baf4-1e33a4fe4f1c",
   "metadata": {},
   "source": [
    "### If Statements"
   ]
  },
  {
   "cell_type": "code",
   "execution_count": 25,
   "id": "a2234555-ca1c-4fe3-abde-1892a6433344",
   "metadata": {},
   "outputs": [
    {
     "name": "stdout",
     "output_type": "stream",
     "text": [
      "Enter a number:  6\n"
     ]
    },
    {
     "name": "stdout",
     "output_type": "stream",
     "text": [
      "Number is even\n"
     ]
    }
   ],
   "source": [
    "# Prompt the user to enter a number\n",
    "num = input('Enter a number: ')\n",
    "\n",
    "# Convert the input to an integer\n",
    "num = int(num)\n",
    "\n",
    "# Check if the number is even or odd\n",
    "if num % 2 == 0:\n",
    "    print('Number is even')\n",
    "else:\n",
    "    print('Number is odd')\n"
   ]
  },
  {
   "cell_type": "code",
   "execution_count": 29,
   "id": "76a06ff1-b99e-446f-b882-b593d5dce725",
   "metadata": {},
   "outputs": [
    {
     "name": "stdout",
     "output_type": "stream",
     "text": [
      "Enter a number:  5\n"
     ]
    },
    {
     "name": "stdout",
     "output_type": "stream",
     "text": [
      "The number is positive.\n"
     ]
    }
   ],
   "source": [
    "num = int(input(\"Enter a number: \"))\n",
    "\n",
    "if num > 0:\n",
    "    print(\"The number is positive.\")\n",
    "elif num < 0:\n",
    "    print(\"The number is negative.\")\n",
    "else:\n",
    "    print(\"The number is zero.\")\n"
   ]
  },
  {
   "cell_type": "code",
   "execution_count": 31,
   "id": "3052ae2c-18ac-4361-8ebf-ecce37ba9392",
   "metadata": {},
   "outputs": [
    {
     "name": "stdout",
     "output_type": "stream",
     "text": [
      "Enter a character:  a\n"
     ]
    },
    {
     "name": "stdout",
     "output_type": "stream",
     "text": [
      "a is a vowel.\n"
     ]
    }
   ],
   "source": [
    "char = input(\"Enter a character: \").lower()\n",
    "\n",
    "if char in 'aeiou':\n",
    "    print(f\"{char} is a vowel.\")\n",
    "elif char.isalpha():\n",
    "    print(f\"{char} is a consonant.\")\n",
    "else:\n",
    "    print(\"Invalid input. Please enter a single letter.\")\n"
   ]
  },
  {
   "cell_type": "markdown",
   "id": "c55f5c83-6097-4315-a6bf-bb5ddaa61c13",
   "metadata": {},
   "source": [
    "### while loop"
   ]
  },
  {
   "cell_type": "code",
   "execution_count": 6,
   "id": "ebe6a451-3a76-484e-8b8d-a852ddacbd22",
   "metadata": {},
   "outputs": [
    {
     "name": "stdout",
     "output_type": "stream",
     "text": [
      "1\n",
      "2\n",
      "3\n",
      "4\n",
      "5\n",
      "6\n",
      "7\n",
      "8\n",
      "9\n",
      "10\n"
     ]
    }
   ],
   "source": [
    "i = 1; \n",
    "while i<=10:\n",
    "    print(i)\n",
    "    i=i+1"
   ]
  },
  {
   "cell_type": "code",
   "execution_count": 8,
   "id": "ad8bf3f8-2db9-421a-b947-d4ea95a3bf71",
   "metadata": {},
   "outputs": [
    {
     "name": "stdout",
     "output_type": "stream",
     "text": [
      "2 * 1 = 2\n",
      "2 * 2 = 4\n",
      "2 * 3 = 6\n",
      "2 * 4 = 8\n",
      "2 * 5 = 10\n",
      "2 * 6 = 12\n",
      "2 * 7 = 14\n",
      "2 * 8 = 16\n",
      "2 * 9 = 18\n",
      "2 * 10 = 20\n"
     ]
    }
   ],
   "source": [
    "i = 1;\n",
    "n = 2;\n",
    "while i<=10:\n",
    "    print(n, \"*\", i, \"=\", n*i)\n",
    "    i = i+1"
   ]
  },
  {
   "cell_type": "code",
   "execution_count": 14,
   "id": "999ace9e-9011-417c-8098-51c464edfc13",
   "metadata": {},
   "outputs": [
    {
     "data": {
      "text/plain": [
       "[101, 102, 103, 104, 105]"
      ]
     },
     "execution_count": 14,
     "metadata": {},
     "output_type": "execute_result"
    }
   ],
   "source": [
    "l1 = [1, 2, 3, 4, 5]\n",
    "i = 0;\n",
    "while i<len(l1):\n",
    "    l1[i] = l1[i]+100\n",
    "    i=i+1\n",
    "l1"
   ]
  },
  {
   "cell_type": "markdown",
   "id": "53713171-189f-4abd-8a30-89bbfc8eeee3",
   "metadata": {},
   "source": [
    "### for loop"
   ]
  },
  {
   "cell_type": "code",
   "execution_count": 16,
   "id": "0d39bdbb-6199-4308-ae97-15d0c73730f3",
   "metadata": {},
   "outputs": [
    {
     "name": "stdout",
     "output_type": "stream",
     "text": [
      "46313\n",
      "Sum: 5050\n",
      "P\n",
      "y\n",
      "t\n",
      "h\n",
      "o\n",
      "n\n",
      "2 is even\n",
      "4 is even\n",
      "6 is even\n",
      "8 is even\n",
      "10 is even\n",
      "*\n",
      "**\n",
      "***\n",
      "****\n",
      "*****\n"
     ]
    },
    {
     "name": "stdin",
     "output_type": "stream",
     "text": [
      "Enter a number:  6\n"
     ]
    },
    {
     "name": "stdout",
     "output_type": "stream",
     "text": [
      "The factorial of 6 is 720\n",
      "There are 3 vowels in the string.\n",
      "orange chair\n",
      "orange book\n",
      "orange laptop\n",
      "black chair\n",
      "black book\n",
      "black laptop\n",
      "white chair\n",
      "white book\n",
      "white laptop\n"
     ]
    },
    {
     "name": "stdout",
     "output_type": "stream",
     "text": [
      "The factorial of 7 is 5040\n",
      "There are 3 vowels in the string.\n"
     ]
    }
   ],
   "source": [
    "exp = [22500, 3409, 2425, 9869, 3455, 4655]\n",
    "total = 0\n",
    "for item in exp: \n",
    "    total = total + item\n",
    "print(total)\n",
    "\n",
    "total = 0  # Initialize total to store the sum\n",
    "\n",
    "for num in range(1, 101):  # `num` iterates from 1 to 100\n",
    "    total += num  # Add `num` to `total` in each iteration\n",
    "\n",
    "print(f\"Sum: {total}\")  # Print the result\n",
    "\n",
    "string = \"Python\"\n",
    "\n",
    "for char in string:  # `char` iterates through each character in \"Python\"\n",
    "    print(char)  # Print the character\n",
    "\n",
    "numbers = [1, 2, 3, 4, 5, 6, 7, 8, 9, 10]\n",
    "\n",
    "for num in numbers:  # `num` iterates through the list\n",
    "    if num % 2 == 0:  # Check if `num` is divisible by 2\n",
    "        print(f\"{num} is even\")  # Print the even number\n",
    "\n",
    "rows = 5\n",
    "\n",
    "for i in range(1, rows + 1):  # `i` determines the current row\n",
    "    print(\"*\" * i)  # Print `i` stars in the current row\n",
    "\n",
    "num = int(input(\"Enter a number: \"))\n",
    "factorial = 1  # Initialize factorial to 1\n",
    "\n",
    "for i in range(1, num + 1):  # `i` iterates from 1 to `num`\n",
    "    factorial *= i  # Multiply `factorial` by `i`\n",
    "\n",
    "print(f\"The factorial of {num} is {factorial}\")\n",
    "\n",
    "string = \"hello world\"\n",
    "vowels = \"aeiou\"\n",
    "count = 0\n",
    "\n",
    "for char in string:  # `char` iterates through each character\n",
    "    if char in vowels:  # Check if the character is a vowel\n",
    "        count += 1  # Increment the count\n",
    "\n",
    "print(f\"There are {count} vowels in the string.\")\n",
    "\n",
    "l1 = ['orange', 'black', 'white']\n",
    "l2 = ['chair', 'book', 'laptop']\n",
    "\n",
    "for i in l1:\n",
    "    for j in l2:\n",
    "        print(i,j)"
   ]
  },
  {
   "cell_type": "markdown",
   "id": "f282ace0-29b3-49b5-8d26-9917fb27ef6f",
   "metadata": {},
   "source": [
    "### Functions"
   ]
  },
  {
   "cell_type": "code",
   "execution_count": 7,
   "id": "ec0c0fa0-1462-46e7-996e-5fc13e9c26bf",
   "metadata": {},
   "outputs": [
    {
     "name": "stdout",
     "output_type": "stream",
     "text": [
      "50\n",
      "True\n",
      "False\n",
      "120\n"
     ]
    }
   ],
   "source": [
    "def rectangle_area(length, width):  # Function with two parameters\n",
    "    return length * width  # Return the area of the rectangle\n",
    "\n",
    "# Test the function\n",
    "print(rectangle_area(5, 10))  # Output: 50\n",
    "\n",
    "def is_palindrome(s):  # Function with one parameter 's'\n",
    "    s = s.lower()  # Convert the string to lowercase\n",
    "    return s == s[::-1]  # Check if the string is equal to its reverse\n",
    "\n",
    "# Test the function\n",
    "print(is_palindrome(\"Madam\"))  # Output: True\n",
    "print(is_palindrome(\"Hello\"))  # Output: False\n",
    "\n",
    "def factorial(n):  # Function with one parameter 'n'\n",
    "    result = 1  # Initialize 'result' to 1\n",
    "    for i in range(1, n + 1):  # Loop from 1 to n\n",
    "        result *= i  # Multiply result by the current value of 'i'\n",
    "    return result  # Return the calculated factorial\n",
    "\n",
    "# Test the function\n",
    "print(factorial(5))  # Output: 120\n"
   ]
  },
  {
   "cell_type": "markdown",
   "id": "1252b6f2-f182-48fc-bd83-9bdc0f4a8253",
   "metadata": {},
   "source": [
    "#### lambda function"
   ]
  },
  {
   "cell_type": "code",
   "execution_count": 4,
   "id": "3f47ec6e-ed2c-4720-8296-7b1e9ab1dd40",
   "metadata": {},
   "outputs": [
    {
     "name": "stdout",
     "output_type": "stream",
     "text": [
      "[65, 23, 89, 45, 39]\n",
      "[2, 4, 6, 8, 10, 12, 14, 16]\n"
     ]
    }
   ],
   "source": [
    "#lambda with filter\n",
    "l1 = [24, 65, 34, 23, 89, 4, 8, 45, 39]\n",
    "final_list = list(filter(lambda x: (x%2!=0),l1))\n",
    "print(final_list)\n",
    "\n",
    "#lambda with map\n",
    "l2 = [1, 2, 3, 4, 5, 6, 7, 8]\n",
    "final_list2 = list(map(lambda x: x*2,l2))\n",
    "print(final_list2)"
   ]
  },
  {
   "cell_type": "markdown",
   "id": "e809297b-629f-4e8b-9fea-e2e5c80377a3",
   "metadata": {},
   "source": [
    "### Dictionary"
   ]
  },
  {
   "cell_type": "code",
   "execution_count": 26,
   "id": "bef24b79-4e36-40bc-af64-80f3eae31167",
   "metadata": {},
   "outputs": [
    {
     "name": "stdout",
     "output_type": "stream",
     "text": [
      "dict_keys(['name', 'age', 'major'])\n",
      "dict_values(['Alice', 20, 'Computer Science'])\n",
      "{'name': 'Alice', 'age': 20, 'major': 'Computer Science', 'Id': 18}\n",
      "Name: Alice\n",
      "Age: 20\n",
      "GPA: Not provided\n",
      "After adding grapes: {'apples': 10, 'bananas': 5, 'oranges': 8, 'grapes': 15}\n",
      "After updating apples: {'apples': 12, 'bananas': 5, 'oranges': 8, 'grapes': 15}\n",
      "After removing bananas: {'apples': 12, 'oranges': 8, 'grapes': 15}\n",
      "Items:\n",
      "bread\n",
      "milk\n",
      "eggs\n",
      "\n",
      "Items with prices:\n",
      "bread: $2.5\n",
      "milk: $1.5\n",
      "eggs: $3.0\n",
      "Employee 101: {'name': 'Alice', 'position': 'Manager'}\n",
      "Employee 102's position: Developer\n",
      "Color frequencies: {'red': 2, 'blue': 3, 'green': 1}\n",
      "Merged dictionary: {'a': 1, 'b': 3, 'c': 4}\n"
     ]
    }
   ],
   "source": [
    "# Creating a dictionary\n",
    "student = {\n",
    "    \"name\": \"Alice\",\n",
    "    \"age\": 20,\n",
    "    \"major\": \"Computer Science\"\n",
    "}\n",
    "print(student.keys())\n",
    "print(student.values())\n",
    "student[\"Id\"] = 18\n",
    "print(student)\n",
    "\n",
    "# Accessing values\n",
    "print(\"Name:\", student[\"name\"])  # Access value using key\n",
    "print(\"Age:\", student.get(\"age\"))  # Access value using get()\n",
    "print(\"GPA:\", student.get(\"gpa\", \"Not provided\"))  # Default value for missing key\n",
    "\n",
    "# Create a dictionary\n",
    "inventory = {\n",
    "    \"apples\": 10,\n",
    "    \"bananas\": 5,\n",
    "    \"oranges\": 8\n",
    "}\n",
    "\n",
    "# Add a new item\n",
    "inventory[\"grapes\"] = 15\n",
    "print(\"After adding grapes:\", inventory)\n",
    "\n",
    "# Update an item\n",
    "inventory[\"apples\"] = 12\n",
    "print(\"After updating apples:\", inventory)\n",
    "\n",
    "# Remove an item\n",
    "del inventory[\"bananas\"]\n",
    "print(\"After removing bananas:\", inventory)\n",
    "\n",
    "# Dictionary of items and prices\n",
    "items = {\n",
    "    \"bread\": 2.5,\n",
    "    \"milk\": 1.5,\n",
    "    \"eggs\": 3.0\n",
    "}\n",
    "\n",
    "# Iterate over keys\n",
    "print(\"Items:\")\n",
    "for item in items:\n",
    "    print(item)\n",
    "\n",
    "# Iterate over keys and values\n",
    "print(\"\\nItems with prices:\")\n",
    "for item, price in items.items():\n",
    "    print(f\"{item}: ${price}\")\n",
    "\n",
    "# Nested dictionary\n",
    "employees = {\n",
    "    101: {\"name\": \"Alice\", \"position\": \"Manager\"},\n",
    "    102: {\"name\": \"Bob\", \"position\": \"Developer\"},\n",
    "    103: {\"name\": \"Charlie\", \"position\": \"Designer\"}\n",
    "}\n",
    "\n",
    "# Access nested values\n",
    "print(\"Employee 101:\", employees[101])\n",
    "print(\"Employee 102's position:\", employees[102][\"position\"])\n",
    "\n",
    "# Count frequency of elements in a list\n",
    "colors = [\"red\", \"blue\", \"red\", \"green\", \"blue\", \"blue\"]\n",
    "\n",
    "# Use a dictionary for counting\n",
    "frequency = {}\n",
    "for color in colors:\n",
    "    frequency[color] = frequency.get(color, 0) + 1\n",
    "\n",
    "print(\"Color frequencies:\", frequency)\n",
    "\n",
    "# Two dictionaries\n",
    "dict1 = {\"a\": 1, \"b\": 2}\n",
    "dict2 = {\"b\": 3, \"c\": 4}\n",
    "\n",
    "# Merge using the `update()` method\n",
    "dict1.update(dict2)\n",
    "print(\"Merged dictionary:\", dict1)\n"
   ]
  },
  {
   "cell_type": "markdown",
   "id": "45a5117b-a47f-4d07-a03e-cbb384e78e18",
   "metadata": {},
   "source": [
    "### OOP Concepts"
   ]
  },
  {
   "cell_type": "code",
   "execution_count": 17,
   "id": "0513ea02-a882-493d-9de1-2d087681f512",
   "metadata": {},
   "outputs": [
    {
     "name": "stdout",
     "output_type": "stream",
     "text": [
      "I am making a call\n"
     ]
    }
   ],
   "source": [
    "class Phone:\n",
    "    def make_call(self):\n",
    "        print(\"I am making a call\")\n",
    "    def play_game(self):\n",
    "        print(\"I am playing a game\")\n",
    "p1 = Phone()\n",
    "p1.make_call()\n",
    "\n"
   ]
  },
  {
   "cell_type": "code",
   "execution_count": null,
   "id": "660a13cf-7f44-4192-bf58-07f90bd0b544",
   "metadata": {},
   "outputs": [],
   "source": []
  }
 ],
 "metadata": {
  "kernelspec": {
   "display_name": "Python 3 (ipykernel)",
   "language": "python",
   "name": "python3"
  },
  "language_info": {
   "codemirror_mode": {
    "name": "ipython",
    "version": 3
   },
   "file_extension": ".py",
   "mimetype": "text/x-python",
   "name": "python",
   "nbconvert_exporter": "python",
   "pygments_lexer": "ipython3",
   "version": "3.11.7"
  }
 },
 "nbformat": 4,
 "nbformat_minor": 5
}
