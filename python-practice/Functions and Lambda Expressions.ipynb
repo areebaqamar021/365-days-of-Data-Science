{
 "cells": [
  {
   "cell_type": "markdown",
   "id": "be6f8b1a-cdcc-4a2b-ae8c-e84309ca1db2",
   "metadata": {},
   "source": []
  }
 ],
 "metadata": {
  "kernelspec": {
   "display_name": "Python 3 (ipykernel)",
   "language": "python",
   "name": "python3"
  },
  "language_info": {
   "codemirror_mode": {
    "name": "ipython",
    "version": 3
   },
   "file_extension": ".py",
   "mimetype": "text/x-python",
   "name": "python",
   "nbconvert_exporter": "python",
   "pygments_lexer": "ipython3",
   "version": "3.11.7"
  }
 },
 "nbformat": 4,
 "nbformat_minor": 5
}
