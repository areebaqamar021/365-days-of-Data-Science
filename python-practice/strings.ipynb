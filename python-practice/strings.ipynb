{
 "cells": [
  {
   "cell_type": "code",
   "execution_count": 1,
   "id": "f489f9b4-fa4d-4b5e-be60-3e176b54da5c",
   "metadata": {},
   "outputs": [
    {
     "name": "stdout",
     "output_type": "stream",
     "text": [
      "Address using + operator: 13 patli gali\n",
      "New Delhi\n",
      "India\n",
      "Address using f-string: 13 patli gali\n",
      "New Delhi\n",
      "India\n"
     ]
    }
   ],
   "source": [
    "# 1. Create 3 variables to store street, city and country, now create address variable to\n",
    "# store entire address. Use two ways of creating this variable, one using + operator and the other using f-string.\n",
    "# Now Print the address in such a way that the street, city and country prints in a separate line\n",
    "street = \"13 patli gali\"\n",
    "city = \"New Delhi\"\n",
    "country = \"India\"\n",
    "address = street + '\\n' + city + '\\n' + country\n",
    "print(\"Address using + operator:\",address)\n",
    "address = f'{street}\\n{city}\\n{country}'\n",
    "print(\"Address using f-string:\",address)"
   ]
  },
  {
   "cell_type": "code",
   "execution_count": null,
   "id": "33dff641-720f-4e48-afca-53a34eea3370",
   "metadata": {},
   "outputs": [],
   "source": []
  }
 ],
 "metadata": {
  "kernelspec": {
   "display_name": "Python 3 (ipykernel)",
   "language": "python",
   "name": "python3"
  },
  "language_info": {
   "codemirror_mode": {
    "name": "ipython",
    "version": 3
   },
   "file_extension": ".py",
   "mimetype": "text/x-python",
   "name": "python",
   "nbconvert_exporter": "python",
   "pygments_lexer": "ipython3",
   "version": "3.11.7"
  }
 },
 "nbformat": 4,
 "nbformat_minor": 5
}
