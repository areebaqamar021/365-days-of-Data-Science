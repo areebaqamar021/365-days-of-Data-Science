{
 "cells": [
  {
   "cell_type": "code",
   "execution_count": 5,
   "id": "7505a757-ce8a-4c8c-be8f-7b385a33e751",
   "metadata": {},
   "outputs": [
    {
     "name": "stdin",
     "output_type": "stream",
     "text": [
      "Enter city name:  islamabad\n"
     ]
    },
    {
     "name": "stdout",
     "output_type": "stream",
     "text": [
      "islamabad is in pakistan\n"
     ]
    }
   ],
   "source": [
    "india = [\"mumbai\", \"banglore\", \"chennai\", \"delhi\"]\n",
    "pakistan = [\"lahore\", \"karachi\", \"islamabad\"]\n",
    "bangladesh = [\"dhaka\", \"khulna\", \"rangpur\"]\n",
    "\n",
    "city = input(\"Enter city name: \")\n",
    "\n",
    "if city in india:\n",
    "    print(f\"{city} is in india\")\n",
    "elif city in pakistan:\n",
    "    print(f\"{city} is in pakistan\")\n",
    "elif city in bangladesh:\n",
    "    print(f\"{city} is in bangladesh\")\n",
    "else:\n",
    "    print(f\"I won't be able to tell you which country {city} is in! Sorry!\")"
   ]
  },
  {
   "cell_type": "code",
   "execution_count": 11,
   "id": "ff951a01-6224-493b-9484-c7333863d221",
   "metadata": {},
   "outputs": [
    {
     "name": "stdin",
     "output_type": "stream",
     "text": [
      "Please enter your fasting sugar level: 110\n"
     ]
    },
    {
     "name": "stdout",
     "output_type": "stream",
     "text": [
      "Your sugar is high, stop eating all mithais..!\n"
     ]
    }
   ],
   "source": [
    "sugar=input(\"Please enter your fasting sugar level:\")\n",
    "sugar=float(sugar)\n",
    "if sugar<80:\n",
    "    print(\"Your sugar is low, go eat some jalebi :)\")\n",
    "elif sugar>100:\n",
    "    print(\"Your sugar is high, stop eating all mithais..!\")\n",
    "else:\n",
    "    print(\"Your sugar is normal, relax and enjoy your life!\")"
   ]
  }
 ],
 "metadata": {
  "kernelspec": {
   "display_name": "Python 3 (ipykernel)",
   "language": "python",
   "name": "python3"
  },
  "language_info": {
   "codemirror_mode": {
    "name": "ipython",
    "version": 3
   },
   "file_extension": ".py",
   "mimetype": "text/x-python",
   "name": "python",
   "nbconvert_exporter": "python",
   "pygments_lexer": "ipython3",
   "version": "3.11.7"
  }
 },
 "nbformat": 4,
 "nbformat_minor": 5
}
