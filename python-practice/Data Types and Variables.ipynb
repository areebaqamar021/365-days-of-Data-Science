{
 "cells": [
  {
   "cell_type": "markdown",
   "id": "317c582c-a414-42ae-948f-26f1d1b92f4e",
   "metadata": {},
   "source": [
    "## Data Types and Variables"
   ]
  },
  {
   "cell_type": "markdown",
   "id": "27918432-8c4f-41a9-8265-5be670f57d9a",
   "metadata": {},
   "source": [
    "#### Create a program to calculate compound interest using different numeric types"
   ]
  },
  {
   "cell_type": "code",
   "execution_count": 1,
   "id": "abe44fec-8b44-4a79-92dc-f3bef3afb1e7",
   "metadata": {},
   "outputs": [
    {
     "name": "stdin",
     "output_type": "stream",
     "text": [
      "Enter the principal amount:  1000\n",
      "Enter the interest rate (%):  10\n",
      "Enter the time period (years):  2\n",
      "Enter number of times interest is compounded per year:  24\n"
     ]
    },
    {
     "name": "stdout",
     "output_type": "stream",
     "text": [
      "Final amount after 2.0 years: $1220.9\n"
     ]
    }
   ],
   "source": [
    "def calculate_compound_interest(principal: float, rate: float, time: float, compounds_per_year: int) -> float:\n",
    "    \"\"\"\n",
    "    Calculate compound interest with given parameters\n",
    "    \"\"\"\n",
    "    # Convert rate to decimal (e.g., 5% becomes 0.05)\n",
    "    rate = rate / 100\n",
    "    \n",
    "    # Compound interest formula: A = P(1 + r/n)^(nt)\n",
    "    # Where: A = final amount, P = principal, r = rate, n = compounds per year, t = time\n",
    "    amount = principal * (1 + rate/compounds_per_year)**(compounds_per_year * time)\n",
    "    \n",
    "    return round(amount, 2)\n",
    "\n",
    "# Example usage\n",
    "principal = float(input(\"Enter the principal amount: \"))\n",
    "rate = float(input(\"Enter the interest rate (%): \"))\n",
    "time = float(input(\"Enter the time period (years): \"))\n",
    "compounds = int(input(\"Enter number of times interest is compounded per year: \"))\n",
    "\n",
    "final_amount = calculate_compound_interest(principal, rate, time, compounds)\n",
    "print(f\"Final amount after {time} years: ${final_amount}\")"
   ]
  },
  {
   "cell_type": "markdown",
   "id": "d3b5d2a8-5519-43c8-88d2-d07ddb2064cc",
   "metadata": {},
   "source": [
    "#### Build a temperature converter that handles Celsius, Fahrenheit, and Kelvin"
   ]
  },
  {
   "cell_type": "code",
   "execution_count": 4,
   "id": "042a0dbd-1b2b-490e-b20c-b6a984472e07",
   "metadata": {},
   "outputs": [
    {
     "name": "stdout",
     "output_type": "stream",
     "text": [
      "\n",
      "Temperature Converter\n",
      "1. Celsius to Fahrenheit\n",
      "2. Fahrenheit to Celsius\n",
      "3. Celsius to Kelvin\n",
      "4. Kelvin to Celsius\n"
     ]
    },
    {
     "name": "stdin",
     "output_type": "stream",
     "text": [
      "Enter your choice (1-4):  3\n",
      "Enter temperature:  27.3\n"
     ]
    },
    {
     "name": "stdout",
     "output_type": "stream",
     "text": [
      "27.3°C = 300.45K\n"
     ]
    }
   ],
   "source": [
    "def temp_converter():\n",
    "    print(\"\\nTemperature Converter\")\n",
    "    print(\"1. Celsius to Fahrenheit\")\n",
    "    print(\"2. Fahrenheit to Celsius\")\n",
    "    print(\"3. Celsius to Kelvin\")\n",
    "    print(\"4. Kelvin to Celsius\")\n",
    "    \n",
    "    choice = int(input(\"Enter your choice (1-4): \"))\n",
    "    temp = float(input(\"Enter temperature: \"))\n",
    "    \n",
    "    if choice == 1:\n",
    "        # C to F: (C × 9/5) + 32\n",
    "        # Formula: Fahrenheit = (Celsius × 9/5) + 32\n",
    "        result = (temp * 9 / 5) + 32\n",
    "        print(f\"{temp}°C = {result}°F\")\n",
    "    elif choice == 2:\n",
    "        # F to C: (F - 32) × 5/9\n",
    "        # Formula: Celsius = (Fahrenheit - 32) × 5/9\n",
    "        result = (temp - 32) * 5 / 9\n",
    "        print(f\"{temp}°F = {result}°C\")\n",
    "    elif choice == 3:\n",
    "        # C to K: C + 273.15\n",
    "        # Formula: Kelvin = Celsius + 273.15\n",
    "        result = temp + 273.15\n",
    "        print(f\"{temp}°C = {result}K\")\n",
    "    elif choice == 4:\n",
    "        # K to C: K - 273.15\n",
    "        # Formula: Celsius = Kelvin - 273.15\n",
    "        result = temp - 273.15\n",
    "        print(f\"{temp}K = {result}°C\")\n",
    "    else:\n",
    "        print(\"Invalid choice!\")\n",
    "\n",
    "# Run the converter\n",
    "temp_converter()"
   ]
  },
  {
   "cell_type": "markdown",
   "id": "0b0bca45-f2b4-40be-8277-ae57265e4cb6",
   "metadata": {},
   "source": [
    "#### Create a student grading system with various data types"
   ]
  },
  {
   "cell_type": "code",
   "execution_count": 5,
   "id": "4efacc5a-04c3-44d3-beca-c7607ce35374",
   "metadata": {},
   "outputs": [
    {
     "name": "stdin",
     "output_type": "stream",
     "text": [
      "Enter student name:  Areeba Qamar\n",
      "Enter grade (or 'done' to finish):  95\n"
     ]
    },
    {
     "name": "stdout",
     "output_type": "stream",
     "text": [
      "Grade added successfully\n"
     ]
    },
    {
     "name": "stdin",
     "output_type": "stream",
     "text": [
      "Enter grade (or 'done' to finish):  done\n"
     ]
    },
    {
     "name": "stdout",
     "output_type": "stream",
     "text": [
      "\n",
      "Student: Areeba Qamar\n",
      "Average: 95.00\n",
      "Letter Grade: A\n"
     ]
    }
   ],
   "source": [
    "class Student:\n",
    "    def __init__(self, name: str):\n",
    "        self.name = name\n",
    "        self.grades = []\n",
    "    \n",
    "    def add_grade(self, grade: float):\n",
    "        if 0 <= grade <= 100:\n",
    "            self.grades.append(grade)\n",
    "            return True\n",
    "        return False\n",
    "    \n",
    "    def get_average(self) -> float:\n",
    "        if not self.grades:\n",
    "            return 0\n",
    "        return sum(self.grades) / len(self.grades)\n",
    "    \n",
    "    def get_letter_grade(self) -> str:\n",
    "        average = self.get_average()\n",
    "        if average >= 90:\n",
    "            return 'A'\n",
    "        elif average >= 80:\n",
    "            return 'B'\n",
    "        elif average >= 70:\n",
    "            return 'C'\n",
    "        elif average >= 60:\n",
    "            return 'D'\n",
    "        else:\n",
    "            return 'F'\n",
    "\n",
    "# Example usage\n",
    "def main():\n",
    "    student = Student(input(\"Enter student name: \"))\n",
    "    \n",
    "    while True:\n",
    "        grade = input(\"Enter grade (or 'done' to finish): \")\n",
    "        if grade.lower() == 'done':\n",
    "            break\n",
    "        \n",
    "        if student.add_grade(float(grade)):\n",
    "            print(\"Grade added successfully\")\n",
    "        else:\n",
    "            print(\"Invalid grade! Please enter a number between 0 and 100\")\n",
    "    \n",
    "    print(f\"\\nStudent: {student.name}\")\n",
    "    print(f\"Average: {student.get_average():.2f}\")\n",
    "    print(f\"Letter Grade: {student.get_letter_grade()}\")\n",
    "\n",
    "main()"
   ]
  },
  {
   "cell_type": "markdown",
   "id": "e7b2c58c-8241-4398-ba92-d6bd9a92d5f4",
   "metadata": {},
   "source": [
    "#### Currency Converter: "
   ]
  },
  {
   "cell_type": "code",
   "execution_count": 8,
   "id": "2f92c9d1-2684-48bb-9ddb-07af8d7dd239",
   "metadata": {},
   "outputs": [
    {
     "name": "stdout",
     "output_type": "stream",
     "text": [
      "\n",
      "Available currencies: USD, EUR, GBP, JPY\n"
     ]
    },
    {
     "name": "stdin",
     "output_type": "stream",
     "text": [
      "Convert from (e.g., USD):  USD\n",
      "Convert to (e.g., EUR):  GBP\n",
      "Enter amount:  1050\n"
     ]
    },
    {
     "name": "stdout",
     "output_type": "stream",
     "text": [
      "1050 USD = 766.50 GBP\n"
     ]
    }
   ],
   "source": [
    "from decimal import Decimal, ROUND_HALF_UP\n",
    "\n",
    "def currency_converter():\n",
    "    # Example exchange rates (in real application, these would be fetched from an API)\n",
    "    rates = {\n",
    "        'USD': Decimal('1.0'),\n",
    "        'EUR': Decimal('0.85'),\n",
    "        'GBP': Decimal('0.73'),\n",
    "        'JPY': Decimal('110.0')\n",
    "    }\n",
    "    \n",
    "    print(\"\\nAvailable currencies:\", ', '.join(rates.keys()))\n",
    "    \n",
    "    from_currency = input(\"Convert from (e.g., USD): \").upper()\n",
    "    to_currency = input(\"Convert to (e.g., EUR): \").upper()\n",
    "    \n",
    "    if from_currency not in rates or to_currency not in rates:\n",
    "        print(\"Invalid currency!\")\n",
    "        return\n",
    "    \n",
    "    amount = Decimal(input(\"Enter amount: \"))\n",
    "    \n",
    "    # Convert to USD first (if not already USD)\n",
    "    usd_amount = amount / rates[from_currency]\n",
    "    \n",
    "    # Convert from USD to target currency\n",
    "    result = usd_amount * rates[to_currency]\n",
    "    \n",
    "    # Round to 2 decimal places\n",
    "    result = result.quantize(Decimal('0.01'), rounding=ROUND_HALF_UP)\n",
    "    \n",
    "    print(f\"{amount} {from_currency} = {result} {to_currency}\")\n",
    "\n",
    "# Run the converter\n",
    "currency_converter()"
   ]
  },
  {
   "cell_type": "markdown",
   "id": "0fc14856-c729-4481-bfdc-cd728d1e9362",
   "metadata": {},
   "source": [
    "#### Simple BMI Calculator:"
   ]
  },
  {
   "cell_type": "code",
   "execution_count": 15,
   "id": "8b9680b5-aa54-4ef3-b7d3-1a5f5adf8666",
   "metadata": {},
   "outputs": [
    {
     "name": "stdin",
     "output_type": "stream",
     "text": [
      "Enter height unit (cm/m/ft):  ft\n",
      "Enter weight unit (kg/lbs):  kg\n",
      "Enter height:  5\n",
      "Enter weight:  40\n"
     ]
    },
    {
     "name": "stdout",
     "output_type": "stream",
     "text": [
      "\n",
      "Your BMI is: 17.2\n",
      "Category: Underweight\n"
     ]
    }
   ],
   "source": [
    "def calculate_bmi():\n",
    "    try:\n",
    "        # Get input with unit selection\n",
    "        height_unit = input(\"Enter height unit (cm/m/ft): \").lower()\n",
    "        weight_unit = input(\"Enter weight unit (kg/lbs): \").lower()\n",
    "        \n",
    "        # Get measurements\n",
    "        height = float(input(\"Enter height: \"))\n",
    "        weight = float(input(\"Enter weight: \"))\n",
    "        \n",
    "        # Convert height to meters\n",
    "        if height_unit == 'cm':\n",
    "            height = height / 100\n",
    "        elif height_unit == 'ft':\n",
    "            height = height * 0.3048\n",
    "        elif height_unit != 'm':\n",
    "            raise ValueError(\"Invalid height unit\")\n",
    "        \n",
    "        # Convert weight to kg\n",
    "        if weight_unit == 'lbs':\n",
    "            weight = weight * 0.45359237\n",
    "        elif weight_unit != 'kg':\n",
    "            raise ValueError(\"Invalid weight unit\")\n",
    "        \n",
    "        # Calculate BMI\n",
    "        bmi = weight / (height * height)\n",
    "        \n",
    "        # Determine BMI category\n",
    "        if bmi < 18.5:\n",
    "            category = \"Underweight\"\n",
    "        elif bmi < 25:\n",
    "            category = \"Normal weight\"\n",
    "        elif bmi < 30:\n",
    "            category = \"Overweight\"\n",
    "        else:\n",
    "            category = \"Obese\"\n",
    "        \n",
    "        print(f\"\\nYour BMI is: {bmi:.1f}\")\n",
    "        print(f\"Category: {category}\")\n",
    "        \n",
    "    except ValueError as e:\n",
    "        print(f\"Error: {e}\")\n",
    "        print(\"Please enter valid numbers and units\")\n",
    "\n",
    "# Run the calculator\n",
    "calculate_bmi()"
   ]
  },
  {
   "cell_type": "code",
   "execution_count": null,
   "id": "9bfd392e-72ed-4fac-a084-656322678992",
   "metadata": {},
   "outputs": [],
   "source": []
  }
 ],
 "metadata": {
  "kernelspec": {
   "display_name": "Python 3 (ipykernel)",
   "language": "python",
   "name": "python3"
  },
  "language_info": {
   "codemirror_mode": {
    "name": "ipython",
    "version": 3
   },
   "file_extension": ".py",
   "mimetype": "text/x-python",
   "name": "python",
   "nbconvert_exporter": "python",
   "pygments_lexer": "ipython3",
   "version": "3.11.7"
  }
 },
 "nbformat": 4,
 "nbformat_minor": 5
}
