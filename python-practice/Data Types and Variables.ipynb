{
 "cells": [
  {
   "cell_type": "markdown",
   "id": "317c582c-a414-42ae-948f-26f1d1b92f4e",
   "metadata": {},
   "source": [
    "## Data Types and Variables"
   ]
  },
  {
   "cell_type": "markdown",
   "id": "c54c568c-0033-4f2c-8702-ffd1e81d10b1",
   "metadata": {},
   "source": [
    "### 1. Integers"
   ]
  },
  {
   "cell_type": "markdown",
   "id": "86a9a168-4ac4-4246-b4e2-9a5f99c8b334",
   "metadata": {},
   "source": [
    "Problem 1: Sum of Digits\n",
    "Write a program to calculate the sum of digits of an integer."
   ]
  },
  {
   "cell_type": "code",
   "execution_count": 18,
   "id": "166f9941-a98a-47ad-82c6-acee3112bc4f",
   "metadata": {},
   "outputs": [
    {
     "name": "stdout",
     "output_type": "stream",
     "text": [
      "Sum of digits: $ 15\n"
     ]
    }
   ],
   "source": [
    "numbers = 12345\n",
    "sum_of_digits = 0\n",
    "\n",
    "while numbers > 0:\n",
    "    digit = numbers % 10\n",
    "    sum_of_digits += digit\n",
    "    numbers //= 10\n",
    "\n",
    "print(\"Sum of digits: $\", sum_of_digits)"
   ]
  },
  {
   "cell_type": "markdown",
   "id": "bb2888e6-d533-4334-95b4-d51ced4b9fb1",
   "metadata": {},
   "source": [
    "Problem 2: Factorial\n",
    "Find the factorial of a number (e.g., 5! = 5 * 4 * 3 * 2 * 1)."
   ]
  },
  {
   "cell_type": "code",
   "execution_count": null,
   "id": "a68d7f42-a0e6-4e44-9b24-0cc21a82d3e2",
   "metadata": {},
   "outputs": [],
   "source": [
    "number = 1\n",
    "factorial = 5\n",
    "\n",
    "for i in range()"
   ]
  },
  {
   "cell_type": "markdown",
   "id": "6a5067eb-38e2-481e-84aa-80e0e919c27c",
   "metadata": {},
   "source": [
    "Write a Python program to calculate the total bill (including tax and tip) for a restaurant meal.\n",
    "\n",
    "- Meal cost: $89.99\n",
    "- Tax rate: 8.25%\n",
    "- Tip percentage: 15%"
   ]
  },
  {
   "cell_type": "code",
   "execution_count": 5,
   "id": "acc35b7b-309c-4459-b3c2-85b9dcfa0a4a",
   "metadata": {},
   "outputs": [
    {
     "name": "stdout",
     "output_type": "stream",
     "text": [
      "Total bill : $ 110.91\n"
     ]
    }
   ],
   "source": [
    "meal_cost = 89.99\n",
    "tax_rate = 8.25/100\n",
    "tip_percentage = 15/100\n",
    "\n",
    "tax_amount = meal_cost * tax_rate\n",
    "tip_amount = meal_cost * tip_percentage\n",
    "\n",
    "total_bill = meal_cost + tax_amount + tip_amount\n",
    "print(\"Total bill : $\", round(total_bill, 2))"
   ]
  }
 ],
 "metadata": {
  "kernelspec": {
   "display_name": "Python 3 (ipykernel)",
   "language": "python",
   "name": "python3"
  },
  "language_info": {
   "codemirror_mode": {
    "name": "ipython",
    "version": 3
   },
   "file_extension": ".py",
   "mimetype": "text/x-python",
   "name": "python",
   "nbconvert_exporter": "python",
   "pygments_lexer": "ipython3",
   "version": "3.11.7"
  }
 },
 "nbformat": 4,
 "nbformat_minor": 5
}
