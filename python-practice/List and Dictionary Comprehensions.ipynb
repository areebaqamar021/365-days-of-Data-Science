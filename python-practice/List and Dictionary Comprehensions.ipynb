{
 "cells": [
  {
   "cell_type": "markdown",
   "id": "ef601986-d55e-49d0-8e38-58a5c7656800",
   "metadata": {},
   "source": [
    "### Write a list comprehension that creates a list of tuples (number, square, cube) for numbers 1 through n."
   ]
  },
  {
   "cell_type": "code",
   "execution_count": 8,
   "id": "a54686b9-65c8-4d36-aa4b-4d6931e50fea",
   "metadata": {},
   "outputs": [
    {
     "name": "stdout",
     "output_type": "stream",
     "text": [
      "[(1, 1, 1), (2, 4, 8), (3, 9, 27), (4, 16, 64), (5, 25, 125)]\n"
     ]
    }
   ],
   "source": [
    "# Define the range of numbers\n",
    "n = 5  \n",
    "# Create an empty list to store the tuples\n",
    "result = []  \n",
    "for x in range(1, n + 1):  # Loop from 1 to n (inclusive)\n",
    "    result.append((x, x**2, x**3))  # Add the tuple (number, square, cube) to the list\n",
    "print(result)  # Print the list of tuples"
   ]
  },
  {
   "cell_type": "markdown",
   "id": "15c02de3-123d-4703-96a3-9b58003e412a",
   "metadata": {},
   "source": [
    "### Create a dictionary comprehension that takes a string and maps each unique character to its frequency."
   ]
  },
  {
   "cell_type": "code",
   "execution_count": 10,
   "id": "9906ec59-b601-402a-8888-0fd9adba4c7f",
   "metadata": {},
   "outputs": [
    {
     "name": "stdout",
     "output_type": "stream",
     "text": [
      "{'h': 1, 'e': 1, 'l': 2, 'o': 1}\n"
     ]
    }
   ],
   "source": [
    "# Define the input string\n",
    "string = \"hello\"  \n",
    "# Create an empty dictionary to store frequencies\n",
    "frequency = {}  \n",
    "for char in string:  # Loop through each character in the string\n",
    "    if char in frequency:  \n",
    "        frequency[char] += 1  # If the character is already in the dictionary, increase its count\n",
    "    else:  \n",
    "        frequency[char] = 1  # If the character is not in the dictionary, set its count to 1\n",
    "print(frequency)  # Print the character frequency dictionary"
   ]
  },
  {
   "cell_type": "markdown",
   "id": "2b7e9b75-734c-4f29-93c6-73fc69ad2ec3",
   "metadata": {},
   "source": [
    "### Write a list comprehension that filters a list of strings to include only palindromes."
   ]
  },
  {
   "cell_type": "code",
   "execution_count": 15,
   "id": "fe8f2659-3d35-4818-88d2-836bfd5e0300",
   "metadata": {},
   "outputs": [
    {
     "name": "stdout",
     "output_type": "stream",
     "text": [
      "['madam', 'racecar']\n"
     ]
    }
   ],
   "source": [
    "# Define a list of words\n",
    "words = [\"hello\", \"madam\", \"python\", \"racecar\"]  \n",
    "# Create an empty list to store palindromes\n",
    "palindromes = []  \n",
    "for word in words:  # Loop through each word in the list\n",
    "    if word == word[::-1]:  # Check if the word is the same when reversed\n",
    "        palindromes.append(word)  # Add the word to the list of palindromes\n",
    "print(palindromes)  # Print the list of palindromes"
   ]
  },
  {
   "cell_type": "markdown",
   "id": "7dbff276-2152-4102-9385-1ddd22c78d37",
   "metadata": {},
   "source": [
    "### Create a dictionary comprehension that takes a list of words and maps each word to its length, but only for words longer than 3 characters."
   ]
  },
  {
   "cell_type": "code",
   "execution_count": 18,
   "id": "7a097bad-0f8f-4ed0-962a-61be5e2a7d8a",
   "metadata": {},
   "outputs": [
    {
     "name": "stdout",
     "output_type": "stream",
     "text": [
      "{'hello': 5, 'elephant': 8}\n"
     ]
    }
   ],
   "source": [
    "# Define a list of words\n",
    "words = [\"hi\", \"hello\", \"cat\", \"elephant\"]  \n",
    "# Create an empty dictionary to store word lengths\n",
    "word_lengths = {}  \n",
    "for word in words:  # Loop through each word in the list\n",
    "    if len(word) > 3:  # Check if the word length is greater than 3\n",
    "        word_lengths[word] = len(word)  # Map the word to its length in the dictionary\n",
    "print(word_lengths)  # Print the dictionary of word lengths"
   ]
  },
  {
   "cell_type": "markdown",
   "id": "8032c055-9557-4455-a971-acc828afc613",
   "metadata": {},
   "source": [
    "### Write nested list comprehensions to flatten a 3D list into a 1D list."
   ]
  },
  {
   "cell_type": "code",
   "execution_count": null,
   "id": "6d983216-d550-44d4-8ccf-bc5784a5566d",
   "metadata": {},
   "outputs": [
    {
     "name": "stdout",
     "output_type": "stream",
     "text": [
      "[1, 2, 3, 4, 5, 6, 7, 8]\n"
     ]
    }
   ],
   "source": [
    "# Define a 3D list\n",
    "three_d_list = [ \n",
    "    [[1, 2], [3, 4]],  # First 2D sublist\n",
    "    [[5, 6], [7, 8]],  # Second 2D sublist\n",
    "]  \n",
    "# Create an empty list to store the flattened items\n",
    "flattened = []  \n",
    "for sublist1 in three_d_list:  # Loop through each 2D sublist\n",
    "    for sublist2 in sublist1:  # Loop through each 1D sublist in the 2D sublist\n",
    "        for item in sublist2:  # Loop through each item in the 1D sublist\n",
    "            flattened.append(item)  # Add the item to the flattened list\n",
    "print(flattened)  # Print the flattened 1D list"
   ]
  }
 ],
 "metadata": {
  "kernelspec": {
   "display_name": "Python 3 (ipykernel)",
   "language": "python",
   "name": "python3"
  },
  "language_info": {
   "codemirror_mode": {
    "name": "ipython",
    "version": 3
   },
   "file_extension": ".py",
   "mimetype": "text/x-python",
   "name": "python",
   "nbconvert_exporter": "python",
   "pygments_lexer": "ipython3",
   "version": "3.11.7"
  }
 },
 "nbformat": 4,
 "nbformat_minor": 5
}
