{
 "cells": [
  {
   "cell_type": "markdown",
   "id": "4b6b8966-5d5c-4953-bb16-c33366fb9512",
   "metadata": {},
   "source": [
    "# Hyperparameter Tuning Techniques"
   ]
  },
  {
   "cell_type": "code",
   "execution_count": 5,
   "id": "09af2746-c990-454f-b6e3-72917523a649",
   "metadata": {},
   "outputs": [],
   "source": [
    "# Import necessary libraries\n",
    "import pandas as pd\n",
    "import numpy as np\n",
    "import matplotlib.pyplot as plt\n",
    "import seaborn as sns\n",
    "from sklearn.datasets import make_regression, make_classification\n",
    "from sklearn.model_selection import train_test_split, RandomizedSearchCV, GridSearchCV\n",
    "from sklearn.experimental import enable_halving_search_cv  # Enable halving search\n",
    "from sklearn.model_selection import HalvingGridSearchCV\n",
    "from sklearn.ensemble import RandomForestClassifier, RandomForestRegressor\n",
    "from sklearn.svm import SVC, SVR\n",
    "from sklearn.metrics import accuracy_score, mean_squared_error\n",
    "\n",
    "# Configure plots\n",
    "sns.set(style=\"whitegrid\")"
   ]
  },
  {
   "cell_type": "markdown",
   "id": "dceb17a7-ad30-4cd9-9563-9c96d99b2dc1",
   "metadata": {},
   "source": [
    "## Create Datasets"
   ]
  },
  {
   "cell_type": "code",
   "execution_count": 17,
   "id": "6ad4a131-988e-4fe2-9f7b-92c44c6a9818",
   "metadata": {},
   "outputs": [],
   "source": [
    "# Generate a synthetic classification dataset\n",
    "X_class, y_class = make_classification(n_samples=1000, n_features=20, n_informative=15, n_classes=3, random_state=42)\n",
    "\n",
    "# Generate a synthetic regression dataset\n",
    "X_reg, y_reg = make_regression(n_samples=1000, n_features=20, noise=0.1, random_state=42)\n",
    "\n",
    "# Split datasets into training and test sets\n",
    "X_class_train, X_class_test, y_class_train, y_class_test = train_test_split(X_class, y_class, test_size=0.3, random_state=42)\n",
    "X_reg_train, X_reg_test, y_reg_train, y_reg_test = train_test_split(X_reg, y_reg, test_size=0.3, random_state=42)"
   ]
  },
  {
   "cell_type": "markdown",
   "id": "6b051934-0dd0-439c-a632-d546ba89ca69",
   "metadata": {},
   "source": [
    "## Manual Search"
   ]
  },
  {
   "cell_type": "code",
   "execution_count": 19,
   "id": "ee55c64c-1464-4d2e-9c76-532e019a14f0",
   "metadata": {},
   "outputs": [
    {
     "name": "stdout",
     "output_type": "stream",
     "text": [
      "Manual Search Accuracy: 0.75\n"
     ]
    }
   ],
   "source": [
    "# Manual search for hyperparameter tuning\n",
    "manual_model = RandomForestClassifier(n_estimators=100, max_depth=10, random_state=42)\n",
    "manual_model.fit(X_class_train, y_class_train)\n",
    "y_class_pred = manual_model.predict(X_class_test)\n",
    "accuracy = accuracy_score(y_class_test, y_class_pred)\n",
    "\n",
    "print(f\"Manual Search Accuracy: {accuracy:.2f}\")"
   ]
  },
  {
   "cell_type": "markdown",
   "id": "87260949-7922-45bb-ab2a-83bcdd41e1dd",
   "metadata": {},
   "source": [
    "## Random Search"
   ]
  },
  {
   "cell_type": "code",
   "execution_count": 21,
   "id": "afcd3cb0-6da2-48f0-a430-b8b5cd413085",
   "metadata": {},
   "outputs": [
    {
     "name": "stdout",
     "output_type": "stream",
     "text": [
      "Best Parameters from Random Search: {'n_estimators': 200, 'min_samples_split': 2, 'max_depth': 20}\n",
      "Random Search Accuracy: 0.78\n"
     ]
    }
   ],
   "source": [
    "# Random search for hyperparameter tuning\n",
    "param_dist = {'n_estimators': [50, 100, 200],\n",
    "              'max_depth': [10, 20, None],\n",
    "              'min_samples_split': [2, 5, 10]}\n",
    "\n",
    "random_search = RandomizedSearchCV(RandomForestClassifier(random_state=42),\n",
    "                                   param_distributions=param_dist,\n",
    "                                   n_iter=10, cv=5, random_state=42)\n",
    "random_search.fit(X_class_train, y_class_train)\n",
    "\n",
    "print(f\"Best Parameters from Random Search: {random_search.best_params_}\")\n",
    "y_class_pred_rs = random_search.predict(X_class_test)\n",
    "print(f\"Random Search Accuracy: {accuracy_score(y_class_test, y_class_pred_rs):.2f}\")"
   ]
  },
  {
   "cell_type": "markdown",
   "id": "1a730a8e-a5c6-462e-be1a-a0948b04d16a",
   "metadata": {},
   "source": [
    "## Grid Search"
   ]
  },
  {
   "cell_type": "code",
   "execution_count": 24,
   "id": "e20c912a-8125-4d34-bba8-af3f5edf1b28",
   "metadata": {},
   "outputs": [
    {
     "name": "stdout",
     "output_type": "stream",
     "text": [
      "Best Parameters from Grid Search: {'max_depth': 10, 'n_estimators': 200}\n",
      "Grid Search Accuracy: 0.77\n"
     ]
    }
   ],
   "source": [
    "# Grid search for hyperparameter tuning\n",
    "param_grid = {'n_estimators': [50, 100, 200],\n",
    "              'max_depth': [10, 20, None]}\n",
    "\n",
    "grid_search = GridSearchCV(RandomForestClassifier(random_state=42), param_grid, cv=5)\n",
    "grid_search.fit(X_class_train, y_class_train)\n",
    "\n",
    "print(f\"Best Parameters from Grid Search: {grid_search.best_params_}\")\n",
    "y_class_pred_gs = grid_search.predict(X_class_test)\n",
    "print(f\"Grid Search Accuracy: {accuracy_score(y_class_test, y_class_pred_gs):.2f}\")"
   ]
  },
  {
   "cell_type": "markdown",
   "id": "02dafb89-8e88-48b7-b847-4dcee02507a9",
   "metadata": {},
   "source": [
    "## Halving Search"
   ]
  },
  {
   "cell_type": "code",
   "execution_count": 27,
   "id": "2e883b25-89ea-41e7-9458-1f9b1fa04590",
   "metadata": {},
   "outputs": [
    {
     "name": "stdout",
     "output_type": "stream",
     "text": [
      "Best Parameters from Halving Search: {'max_depth': 10, 'n_estimators': 200}\n",
      "Halving Search Accuracy: 0.77\n"
     ]
    }
   ],
   "source": [
    "# Halving search for hyperparameter tuning\n",
    "halving_search = HalvingGridSearchCV(RandomForestClassifier(random_state=42), param_grid, cv=5)\n",
    "halving_search.fit(X_class_train, y_class_train)\n",
    "\n",
    "print(f\"Best Parameters from Halving Search: {halving_search.best_params_}\")\n",
    "y_class_pred_hs = halving_search.predict(X_class_test)\n",
    "print(f\"Halving Search Accuracy: {accuracy_score(y_class_test, y_class_pred_hs):.2f}\")"
   ]
  },
  {
   "cell_type": "markdown",
   "id": "fafd7b59-2467-4689-9b38-bc2c219acfab",
   "metadata": {},
   "source": [
    "## Bayesian Optimization"
   ]
  },
  {
   "cell_type": "code",
   "execution_count": 34,
   "id": "c36ee253-6c23-4c93-8acf-09dc41ddfad8",
   "metadata": {},
   "outputs": [
    {
     "name": "stdout",
     "output_type": "stream",
     "text": [
      "Best Parameters from Bayesian Optimization: OrderedDict([('max_depth', 10), ('n_estimators', 200)])\n",
      "Bayesian Optimization Accuracy: 0.77\n"
     ]
    }
   ],
   "source": [
    "# Import necessary libraries for Bayesian optimization\n",
    "from skopt import BayesSearchCV\n",
    "\n",
    "# Bayesian search for hyperparameter tuning\n",
    "bayes_search = BayesSearchCV(RandomForestClassifier(random_state=42),\n",
    "                             search_spaces=param_grid,\n",
    "                             n_iter=10, cv=5, random_state=42)\n",
    "bayes_search.fit(X_class_train, y_class_train)\n",
    "\n",
    "print(f\"Best Parameters from Bayesian Optimization: {bayes_search.best_params_}\")\n",
    "y_class_pred_bo = bayes_search.predict(X_class_test)\n",
    "print(f\"Bayesian Optimization Accuracy: {accuracy_score(y_class_test, y_class_pred_bo):.2f}\")"
   ]
  },
  {
   "cell_type": "markdown",
   "id": "fbbf8a79-0bc1-4be4-abb1-cd558440e8ed",
   "metadata": {},
   "source": [
    "## Visualization of Model Performance"
   ]
  },
  {
   "cell_type": "code",
   "execution_count": 37,
   "id": "c7137dda-cf86-498c-9e8f-950e858521c2",
   "metadata": {},
   "outputs": [
    {
     "name": "stderr",
     "output_type": "stream",
     "text": [
      "C:\\Users\\areeb\\anaconda3\\Lib\\site-packages\\seaborn\\_oldcore.py:1765: FutureWarning: unique with argument that is not not a Series, Index, ExtensionArray, or np.ndarray is deprecated and will raise in a future version.\n",
      "  order = pd.unique(vector)\n"
     ]
    },
    {
     "data": {
      "image/png": "[encoded data removed]",
      "text/plain": [
       "<Figure size 1000x600 with 1 Axes>"
      ]
     },
     "metadata": {},
     "output_type": "display_data"
    }
   ],
   "source": [
    "# Plot model accuracy comparison\n",
    "accuracies = [accuracy_score(y_class_test, y_class_pred),\n",
    "              accuracy_score(y_class_test, y_class_pred_rs),\n",
    "              accuracy_score(y_class_test, y_class_pred_gs),\n",
    "              accuracy_score(y_class_test, y_class_pred_hs),\n",
    "              accuracy_score(y_class_test, y_class_pred_bo)]\n",
    "\n",
    "methods = ['Manual', 'Random Search', 'Grid Search', 'Halving Search', 'Bayesian Opt.']\n",
    "\n",
    "plt.figure(figsize=(10, 6))\n",
    "sns.barplot(x=methods, y=accuracies)\n",
    "plt.title('Comparison of Hyperparameter Tuning Techniques')\n",
    "plt.xlabel('Tuning Method')\n",
    "plt.ylabel('Accuracy')\n",
    "plt.ylim(0.7, 1.0)\n",
    "plt.show()"
   ]
  }
 ],
 "metadata": {
  "kernelspec": {
   "display_name": "Python 3 (ipykernel)",
   "language": "python",
   "name": "python3"
  },
  "language_info": {
   "codemirror_mode": {
    "name": "ipython",
    "version": 3
   },
   "file_extension": ".py",
   "mimetype": "text/x-python",
   "name": "python",
   "nbconvert_exporter": "python",
   "pygments_lexer": "ipython3",
   "version": "3.11.7"
  }
 },
 "nbformat": 4,
 "nbformat_minor": 5
}
