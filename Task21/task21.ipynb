{
 "cells": [
  {
   "cell_type": "markdown",
   "id": "94c29e62-c8dd-4a7b-9439-1cc800a02521",
   "metadata": {},
   "source": [
    "#  Linear algebra and calculus in NumPy"
   ]
  },
  {
   "cell_type": "markdown",
   "id": "86ade90f-e570-40ac-9a7f-1f04a6fcfb0f",
   "metadata": {},
   "source": [
    "## Linear Algebra Tasks"
   ]
  },
  {
   "cell_type": "markdown",
   "id": "00b82b1f-bdbf-4483-a3cb-f437a2967547",
   "metadata": {},
   "source": [
    "### 1. Matrix Creation and Manipulation"
   ]
  },
  {
   "cell_type": "code",
   "execution_count": 12,
   "id": "2fee0062-1671-46a6-9923-2a880a9223f8",
   "metadata": {},
   "outputs": [
    {
     "name": "stdout",
     "output_type": "stream",
     "text": [
      "\n",
      "Zero Matrix:\n",
      " [[0. 0. 0.]\n",
      " [0. 0. 0.]\n",
      " [0. 0. 0.]]\n",
      "\n",
      "Identity Matrix:\n",
      " [[1. 0. 0.]\n",
      " [0. 1. 0.]\n",
      " [0. 0. 1.]]\n",
      "\n",
      "Random Matrix:\n",
      " [[0.52066264 0.71107468 0.92805881]\n",
      " [0.53008161 0.77932905 0.5757789 ]\n",
      " [0.89306362 0.84468044 0.03685737]]\n",
      "\n",
      "Addition:\n",
      " [[10 10 10]\n",
      " [10 10 10]\n",
      " [10 10 10]]\n",
      "\n",
      "Subtraction:\n",
      " [[-8 -6 -4]\n",
      " [-2  0  2]\n",
      " [ 4  6  8]]\n",
      "\n",
      "Multiplication:\n",
      " [[ 30  24  18]\n",
      " [ 84  69  54]\n",
      " [138 114  90]]\n",
      "\n",
      "Transpose:\n",
      " [[1 4 7]\n",
      " [2 5 8]\n",
      " [3 6 9]]\n",
      "\n",
      "Determinant:\n",
      " -9.51619735392994e-16\n",
      "\n",
      "Inverse:\n",
      " [[ 3.15251974e+15 -6.30503948e+15  3.15251974e+15]\n",
      " [-6.30503948e+15  1.26100790e+16 -6.30503948e+15]\n",
      " [ 3.15251974e+15 -6.30503948e+15  3.15251974e+15]]\n"
     ]
    }
   ],
   "source": [
    "#Create various types of matrices (zero matrix, identity matrix, random matrix).\n",
    "import numpy as np\n",
    "\n",
    "# Zero matrix\n",
    "zero_matrix = np.zeros((3, 3))\n",
    "\n",
    "# Identity matrix\n",
    "identity_matrix = np.eye(3)\n",
    "\n",
    "# Random matrix\n",
    "random_matrix = np.random.random((3, 3))\n",
    "\n",
    "print(\"\\nZero Matrix:\\n\", zero_matrix)\n",
    "print(\"\\nIdentity Matrix:\\n\", identity_matrix)\n",
    "print(\"\\nRandom Matrix:\\n\", random_matrix)\n",
    "\n",
    "#Perform basic matrix operations (addition, subtraction, multiplication).\n",
    "# Define two matrices\n",
    "A = np.array([[1, 2, 3], [4, 5, 6], [7, 8, 9]])\n",
    "B = np.array([[9, 8, 7], [6, 5, 4], [3, 2, 1]])\n",
    "\n",
    "# Addition\n",
    "addition = A + B\n",
    "\n",
    "# Subtraction\n",
    "subtraction = A - B\n",
    "\n",
    "# Multiplication\n",
    "multiplication = np.dot(A, B)  # or A @ B\n",
    "\n",
    "print(\"\\nAddition:\\n\", addition)\n",
    "print(\"\\nSubtraction:\\n\", subtraction)\n",
    "print(\"\\nMultiplication:\\n\", multiplication)\n",
    "\n",
    "#Transpose a matrix and find the determinant and inverse of a matrix.\n",
    "# Transpose\n",
    "transpose = np.transpose(A)\n",
    "\n",
    "# Determinant\n",
    "determinant = np.linalg.det(A)\n",
    "\n",
    "# Inverse\n",
    "inverse = np.linalg.inv(A) if np.linalg.det(A) != 0 else \"Matrix is singular, can't find inverse.\"\n",
    "\n",
    "print(\"\\nTranspose:\\n\", transpose)\n",
    "print(\"\\nDeterminant:\\n\", determinant)\n",
    "print(\"\\nInverse:\\n\", inverse)\n"
   ]
  },
  {
   "cell_type": "markdown",
   "id": "f0507a70-3e04-42e5-ad07-52f3f9a5dd7f",
   "metadata": {},
   "source": [
    "### 2. Solving Linear Equations"
   ]
  },
  {
   "cell_type": "code",
   "execution_count": 34,
   "id": "57c997b0-1743-42a2-b9c0-fe8d265dd813",
   "metadata": {},
   "outputs": [
    {
     "name": "stdout",
     "output_type": "stream",
     "text": [
      "Solution x:\n",
      " [2. 3.]\n",
      "\n",
      " P:\n",
      " [[1. 0.]\n",
      " [0. 1.]]\n",
      "\n",
      " L:\n",
      " [[1.         0.        ]\n",
      " [0.33333333 1.        ]]\n",
      "\n",
      " U:\n",
      " [[3.         1.        ]\n",
      " [0.         1.66666667]]\n",
      "\n",
      " Q:\n",
      " [[-0.9486833  -0.31622777]\n",
      " [-0.31622777  0.9486833 ]]\n",
      "\n",
      " R:\n",
      " [[-3.16227766 -1.58113883]\n",
      " [ 0.          1.58113883]]\n"
     ]
    }
   ],
   "source": [
    "#Use NumPy to solve a system of linear equations.\n",
    "# Coefficient matrix\n",
    "A = np.array([[3, 1], [1, 2]])\n",
    "\n",
    "# Constants vector\n",
    "b = np.array([9, 8])\n",
    "\n",
    "# Solution\n",
    "x = np.linalg.solve(A, b)\n",
    "\n",
    "print(\"Solution x:\\n\", x)\n",
    "\n",
    "#Implement matrix factorization methods (LU decomposition, QR decomposition).\n",
    "#LU Decomposition\n",
    "from scipy.linalg import lu\n",
    "\n",
    "P, L, U = lu(A)\n",
    "print(\"\\n P:\\n\", P)\n",
    "print(\"\\n L:\\n\", L)\n",
    "print(\"\\n U:\\n\", U)\n",
    "\n",
    "#QR Decomposition\n",
    "Q, R = np.linalg.qr(A)\n",
    "print(\"\\n Q:\\n\", Q)\n",
    "print(\"\\n R:\\n\", R)\n"
   ]
  },
  {
   "cell_type": "markdown",
   "id": "fef84a66-c912-48f0-b404-d9d636b7f3d3",
   "metadata": {},
   "source": [
    "### 3. Eigenvalues and Eigenvectors"
   ]
  },
  {
   "cell_type": "code",
   "execution_count": 24,
   "id": "23302bb3-8c4d-4711-9864-0dcf21756752",
   "metadata": {},
   "outputs": [
    {
     "name": "stdout",
     "output_type": "stream",
     "text": [
      "\n",
      " Eigenvalues:\n",
      " [3.61803399 1.38196601]\n",
      "\n",
      " Eigenvectors:\n",
      " [[ 0.85065081 -0.52573111]\n",
      " [ 0.52573111  0.85065081]]\n",
      "\n",
      " Reconstructed Matrix:\n",
      " [[3. 1.]\n",
      " [1. 2.]]\n"
     ]
    }
   ],
   "source": [
    "#Calculate the eigenvalues and eigenvectors of a given matrix.\n",
    "eigenvalues, eigenvectors = np.linalg.eig(A)\n",
    "print(\"\\n Eigenvalues:\\n\", eigenvalues)\n",
    "print(\"\\n Eigenvectors:\\n\", eigenvectors)\n",
    "\n",
    "#Verify the results by reconstructing the original matrix.\n",
    "reconstruction = np.dot(eigenvectors, np.dot(np.diag(eigenvalues), np.linalg.inv(eigenvectors)))\n",
    "print(\"\\n Reconstructed Matrix:\\n\", reconstruction)\n"
   ]
  },
  {
   "cell_type": "markdown",
   "id": "5dd5d8d5-09eb-4249-9fd0-cf2c1a7f0d86",
   "metadata": {},
   "source": [
    "### 4. Vector Operations"
   ]
  },
  {
   "cell_type": "code",
   "execution_count": 29,
   "id": "e9d2f6a7-5efb-4e09-b7ae-f7ddce71a59a",
   "metadata": {},
   "outputs": [
    {
     "name": "stdout",
     "output_type": "stream",
     "text": [
      "Vector Addition:\n",
      " [5 7 9]\n",
      "\n",
      "Dot Product:\n",
      " 32\n",
      "\n",
      "Cross Product:\n",
      " [-3  6 -3]\n",
      "\n",
      "Normalized Vector:\n",
      " [0.26726124 0.53452248 0.80178373]\n",
      "\n",
      "L2 Norm:\n",
      " 3.7416573867739413\n",
      "\n",
      "L1 Norm:\n",
      " 6.0\n",
      "\n",
      "Linf Norm:\n",
      " 3.0\n"
     ]
    }
   ],
   "source": [
    "#Perform basic vector operations (addition, dot product, cross product).\n",
    "\n",
    "# Define two vectors\n",
    "v1 = np.array([1, 2, 3])\n",
    "v2 = np.array([4, 5, 6])\n",
    "\n",
    "# Addition\n",
    "vector_addition = np.add(v1, v2)\n",
    "\n",
    "# Dot Product\n",
    "dot_product = np.dot(v1, v2)\n",
    "\n",
    "# Cross Product\n",
    "cross_product = np.cross(v1, v2)\n",
    "\n",
    "print(\"Vector Addition:\\n\", vector_addition)\n",
    "print(\"\\nDot Product:\\n\", dot_product)\n",
    "print(\"\\nCross Product:\\n\", cross_product)\n",
    "\n",
    "#Normalize a vector and compute vector norms.\n",
    "\n",
    "# Normalize vector\n",
    "v_norm = v1 / np.linalg.norm(v1)\n",
    "\n",
    "# Compute norms\n",
    "l2_norm = np.linalg.norm(v1)\n",
    "l1_norm = np.linalg.norm(v1, 1)\n",
    "linf_norm = np.linalg.norm(v1, np.inf)\n",
    "\n",
    "print(\"\\nNormalized Vector:\\n\", v_norm)\n",
    "print(\"\\nL2 Norm:\\n\", l2_norm)\n",
    "print(\"\\nL1 Norm:\\n\", l1_norm)\n",
    "print(\"\\nLinf Norm:\\n\", linf_norm)\n"
   ]
  },
  {
   "cell_type": "markdown",
   "id": "26b3133b-741d-434c-acfc-d4e5bb062061",
   "metadata": {},
   "source": [
    "### Matrix Decomposition"
   ]
  },
  {
   "cell_type": "code",
   "execution_count": 32,
   "id": "28b7c06f-0d66-4aa5-87b7-c838cd195e72",
   "metadata": {},
   "outputs": [
    {
     "name": "stdout",
     "output_type": "stream",
     "text": [
      "Principal Components:\n",
      " [[ 0.29347273  0.41241846  0.86242957]\n",
      " [ 0.42377634 -0.86479338  0.26934368]\n",
      " [-0.8569057  -0.28643222  0.42856646]]\n"
     ]
    }
   ],
   "source": [
    "#Understand and implement Principal Component Analysis (PCA) using SVD.\n",
    "\n",
    "# Generate random data\n",
    "data = np.random.random((5, 3))\n",
    "\n",
    "# Center data\n",
    "data_centered = data - np.mean(data, axis=0)\n",
    "\n",
    "# SVD\n",
    "U, S, Vt = np.linalg.svd(data_centered)\n",
    "\n",
    "# PCA components\n",
    "principal_components = Vt.T\n",
    "\n",
    "print(\"Principal Components:\\n\", principal_components)\n"
   ]
  },
  {
   "cell_type": "markdown",
   "id": "9f256625-611c-4975-83fc-c85cde1f28ad",
   "metadata": {},
   "source": [
    "## Calculus Tasks"
   ]
  },
  {
   "cell_type": "markdown",
   "id": "35d55246-fd3d-4b40-bb6d-75b56353df0c",
   "metadata": {},
   "source": [
    "### 1. Numerical Differentiation\n"
   ]
  },
  {
   "cell_type": "code",
   "execution_count": 41,
   "id": "99c3071b-49a7-459e-a5f2-61d97296f871",
   "metadata": {},
   "outputs": [
    {
     "name": "stdout",
     "output_type": "stream",
     "text": [
      "Forward Difference: 7.000010000091094\n",
      "Backward Difference: 6.999990000089439\n",
      "Central Difference: 7.0000000000902665\n"
     ]
    }
   ],
   "source": [
    "def f(x):\n",
    "    return x**2 + 3*x + 2\n",
    "\n",
    "# Forward difference\n",
    "def forward_diff(f, x, h=1e-5):\n",
    "    return (f(x + h) - f(x)) / h\n",
    "\n",
    "# Backward difference\n",
    "def backward_diff(f, x, h=1e-5):\n",
    "    return (f(x) - f(x - h)) / h\n",
    "\n",
    "# Central difference\n",
    "def central_diff(f, x, h=1e-5):\n",
    "    return (f(x + h) - f(x - h)) / (2 * h)\n",
    "\n",
    "x_val = 2\n",
    "print(\"Forward Difference:\", forward_diff(f, x_val))\n",
    "print(\"Backward Difference:\", backward_diff(f, x_val))\n",
    "print(\"Central Difference:\", central_diff(f, x_val))"
   ]
  },
  {
   "cell_type": "markdown",
   "id": "14519bc6-d476-4f9a-86e0-df62adc56072",
   "metadata": {},
   "source": [
    "### 2. Numerical Integration"
   ]
  },
  {
   "cell_type": "code",
   "execution_count": 43,
   "id": "be612c74-ac68-4452-90e7-fdd27b962b80",
   "metadata": {},
   "outputs": [
    {
     "name": "stdout",
     "output_type": "stream",
     "text": [
      "Trapezoidal Rule: 3.8295001668335003\n",
      "Simpson's Rule: 3.8355008341675005\n"
     ]
    }
   ],
   "source": [
    "def f(x):\n",
    "    return x**2 + 3*x + 2\n",
    "\n",
    "# Trapezoidal rule\n",
    "def trapezoidal_rule(f, a, b, n=1000):\n",
    "    x = np.linspace(a, b, n)\n",
    "    y = f(x)\n",
    "    return (b - a) / (2 * n) * (y[0] + 2 * np.sum(y[1:-1]) + y[-1])\n",
    "\n",
    "# Simpson's rule\n",
    "def simpsons_rule(f, a, b, n=1000):\n",
    "    if n % 2:\n",
    "        n += 1\n",
    "    x = np.linspace(a, b, n)\n",
    "    y = f(x)\n",
    "    h = (b - a) / n\n",
    "    return h / 3 * (y[0] + 2 * np.sum(y[2:-1:2]) + 4 * np.sum(y[1::2]) + y[-1])\n",
    "\n",
    "a, b = 0, 1\n",
    "print(\"Trapezoidal Rule:\", trapezoidal_rule(f, a, b))\n",
    "print(\"Simpson's Rule:\", simpsons_rule(f, a, b))"
   ]
  },
  {
   "cell_type": "markdown",
   "id": "2d454fa2-eefc-4b8d-8133-a953a3d52589",
   "metadata": {},
   "source": [
    "### 3. Partial Derivatives"
   ]
  },
  {
   "cell_type": "code",
   "execution_count": 46,
   "id": "0f1ac48f-292c-4d43-adc8-06cff2bf4495",
   "metadata": {},
   "outputs": [
    {
     "name": "stdout",
     "output_type": "stream",
     "text": [
      "Partial Derivative w.r.t. x: 7.0000100002687295\n",
      "Partial Derivative w.r.t. y: 8.000009999875601\n"
     ]
    }
   ],
   "source": [
    "def f(x, y):\n",
    "    return x**2 + y**2 + 3*x + 2*y\n",
    "\n",
    "# Partial derivative w.r.t. x\n",
    "def partial_x(f, x, y, h=1e-5):\n",
    "    return (f(x + h, y) - f(x, y)) / h\n",
    "\n",
    "# Partial derivative w.r.t. y\n",
    "def partial_y(f, x, y, h=1e-5):\n",
    "    return (f(x, y + h) - f(x, y)) / h\n",
    "\n",
    "x_val, y_val = 2, 3\n",
    "print(\"Partial Derivative w.r.t. x:\", partial_x(f, x_val, y_val))\n",
    "print(\"Partial Derivative w.r.t. y:\", partial_y(f, x_val, y_val))\n"
   ]
  },
  {
   "cell_type": "markdown",
   "id": "f7fd20d7-9c6e-4f52-a945-78e3d8e0774a",
   "metadata": {},
   "source": [
    "### 4. Optimization\n"
   ]
  },
  {
   "cell_type": "code",
   "execution_count": 49,
   "id": "e95f7300-8a3d-4416-b63b-678679564c72",
   "metadata": {},
   "outputs": [
    {
     "name": "stdout",
     "output_type": "stream",
     "text": [
      "Optimal Solution: [0.5 0.5]\n"
     ]
    }
   ],
   "source": [
    "from scipy.optimize import minimize\n",
    "\n",
    "# Objective function\n",
    "def objective(x):\n",
    "    return x[0]**2 + x[1]**2\n",
    "\n",
    "# Constraints\n",
    "cons = ({'type': 'eq', 'fun': lambda x: x[0] + x[1] - 1},)\n",
    "\n",
    "# Initial guess\n",
    "x0 = [0.5, 0.5]\n",
    "\n",
    "# Solve optimization problem\n",
    "solution = minimize(objective, x0, constraints=cons)\n",
    "\n",
    "print(\"Optimal Solution:\", solution.x)"
   ]
  }
 ],
 "metadata": {
  "kernelspec": {
   "display_name": "Python 3 (ipykernel)",
   "language": "python",
   "name": "python3"
  },
  "language_info": {
   "codemirror_mode": {
    "name": "ipython",
    "version": 3
   },
   "file_extension": ".py",
   "mimetype": "text/x-python",
   "name": "python",
   "nbconvert_exporter": "python",
   "pygments_lexer": "ipython3",
   "version": "3.11.7"
  }
 },
 "nbformat": 4,
 "nbformat_minor": 5
}
