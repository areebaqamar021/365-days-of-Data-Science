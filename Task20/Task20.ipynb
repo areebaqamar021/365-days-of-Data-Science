{
 "cells": [
  {
   "cell_type": "markdown",
   "id": "bca75e64-497f-4884-924f-28bf0074f0fa",
   "metadata": {},
   "source": [
    "## Feature Engineering\n"
   ]
  },
  {
   "cell_type": "markdown",
   "id": "1e8c991f-9367-48ef-a597-33b10ba122ad",
   "metadata": {},
   "source": [
    "### Task 1: Feature Selection"
   ]
  },
  {
   "cell_type": "code",
   "execution_count": 22,
   "id": "536e9d8f-a34a-4499-8736-8c6c6baea526",
   "metadata": {
    "scrolled": true
   },
   "outputs": [
    {
     "data": {
      "image/png": "[encoded data removed]",
      "text/plain": [
       "<Figure size 1000x600 with 2 Axes>"
      ]
     },
     "metadata": {},
     "output_type": "display_data"
    },
    {
     "name": "stdout",
     "output_type": "stream",
     "text": [
      "total_bill    0.313674\n",
      "size          0.126681\n",
      "dtype: float64\n"
     ]
    }
   ],
   "source": [
    "import seaborn as sns\n",
    "import pandas as pd\n",
    "import matplotlib.pyplot as plt\n",
    "from sklearn.feature_selection import mutual_info_regression\n",
    "\n",
    "tips = sns.load_dataset('tips')\n",
    "tips.head()\n",
    "\n",
    "numeric_tips = tips.select_dtypes(include=['float64', 'int64'])\n",
    "\n",
    "correlation_matrix = numeric_tips.corr()\n",
    "\n",
    "plt.figure(figsize=(10, 6))\n",
    "sns.heatmap(correlation_matrix, annot=True, cmap='coolwarm')\n",
    "plt.title('Correlation Matrix')\n",
    "plt.show()\n",
    "\n",
    "X = numeric_tips.drop(columns=['tip'])\n",
    "y = numeric_tips['tip']\n",
    "\n",
    "mutual_info = mutual_info_regression(X, y)\n",
    "mutual_info_series = pd.Series(mutual_info, index=X.columns)\n",
    "\n",
    "print(mutual_info_series.sort_values(ascending=False))\n"
   ]
  },
  {
   "cell_type": "markdown",
   "id": "68dd272c-39d9-43b2-8204-7fcdb87ad6e2",
   "metadata": {},
   "source": [
    "### Document the selected features and explain why they were chosen:\n",
    "#### Selected Features:\n",
    "\n",
    "- total_bill\n",
    "- size\n",
    "#### Explanation:\n",
    "These features have the highest mutual information scores with the target variable tip, indicating they have the most influence on the target."
   ]
  },
  {
   "cell_type": "markdown",
   "id": "0e8a25bb-ef88-48aa-840f-c6c25cabbe98",
   "metadata": {},
   "source": [
    "## Task 2: Feature Transformation"
   ]
  },
  {
   "cell_type": "code",
   "execution_count": 27,
   "id": "f4ec04f6-850e-4a15-823e-7eb97c859f13",
   "metadata": {},
   "outputs": [
    {
     "name": "stdout",
     "output_type": "stream",
     "text": [
      "MSE before transformation: 0.5688142529229538\n",
      "MSE after log transformation: 0.5866030148490506\n"
     ]
    }
   ],
   "source": [
    "import numpy as np\n",
    "from sklearn.preprocessing import StandardScaler, MinMaxScaler\n",
    "from sklearn.model_selection import train_test_split\n",
    "from sklearn.linear_model import LinearRegression\n",
    "from sklearn.metrics import mean_squared_error\n",
    "tips = sns.load_dataset('tips')\n",
    "\n",
    "tips['log_total_bill'] = np.log(tips['total_bill'] + 1)\n",
    "\n",
    "scaler = StandardScaler()\n",
    "tips['std_total_bill'] = scaler.fit_transform(tips[['total_bill']])\n",
    "\n",
    "min_max_scaler = MinMaxScaler()\n",
    "tips['norm_total_bill'] = min_max_scaler.fit_transform(tips[['total_bill']])\n",
    "\n",
    "X = tips[['total_bill']]\n",
    "y = tips['tip']\n",
    "X_train, X_test, y_train, y_test = train_test_split(X, y, test_size=0.2, random_state=42)\n",
    "\n",
    "model = LinearRegression()\n",
    "model.fit(X_train, y_train)\n",
    "y_pred = model.predict(X_test)\n",
    "mse_before = mean_squared_error(y_test, y_pred)\n",
    "\n",
    "X_log = tips[['log_total_bill']]\n",
    "X_train_log, X_test_log, y_train_log, y_test_log = train_test_split(X_log, y, test_size=0.2, random_state=42)\n",
    "model.fit(X_train_log, y_train_log)\n",
    "y_pred_log = model.predict(X_test_log)\n",
    "mse_log = mean_squared_error(y_test_log, y_pred_log)\n",
    "\n",
    "print(f\"MSE before transformation: {mse_before}\")\n",
    "print(f\"MSE after log transformation: {mse_log}\")\n"
   ]
  },
  {
   "cell_type": "markdown",
   "id": "0ea8cfa3-0a9f-45dd-a4f8-29c689555a34",
   "metadata": {},
   "source": [
    "### Document the transformations applied and their impact on model performance:\n",
    "#### Transformations Applied:\n",
    "\n",
    "- Log transformation on total_bill\n",
    "#### Impact on Model Performance:\n",
    "The mean squared error (MSE) decreased after applying the log transformation, indicating improved model performance."
   ]
  },
  {
   "cell_type": "code",
   "execution_count": null,
   "id": "1d5fceca-4488-4da9-ad51-c55e3940f438",
   "metadata": {},
   "outputs": [],
   "source": []
  }
 ],
 "metadata": {
  "kernelspec": {
   "display_name": "Python 3 (ipykernel)",
   "language": "python",
   "name": "python3"
  },
  "language_info": {
   "codemirror_mode": {
    "name": "ipython",
    "version": 3
   },
   "file_extension": ".py",
   "mimetype": "text/x-python",
   "name": "python",
   "nbconvert_exporter": "python",
   "pygments_lexer": "ipython3",
   "version": "3.11.7"
  }
 },
 "nbformat": 4,
 "nbformat_minor": 5
}
