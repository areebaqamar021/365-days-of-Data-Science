{
 "cells": [
  {
   "cell_type": "markdown",
   "id": "bca75e64-497f-4884-924f-28bf0074f0fa",
   "metadata": {},
   "source": [
    "## Feature Engineering\n"
   ]
  },
  {
   "cell_type": "markdown",
   "id": "1e8c991f-9367-48ef-a597-33b10ba122ad",
   "metadata": {},
   "source": [
    "### Task 1: Feature Selection"
   ]
  },
  {
   "cell_type": "code",
   "execution_count": 15,
   "id": "e3dced4b-55b7-4f99-8a91-35b847c7bca1",
   "metadata": {},
   "outputs": [
    {
     "data": {
      "text/html": [
       "<div>\n",
       "<style scoped>\n",
       "    .dataframe tbody tr th:only-of-type {\n",
       "        vertical-align: middle;\n",
       "    }\n",
       "\n",
       "    .dataframe tbody tr th {\n",
       "        vertical-align: top;\n",
       "    }\n",
       "\n",
       "    .dataframe thead th {\n",
       "        text-align: right;\n",
       "    }\n",
       "</style>\n",
       "<table border=\"1\" class=\"dataframe\">\n",
       "  <thead>\n",
       "    <tr style=\"text-align: right;\">\n",
       "      <th></th>\n",
       "      <th>total_bill</th>\n",
       "      <th>tip</th>\n",
       "      <th>sex</th>\n",
       "      <th>smoker</th>\n",
       "      <th>day</th>\n",
       "      <th>time</th>\n",
       "      <th>size</th>\n",
       "    </tr>\n",
       "  </thead>\n",
       "  <tbody>\n",
       "    <tr>\n",
       "      <th>0</th>\n",
       "      <td>16.99</td>\n",
       "      <td>1.01</td>\n",
       "      <td>Female</td>\n",
       "      <td>No</td>\n",
       "      <td>Sun</td>\n",
       "      <td>Dinner</td>\n",
       "      <td>2</td>\n",
       "    </tr>\n",
       "    <tr>\n",
       "      <th>1</th>\n",
       "      <td>10.34</td>\n",
       "      <td>1.66</td>\n",
       "      <td>Male</td>\n",
       "      <td>No</td>\n",
       "      <td>Sun</td>\n",
       "      <td>Dinner</td>\n",
       "      <td>3</td>\n",
       "    </tr>\n",
       "    <tr>\n",
       "      <th>2</th>\n",
       "      <td>21.01</td>\n",
       "      <td>3.50</td>\n",
       "      <td>Male</td>\n",
       "      <td>No</td>\n",
       "      <td>Sun</td>\n",
       "      <td>Dinner</td>\n",
       "      <td>3</td>\n",
       "    </tr>\n",
       "    <tr>\n",
       "      <th>3</th>\n",
       "      <td>23.68</td>\n",
       "      <td>3.31</td>\n",
       "      <td>Male</td>\n",
       "      <td>No</td>\n",
       "      <td>Sun</td>\n",
       "      <td>Dinner</td>\n",
       "      <td>2</td>\n",
       "    </tr>\n",
       "    <tr>\n",
       "      <th>4</th>\n",
       "      <td>24.59</td>\n",
       "      <td>3.61</td>\n",
       "      <td>Female</td>\n",
       "      <td>No</td>\n",
       "      <td>Sun</td>\n",
       "      <td>Dinner</td>\n",
       "      <td>4</td>\n",
       "    </tr>\n",
       "  </tbody>\n",
       "</table>\n",
       "</div>"
      ],
      "text/plain": [
       "   total_bill   tip     sex smoker  day    time  size\n",
       "0       16.99  1.01  Female     No  Sun  Dinner     2\n",
       "1       10.34  1.66    Male     No  Sun  Dinner     3\n",
       "2       21.01  3.50    Male     No  Sun  Dinner     3\n",
       "3       23.68  3.31    Male     No  Sun  Dinner     2\n",
       "4       24.59  3.61  Female     No  Sun  Dinner     4"
      ]
     },
     "execution_count": 15,
     "metadata": {},
     "output_type": "execute_result"
    }
   ],
   "source": [
    "import seaborn as sns\n",
    "tips = sns.load_dataset('tips')\n",
    "tips.head()"
   ]
  },
  {
   "cell_type": "code",
   "execution_count": 11,
   "id": "536e9d8f-a34a-4499-8736-8c6c6baea526",
   "metadata": {
    "scrolled": true
   },
   "outputs": [
    {
     "data": {
      "image/png": "[encoded data removed]",
      "text/plain": [
       "<Figure size 1000x600 with 2 Axes>"
      ]
     },
     "metadata": {},
     "output_type": "display_data"
    },
    {
     "name": "stdout",
     "output_type": "stream",
     "text": [
      "total_bill    0.318908\n",
      "size          0.140383\n",
      "dtype: float64\n"
     ]
    }
   ],
   "source": [
    "import pandas as pd\n",
    "import matplotlib.pyplot as plt\n",
    "from sklearn.feature_selection import mutual_info_regression\n",
    "\n",
    "numeric_tips = tips.select_dtypes(include=['float64', 'int64'])\n",
    "\n",
    "correlation_matrix = numeric_tips.corr()\n",
    "\n",
    "plt.figure(figsize=(10, 6))\n",
    "sns.heatmap(correlation_matrix, annot=True, cmap='coolwarm')\n",
    "plt.title('Correlation Matrix')\n",
    "plt.show()\n",
    "\n",
    "X = numeric_tips.drop(columns=['tip'])\n",
    "y = numeric_tips['tip']\n",
    "\n",
    "mutual_info = mutual_info_regression(X, y)\n",
    "mutual_info_series = pd.Series(mutual_info, index=X.columns)\n",
    "\n",
    "print(mutual_info_series.sort_values(ascending=False))\n"
   ]
  },
  {
   "cell_type": "markdown",
   "id": "68dd272c-39d9-43b2-8204-7fcdb87ad6e2",
   "metadata": {},
   "source": [
    "### Document the selected features and explain why they were chosen:\n",
    "#### Selected Features:\n",
    "\n",
    "- total_bill\n",
    "- size\n",
    "#### Explanation:\n",
    "These features have the highest mutual information scores with the target variable tip, indicating they have the most influence on the target."
   ]
  },
  {
   "cell_type": "markdown",
   "id": "0e8a25bb-ef88-48aa-840f-c6c25cabbe98",
   "metadata": {},
   "source": [
    "## Task 2: Feature Transformation"
   ]
  },
  {
   "cell_type": "code",
   "execution_count": 35,
   "id": "f4ec04f6-850e-4a15-823e-7eb97c859f13",
   "metadata": {},
   "outputs": [
    {
     "name": "stdout",
     "output_type": "stream",
     "text": [
      "   total_bill   tip     sex smoker  day    time  size\n",
      "0       16.99  1.01  Female     No  Sun  Dinner     2\n",
      "1       10.34  1.66    Male     No  Sun  Dinner     3\n",
      "2       21.01  3.50    Male     No  Sun  Dinner     3\n",
      "3       23.68  3.31    Male     No  Sun  Dinner     2\n",
      "4       24.59  3.61  Female     No  Sun  Dinner     4 \n",
      "\n",
      "   total_bill   tip     sex smoker  day    time  size  log_total_bill  \\\n",
      "0       16.99  1.01  Female     No  Sun  Dinner     2        2.832625   \n",
      "1       10.34  1.66    Male     No  Sun  Dinner     3        2.336020   \n",
      "2       21.01  3.50    Male     No  Sun  Dinner     3        3.044999   \n",
      "3       23.68  3.31    Male     No  Sun  Dinner     2        3.164631   \n",
      "4       24.59  3.61  Female     No  Sun  Dinner     4        3.202340   \n",
      "\n",
      "   std_total_bill  norm_total_bill  \n",
      "0       -0.314711         0.291579  \n",
      "1       -1.063235         0.152283  \n",
      "2        0.137780         0.375786  \n",
      "3        0.438315         0.431713  \n",
      "4        0.540745         0.450775  \n"
     ]
    }
   ],
   "source": [
    "import seaborn as sns\n",
    "import pandas as pd\n",
    "import numpy as np\n",
    "\n",
    "tips = sns.load_dataset('tips')\n",
    "print(tips.head(), '\\n')\n",
    "\n",
    "from sklearn.preprocessing import StandardScaler, MinMaxScaler\n",
    "\n",
    "# Log transformation of 'total_bill'\n",
    "tips['log_total_bill'] = tips['total_bill'].apply(lambda x: np.log(x) if x > 0 else 0)\n",
    "\n",
    "# Standardization\n",
    "scaler = StandardScaler()\n",
    "tips['std_total_bill'] = scaler.fit_transform(tips[['total_bill']])\n",
    "\n",
    "# Normalization\n",
    "min_max_scaler = MinMaxScaler()\n",
    "tips['norm_total_bill'] = min_max_scaler.fit_transform(tips[['total_bill']])\n",
    "\n",
    "print(tips.head())\n"
   ]
  },
  {
   "cell_type": "markdown",
   "id": "88a56278-b65c-4db9-adc6-7de010113224",
   "metadata": {},
   "source": [
    "## Task 3: Feature Creation\n"
   ]
  },
  {
   "cell_type": "code",
   "execution_count": 33,
   "id": "3eb89a06-b7f5-4f6c-8cf1-370a2ce34e47",
   "metadata": {},
   "outputs": [
    {
     "name": "stdout",
     "output_type": "stream",
     "text": [
      "   total_bill   tip     sex smoker  day    time  size\n",
      "0       16.99  1.01  Female     No  Sun  Dinner     2\n",
      "1       10.34  1.66    Male     No  Sun  Dinner     3\n",
      "2       21.01  3.50    Male     No  Sun  Dinner     3\n",
      "3       23.68  3.31    Male     No  Sun  Dinner     2\n",
      "4       24.59  3.61  Female     No  Sun  Dinner     4 \n",
      "\n",
      "   total_bill   tip     sex smoker  day    time  size  tip_percentage  \\\n",
      "0       16.99  1.01  Female     No  Sun  Dinner     2        5.944673   \n",
      "1       10.34  1.66    Male     No  Sun  Dinner     3       16.054159   \n",
      "2       21.01  3.50    Male     No  Sun  Dinner     3       16.658734   \n",
      "3       23.68  3.31    Male     No  Sun  Dinner     2       13.978041   \n",
      "4       24.59  3.61  Female     No  Sun  Dinner     4       14.680765   \n",
      "\n",
      "   total_bill_size  \n",
      "0            33.98  \n",
      "1            31.02  \n",
      "2            63.03  \n",
      "3            47.36  \n",
      "4            98.36  \n"
     ]
    }
   ],
   "source": [
    "import seaborn as sns\n",
    "import pandas as pd\n",
    "\n",
    "tips = sns.load_dataset('tips')\n",
    "print(tips.head(), '\\n')\n",
    "\n",
    "# Create a feature for tip percentage\n",
    "tips['tip_percentage'] = (tips['tip'] / tips['total_bill']) * 100\n",
    "\n",
    "# Create interaction terms between numerical features\n",
    "tips['total_bill_size'] = tips['total_bill'] * tips['size']\n",
    "\n",
    "print(tips.head())\n"
   ]
  },
  {
   "cell_type": "markdown",
   "id": "0bce2e5e-545b-48bd-8d57-2e718beba43e",
   "metadata": {},
   "source": [
    "## Task 4: Polynomial Features"
   ]
  },
  {
   "cell_type": "code",
   "execution_count": 37,
   "id": "309349cc-8dd5-4d94-8894-5566d66bc176",
   "metadata": {},
   "outputs": [
    {
     "name": "stdout",
     "output_type": "stream",
     "text": [
      "   total_bill   tip     sex smoker  day    time  size\n",
      "0       16.99  1.01  Female     No  Sun  Dinner     2\n",
      "1       10.34  1.66    Male     No  Sun  Dinner     3\n",
      "2       21.01  3.50    Male     No  Sun  Dinner     3\n",
      "3       23.68  3.31    Male     No  Sun  Dinner     2\n",
      "4       24.59  3.61  Female     No  Sun  Dinner     4 \n",
      "\n",
      "   total_bill  size  total_bill^2  total_bill size  size^2\n",
      "0       16.99   2.0      288.6601            33.98     4.0\n",
      "1       10.34   3.0      106.9156            31.02     9.0\n",
      "2       21.01   3.0      441.4201            63.03     9.0\n",
      "3       23.68   2.0      560.7424            47.36     4.0\n",
      "4       24.59   4.0      604.6681            98.36    16.0\n"
     ]
    }
   ],
   "source": [
    "import seaborn as sns\n",
    "import pandas as pd\n",
    "\n",
    "tips = sns.load_dataset('tips')\n",
    "print(tips.head(), '\\n')\n",
    "\n",
    "from sklearn.preprocessing import PolynomialFeatures\n",
    "\n",
    "X = tips[['total_bill', 'size']]\n",
    "poly = PolynomialFeatures(degree=2, include_bias=False)\n",
    "X_poly = poly.fit_transform(X)\n",
    "\n",
    "X_poly_df = pd.DataFrame(X_poly, columns=poly.get_feature_names_out(X.columns))\n",
    "print(X_poly_df.head())"
   ]
  },
  {
   "cell_type": "markdown",
   "id": "4d737cbe-331e-43ef-8b3b-ff4500e53eb1",
   "metadata": {},
   "source": [
    "## Task 5: Handling Categorical Features\n"
   ]
  },
  {
   "cell_type": "code",
   "execution_count": 42,
   "id": "acdb5fac-c79a-4ab8-b30a-fdd47f6b9f55",
   "metadata": {},
   "outputs": [
    {
     "name": "stdout",
     "output_type": "stream",
     "text": [
      "   total_bill   tip     sex smoker  day    time  size\n",
      "0       16.99  1.01  Female     No  Sun  Dinner     2\n",
      "1       10.34  1.66    Male     No  Sun  Dinner     3\n",
      "2       21.01  3.50    Male     No  Sun  Dinner     3\n",
      "3       23.68  3.31    Male     No  Sun  Dinner     2\n",
      "4       24.59  3.61  Female     No  Sun  Dinner     4 \n",
      "\n",
      "One-Hot Encoded DataFrame:\n",
      "    total_bill   tip  size  sex_Female  smoker_No  day_Fri  day_Sat  day_Sun  \\\n",
      "0       16.99  1.01     2        True       True    False    False     True   \n",
      "1       10.34  1.66     3       False       True    False    False     True   \n",
      "2       21.01  3.50     3       False       True    False    False     True   \n",
      "3       23.68  3.31     2       False       True    False    False     True   \n",
      "4       24.59  3.61     4        True       True    False    False     True   \n",
      "\n",
      "   time_Dinner  \n",
      "0         True  \n",
      "1         True  \n",
      "2         True  \n",
      "3         True  \n",
      "4         True   \n",
      "\n",
      "Label Encoded DataFrame:\n",
      "    total_bill   tip  sex  smoker  day  time  size\n",
      "0       16.99  1.01    0       0    2     0     2\n",
      "1       10.34  1.66    1       0    2     0     3\n",
      "2       21.01  3.50    1       0    2     0     3\n",
      "3       23.68  3.31    1       0    2     0     2\n",
      "4       24.59  3.61    0       0    2     0     4 \n",
      "\n",
      "Target Encoded DataFrame:\n",
      "    total_bill   tip     sex smoker  day    time  size sex_mean_encoded  \\\n",
      "0       16.99  1.01  Female     No  Sun  Dinner     2        18.056897   \n",
      "1       10.34  1.66    Male     No  Sun  Dinner     3        20.744076   \n",
      "2       21.01  3.50    Male     No  Sun  Dinner     3        20.744076   \n",
      "3       23.68  3.31    Male     No  Sun  Dinner     2        20.744076   \n",
      "4       24.59  3.61  Female     No  Sun  Dinner     4        18.056897   \n",
      "\n",
      "  smoker_mean_encoded day_mean_encoded time_mean_encoded  \n",
      "0           19.188278            21.41         20.797159  \n",
      "1           19.188278            21.41         20.797159  \n",
      "2           19.188278            21.41         20.797159  \n",
      "3           19.188278            21.41         20.797159  \n",
      "4           19.188278            21.41         20.797159   \n",
      "\n"
     ]
    },
    {
     "name": "stderr",
     "output_type": "stream",
     "text": [
      "C:\\Users\\areeb\\AppData\\Local\\Temp\\ipykernel_8084\\3000533651.py:27: FutureWarning: The default of observed=False is deprecated and will be changed to True in a future version of pandas. Pass observed=False to retain current behavior or observed=True to adopt the future default and silence this warning.\n",
      "  mean_encoding_sex = tips_target_encoded.groupby('sex')['total_bill'].mean()\n",
      "C:\\Users\\areeb\\AppData\\Local\\Temp\\ipykernel_8084\\3000533651.py:31: FutureWarning: The default of observed=False is deprecated and will be changed to True in a future version of pandas. Pass observed=False to retain current behavior or observed=True to adopt the future default and silence this warning.\n",
      "  mean_encoding_smoker = tips_target_encoded.groupby('smoker')['total_bill'].mean()\n",
      "C:\\Users\\areeb\\AppData\\Local\\Temp\\ipykernel_8084\\3000533651.py:35: FutureWarning: The default of observed=False is deprecated and will be changed to True in a future version of pandas. Pass observed=False to retain current behavior or observed=True to adopt the future default and silence this warning.\n",
      "  mean_encoding_day = tips_target_encoded.groupby('day')['total_bill'].mean()\n",
      "C:\\Users\\areeb\\AppData\\Local\\Temp\\ipykernel_8084\\3000533651.py:39: FutureWarning: The default of observed=False is deprecated and will be changed to True in a future version of pandas. Pass observed=False to retain current behavior or observed=True to adopt the future default and silence this warning.\n",
      "  mean_encoding_time = tips_target_encoded.groupby('time')['total_bill'].mean()\n"
     ]
    }
   ],
   "source": [
    "import seaborn as sns\n",
    "import pandas as pd\n",
    "\n",
    "tips = sns.load_dataset('tips')\n",
    "print(tips.head(), '\\n')\n",
    "\n",
    "# One-hot encoding\n",
    "      \n",
    "tips_one_hot = pd.get_dummies(tips, columns=['sex', 'smoker', 'day', 'time'], drop_first=True)\n",
    "print(\"One-Hot Encoded DataFrame:\\n\", tips_one_hot.head(), '\\n')\n",
    "\n",
    "#Label Encoding:\n",
    "from sklearn.preprocessing import LabelEncoder\n",
    "tips_label_encoded = tips.copy()\n",
    "le = LabelEncoder()\n",
    "tips_label_encoded['sex'] = le.fit_transform(tips_label_encoded['sex'])\n",
    "tips_label_encoded['smoker'] = le.fit_transform(tips_label_encoded['smoker'])\n",
    "tips_label_encoded['day'] = le.fit_transform(tips_label_encoded['day'])\n",
    "tips_label_encoded['time'] = le.fit_transform(tips_label_encoded['time'])\n",
    "\n",
    "print(\"Label Encoded DataFrame:\\n\", tips_label_encoded.head(), '\\n')\n",
    "\n",
    "#Target Encoding (using mean encoding as an example):\n",
    "tips_target_encoded = tips.copy()\n",
    "\n",
    "# Mean encoding for 'sex' column\n",
    "mean_encoding_sex = tips_target_encoded.groupby('sex')['total_bill'].mean()\n",
    "tips_target_encoded['sex_mean_encoded'] = tips_target_encoded['sex'].map(mean_encoding_sex)\n",
    "\n",
    "# Mean encoding for 'smoker' column\n",
    "mean_encoding_smoker = tips_target_encoded.groupby('smoker')['total_bill'].mean()\n",
    "tips_target_encoded['smoker_mean_encoded'] = tips_target_encoded['smoker'].map(mean_encoding_smoker)\n",
    "\n",
    "# Mean encoding for 'day' column\n",
    "mean_encoding_day = tips_target_encoded.groupby('day')['total_bill'].mean()\n",
    "tips_target_encoded['day_mean_encoded'] = tips_target_encoded['day'].map(mean_encoding_day)\n",
    "\n",
    "# Mean encoding for 'time' column\n",
    "mean_encoding_time = tips_target_encoded.groupby('time')['total_bill'].mean()\n",
    "tips_target_encoded['time_mean_encoded'] = tips_target_encoded['time'].map(mean_encoding_time)\n",
    "\n",
    "print(\"Target Encoded DataFrame:\\n\", tips_target_encoded.head(), '\\n')\n"
   ]
  }
 ],
 "metadata": {
  "kernelspec": {
   "display_name": "Python 3 (ipykernel)",
   "language": "python",
   "name": "python3"
  },
  "language_info": {
   "codemirror_mode": {
    "name": "ipython",
    "version": 3
   },
   "file_extension": ".py",
   "mimetype": "text/x-python",
   "name": "python",
   "nbconvert_exporter": "python",
   "pygments_lexer": "ipython3",
   "version": "3.11.7"
  }
 },
 "nbformat": 4,
 "nbformat_minor": 5
}
