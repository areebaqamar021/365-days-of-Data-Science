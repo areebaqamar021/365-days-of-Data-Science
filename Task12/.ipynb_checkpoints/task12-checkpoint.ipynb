{
 "cells": [
  {
   "cell_type": "markdown",
   "id": "26cfd870-0c28-4b31-92f6-0e0ee0232942",
   "metadata": {},
   "source": [
    "## Introduction to Pandas (Series, DataFrame basics)\n"
   ]
  },
  {
   "cell_type": "code",
   "execution_count": 2,
   "id": "0defe0f2-03cc-4fcb-a531-32f677475b26",
   "metadata": {},
   "outputs": [],
   "source": [
    "import pandas as pd\n",
    "import numpy as np"
   ]
  },
  {
   "cell_type": "code",
   "execution_count": 20,
   "id": "a6b3e8cf-c13b-4c4e-bd4d-6d32a8dd4763",
   "metadata": {},
   "outputs": [
    {
     "name": "stdout",
     "output_type": "stream",
     "text": [
      "\n",
      " Series from Python list:\n",
      " 0    10\n",
      "1    20\n",
      "2    30\n",
      "3    40\n",
      "dtype: int64\n",
      "\n",
      " Series from NumPy array:\n",
      " 0    10\n",
      "1    20\n",
      "2    30\n",
      "3    40\n",
      "dtype: int32\n",
      "\n",
      " Series from dictionary:\n",
      " a    10\n",
      "b    20\n",
      "c    30\n",
      "dtype: int64\n"
     ]
    }
   ],
   "source": [
    "# 1. Create a Pandas Series from a Python list, numpy array, and a dictionary.\n",
    "python_list = [10, 20, 30, 40]\n",
    "series_from_list = pd.Series(python_list)\n",
    "print(\"\\n Series from Python list:\\n\", series_from_list)\n",
    "\n",
    "numpy_array = np.array([10, 20, 30, 40])\n",
    "series_from_array = pd.Series(numpy_array)\n",
    "print(\"\\n Series from NumPy array:\\n\", series_from_array)\n",
    "\n",
    "dict_data = {'a': 10, 'b': 20, 'c': 30}\n",
    "series_from_dict = pd.Series(dict_data)\n",
    "print(\"\\n Series from dictionary:\\n\", series_from_dict)\n"
   ]
  },
  {
   "cell_type": "code",
   "execution_count": 6,
   "id": "0c0b7b9d-140d-4209-9fd1-2ae67e4f5ce7",
   "metadata": {},
   "outputs": [
    {
     "name": "stdout",
     "output_type": "stream",
     "text": [
      "\n",
      " Series with custom index:\n",
      " x    10\n",
      "y    20\n",
      "z    30\n",
      "w    40\n",
      "dtype: int64\n"
     ]
    }
   ],
   "source": [
    "# 2. Assign a custom index to the Series.\n",
    "custom_index_series = pd.Series(python_list, index=['x', 'y', 'z', 'w'])\n",
    "print(\"\\n Series with custom index:\\n\", custom_index_series)\n"
   ]
  },
  {
   "cell_type": "code",
   "execution_count": 22,
   "id": "83e1bb47-cbaf-4b1e-af27-aafda0db3c35",
   "metadata": {},
   "outputs": [
    {
     "name": "stdout",
     "output_type": "stream",
     "text": [
      "\n",
      " Addition of two Series:\n",
      " 0    11\n",
      "1    22\n",
      "2    33\n",
      "3    44\n",
      "dtype: int64\n",
      "\n",
      " Subtraction of two Series:\n",
      " 0    -9\n",
      "1   -18\n",
      "2   -27\n",
      "3   -36\n",
      "dtype: int64\n"
     ]
    }
   ],
   "source": [
    "# 3. Perform basic arithmetic operations on Series.\n",
    "series_a = pd.Series([1, 2, 3, 4])\n",
    "series_b = pd.Series([10, 20, 30, 40])\n",
    "\n",
    "addition_result = series_a + series_b\n",
    "print(\"\\n Addition of two Series:\\n\", addition_result)\n",
    "\n",
    "lt = series_a - series_b\n",
    "print(\"\\n Subtraction of two Series:\\n\", subtraction_result)\n"
   ]
  },
  {
   "cell_type": "code",
   "execution_count": 16,
   "id": "39666b67-f6f9-4de3-a2b0-d98001a2e1ea",
   "metadata": {},
   "outputs": [
    {
     "name": "stdout",
     "output_type": "stream",
     "text": [
      "\n",
      " Element by label 'x': 10\n",
      "\n",
      " Element by position 0: 10\n"
     ]
    }
   ],
   "source": [
    "# 4. Access elements using index labels and positions.\n",
    "\n",
    "element_by_label = custom_index_series['x']\n",
    "print(\"\\n Element by label 'x':\", element_by_label)\n",
    "\n",
    "element_by_position = custom_index_series.iloc[0]\n",
    "print(\"\\n Element by position 0:\", element_by_position)\n"
   ]
  },
  {
   "cell_type": "code",
   "execution_count": 18,
   "id": "1a54c051-6402-44c7-9e07-da4c7e497472",
   "metadata": {},
   "outputs": [
    {
     "name": "stdout",
     "output_type": "stream",
     "text": [
      "\n",
      " Filtered Series with values greater than 20:\n",
      " z    30\n",
      "w    40\n",
      "dtype: int64\n"
     ]
    }
   ],
   "source": [
    "# 5. Filter the Series to include only values greater than a specific threshold.\n",
    "filtered_series = custom_index_series[custom_index_series > 20]\n",
    "print(\"\\n Filtered Series with values greater than 20:\\n\", filtered_series)\n"
   ]
  },
  {
   "cell_type": "code",
   "execution_count": 48,
   "id": "53304a2e-b9dd-491a-8d65-b82c608c124b",
   "metadata": {},
   "outputs": [
    {
     "name": "stdout",
     "output_type": "stream",
     "text": [
      "\n",
      " DataFrame from dictionary of lists:\n",
      "       Name  Age         City\n",
      "0    Alice   25     New York\n",
      "1      Bob   30  Los Angeles\n",
      "2  Charlie   35      Chicago\n",
      "3    David   40      Houston\n"
     ]
    }
   ],
   "source": [
    "# 6. Create a DataFrame from a dictionary of lists.\n",
    "\n",
    "data_dict = {\n",
    "    'Name': ['Alice', 'Bob', 'Charlie', 'David'],\n",
    "    'Age': [25, 30, 35, 40],\n",
    "    'City': ['New York', 'Los Angeles', 'Chicago', 'Houston']\n",
    "}\n",
    "\n",
    "df_from_dict = pd.DataFrame(data_dict)\n",
    "print(\"\\n DataFrame from dictionary of lists:\\n\", df_from_dict)\n"
   ]
  },
  {
   "cell_type": "code",
   "execution_count": 46,
   "id": "ecd1edb0-fdb5-40cd-a2a8-7787ac71f93f",
   "metadata": {},
   "outputs": [
    {
     "name": "stdout",
     "output_type": "stream",
     "text": [
      "\n",
      " DataFrame from NumPy array with column and index names:\n",
      "        A   B   C\n",
      "Row1  10  20  30\n",
      "Row2  40  50  60\n",
      "Row3  70  80  90\n"
     ]
    }
   ],
   "source": [
    "# 7. Create a DataFrame from a numpy array, specifying column and index names.\n",
    "numpy_array = np.array([\n",
    "    [10, 20, 30],\n",
    "    [40, 50, 60],\n",
    "    [70, 80, 90]\n",
    "])\n",
    "\n",
    "columns = ['A', 'B', 'C']\n",
    "index = ['Row1', 'Row2', 'Row3']\n",
    "\n",
    "# Create DataFrame\n",
    "df_from_array = pd.DataFrame(numpy_array, columns=columns, index=index)\n",
    "print(\"\\n DataFrame from NumPy array with column and index names:\\n\", df_from_array)"
   ]
  },
  {
   "cell_type": "code",
   "execution_count": 28,
   "id": "44a7ca3c-9e2d-4c8b-9b7a-f7147fb5e069",
   "metadata": {},
   "outputs": [
    {
     "name": "stdout",
     "output_type": "stream",
     "text": [
      "\n",
      " DataFrame loaded from CSV file:\n",
      "       Name  Age         City Grade\n",
      "0    Alice   25     New York     A\n",
      "1      Bob   30  Los Angeles     B\n",
      "2  Charlie   35      Chicago     A\n",
      "3    David   40      Houston     C\n",
      "4      Eve   22        Miami     B\n"
     ]
    }
   ],
   "source": [
    "# 8. Load a DataFrame from a CSV file.\n",
    "df = pd.read_csv('students.csv')\n",
    "print(\"\\n DataFrame loaded from CSV file:\\n\", df)"
   ]
  },
  {
   "cell_type": "code",
   "execution_count": 30,
   "id": "0ca632b4-a796-495b-a15f-9dcc59f1f469",
   "metadata": {},
   "outputs": [
    {
     "name": "stdout",
     "output_type": "stream",
     "text": [
      "First five rows of DataFrame:\n",
      "       Name  Age         City Grade\n",
      "0    Alice   25     New York     A\n",
      "1      Bob   30  Los Angeles     B\n",
      "2  Charlie   35      Chicago     A\n",
      "3    David   40      Houston     C\n",
      "4      Eve   22        Miami     B\n",
      "Last five rows of DataFrame:\n",
      "       Name  Age         City Grade\n",
      "0    Alice   25     New York     A\n",
      "1      Bob   30  Los Angeles     B\n",
      "2  Charlie   35      Chicago     A\n",
      "3    David   40      Houston     C\n",
      "4      Eve   22        Miami     B\n"
     ]
    }
   ],
   "source": [
    "# 9. Display the first and last five rows of the DataFrame.\n",
    "print(\"First five rows of DataFrame:\\n\", df.head())\n",
    "print(\"Last five rows of DataFrame:\\n\", df.tail())"
   ]
  },
  {
   "cell_type": "code",
   "execution_count": 32,
   "id": "e2e34daa-366b-42e9-b123-bc124f0e86f8",
   "metadata": {},
   "outputs": [
    {
     "name": "stdout",
     "output_type": "stream",
     "text": [
      "\n",
      "Summary of DataFrame:\n",
      "              Age\n",
      "count   5.000000\n",
      "mean   30.400000\n",
      "std     7.300685\n",
      "min    22.000000\n",
      "25%    25.000000\n",
      "50%    30.000000\n",
      "75%    35.000000\n",
      "max    40.000000\n",
      "\n",
      "Mean of numeric columns:\n",
      " Age    30.4\n",
      "dtype: float64\n",
      "\n",
      "Median of numeric columns:\n",
      " Age    30.0\n",
      "dtype: float64\n",
      "\n",
      "Standard deviation of numeric columns:\n",
      " Age    7.300685\n",
      "dtype: float64\n"
     ]
    }
   ],
   "source": [
    "# 10. Get a summary of the DataFrame including the mean, median, and standard deviation of numeric columns.\n",
    "\n",
    "print(\"\\nSummary of DataFrame:\\n\", df.describe())\n",
    "\n",
    "print(\"\\nMean of numeric columns:\\n\", df.mean(numeric_only=True))\n",
    "\n",
    "print(\"\\nMedian of numeric columns:\\n\", df.median(numeric_only=True))\n",
    "\n",
    "print(\"\\nStandard deviation of numeric columns:\\n\", df.std(numeric_only=True))\n"
   ]
  },
  {
   "cell_type": "code",
   "execution_count": 34,
   "id": "d262712d-3683-45c3-91cd-13b721997905",
   "metadata": {},
   "outputs": [
    {
     "name": "stdout",
     "output_type": "stream",
     "text": [
      "\n",
      "Column 'Age' as a Series:\n",
      " 0    25\n",
      "1    30\n",
      "2    35\n",
      "3    40\n",
      "4    22\n",
      "Name: Age, dtype: int64\n"
     ]
    }
   ],
   "source": [
    "# 11. Extract a specific column as a Series.\n",
    "age_series = df['Age']\n",
    "print(\"\\nColumn 'Age' as a Series:\\n\", age_series)"
   ]
  },
  {
   "cell_type": "code",
   "execution_count": 36,
   "id": "976f2257-605f-4237-8f5f-eb30fe7237c6",
   "metadata": {},
   "outputs": [
    {
     "name": "stdout",
     "output_type": "stream",
     "text": [
      "\n",
      "Filtered rows where Age > 25:\n",
      "       Name  Age         City Grade\n",
      "1      Bob   30  Los Angeles     B\n",
      "2  Charlie   35      Chicago     A\n",
      "3    David   40      Houston     C\n"
     ]
    }
   ],
   "source": [
    "# 12. Filter rows based on column values.\n",
    "filtered_df = df[df['Age'] > 25]\n",
    "print(\"\\nFiltered rows where Age > 25:\\n\", filtered_df)"
   ]
  },
  {
   "cell_type": "code",
   "execution_count": 38,
   "id": "914ad2e9-20e4-493f-92d5-c0f72c209a9a",
   "metadata": {},
   "outputs": [
    {
     "name": "stdout",
     "output_type": "stream",
     "text": [
      "\n",
      "Rows where Age > 25 and City is 'New York':\n",
      " Empty DataFrame\n",
      "Columns: [Name, Age, City, Grade]\n",
      "Index: []\n"
     ]
    }
   ],
   "source": [
    "# 13. Select rows based on multiple conditions.\n",
    "\n",
    "filtered_multiple_conditions_df = df[(df['Age'] > 25) & (df['City'] == 'New York')]\n",
    "print(\"\\nRows where Age > 25 and City is 'New York':\\n\", filtered_multiple_conditions_df)"
   ]
  },
  {
   "cell_type": "code",
   "execution_count": 40,
   "id": "722b1dea-2e30-47b8-849a-88aa41f36beb",
   "metadata": {},
   "outputs": [
    {
     "name": "stdout",
     "output_type": "stream",
     "text": [
      "\n",
      "Number of rows in the DataFrame: 5\n",
      "\n",
      "DataFrame with new column 'Grade':\n",
      "       Name  Age         City  Grade\n",
      "0    Alice   25     New York     85\n",
      "1      Bob   30  Los Angeles     90\n",
      "2  Charlie   35      Chicago     95\n",
      "3    David   40      Houston     80\n",
      "4      Eve   22        Miami     70\n"
     ]
    }
   ],
   "source": [
    "# 14. Add a new column to the DataFrame.\n",
    "\n",
    "num_rows = df.shape[0]\n",
    "print(\"\\nNumber of rows in the DataFrame:\", num_rows)\n",
    "\n",
    "grades = [85, 90, 95, 80, 70]\n",
    "\n",
    "if len(grades) == num_rows:\n",
    "    df['Grade'] = grades\n",
    "    print(\"\\nDataFrame with new column 'Grade':\\n\", df)\n",
    "else:\n",
    "    print(f\"\\nLength mismatch: DataFrame has {num_rows} rows, but 'grades' has {len(grades)} elements.\")"
   ]
  },
  {
   "cell_type": "code",
   "execution_count": 42,
   "id": "56d2b9af-1501-4eca-bd90-3cb872e68448",
   "metadata": {},
   "outputs": [
    {
     "name": "stdout",
     "output_type": "stream",
     "text": [
      "\n",
      "DataFrame after deleting column 'Grade':\n",
      "       Name  Age         City\n",
      "0    Alice   25     New York\n",
      "1      Bob   30  Los Angeles\n",
      "2  Charlie   35      Chicago\n",
      "3    David   40      Houston\n",
      "4      Eve   22        Miami\n"
     ]
    }
   ],
   "source": [
    "# 15. Delete a column from the DataFrame.\n",
    "df.drop('Grade', axis=1, inplace=True)\n",
    "print(\"\\nDataFrame after deleting column 'Grade':\\n\", df)"
   ]
  },
  {
   "cell_type": "code",
   "execution_count": 44,
   "id": "2d9420f9-148d-4301-9d60-de211ca0933e",
   "metadata": {},
   "outputs": [
    {
     "name": "stdout",
     "output_type": "stream",
     "text": [
      "\n",
      "DataFrame with renamed columns:\n",
      "   Student Name  Student Age     Hometown\n",
      "0        Alice           25     New York\n",
      "1          Bob           30  Los Angeles\n",
      "2      Charlie           35      Chicago\n",
      "3        David           40      Houston\n",
      "4          Eve           22        Miami\n"
     ]
    }
   ],
   "source": [
    "# 16. Rename columns in the DataFrame.\n",
    "df.rename(columns={'Name': 'Student Name', 'Age': 'Student Age', 'City': 'Hometown'}, inplace=True)\n",
    "print(\"\\nDataFrame with renamed columns:\\n\", df)"
   ]
  }
 ],
 "metadata": {
  "kernelspec": {
   "display_name": "Python 3 (ipykernel)",
   "language": "python",
   "name": "python3"
  },
  "language_info": {
   "codemirror_mode": {
    "name": "ipython",
    "version": 3
   },
   "file_extension": ".py",
   "mimetype": "text/x-python",
   "name": "python",
   "nbconvert_exporter": "python",
   "pygments_lexer": "ipython3",
   "version": "3.11.7"
  }
 },
 "nbformat": 4,
 "nbformat_minor": 5
}
