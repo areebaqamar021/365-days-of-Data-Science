{
 "cells": [
  {
   "cell_type": "markdown",
   "id": "a7b27f48-1acf-48b7-a405-5b7b346f0108",
   "metadata": {},
   "source": [
    "## DATA WRANGLING"
   ]
  },
  {
   "cell_type": "code",
   "execution_count": 3,
   "id": "5365ce89-af7f-43ba-be89-c90ee1ae705e",
   "metadata": {},
   "outputs": [],
   "source": [
    "import pandas as pd\n",
    "import numpy as np"
   ]
  },
  {
   "cell_type": "code",
   "execution_count": 11,
   "id": "ee69dfe9-e4aa-4a32-b514-a4fe86b6f0b7",
   "metadata": {},
   "outputs": [
    {
     "name": "stdout",
     "output_type": "stream",
     "text": [
      "DataFrame 1:\n",
      "   id     name  age\n",
      "0   1    Alice   24\n",
      "1   2      Bob   27\n",
      "2   3  Charlie   22\n",
      "3   4    David   32\n",
      "\n",
      "DataFrame 2:\n",
      "   id     name  salary\n",
      "0   3  Charlie   50000\n",
      "1   4    David   60000\n",
      "2   5   Edward   70000\n",
      "3   6    Frank   80000\n"
     ]
    }
   ],
   "source": [
    "# Create DataFrame 1\n",
    "data1 = {\n",
    "    'id': [1, 2, 3, 4],\n",
    "    'name': ['Alice', 'Bob', 'Charlie', 'David'],\n",
    "    'age': [24, 27, 22, 32]\n",
    "}\n",
    "df1 = pd.DataFrame(data1)\n",
    "\n",
    "# Create DataFrame 2\n",
    "data2 = {\n",
    "    'id': [3, 4, 5, 6],\n",
    "    'name': ['Charlie', 'David', 'Edward', 'Frank'],\n",
    "    'salary': [50000, 60000, 70000, 80000]\n",
    "}\n",
    "df2 = pd.DataFrame(data2)\n",
    "\n",
    "print(\"DataFrame 1:\")\n",
    "print(df1)\n",
    "print(\"\\nDataFrame 2:\")\n",
    "print(df2)\n"
   ]
  },
  {
   "cell_type": "code",
   "execution_count": 15,
   "id": "ba38c048-5771-442e-bd76-3bc011cdacae",
   "metadata": {},
   "outputs": [
    {
     "name": "stdout",
     "output_type": "stream",
     "text": [
      "\n",
      "Merged on single key (id):\n",
      "   id   name_x  age   name_y  salary\n",
      "0   3  Charlie   22  Charlie   50000\n",
      "1   4    David   32    David   60000\n"
     ]
    }
   ],
   "source": [
    "#1. Merge two DataFrames on a single key.\n",
    "\n",
    "df_merged_single_key = pd.merge(df1, df2, on='id')\n",
    "print(\"\\nMerged on single key (id):\")\n",
    "print(df_merged_single_key)\n"
   ]
  },
  {
   "cell_type": "code",
   "execution_count": 17,
   "id": "4e068e61-7b94-4e6e-97a9-2597234dc6fb",
   "metadata": {},
   "outputs": [
    {
     "name": "stdout",
     "output_type": "stream",
     "text": [
      "\n",
      "Merged on multiple keys (id and dept):\n",
      "   id   name_x  age     dept   name_y  salary\n",
      "0   3  Charlie   22  Finance  Charlie   50000\n",
      "1   4    David   32       IT    David   60000\n"
     ]
    }
   ],
   "source": [
    "#2. Merge two DataFrames on multiple keys.\n",
    "\n",
    "df1['dept'] = ['HR', 'IT', 'Finance', 'IT']\n",
    "df2['dept'] = ['Finance', 'IT', 'HR', 'Finance']\n",
    "\n",
    "df_merged_multiple_keys = pd.merge(df1, df2, on=['id', 'dept'])\n",
    "print(\"\\nMerged on multiple keys (id and dept):\")\n",
    "print(df_merged_multiple_keys)\n"
   ]
  },
  {
   "cell_type": "code",
   "execution_count": 21,
   "id": "817e3118-e08e-4240-994f-c869e73c3ba5",
   "metadata": {},
   "outputs": [
    {
     "name": "stdout",
     "output_type": "stream",
     "text": [
      "\n",
      "Outer Join:\n",
      "   id   name_x   age   dept_x   name_y   salary   dept_y\n",
      "0   1    Alice  24.0       HR      NaN      NaN      NaN\n",
      "1   2      Bob  27.0       IT      NaN      NaN      NaN\n",
      "2   3  Charlie  22.0  Finance  Charlie  50000.0  Finance\n",
      "3   4    David  32.0       IT    David  60000.0       IT\n",
      "4   5      NaN   NaN      NaN   Edward  70000.0       HR\n",
      "5   6      NaN   NaN      NaN    Frank  80000.0  Finance\n",
      "\n",
      "Inner Join:\n",
      "   id   name_x  age   dept_x   name_y  salary   dept_y\n",
      "0   3  Charlie   22  Finance  Charlie   50000  Finance\n",
      "1   4    David   32       IT    David   60000       IT\n",
      "\n",
      "Left Join:\n",
      "   id   name_x  age   dept_x   name_y   salary   dept_y\n",
      "0   1    Alice   24       HR      NaN      NaN      NaN\n",
      "1   2      Bob   27       IT      NaN      NaN      NaN\n",
      "2   3  Charlie   22  Finance  Charlie  50000.0  Finance\n",
      "3   4    David   32       IT    David  60000.0       IT\n",
      "\n",
      "Right Join:\n",
      "   id   name_x   age   dept_x   name_y  salary   dept_y\n",
      "0   3  Charlie  22.0  Finance  Charlie   50000  Finance\n",
      "1   4    David  32.0       IT    David   60000       IT\n",
      "2   5      NaN   NaN      NaN   Edward   70000       HR\n",
      "3   6      NaN   NaN      NaN    Frank   80000  Finance\n"
     ]
    }
   ],
   "source": [
    "#3. Perform an outer join, inner join, left join, and right join.\n",
    "df_outer_join = pd.merge(df1, df2, on='id', how='outer')\n",
    "print(\"\\nOuter Join:\")\n",
    "print(df_outer_join)\n",
    "\n",
    "df_inner_join = pd.merge(df1, df2, on='id', how='inner')\n",
    "print(\"\\nInner Join:\")\n",
    "print(df_inner_join)\n",
    "\n",
    "df_left_join = pd.merge(df1, df2, on='id', how='left')\n",
    "print(\"\\nLeft Join:\")\n",
    "print(df_left_join)\n",
    "\n",
    "df_right_join = pd.merge(df1, df2, on='id', how='right')\n",
    "print(\"\\nRight Join:\")\n",
    "print(df_right_join)\n"
   ]
  },
  {
   "cell_type": "code",
   "execution_count": 25,
   "id": "118f54b0-fb82-439d-848f-87f45874300e",
   "metadata": {},
   "outputs": [
    {
     "name": "stdout",
     "output_type": "stream",
     "text": [
      "\n",
      "Concatenate along rows:\n",
      "   id     name   age     dept   salary\n",
      "0   1    Alice  24.0       HR      NaN\n",
      "1   2      Bob  27.0       IT      NaN\n",
      "2   3  Charlie  22.0  Finance      NaN\n",
      "3   4    David  32.0       IT      NaN\n",
      "4   3  Charlie   NaN  Finance  50000.0\n",
      "5   4    David   NaN       IT  60000.0\n",
      "6   5   Edward   NaN       HR  70000.0\n",
      "7   6    Frank   NaN  Finance  80000.0\n"
     ]
    }
   ],
   "source": [
    "#4. Concatenate two DataFrames along rows.\n",
    "df_concat_rows = pd.concat([df1, df2], ignore_index=True)\n",
    "print(\"\\nConcatenate along rows:\")\n",
    "print(df_concat_rows)\n"
   ]
  },
  {
   "cell_type": "code",
   "execution_count": 27,
   "id": "5e1bcf8b-92de-4a7a-85df-365a1d52c497",
   "metadata": {},
   "outputs": [
    {
     "name": "stdout",
     "output_type": "stream",
     "text": [
      "\n",
      "Concatenate along columns:\n",
      "   id     name  age     dept  id     name  salary     dept\n",
      "0   1    Alice   24       HR   3  Charlie   50000  Finance\n",
      "1   2      Bob   27       IT   4    David   60000       IT\n",
      "2   3  Charlie   22  Finance   5   Edward   70000       HR\n",
      "3   4    David   32       IT   6    Frank   80000  Finance\n"
     ]
    }
   ],
   "source": [
    "#5. Concatenate two DataFrames along columns.\n",
    "df_concat_cols = pd.concat([df1, df2], axis=1)\n",
    "print(\"\\nConcatenate along columns:\")\n",
    "print(df_concat_cols)\n"
   ]
  },
  {
   "cell_type": "code",
   "execution_count": 29,
   "id": "5162e7f7-d8f1-4ea6-b1f3-29ca0aa6872e",
   "metadata": {},
   "outputs": [
    {
     "name": "stdout",
     "output_type": "stream",
     "text": [
      "\n",
      "Concatenate list of DataFrames:\n",
      "    id     name   age     dept   salary\n",
      "0    1    Alice  24.0       HR      NaN\n",
      "1    2      Bob  27.0       IT      NaN\n",
      "2    3  Charlie  22.0  Finance      NaN\n",
      "3    4    David  32.0       IT      NaN\n",
      "4    3  Charlie   NaN  Finance  50000.0\n",
      "5    4    David   NaN       IT  60000.0\n",
      "6    5   Edward   NaN       HR  70000.0\n",
      "7    6    Frank   NaN  Finance  80000.0\n",
      "8    1    Alice  24.0       HR      NaN\n",
      "9    2      Bob  27.0       IT      NaN\n",
      "10   3  Charlie  22.0  Finance      NaN\n",
      "11   4    David  32.0       IT      NaN\n"
     ]
    }
   ],
   "source": [
    "#6.Concatenate a list of DataFrames.\n",
    "\n",
    "df_list = [df1, df2, df1]\n",
    "\n",
    "df_concat_list = pd.concat(df_list, ignore_index=True)\n",
    "print(\"\\nConcatenate list of DataFrames:\")\n",
    "print(df_concat_list)\n"
   ]
  },
  {
   "cell_type": "code",
   "execution_count": 31,
   "id": "edcfeab0-cd39-4189-af04-79befeff2e0b",
   "metadata": {},
   "outputs": [
    {
     "name": "stdout",
     "output_type": "stream",
     "text": [
      "\n",
      "Melted DataFrame (wide to long):\n",
      "   id variable    value\n",
      "0   1     name    Alice\n",
      "1   2     name      Bob\n",
      "2   3     name  Charlie\n",
      "3   4     name    David\n",
      "4   1      age       24\n",
      "5   2      age       27\n",
      "6   3      age       22\n",
      "7   4      age       32\n"
     ]
    }
   ],
   "source": [
    "#7. Reshape data using the melt function to go from wide to long format.\n",
    "\n",
    "df_melted = pd.melt(df1, id_vars=['id'], value_vars=['name', 'age'])\n",
    "print(\"\\nMelted DataFrame (wide to long):\")\n",
    "print(df_melted)\n"
   ]
  },
  {
   "cell_type": "code",
   "execution_count": 35,
   "id": "0f94469c-9e06-48f7-8c95-c2680772e06b",
   "metadata": {},
   "outputs": [
    {
     "name": "stdout",
     "output_type": "stream",
     "text": [
      "\n",
      "Pivot table summarizing average age by department:\n",
      "          age\n",
      "dept         \n",
      "Finance  22.0\n",
      "HR       24.0\n",
      "IT       29.5\n"
     ]
    }
   ],
   "source": [
    "#8. Create a pivot table to summarize data.\n",
    "\n",
    "df_pivot = df1.pivot_table(index='dept', values='age', aggfunc='mean')\n",
    "print(\"\\nPivot table summarizing average age by department:\")\n",
    "print(df_pivot)\n"
   ]
  },
  {
   "cell_type": "code",
   "execution_count": 37,
   "id": "9a899f1d-0812-47a3-9d31-7f8cb8b261cf",
   "metadata": {},
   "outputs": [
    {
     "name": "stdout",
     "output_type": "stream",
     "text": [
      "\n",
      "Grouped data with aggregation functions (sum, mean, count):\n",
      "        age            \n",
      "        sum  mean count\n",
      "dept                   \n",
      "Finance  22  22.0     1\n",
      "HR       24  24.0     1\n",
      "IT       59  29.5     2\n"
     ]
    }
   ],
   "source": [
    "#9. Group data by one or more columns and perform aggregation functions (e.g., sum, mean, count).\n",
    "df_grouped = df1.groupby('dept').agg({\n",
    "    'age': ['sum', 'mean', 'count']\n",
    "})\n",
    "print(\"\\nGrouped data with aggregation functions (sum, mean, count):\")\n",
    "print(df_grouped)\n"
   ]
  },
  {
   "cell_type": "code",
   "execution_count": 39,
   "id": "53a2c75f-a90a-4026-8fb3-29b5f69ec182",
   "metadata": {},
   "outputs": [
    {
     "name": "stdout",
     "output_type": "stream",
     "text": [
      "\n",
      "Grouped data with multiple aggregation functions:\n",
      "        age              \n",
      "        sum  mean max min\n",
      "dept                     \n",
      "Finance  22  22.0  22  22\n",
      "HR       24  24.0  24  24\n",
      "IT       59  29.5  32  27\n"
     ]
    }
   ],
   "source": [
    "#10. Apply multiple aggregation functions to grouped data.\n",
    "df_grouped_multi = df1.groupby('dept').agg({\n",
    "    'age': ['sum', 'mean', 'max', 'min']\n",
    "})\n",
    "print(\"\\nGrouped data with multiple aggregation functions:\")\n",
    "print(df_grouped_multi)\n"
   ]
  },
  {
   "cell_type": "code",
   "execution_count": 41,
   "id": "0b336d39-4542-44c1-a622-d9bcba671cdd",
   "metadata": {},
   "outputs": [
    {
     "name": "stdout",
     "output_type": "stream",
     "text": [
      "\n",
      "Grouped data with custom aggregation function (range of ages):\n",
      "         age\n",
      "dept        \n",
      "Finance    0\n",
      "HR         0\n",
      "IT         5\n"
     ]
    }
   ],
   "source": [
    "#11. Use the groupby function to group data and apply custom functions.\n",
    "# Define a custom function\n",
    "def custom_agg(series):\n",
    "    return series.max() - series.min()\n",
    "\n",
    "# Group by 'dept' and apply custom function to 'age'\n",
    "df_grouped_custom = df1.groupby('dept').agg({\n",
    "    'age': custom_agg\n",
    "})\n",
    "print(\"\\nGrouped data with custom aggregation function (range of ages):\")\n",
    "print(df_grouped_custom)\n"
   ]
  }
 ],
 "metadata": {
  "kernelspec": {
   "display_name": "Python 3 (ipykernel)",
   "language": "python",
   "name": "python3"
  },
  "language_info": {
   "codemirror_mode": {
    "name": "ipython",
    "version": 3
   },
   "file_extension": ".py",
   "mimetype": "text/x-python",
   "name": "python",
   "nbconvert_exporter": "python",
   "pygments_lexer": "ipython3",
   "version": "3.11.7"
  }
 },
 "nbformat": 4,
 "nbformat_minor": 5
}
