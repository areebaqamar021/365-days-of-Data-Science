{
 "cells": [
  {
   "cell_type": "markdown",
   "id": "a7b27f48-1acf-48b7-a405-5b7b346f0108",
   "metadata": {},
   "source": [
    "## DATA WRANGLING"
   ]
  },
  {
   "cell_type": "code",
   "execution_count": 3,
   "id": "5365ce89-af7f-43ba-be89-c90ee1ae705e",
   "metadata": {},
   "outputs": [],
   "source": [
    "import pandas as pd\n",
    "import numpy as np"
   ]
  },
  {
   "cell_type": "code",
   "execution_count": 11,
   "id": "ee69dfe9-e4aa-4a32-b514-a4fe86b6f0b7",
   "metadata": {},
   "outputs": [
    {
     "name": "stdout",
     "output_type": "stream",
     "text": [
      "DataFrame 1:\n",
      "   id     name  age\n",
      "0   1    Alice   24\n",
      "1   2      Bob   27\n",
      "2   3  Charlie   22\n",
      "3   4    David   32\n",
      "\n",
      "DataFrame 2:\n",
      "   id     name  salary\n",
      "0   3  Charlie   50000\n",
      "1   4    David   60000\n",
      "2   5   Edward   70000\n",
      "3   6    Frank   80000\n"
     ]
    }
   ],
   "source": [
    "# Create DataFrame 1\n",
    "data1 = {\n",
    "    'id': [1, 2, 3, 4],\n",
    "    'name': ['Alice', 'Bob', 'Charlie', 'David'],\n",
    "    'age': [24, 27, 22, 32]\n",
    "}\n",
    "df1 = pd.DataFrame(data1)\n",
    "\n",
    "# Create DataFrame 2\n",
    "data2 = {\n",
    "    'id': [3, 4, 5, 6],\n",
    "    'name': ['Charlie', 'David', 'Edward', 'Frank'],\n",
    "    'salary': [50000, 60000, 70000, 80000]\n",
    "}\n",
    "df2 = pd.DataFrame(data2)\n",
    "\n",
    "print(\"DataFrame 1:\")\n",
    "print(df1)\n",
    "print(\"\\nDataFrame 2:\")\n",
    "print(df2)\n"
   ]
  },
  {
   "cell_type": "code",
   "execution_count": 15,
   "id": "ba38c048-5771-442e-bd76-3bc011cdacae",
   "metadata": {},
   "outputs": [
    {
     "name": "stdout",
     "output_type": "stream",
     "text": [
      "\n",
      "Merged on single key (id):\n",
      "   id   name_x  age   name_y  salary\n",
      "0   3  Charlie   22  Charlie   50000\n",
      "1   4    David   32    David   60000\n"
     ]
    }
   ],
   "source": [
    "#1. Merge two DataFrames on a single key.\n",
    "\n",
    "df_merged_single_key = pd.merge(df1, df2, on='id')\n",
    "print(\"\\nMerged on single key (id):\")\n",
    "print(df_merged_single_key)\n"
   ]
  },
  {
   "cell_type": "code",
   "execution_count": 17,
   "id": "4e068e61-7b94-4e6e-97a9-2597234dc6fb",
   "metadata": {},
   "outputs": [
    {
     "name": "stdout",
     "output_type": "stream",
     "text": [
      "\n",
      "Merged on multiple keys (id and dept):\n",
      "   id   name_x  age     dept   name_y  salary\n",
      "0   3  Charlie   22  Finance  Charlie   50000\n",
      "1   4    David   32       IT    David   60000\n"
     ]
    }
   ],
   "source": [
    "#2. Merge two DataFrames on multiple keys.\n",
    "\n",
    "df1['dept'] = ['HR', 'IT', 'Finance', 'IT']\n",
    "df2['dept'] = ['Finance', 'IT', 'HR', 'Finance']\n",
    "\n",
    "df_merged_multiple_keys = pd.merge(df1, df2, on=['id', 'dept'])\n",
    "print(\"\\nMerged on multiple keys (id and dept):\")\n",
    "print(df_merged_multiple_keys)\n"
   ]
  },
  {
   "cell_type": "code",
   "execution_count": 21,
   "id": "817e3118-e08e-4240-994f-c869e73c3ba5",
   "metadata": {},
   "outputs": [
    {
     "name": "stdout",
     "output_type": "stream",
     "text": [
      "\n",
      "Outer Join:\n",
      "   id   name_x   age   dept_x   name_y   salary   dept_y\n",
      "0   1    Alice  24.0       HR      NaN      NaN      NaN\n",
      "1   2      Bob  27.0       IT      NaN      NaN      NaN\n",
      "2   3  Charlie  22.0  Finance  Charlie  50000.0  Finance\n",
      "3   4    David  32.0       IT    David  60000.0       IT\n",
      "4   5      NaN   NaN      NaN   Edward  70000.0       HR\n",
      "5   6      NaN   NaN      NaN    Frank  80000.0  Finance\n",
      "\n",
      "Inner Join:\n",
      "   id   name_x  age   dept_x   name_y  salary   dept_y\n",
      "0   3  Charlie   22  Finance  Charlie   50000  Finance\n",
      "1   4    David   32       IT    David   60000       IT\n",
      "\n",
      "Left Join:\n",
      "   id   name_x  age   dept_x   name_y   salary   dept_y\n",
      "0   1    Alice   24       HR      NaN      NaN      NaN\n",
      "1   2      Bob   27       IT      NaN      NaN      NaN\n",
      "2   3  Charlie   22  Finance  Charlie  50000.0  Finance\n",
      "3   4    David   32       IT    David  60000.0       IT\n",
      "\n",
      "Right Join:\n",
      "   id   name_x   age   dept_x   name_y  salary   dept_y\n",
      "0   3  Charlie  22.0  Finance  Charlie   50000  Finance\n",
      "1   4    David  32.0       IT    David   60000       IT\n",
      "2   5      NaN   NaN      NaN   Edward   70000       HR\n",
      "3   6      NaN   NaN      NaN    Frank   80000  Finance\n"
     ]
    }
   ],
   "source": [
    "#3. Perform an outer join, inner join, left join, and right join.\n",
    "df_outer_join = pd.merge(df1, df2, on='id', how='outer')\n",
    "print(\"\\nOuter Join:\")\n",
    "print(df_outer_join)\n",
    "\n",
    "df_inner_join = pd.merge(df1, df2, on='id', how='inner')\n",
    "print(\"\\nInner Join:\")\n",
    "print(df_inner_join)\n",
    "\n",
    "df_left_join = pd.merge(df1, df2, on='id', how='left')\n",
    "print(\"\\nLeft Join:\")\n",
    "print(df_left_join)\n",
    "\n",
    "df_right_join = pd.merge(df1, df2, on='id', how='right')\n",
    "print(\"\\nRight Join:\")\n",
    "print(df_right_join)\n"
   ]
  },
  {
   "cell_type": "code",
   "execution_count": null,
   "id": "118f54b0-fb82-439d-848f-87f45874300e",
   "metadata": {},
   "outputs": [],
   "source": []
  }
 ],
 "metadata": {
  "kernelspec": {
   "display_name": "Python 3 (ipykernel)",
   "language": "python",
   "name": "python3"
  },
  "language_info": {
   "codemirror_mode": {
    "name": "ipython",
    "version": 3
   },
   "file_extension": ".py",
   "mimetype": "text/x-python",
   "name": "python",
   "nbconvert_exporter": "python",
   "pygments_lexer": "ipython3",
   "version": "3.11.7"
  }
 },
 "nbformat": 4,
 "nbformat_minor": 5
}
