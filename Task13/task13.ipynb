{
 "cells": [
  {
   "cell_type": "markdown",
   "id": "416d3998-dc48-45aa-af8e-b044fed05374",
   "metadata": {},
   "source": [
    "## Data manipulation with Pandas (indexing, selection, grouping)\n"
   ]
  },
  {
   "cell_type": "code",
   "execution_count": 2,
   "id": "df26a384-8878-44f7-9e38-c93cf61b1af4",
   "metadata": {},
   "outputs": [],
   "source": [
    "import pandas as pd\n",
    "df = pd.read_csv('titanic.csv')"
   ]
  },
  {
   "cell_type": "code",
   "execution_count": 4,
   "id": "db75532e-aa90-4b6c-bca5-9c6532ecd52c",
   "metadata": {},
   "outputs": [
    {
     "name": "stdout",
     "output_type": "stream",
     "text": [
      "First five rows of DataFrame:\n",
      "    PassengerId  Survived  Pclass  \\\n",
      "0          892         0       3   \n",
      "1          893         1       3   \n",
      "2          894         0       2   \n",
      "3          895         0       3   \n",
      "4          896         1       3   \n",
      "\n",
      "                                           Name     Sex   Age  SibSp  Parch  \\\n",
      "0                              Kelly, Mr. James    male  34.5      0      0   \n",
      "1              Wilkes, Mrs. James (Ellen Needs)  female  47.0      1      0   \n",
      "2                     Myles, Mr. Thomas Francis    male  62.0      0      0   \n",
      "3                              Wirz, Mr. Albert    male  27.0      0      0   \n",
      "4  Hirvonen, Mrs. Alexander (Helga E Lindqvist)  female  22.0      1      1   \n",
      "\n",
      "    Ticket     Fare Cabin Embarked  \n",
      "0   330911   7.8292   NaN        Q  \n",
      "1   363272   7.0000   NaN        S  \n",
      "2   240276   9.6875   NaN        Q  \n",
      "3   315154   8.6625   NaN        S  \n",
      "4  3101298  12.2875   NaN        S  \n",
      "Last five rows of DataFrame:\n",
      "      PassengerId  Survived  Pclass                          Name     Sex  \\\n",
      "413         1305         0       3            Spector, Mr. Woolf    male   \n",
      "414         1306         1       1  Oliva y Ocana, Dona. Fermina  female   \n",
      "415         1307         0       3  Saether, Mr. Simon Sivertsen    male   \n",
      "416         1308         0       3           Ware, Mr. Frederick    male   \n",
      "417         1309         0       3      Peter, Master. Michael J    male   \n",
      "\n",
      "      Age  SibSp  Parch              Ticket      Fare Cabin Embarked  \n",
      "413   NaN      0      0           A.5. 3236    8.0500   NaN        S  \n",
      "414  39.0      0      0            PC 17758  108.9000  C105        C  \n",
      "415  38.5      0      0  SOTON/O.Q. 3101262    7.2500   NaN        S  \n",
      "416   NaN      0      0              359309    8.0500   NaN        S  \n",
      "417   NaN      1      1                2668   22.3583   NaN        C  \n"
     ]
    }
   ],
   "source": [
    "# 1. Load a DataFrame from a CSV file. Display the first and last five rows of the DataFrame.\n",
    "print(\"First five rows of DataFrame:\\n\", df.head())\n",
    "print(\"Last five rows of DataFrame:\\n\", df.tail())"
   ]
  },
  {
   "cell_type": "code",
   "execution_count": 6,
   "id": "d9b4de98-8038-48db-ab05-c9b715e1685e",
   "metadata": {},
   "outputs": [
    {
     "name": "stdout",
     "output_type": "stream",
     "text": [
      "\n",
      "DataFrame with 'PassengerId' as the index:\n",
      "              Survived  Pclass                                          Name  \\\n",
      "PassengerId                                                                   \n",
      "892                 0       3                              Kelly, Mr. James   \n",
      "893                 1       3              Wilkes, Mrs. James (Ellen Needs)   \n",
      "894                 0       2                     Myles, Mr. Thomas Francis   \n",
      "895                 0       3                              Wirz, Mr. Albert   \n",
      "896                 1       3  Hirvonen, Mrs. Alexander (Helga E Lindqvist)   \n",
      "\n",
      "                Sex   Age  SibSp  Parch   Ticket     Fare Cabin Embarked  \n",
      "PassengerId                                                               \n",
      "892            male  34.5      0      0   330911   7.8292   NaN        Q  \n",
      "893          female  47.0      1      0   363272   7.0000   NaN        S  \n",
      "894            male  62.0      0      0   240276   9.6875   NaN        Q  \n",
      "895            male  27.0      0      0   315154   8.6625   NaN        S  \n",
      "896          female  22.0      1      1  3101298  12.2875   NaN        S  \n"
     ]
    }
   ],
   "source": [
    "# 2. Set a specific column as the index of the DataFrame.\n",
    "df.set_index('PassengerId', inplace=True)\n",
    "print(\"\\nDataFrame with 'PassengerId' as the index:\\n\", df.head())"
   ]
  },
  {
   "cell_type": "code",
   "execution_count": 8,
   "id": "265d56fb-7c45-4c8e-8b07-ba34cd5bbb30",
   "metadata": {},
   "outputs": [
    {
     "name": "stdout",
     "output_type": "stream",
     "text": [
      "\n",
      "Values in the 'Name' column:\n",
      " PassengerId\n",
      "892                                Kelly, Mr. James\n",
      "893                Wilkes, Mrs. James (Ellen Needs)\n",
      "894                       Myles, Mr. Thomas Francis\n",
      "895                                Wirz, Mr. Albert\n",
      "896    Hirvonen, Mrs. Alexander (Helga E Lindqvist)\n",
      "Name: Name, dtype: object\n"
     ]
    }
   ],
   "source": [
    "# 3. Select a specific column and display its values.\n",
    "names = df['Name']\n",
    "print(\"\\nValues in the 'Name' column:\\n\", names.head())"
   ]
  },
  {
   "cell_type": "code",
   "execution_count": 10,
   "id": "f7448bb6-6fdf-4b18-91de-c718c609ef1d",
   "metadata": {},
   "outputs": [
    {
     "name": "stdout",
     "output_type": "stream",
     "text": [
      "\n",
      "DataFrame with 'Name' and 'Age' columns:\n",
      "                                                      Name   Age\n",
      "PassengerId                                                    \n",
      "892                                      Kelly, Mr. James  34.5\n",
      "893                      Wilkes, Mrs. James (Ellen Needs)  47.0\n",
      "894                             Myles, Mr. Thomas Francis  62.0\n",
      "895                                      Wirz, Mr. Albert  27.0\n",
      "896          Hirvonen, Mrs. Alexander (Helga E Lindqvist)  22.0\n"
     ]
    }
   ],
   "source": [
    "# 4. Select multiple columns and display the resulting DataFrame.\n",
    "name_age_df = df[['Name', 'Age']]\n",
    "print(\"\\nDataFrame with 'Name' and 'Age' columns:\\n\", name_age_df.head())"
   ]
  },
  {
   "cell_type": "code",
   "execution_count": 12,
   "id": "1fafb2d9-730d-4f36-acd0-2addc30e6599",
   "metadata": {},
   "outputs": [
    {
     "name": "stdout",
     "output_type": "stream",
     "text": [
      "\n",
      "Subset of rows using .loc method:\n",
      " Empty DataFrame\n",
      "Columns: [Survived, Pclass, Name, Sex, Age, SibSp, Parch, Ticket, Fare, Cabin, Embarked]\n",
      "Index: []\n"
     ]
    }
   ],
   "source": [
    "# 5. Select a subset of rows using the .loc method.\n",
    "subset_loc = df.loc[1:5]\n",
    "print(\"\\nSubset of rows using .loc method:\\n\", subset_loc)"
   ]
  },
  {
   "cell_type": "code",
   "execution_count": 14,
   "id": "ff5cbaf8-8c1e-4a8e-99a5-87f8ee919550",
   "metadata": {},
   "outputs": [
    {
     "name": "stdout",
     "output_type": "stream",
     "text": [
      "\n",
      "Subset of rows and columns using .iloc method:\n",
      "              Survived  Pclass                                          Name\n",
      "PassengerId                                                                \n",
      "892                 0       3                              Kelly, Mr. James\n",
      "893                 1       3              Wilkes, Mrs. James (Ellen Needs)\n",
      "894                 0       2                     Myles, Mr. Thomas Francis\n",
      "895                 0       3                              Wirz, Mr. Albert\n",
      "896                 1       3  Hirvonen, Mrs. Alexander (Helga E Lindqvist)\n"
     ]
    }
   ],
   "source": [
    "# 6. Select a subset of rows and columns using the .iloc method.\n",
    "subset_iloc = df.iloc[:5, :3]\n",
    "print(\"\\nSubset of rows and columns using .iloc method:\\n\", subset_iloc)"
   ]
  },
  {
   "cell_type": "code",
   "execution_count": 16,
   "id": "0141556b-26da-49c2-93d1-70e6568dc47e",
   "metadata": {},
   "outputs": [
    {
     "name": "stdout",
     "output_type": "stream",
     "text": [
      "\n",
      "Rows where 'Age' is greater than 30:\n",
      "              Survived  Pclass                              Name     Sex   Age  \\\n",
      "PassengerId                                                                     \n",
      "892                 0       3                  Kelly, Mr. James    male  34.5   \n",
      "893                 1       3  Wilkes, Mrs. James (Ellen Needs)  female  47.0   \n",
      "894                 0       2         Myles, Mr. Thomas Francis    male  62.0   \n",
      "903                 0       1        Jones, Mr. Charles Cresson    male  46.0   \n",
      "905                 0       2              Howard, Mr. Benjamin    male  63.0   \n",
      "\n",
      "             SibSp  Parch  Ticket     Fare Cabin Embarked  \n",
      "PassengerId                                                \n",
      "892              0      0  330911   7.8292   NaN        Q  \n",
      "893              1      0  363272   7.0000   NaN        S  \n",
      "894              0      0  240276   9.6875   NaN        Q  \n",
      "903              0      0     694  26.0000   NaN        S  \n",
      "905              1      0   24065  26.0000   NaN        S  \n"
     ]
    }
   ],
   "source": [
    "# 7. Filter rows based on a condition.\n",
    "age_filter = df[df['Age'] > 30]\n",
    "print(\"\\nRows where 'Age' is greater than 30:\\n\", age_filter.head())"
   ]
  },
  {
   "cell_type": "code",
   "execution_count": 18,
   "id": "9efa988d-80b2-410e-ac01-0d0abb1a73b5",
   "metadata": {},
   "outputs": [
    {
     "name": "stdout",
     "output_type": "stream",
     "text": [
      "\n",
      "Mean of each group by 'Pclass':\n",
      "         Survived        Age     SibSp     Parch       Fare\n",
      "Pclass                                                    \n",
      "1       0.467290  40.918367  0.476636  0.383178  94.280297\n",
      "2       0.322581  28.777500  0.376344  0.344086  22.202104\n",
      "3       0.330275  24.027945  0.463303  0.417431  12.459678\n"
     ]
    }
   ],
   "source": [
    "# 8. Group the DataFrame by a specific column and calculate the mean of each group.\n",
    "grouped_pclass = df.groupby('Pclass').mean(numeric_only=True)\n",
    "print(\"\\nMean of each group by 'Pclass':\\n\", grouped_pclass)"
   ]
  },
  {
   "cell_type": "code",
   "execution_count": 20,
   "id": "45b11c4d-afb9-4aac-af09-8922989ebd48",
   "metadata": {},
   "outputs": [
    {
     "name": "stdout",
     "output_type": "stream",
     "text": [
      "\n",
      "Sum of each group by 'Pclass' and 'Sex':\n",
      "                Survived      Age  SibSp  Parch       Fare\n",
      "Pclass Sex                                               \n",
      "1      female        50  1984.00     28     25  5779.5584\n",
      "       male           0  2026.00     23     16  4308.4334\n",
      "2      female        30   706.92     16     23   793.1625\n",
      "       male           0  1825.50     19      9  1271.6332\n",
      "3      female        72  1153.67     42     43   988.9293\n",
      "       male           0  2354.41     59     48  1714.8208\n"
     ]
    }
   ],
   "source": [
    "# 9. Group the DataFrame by multiple columns and calculate the sum of each group.\n",
    "grouped_multi = df.groupby(['Pclass', 'Sex']).sum(numeric_only=True)\n",
    "print(\"\\nSum of each group by 'Pclass' and 'Sex':\\n\", grouped_multi)"
   ]
  },
  {
   "cell_type": "code",
   "execution_count": 22,
   "id": "e6a375fa-e664-4de1-b2ae-40abc9e785ca",
   "metadata": {},
   "outputs": [
    {
     "name": "stdout",
     "output_type": "stream",
     "text": [
      "\n",
      "Multiple aggregation functions on 'Age' by 'Pclass':\n",
      "              mean  median        std\n",
      "Pclass                              \n",
      "1       40.918367    42.0  13.956799\n",
      "2       28.777500    26.5  12.943458\n",
      "3       24.027945    24.0  10.537105\n"
     ]
    }
   ],
   "source": [
    "# 10. Use the agg method to apply multiple aggregation functions to grouped data.\n",
    "agg_functions = df.groupby('Pclass')['Age'].agg(['mean', 'median', 'std'])\n",
    "print(\"\\nMultiple aggregation functions on 'Age' by 'Pclass':\\n\", agg_functions)"
   ]
  },
  {
   "cell_type": "code",
   "execution_count": 24,
   "id": "066909bb-1b5d-42c9-9cea-01c281b6cdb6",
   "metadata": {},
   "outputs": [
    {
     "name": "stdout",
     "output_type": "stream",
     "text": [
      "\n",
      "Size of each group by 'Pclass':\n",
      " Pclass\n",
      "1    107\n",
      "2     93\n",
      "3    218\n",
      "dtype: int64\n"
     ]
    }
   ],
   "source": [
    "# 11. Calculate the size of each group.\n",
    "group_size = df.groupby('Pclass').size()\n",
    "print(\"\\nSize of each group by 'Pclass':\\n\", group_size)"
   ]
  },
  {
   "cell_type": "code",
   "execution_count": 26,
   "id": "792fda7e-f9fc-4010-bf7c-ccb84d1f4c1d",
   "metadata": {},
   "outputs": [
    {
     "name": "stdout",
     "output_type": "stream",
     "text": [
      "\n",
      "Rows where 'Age' > 30 and 'Pclass' == 1:\n",
      "              Survived  Pclass  \\\n",
      "PassengerId                     \n",
      "903                 0       1   \n",
      "906                 1       1   \n",
      "912                 0       1   \n",
      "916                 1       1   \n",
      "920                 0       1   \n",
      "\n",
      "                                                          Name     Sex   Age  \\\n",
      "PassengerId                                                                    \n",
      "903                                 Jones, Mr. Charles Cresson    male  46.0   \n",
      "906          Chaffee, Mrs. Herbert Fuller (Carrie Constance...  female  47.0   \n",
      "912                                     Rothschild, Mr. Martin    male  55.0   \n",
      "916            Ryerson, Mrs. Arthur Larned (Emily Maria Borie)  female  48.0   \n",
      "920                                    Brady, Mr. John Bertram    male  41.0   \n",
      "\n",
      "             SibSp  Parch       Ticket     Fare            Cabin Embarked  \n",
      "PassengerId                                                                \n",
      "903              0      0          694   26.000              NaN        S  \n",
      "906              1      0  W.E.P. 5734   61.175              E31        S  \n",
      "912              1      0     PC 17603   59.400              NaN        C  \n",
      "916              1      3     PC 17608  262.375  B57 B59 B63 B66        C  \n",
      "920              0      0       113054   30.500              A21        S  \n"
     ]
    }
   ],
   "source": [
    "# 12. Select rows based on multiple conditions.\n",
    "multi_condition = df[(df['Age'] > 30) & (df['Pclass'] == 1)]\n",
    "print(\"\\nRows where 'Age' > 30 and 'Pclass' == 1:\\n\", multi_condition.head())"
   ]
  },
  {
   "cell_type": "code",
   "execution_count": 28,
   "id": "c5c63ada-55ec-4f67-83cd-eebdcef5eb19",
   "metadata": {},
   "outputs": [
    {
     "name": "stdout",
     "output_type": "stream",
     "text": [
      "\n",
      "Rows where 'Age' > 30 using query method:\n",
      "              Survived  Pclass                              Name     Sex   Age  \\\n",
      "PassengerId                                                                     \n",
      "892                 0       3                  Kelly, Mr. James    male  34.5   \n",
      "893                 1       3  Wilkes, Mrs. James (Ellen Needs)  female  47.0   \n",
      "894                 0       2         Myles, Mr. Thomas Francis    male  62.0   \n",
      "903                 0       1        Jones, Mr. Charles Cresson    male  46.0   \n",
      "905                 0       2              Howard, Mr. Benjamin    male  63.0   \n",
      "\n",
      "             SibSp  Parch  Ticket     Fare Cabin Embarked  \n",
      "PassengerId                                                \n",
      "892              0      0  330911   7.8292   NaN        Q  \n",
      "893              1      0  363272   7.0000   NaN        S  \n",
      "894              0      0  240276   9.6875   NaN        Q  \n",
      "903              0      0     694  26.0000   NaN        S  \n",
      "905              1      0   24065  26.0000   NaN        S  \n"
     ]
    }
   ],
   "source": [
    "# 13. Use the query method to filter rows.\n",
    "query_filter = df.query('Age > 30')\n",
    "print(\"\\nRows where 'Age' > 30 using query method:\\n\", query_filter.head())"
   ]
  },
  {
   "cell_type": "code",
   "execution_count": 30,
   "id": "c954b8b2-4b0d-4345-ab5d-39b88bba03f7",
   "metadata": {},
   "outputs": [
    {
     "name": "stdout",
     "output_type": "stream",
     "text": [
      "\n",
      "Rows where 'Pclass' is in [1, 3]:\n",
      "              Survived  Pclass                                          Name  \\\n",
      "PassengerId                                                                   \n",
      "892                 0       3                              Kelly, Mr. James   \n",
      "893                 1       3              Wilkes, Mrs. James (Ellen Needs)   \n",
      "895                 0       3                              Wirz, Mr. Albert   \n",
      "896                 1       3  Hirvonen, Mrs. Alexander (Helga E Lindqvist)   \n",
      "897                 0       3                    Svensson, Mr. Johan Cervin   \n",
      "\n",
      "                Sex   Age  SibSp  Parch   Ticket     Fare Cabin Embarked  \n",
      "PassengerId                                                               \n",
      "892            male  34.5      0      0   330911   7.8292   NaN        Q  \n",
      "893          female  47.0      1      0   363272   7.0000   NaN        S  \n",
      "895            male  27.0      0      0   315154   8.6625   NaN        S  \n",
      "896          female  22.0      1      1  3101298  12.2875   NaN        S  \n",
      "897            male  14.0      0      0     7538   9.2250   NaN        S  \n"
     ]
    }
   ],
   "source": [
    "# 14. Use isin to filter rows based on a list of values.\n",
    "isin_filter = df[df['Pclass'].isin([1, 3])]\n",
    "print(\"\\nRows where 'Pclass' is in [1, 3]:\\n\", isin_filter.head())"
   ]
  },
  {
   "cell_type": "code",
   "execution_count": 32,
   "id": "ac865c25-644f-4a28-b305-30ba6e7a478a",
   "metadata": {},
   "outputs": [
    {
     "name": "stdout",
     "output_type": "stream",
     "text": [
      "\n",
      "Renamed columns 'Name' to 'Passenger Name' and 'Age' to 'Passenger Age':\n",
      "                                            Passenger Name  Passenger Age\n",
      "PassengerId                                                             \n",
      "892                                      Kelly, Mr. James           34.5\n",
      "893                      Wilkes, Mrs. James (Ellen Needs)           47.0\n",
      "894                             Myles, Mr. Thomas Francis           62.0\n",
      "895                                      Wirz, Mr. Albert           27.0\n",
      "896          Hirvonen, Mrs. Alexander (Helga E Lindqvist)           22.0\n"
     ]
    }
   ],
   "source": [
    "# 15. Select specific columns and rename them.\n",
    "renamed_df = df[['Name', 'Age']].rename(columns={'Name': 'Passenger Name', 'Age': 'Passenger Age'})\n",
    "print(\"\\nRenamed columns 'Name' to 'Passenger Name' and 'Age' to 'Passenger Age':\\n\", renamed_df.head())"
   ]
  }
 ],
 "metadata": {
  "kernelspec": {
   "display_name": "Python 3 (ipykernel)",
   "language": "python",
   "name": "python3"
  },
  "language_info": {
   "codemirror_mode": {
    "name": "ipython",
    "version": 3
   },
   "file_extension": ".py",
   "mimetype": "text/x-python",
   "name": "python",
   "nbconvert_exporter": "python",
   "pygments_lexer": "ipython3",
   "version": "3.11.7"
  }
 },
 "nbformat": 4,
 "nbformat_minor": 5
}
