{
 "cells": [
  {
   "cell_type": "markdown",
   "id": "546c9822-c29d-49ef-bdf7-b5389c853979",
   "metadata": {},
   "source": [
    "## Linear Regression"
   ]
  },
  {
   "cell_type": "code",
   "execution_count": 2,
   "id": "35b0bd7b-7205-47e8-b4a1-a81bdb870c77",
   "metadata": {},
   "outputs": [
    {
     "name": "stdout",
     "output_type": "stream",
     "text": [
      "Epoch 0, Loss: 32.163830897720786\n",
      "Epoch 100, Loss: 8.941007689868734\n",
      "Epoch 200, Loss: 12.441824096239275\n",
      "Epoch 300, Loss: 16.42344902614722\n",
      "Epoch 400, Loss: 21.142366377789504\n",
      "Epoch 500, Loss: 26.605347727736813\n",
      "Epoch 600, Loss: 32.81255807982614\n",
      "Epoch 700, Loss: 39.76400139416614\n",
      "Epoch 800, Loss: 47.459677764736476\n",
      "Epoch 900, Loss: 55.89958719374706\n",
      "Final parameters: w = [13.23120296], b = [-5.13761914]\n"
     ]
    }
   ],
   "source": [
    "import numpy as np\n",
    "\n",
    "# Generate some example data\n",
    "np.random.seed(42)\n",
    "X = 2 * np.random.rand(100, 1)\n",
    "y = 4 + 3 * X + np.random.randn(100, 1)\n",
    "\n",
    "# Initialize parameters\n",
    "w = np.random.randn(1)\n",
    "b = np.random.randn(1)\n",
    "learning_rate = 0.01\n",
    "epochs = 1000\n",
    "\n",
    "# Hypothesis function\n",
    "def predict(X, w, b):\n",
    "    return X.dot(w) + b\n",
    "\n",
    "# Loss function (MSE)\n",
    "def compute_loss(y_true, y_pred):\n",
    "    return np.mean((y_true - y_pred) ** 2)\n",
    "\n",
    "# Gradient Descent\n",
    "for epoch in range(epochs):\n",
    "    y_pred = predict(X, w, b)\n",
    "    loss = compute_loss(y, y_pred)\n",
    "    \n",
    "    # Compute gradients\n",
    "    dw = -2 * np.mean(X * (y - y_pred))\n",
    "    db = -2 * np.mean(y - y_pred)\n",
    "    \n",
    "    # Update parameters\n",
    "    w -= learning_rate * dw\n",
    "    b -= learning_rate * db\n",
    "    \n",
    "    if epoch % 100 == 0:\n",
    "        print(f\"Epoch {epoch}, Loss: {loss}\")\n",
    "\n",
    "print(f\"Final parameters: w = {w}, b = {b}\")\n"
   ]
  }
 ],
 "metadata": {
  "kernelspec": {
   "display_name": "Python 3 (ipykernel)",
   "language": "python",
   "name": "python3"
  },
  "language_info": {
   "codemirror_mode": {
    "name": "ipython",
    "version": 3
   },
   "file_extension": ".py",
   "mimetype": "text/x-python",
   "name": "python",
   "nbconvert_exporter": "python",
   "pygments_lexer": "ipython3",
   "version": "3.11.7"
  }
 },
 "nbformat": 4,
 "nbformat_minor": 5
}
