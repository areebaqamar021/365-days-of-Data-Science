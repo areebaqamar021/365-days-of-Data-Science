{
 "cells": [
  {
   "cell_type": "code",
   "execution_count": 1,
   "id": "35b0bd7b-7205-47e8-b4a1-a81bdb870c77",
   "metadata": {},
   "outputs": [
    {
     "name": "stdout",
     "output_type": "stream",
     "text": [
      "Iteration 0: Loss = 40.5144, w = -0.2603, b = -1.2876\n",
      "Iteration 100: Loss = 1.3358, w = 3.5228, b = 2.4628\n",
      "Iteration 200: Loss = 0.6715, w = 3.8500, b = 3.0880\n",
      "Iteration 300: Loss = 0.6166, w = 3.7696, b = 3.3018\n",
      "Iteration 400: Loss = 0.5833, w = 3.6567, b = 3.4443\n",
      "Iteration 500: Loss = 0.5593, w = 3.5551, b = 3.5608\n",
      "Iteration 600: Loss = 0.5419, w = 3.4679, b = 3.6592\n",
      "Iteration 700: Loss = 0.5293, w = 3.3936, b = 3.7430\n",
      "Iteration 800: Loss = 0.5202, w = 3.3304, b = 3.8143\n",
      "Iteration 900: Loss = 0.5136, w = 3.2765, b = 3.8750\n",
      "Final parameters: w = 3.2311, b = 3.9261\n"
     ]
    }
   ],
   "source": [
    "import numpy as np\n",
    "\n",
    "# Generate some random data\n",
    "np.random.seed(0)\n",
    "X = 2 * np.random.rand(100, 1)\n",
    "y = 4 + 3 * X + np.random.randn(100, 1)\n",
    "\n",
    "# Initialize parameters\n",
    "w = np.random.randn(1)\n",
    "b = np.random.randn(1)\n",
    "learning_rate = 0.01\n",
    "n_iterations = 1000\n",
    "m = len(y)\n",
    "\n",
    "# Hypothesis function\n",
    "def predict(X, w, b):\n",
    "    return X * w + b\n",
    "\n",
    "# Mean Squared Error\n",
    "def compute_loss(y, y_pred):\n",
    "    return np.sum((y_pred - y) ** 2) / (2 * m)\n",
    "\n",
    "# Gradient Descent\n",
    "for i in range(n_iterations):\n",
    "    y_pred = predict(X, w, b)\n",
    "    dw = (1 / m) * np.sum(X * (y_pred - y))\n",
    "    db = (1 / m) * np.sum(y_pred - y)\n",
    "    w -= learning_rate * dw\n",
    "    b -= learning_rate * db\n",
    "    if i % 100 == 0:\n",
    "        loss = compute_loss(y, y_pred)\n",
    "        print(f'Iteration {i}: Loss = {loss:.4f}, w = {w[0]:.4f}, b = {b[0]:.4f}')\n",
    "\n",
    "# Final parameters\n",
    "print(f'Final parameters: w = {w[0]:.4f}, b = {b[0]:.4f}')\n"
   ]
  }
 ],
 "metadata": {
  "kernelspec": {
   "display_name": "Python 3 (ipykernel)",
   "language": "python",
   "name": "python3"
  },
  "language_info": {
   "codemirror_mode": {
    "name": "ipython",
    "version": 3
   },
   "file_extension": ".py",
   "mimetype": "text/x-python",
   "name": "python",
   "nbconvert_exporter": "python",
   "pygments_lexer": "ipython3",
   "version": "3.11.7"
  }
 },
 "nbformat": 4,
 "nbformat_minor": 5
}
