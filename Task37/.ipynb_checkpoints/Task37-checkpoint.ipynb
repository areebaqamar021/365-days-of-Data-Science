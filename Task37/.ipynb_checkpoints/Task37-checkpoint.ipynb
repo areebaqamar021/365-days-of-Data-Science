{
 "cells": [
  {
   "cell_type": "markdown",
   "id": "44067bcf-088c-420f-bb18-d495a3d3c6c9",
   "metadata": {},
   "source": [
    "# NLP Preprocessing"
   ]
  },
  {
   "cell_type": "markdown",
   "id": "a34b228f-c48c-402a-9468-927acaff9050",
   "metadata": {},
   "source": [
    "## Import Libraries"
   ]
  },
  {
   "cell_type": "code",
   "execution_count": 3,
   "id": "ee1ca43d-9907-4446-9865-206c3c43e46a",
   "metadata": {},
   "outputs": [],
   "source": [
    "import nltk\n",
    "from nltk.corpus import stopwords\n",
    "from nltk.tokenize import word_tokenize, sent_tokenize\n",
    "from nltk.stem import PorterStemmer, WordNetLemmatizer\n",
    "import string\n",
    "import re"
   ]
  },
  {
   "cell_type": "markdown",
   "id": "a0e31004-cc90-4fe8-853c-744aa2709f1d",
   "metadata": {},
   "source": [
    "## Download NLTK Data"
   ]
  },
  {
   "cell_type": "code",
   "execution_count": 14,
   "id": "f9c1b41c-31a9-4099-80d8-647f16c35f60",
   "metadata": {},
   "outputs": [
    {
     "name": "stderr",
     "output_type": "stream",
     "text": [
      "[nltk_data] Downloading package punkt to\n",
      "[nltk_data]     C:\\Users\\areeb\\AppData\\Roaming\\nltk_data...\n",
      "[nltk_data]   Package punkt is already up-to-date!\n",
      "[nltk_data] Downloading package stopwords to\n",
      "[nltk_data]     C:\\Users\\areeb\\AppData\\Roaming\\nltk_data...\n",
      "[nltk_data]   Package stopwords is already up-to-date!\n",
      "[nltk_data] Downloading package wordnet to\n",
      "[nltk_data]     C:\\Users\\areeb\\AppData\\Roaming\\nltk_data...\n",
      "[nltk_data]   Package wordnet is already up-to-date!\n",
      "[nltk_data] Downloading package omw-1.4 to\n",
      "[nltk_data]     C:\\Users\\areeb\\AppData\\Roaming\\nltk_data...\n",
      "[nltk_data]   Package omw-1.4 is already up-to-date!\n"
     ]
    },
    {
     "data": {
      "text/plain": [
       "True"
      ]
     },
     "execution_count": 14,
     "metadata": {},
     "output_type": "execute_result"
    }
   ],
   "source": [
    "nltk.download('punkt')\n",
    "nltk.download('stopwords')\n",
    "nltk.download('wordnet')\n",
    "nltk.download('omw-1.4')"
   ]
  },
  {
   "cell_type": "markdown",
   "id": "ab1745ae-1a40-4962-a324-2b0b7606b0cc",
   "metadata": {},
   "source": [
    "## Load Example Dataset"
   ]
  },
  {
   "cell_type": "code",
   "execution_count": 17,
   "id": "037694f3-a07b-4618-a1d9-72f4c5291603",
   "metadata": {},
   "outputs": [],
   "source": [
    "text = \"\"\"Natural Language Processing (NLP) is a fascinating field of Artificial Intelligence (AI) that focuses on the interaction between humans and computers using natural language. \n",
    "The ultimate goal of NLP is to enable computers to understand, interpret, and generate human language in a way that is both valuable and meaningful.\"\"\""
   ]
  },
  {
   "cell_type": "markdown",
   "id": "71e2e05b-a55c-4bdf-819b-751d3410edcc",
   "metadata": {},
   "source": [
    "## Tokenization"
   ]
  },
  {
   "cell_type": "code",
   "execution_count": 20,
   "id": "2a4cc8c6-4430-4ece-96af-cc80dcc3ef7f",
   "metadata": {},
   "outputs": [
    {
     "name": "stdout",
     "output_type": "stream",
     "text": [
      "Word Tokens: ['Natural', 'Language', 'Processing', '(', 'NLP', ')', 'is', 'a', 'fascinating', 'field', 'of', 'Artificial', 'Intelligence', '(', 'AI', ')', 'that', 'focuses', 'on', 'the', 'interaction', 'between', 'humans', 'and', 'computers', 'using', 'natural', 'language', '.', 'The', 'ultimate', 'goal', 'of', 'NLP', 'is', 'to', 'enable', 'computers', 'to', 'understand', ',', 'interpret', ',', 'and', 'generate', 'human', 'language', 'in', 'a', 'way', 'that', 'is', 'both', 'valuable', 'and', 'meaningful', '.']\n",
      "Sentence Tokens: ['Natural Language Processing (NLP) is a fascinating field of Artificial Intelligence (AI) that focuses on the interaction between humans and computers using natural language.', 'The ultimate goal of NLP is to enable computers to understand, interpret, and generate human language in a way that is both valuable and meaningful.']\n"
     ]
    }
   ],
   "source": [
    "# Word tokenization\n",
    "word_tokens = word_tokenize(text)\n",
    "print(f\"Word Tokens: {word_tokens}\")\n",
    "\n",
    "# Sentence tokenization\n",
    "sentence_tokens = sent_tokenize(text)\n",
    "print(f\"Sentence Tokens: {sentence_tokens}\")"
   ]
  },
  {
   "cell_type": "markdown",
   "id": "c3bccf84-5083-4e84-ae8d-c86605a7bce3",
   "metadata": {},
   "source": [
    "## Stopword Removal"
   ]
  },
  {
   "cell_type": "code",
   "execution_count": 23,
   "id": "48fa21be-f82f-4eff-b2f4-4e3831119a64",
   "metadata": {},
   "outputs": [
    {
     "name": "stdout",
     "output_type": "stream",
     "text": [
      "Filtered Words: ['Natural', 'Language', 'Processing', '(', 'NLP', ')', 'fascinating', 'field', 'Artificial', 'Intelligence', '(', 'AI', ')', 'focuses', 'interaction', 'humans', 'computers', 'using', 'natural', 'language', '.', 'ultimate', 'goal', 'NLP', 'enable', 'computers', 'understand', ',', 'interpret', ',', 'generate', 'human', 'language', 'way', 'valuable', 'meaningful', '.']\n"
     ]
    }
   ],
   "source": [
    "stop_words = set(stopwords.words('english'))\n",
    "filtered_words = [word for word in word_tokens if word.lower() not in stop_words]\n",
    "print(f\"Filtered Words: {filtered_words}\")"
   ]
  },
  {
   "cell_type": "markdown",
   "id": "29de11ba-2d7d-4fe1-bfb8-67653d394934",
   "metadata": {},
   "source": [
    "## Stemming"
   ]
  },
  {
   "cell_type": "code",
   "execution_count": 26,
   "id": "f6603445-c80c-4c2d-a231-7e9f01d4181b",
   "metadata": {},
   "outputs": [
    {
     "name": "stdout",
     "output_type": "stream",
     "text": [
      "Stemmed Words: ['natur', 'languag', 'process', '(', 'nlp', ')', 'fascin', 'field', 'artifici', 'intellig', '(', 'ai', ')', 'focus', 'interact', 'human', 'comput', 'use', 'natur', 'languag', '.', 'ultim', 'goal', 'nlp', 'enabl', 'comput', 'understand', ',', 'interpret', ',', 'gener', 'human', 'languag', 'way', 'valuabl', 'meaning', '.']\n"
     ]
    }
   ],
   "source": [
    "stemmer = PorterStemmer()\n",
    "stemmed_words = [stemmer.stem(word) for word in filtered_words]\n",
    "print(f\"Stemmed Words: {stemmed_words}\")"
   ]
  },
  {
   "cell_type": "markdown",
   "id": "fee4f283-41f6-4c4b-ae97-3e04c0483675",
   "metadata": {},
   "source": [
    "## Lemmatization"
   ]
  },
  {
   "cell_type": "code",
   "execution_count": 29,
   "id": "8f151d02-b90d-4996-a520-0b6ed468e3c5",
   "metadata": {},
   "outputs": [
    {
     "name": "stdout",
     "output_type": "stream",
     "text": [
      "Lemmatized Words: ['Natural', 'Language', 'Processing', '(', 'NLP', ')', 'fascinating', 'field', 'Artificial', 'Intelligence', '(', 'AI', ')', 'focus', 'interaction', 'human', 'computer', 'using', 'natural', 'language', '.', 'ultimate', 'goal', 'NLP', 'enable', 'computer', 'understand', ',', 'interpret', ',', 'generate', 'human', 'language', 'way', 'valuable', 'meaningful', '.']\n"
     ]
    }
   ],
   "source": [
    "lemmatizer = WordNetLemmatizer()\n",
    "lemmatized_words = [lemmatizer.lemmatize(word) for word in filtered_words]\n",
    "print(f\"Lemmatized Words: {lemmatized_words}\")"
   ]
  },
  {
   "cell_type": "markdown",
   "id": "941d8d2f-02f9-4f62-b6b8-802d9cb0c05f",
   "metadata": {},
   "source": [
    "## Remove Punctuation"
   ]
  },
  {
   "cell_type": "code",
   "execution_count": 32,
   "id": "054c0108-2c3f-492b-8b91-5e900c81000d",
   "metadata": {},
   "outputs": [
    {
     "name": "stdout",
     "output_type": "stream",
     "text": [
      "Text without Punctuation: Natural Language Processing NLP is a fascinating field of Artificial Intelligence AI that focuses on the interaction between humans and computers using natural language \n",
      "The ultimate goal of NLP is to enable computers to understand interpret and generate human language in a way that is both valuable and meaningful\n"
     ]
    }
   ],
   "source": [
    "text_no_punctuation = text.translate(str.maketrans('', '', string.punctuation))\n",
    "print(f\"Text without Punctuation: {text_no_punctuation}\")"
   ]
  },
  {
   "cell_type": "markdown",
   "id": "ac96ed63-8730-425e-a7a9-d7788d5e89d4",
   "metadata": {},
   "source": [
    "## Lowercasing"
   ]
  },
  {
   "cell_type": "code",
   "execution_count": 35,
   "id": "64be17bb-2f90-4bd7-8c59-ecc161b5608b",
   "metadata": {},
   "outputs": [
    {
     "name": "stdout",
     "output_type": "stream",
     "text": [
      "Lowercased Text: natural language processing nlp is a fascinating field of artificial intelligence ai that focuses on the interaction between humans and computers using natural language \n",
      "the ultimate goal of nlp is to enable computers to understand interpret and generate human language in a way that is both valuable and meaningful\n"
     ]
    }
   ],
   "source": [
    "text_lowercase = text_no_punctuation.lower()\n",
    "print(f\"Lowercased Text: {text_lowercase}\")"
   ]
  },
  {
   "cell_type": "markdown",
   "id": "e85b18cd-9939-451a-a079-221dd86af2ad",
   "metadata": {},
   "source": [
    "## Remove Special Characters"
   ]
  },
  {
   "cell_type": "code",
   "execution_count": 38,
   "id": "6d2078f7-f663-4539-8fe9-83f92518a6e0",
   "metadata": {},
   "outputs": [
    {
     "name": "stdout",
     "output_type": "stream",
     "text": [
      "Text without Special Characters: natural language processing nlp is a fascinating field of artificial intelligence ai that focuses on the interaction between humans and computers using natural language  the ultimate goal of nlp is to enable computers to understand interpret and generate human language in a way that is both valuable and meaningful\n"
     ]
    }
   ],
   "source": [
    "text_no_special_chars = re.sub(r'\\W', ' ', text_lowercase)\n",
    "print(f\"Text without Special Characters: {text_no_special_chars}\")"
   ]
  }
 ],
 "metadata": {
  "kernelspec": {
   "display_name": "Python 3 (ipykernel)",
   "language": "python",
   "name": "python3"
  },
  "language_info": {
   "codemirror_mode": {
    "name": "ipython",
    "version": 3
   },
   "file_extension": ".py",
   "mimetype": "text/x-python",
   "name": "python",
   "nbconvert_exporter": "python",
   "pygments_lexer": "ipython3",
   "version": "3.11.7"
  }
 },
 "nbformat": 4,
 "nbformat_minor": 5
}
