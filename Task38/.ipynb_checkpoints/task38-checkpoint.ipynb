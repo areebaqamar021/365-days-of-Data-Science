{
 "cells": [
  {
   "cell_type": "markdown",
   "id": "31b127e2-bdd1-4348-bd32-b18fa26da13a",
   "metadata": {
    "id": "31b127e2-bdd1-4348-bd32-b18fa26da13a"
   },
   "source": [
    "# Advanced NLP Techniques (NER, Sentiment Analysis)\n"
   ]
  },
  {
   "cell_type": "markdown",
   "id": "65fc2815-36c8-40ef-acfb-d11d9c3415b1",
   "metadata": {
    "id": "65fc2815-36c8-40ef-acfb-d11d9c3415b1"
   },
   "source": [
    "## Import Libraries"
   ]
  },
  {
   "cell_type": "code",
   "execution_count": null,
   "id": "93e773b1-0d42-40ed-bc83-6d9116b8908b",
   "metadata": {
    "id": "93e773b1-0d42-40ed-bc83-6d9116b8908b"
   },
   "outputs": [],
   "source": [
    "import nltk\n",
    "from nltk import word_tokenize, pos_tag, ne_chunk\n",
    "from nltk.corpus import stopwords\n",
    "from nltk.tokenize import sent_tokenize\n",
    "from nltk.sentiment.vader import SentimentIntensityAnalyzer\n",
    "import matplotlib.pyplot as plt\n",
    "import pandas as pd\n",
    "import re"
   ]
  },
  {
   "cell_type": "markdown",
   "id": "323ddff0-40b5-4133-9f59-fe88b22c0cae",
   "metadata": {
    "id": "323ddff0-40b5-4133-9f59-fe88b22c0cae"
   },
   "source": [
    "## Download NLTK Packages"
   ]
  },
  {
   "cell_type": "code",
   "execution_count": 2,
   "id": "80f68f5c-f895-4846-8cdf-0bba8cb80124",
   "metadata": {
    "colab": {
     "base_uri": "https://localhost:8080/"
    },
    "id": "80f68f5c-f895-4846-8cdf-0bba8cb80124",
    "outputId": "7b113f2a-12c4-403d-ea6c-1e0e852c4500"
   },
   "outputs": [
    {
     "name": "stderr",
     "output_type": "stream",
     "text": [
      "[nltk_data] Downloading package maxent_ne_chunker to\n",
      "[nltk_data]     /root/nltk_data...\n",
      "[nltk_data]   Unzipping chunkers/maxent_ne_chunker.zip.\n",
      "[nltk_data] Downloading package words to /root/nltk_data...\n",
      "[nltk_data]   Unzipping corpora/words.zip.\n",
      "[nltk_data] Downloading package averaged_perceptron_tagger to\n",
      "[nltk_data]     /root/nltk_data...\n",
      "[nltk_data]   Unzipping taggers/averaged_perceptron_tagger.zip.\n",
      "[nltk_data] Downloading package punkt to /root/nltk_data...\n",
      "[nltk_data]   Unzipping tokenizers/punkt.zip.\n",
      "[nltk_data] Downloading package vader_lexicon to /root/nltk_data...\n"
     ]
    },
    {
     "data": {
      "text/plain": [
       "True"
      ]
     },
     "execution_count": 2,
     "metadata": {},
     "output_type": "execute_result"
    }
   ],
   "source": [
    "import nltk # Import the nltk module\n",
    "\n",
    "nltk.download('maxent_ne_chunker')\n",
    "nltk.download('words')\n",
    "nltk.download('averaged_perceptron_tagger')\n",
    "nltk.download('punkt')\n",
    "nltk.download('vader_lexicon')"
   ]
  },
  {
   "cell_type": "markdown",
   "id": "a744c220-59df-4f4f-8cdd-e841d43b38f9",
   "metadata": {
    "id": "a744c220-59df-4f4f-8cdd-e841d43b38f9"
   },
   "source": [
    "## Load Text for NER Example"
   ]
  },
  {
   "cell_type": "code",
   "execution_count": 3,
   "id": "c39ad631-98ec-4b48-baf9-dace7fd0e6ab",
   "metadata": {
    "colab": {
     "base_uri": "https://localhost:8080/"
    },
    "id": "c39ad631-98ec-4b48-baf9-dace7fd0e6ab",
    "outputId": "084bbe43-0fb1-463c-99fc-8145fa60a36a"
   },
   "outputs": [
    {
     "name": "stdout",
     "output_type": "stream",
     "text": [
      "The US President Joe Biden met with British Prime Minister Boris Johnson in London. \n",
      "Apple Inc. is looking to open a new office in San Francisco.\n"
     ]
    }
   ],
   "source": [
    "text = \"\"\"The US President Joe Biden met with British Prime Minister Boris Johnson in London.\n",
    "Apple Inc. is looking to open a new office in San Francisco.\"\"\"\n",
    "print(text)\n"
   ]
  },
  {
   "cell_type": "markdown",
   "id": "cf41578b-23be-49cd-93e4-096f3e9fda2e",
   "metadata": {
    "id": "cf41578b-23be-49cd-93e4-096f3e9fda2e"
   },
   "source": [
    "##  Tokenization for NER"
   ]
  },
  {
   "cell_type": "code",
   "execution_count": 5,
   "id": "605560b0-9618-4b1c-9a6e-722464d7ed41",
   "metadata": {
    "colab": {
     "base_uri": "https://localhost:8080/"
    },
    "id": "605560b0-9618-4b1c-9a6e-722464d7ed41",
    "outputId": "51951488-56f5-43a7-c9a9-bd701089347f"
   },
   "outputs": [
    {
     "name": "stdout",
     "output_type": "stream",
     "text": [
      "The US President Joe Biden met with British Prime Minister Boris Johnson in London. \n",
      "Apple Inc. is looking to open a new office in San Francisco.\n",
      "[['The', 'US', 'President', 'Joe', 'Biden', 'met', 'with', 'British', 'Prime', 'Minister', 'Boris', 'Johnson', 'in', 'London', '.'], ['Apple', 'Inc.', 'is', 'looking', 'to', 'open', 'a', 'new', 'office', 'in', 'San', 'Francisco', '.']]\n"
     ]
    }
   ],
   "source": [
    "import nltk # Import the nltk module\n",
    "from nltk.tokenize import sent_tokenize, word_tokenize # Import the necessary functions\n",
    "\n",
    "text = \"\"\"The US President Joe Biden met with British Prime Minister Boris Johnson in London.\n",
    "Apple Inc. is looking to open a new office in San Francisco.\"\"\"\n",
    "print(text)\n",
    "\n",
    "tokenized_sentences = sent_tokenize(text)\n",
    "tokenized_words = [word_tokenize(sentence) for sentence in tokenized_sentences]\n",
    "print(tokenized_words)"
   ]
  },
  {
   "cell_type": "markdown",
   "id": "QsQSC95CxJEE",
   "metadata": {
    "id": "QsQSC95CxJEE"
   },
   "source": [
    "## POS Tagging"
   ]
  },
  {
   "cell_type": "code",
   "execution_count": null,
   "id": "b0c7a4a2-4709-43b8-bc1f-199f89e030b9",
   "metadata": {},
   "outputs": [],
   "source": []
  },
  {
   "cell_type": "markdown",
   "id": "7908d81c-069f-4138-896e-d7651cff0ded",
   "metadata": {},
   "source": [
    "## Named Entity Recognition (NER)"
   ]
  },
  {
   "cell_type": "code",
   "execution_count": null,
   "id": "095aaf8a-b496-455d-b2c7-79cf8599384c",
   "metadata": {},
   "outputs": [],
   "source": []
  },
  {
   "cell_type": "markdown",
   "id": "422d3ca1-2f5b-4f27-9d89-5ee4d132466e",
   "metadata": {},
   "source": [
    "## Load Text Data for Sentiment Analysis"
   ]
  },
  {
   "cell_type": "code",
   "execution_count": null,
   "id": "3a6006bc-2a08-43c7-b18e-9176abb9c07f",
   "metadata": {},
   "outputs": [],
   "source": []
  },
  {
   "cell_type": "markdown",
   "id": "58859bc7-aaca-4ed8-a28a-ec93b35f884d",
   "metadata": {},
   "source": [
    "## Preprocessing for Sentiment Analysis"
   ]
  },
  {
   "cell_type": "code",
   "execution_count": null,
   "id": "c255d2e5-9360-4000-9041-2b726e730bc3",
   "metadata": {},
   "outputs": [],
   "source": []
  },
  {
   "cell_type": "markdown",
   "id": "a3a54c73-8ca6-4857-b1fd-8823cbffded1",
   "metadata": {},
   "source": [
    "## Sentiment Analysis using VADER"
   ]
  },
  {
   "cell_type": "code",
   "execution_count": null,
   "id": "ed62a5b9-11f1-4a69-b1a0-0b878b4980c3",
   "metadata": {},
   "outputs": [],
   "source": []
  },
  {
   "cell_type": "markdown",
   "id": "258a301c-c28e-4eb0-8248-42ed3b2d7c9e",
   "metadata": {},
   "source": [
    "## Visualize Sentiment Analysis Results"
   ]
  },
  {
   "cell_type": "code",
   "execution_count": null,
   "id": "df89d305-9425-4123-a623-126b41a9dcae",
   "metadata": {},
   "outputs": [],
   "source": []
  }
 ],
 "metadata": {
  "colab": {
   "provenance": []
  },
  "kernelspec": {
   "display_name": "Python 3 (ipykernel)",
   "language": "python",
   "name": "python3"
  },
  "language_info": {
   "codemirror_mode": {
    "name": "ipython",
    "version": 3
   },
   "file_extension": ".py",
   "mimetype": "text/x-python",
   "name": "python",
   "nbconvert_exporter": "python",
   "pygments_lexer": "ipython3",
   "version": "3.11.7"
  }
 },
 "nbformat": 4,
 "nbformat_minor": 5
}
