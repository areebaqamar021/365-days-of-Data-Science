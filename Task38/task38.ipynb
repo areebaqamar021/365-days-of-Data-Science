{
  "nbformat": 4,
  "nbformat_minor": 0,
  "metadata": {
    "colab": {
      "provenance": []
    },
    "kernelspec": {
      "name": "python3",
      "display_name": "Python 3"
    },
    "language_info": {
      "name": "python"
    }
  },
  "cells": [
    {
      "cell_type": "markdown",
      "source": [
        "## **Advanced NLP Techniques (NER, Sentiment Analysis)**"
      ],
      "metadata": {
        "id": "S0gtsILV7aKB"
      }
    },
    {
      "cell_type": "markdown",
      "source": [
        "## **1. Import Libraries**"
      ],
      "metadata": {
        "id": "I7LeQVZq8vYl"
      }
    },
    {
      "cell_type": "code",
      "source": [
        "import nltk\n",
        "from nltk import word_tokenize, pos_tag, ne_chunk\n",
        "from nltk.corpus import stopwords\n",
        "from nltk.tokenize import sent_tokenize\n",
        "from nltk.sentiment.vader import SentimentIntensityAnalyzer\n",
        "import matplotlib.pyplot as plt\n",
        "import pandas as pd\n",
        "import re"
      ],
      "metadata": {
        "id": "W4oFcLXR7x16"
      },
      "execution_count": 13,
      "outputs": []
    },
    {
      "cell_type": "markdown",
      "source": [
        "## **2. Download NLTK Packages**"
      ],
      "metadata": {
        "id": "1yTlZINP9FOJ"
      }
    },
    {
      "cell_type": "code",
      "source": [
        "nltk.download('maxent_ne_chunker')\n",
        "nltk.download('words')\n",
        "nltk.download('averaged_perceptron_tagger')\n",
        "nltk.download('punkt')\n",
        "nltk.download('vader_lexicon')"
      ],
      "metadata": {
        "colab": {
          "base_uri": "https://localhost:8080/"
        },
        "id": "5Aw7ts688Geb",
        "outputId": "69848a96-d41b-40db-cc29-d3f405c96333"
      },
      "execution_count": 14,
      "outputs": [
        {
          "output_type": "stream",
          "name": "stderr",
          "text": [
            "[nltk_data] Downloading package maxent_ne_chunker to\n",
            "[nltk_data]     /root/nltk_data...\n",
            "[nltk_data]   Package maxent_ne_chunker is already up-to-date!\n",
            "[nltk_data] Downloading package words to /root/nltk_data...\n",
            "[nltk_data]   Package words is already up-to-date!\n",
            "[nltk_data] Downloading package averaged_perceptron_tagger to\n",
            "[nltk_data]     /root/nltk_data...\n",
            "[nltk_data]   Package averaged_perceptron_tagger is already up-to-\n",
            "[nltk_data]       date!\n",
            "[nltk_data] Downloading package punkt to /root/nltk_data...\n",
            "[nltk_data]   Package punkt is already up-to-date!\n",
            "[nltk_data] Downloading package vader_lexicon to /root/nltk_data...\n",
            "[nltk_data]   Package vader_lexicon is already up-to-date!\n"
          ]
        },
        {
          "output_type": "execute_result",
          "data": {
            "text/plain": [
              "True"
            ]
          },
          "metadata": {},
          "execution_count": 14
        }
      ]
    },
    {
      "cell_type": "markdown",
      "source": [
        "## **3. Load Text for NER Example**"
      ],
      "metadata": {
        "id": "PIJxQyji9OBT"
      }
    },
    {
      "cell_type": "code",
      "source": [
        "text = \"\"\"The US President Joe Biden met with British Prime Minister Boris Johnson in London.\n",
        "Apple Inc. is looking to open a new office in San Francisco.\"\"\"\n",
        "print(text)"
      ],
      "metadata": {
        "colab": {
          "base_uri": "https://localhost:8080/"
        },
        "id": "_VeG2yvr8Kjb",
        "outputId": "43d2826f-d588-41ea-d867-917a36c288fd"
      },
      "execution_count": 15,
      "outputs": [
        {
          "output_type": "stream",
          "name": "stdout",
          "text": [
            "The US President Joe Biden met with British Prime Minister Boris Johnson in London. \n",
            "Apple Inc. is looking to open a new office in San Francisco.\n"
          ]
        }
      ]
    },
    {
      "cell_type": "markdown",
      "source": [
        "## **4. Tokenization for NER**"
      ],
      "metadata": {
        "id": "XE5lYRJQ9See"
      }
    },
    {
      "cell_type": "code",
      "source": [
        "tokenized_sentences = sent_tokenize(text)\n",
        "tokenized_words = [word_tokenize(sentence) for sentence in tokenized_sentences]\n",
        "print(tokenized_words)"
      ],
      "metadata": {
        "colab": {
          "base_uri": "https://localhost:8080/"
        },
        "id": "yNWAPNc08PCj",
        "outputId": "d55d1f30-c4f9-4e20-af31-0b2d374a9ddf"
      },
      "execution_count": 16,
      "outputs": [
        {
          "output_type": "stream",
          "name": "stdout",
          "text": [
            "[['The', 'US', 'President', 'Joe', 'Biden', 'met', 'with', 'British', 'Prime', 'Minister', 'Boris', 'Johnson', 'in', 'London', '.'], ['Apple', 'Inc.', 'is', 'looking', 'to', 'open', 'a', 'new', 'office', 'in', 'San', 'Francisco', '.']]\n"
          ]
        }
      ]
    },
    {
      "cell_type": "markdown",
      "source": [
        "## **5. POS Tagging**"
      ],
      "metadata": {
        "id": "jHzUVBew9WYO"
      }
    },
    {
      "cell_type": "code",
      "source": [
        "pos_tagged_words = [pos_tag(words) for words in tokenized_words]\n",
        "print(pos_tagged_words)"
      ],
      "metadata": {
        "colab": {
          "base_uri": "https://localhost:8080/"
        },
        "id": "YhXYlb_O8TJ7",
        "outputId": "e7037051-d8c5-425a-e43d-02eeba64a2df"
      },
      "execution_count": 17,
      "outputs": [
        {
          "output_type": "stream",
          "name": "stdout",
          "text": [
            "[[('The', 'DT'), ('US', 'NNP'), ('President', 'NNP'), ('Joe', 'NNP'), ('Biden', 'NNP'), ('met', 'VBD'), ('with', 'IN'), ('British', 'NNP'), ('Prime', 'NNP'), ('Minister', 'NNP'), ('Boris', 'NNP'), ('Johnson', 'NNP'), ('in', 'IN'), ('London', 'NNP'), ('.', '.')], [('Apple', 'NNP'), ('Inc.', 'NNP'), ('is', 'VBZ'), ('looking', 'VBG'), ('to', 'TO'), ('open', 'VB'), ('a', 'DT'), ('new', 'JJ'), ('office', 'NN'), ('in', 'IN'), ('San', 'NNP'), ('Francisco', 'NNP'), ('.', '.')]]\n"
          ]
        }
      ]
    },
    {
      "cell_type": "markdown",
      "source": [
        "## **6. Named Entity Recognition (NER)**"
      ],
      "metadata": {
        "id": "n-jDTlE49bRe"
      }
    },
    {
      "cell_type": "code",
      "source": [
        "named_entities = [ne_chunk(tagged_words) for tagged_words in pos_tagged_words]\n",
        "for entity in named_entities:\n",
        "    print(entity)"
      ],
      "metadata": {
        "colab": {
          "base_uri": "https://localhost:8080/"
        },
        "id": "sOBHQtzH8WHT",
        "outputId": "cc8f08c9-3ea5-4a3d-f44d-438d3106d28b"
      },
      "execution_count": 18,
      "outputs": [
        {
          "output_type": "stream",
          "name": "stdout",
          "text": [
            "(S\n",
            "  The/DT\n",
            "  (ORGANIZATION US/NNP)\n",
            "  President/NNP\n",
            "  (PERSON Joe/NNP Biden/NNP)\n",
            "  met/VBD\n",
            "  with/IN\n",
            "  (GPE British/NNP)\n",
            "  Prime/NNP\n",
            "  Minister/NNP\n",
            "  (PERSON Boris/NNP Johnson/NNP)\n",
            "  in/IN\n",
            "  (GPE London/NNP)\n",
            "  ./.)\n",
            "(S\n",
            "  (PERSON Apple/NNP)\n",
            "  (ORGANIZATION Inc./NNP)\n",
            "  is/VBZ\n",
            "  looking/VBG\n",
            "  to/TO\n",
            "  open/VB\n",
            "  a/DT\n",
            "  new/JJ\n",
            "  office/NN\n",
            "  in/IN\n",
            "  (GPE San/NNP Francisco/NNP)\n",
            "  ./.)\n"
          ]
        }
      ]
    },
    {
      "cell_type": "markdown",
      "source": [
        "## **7. Load Text Data for Sentiment Analysis**"
      ],
      "metadata": {
        "id": "_bCGgCMq9m1p"
      }
    },
    {
      "cell_type": "code",
      "source": [
        "sentences = [\"I love the new design of the iPhone.\",\n",
        "             \"The recent update on the software is terrible.\",\n",
        "             \"The movie was amazing!\"]\n",
        "print(sentences)"
      ],
      "metadata": {
        "colab": {
          "base_uri": "https://localhost:8080/"
        },
        "id": "559GGHJ78aTa",
        "outputId": "36c19da4-5692-4266-8b93-52e17e09854e"
      },
      "execution_count": 19,
      "outputs": [
        {
          "output_type": "stream",
          "name": "stdout",
          "text": [
            "['I love the new design of the iPhone.', 'The recent update on the software is terrible.', 'The movie was amazing!']\n"
          ]
        }
      ]
    },
    {
      "cell_type": "markdown",
      "source": [
        "## **8. Preprocessing for Sentiment Analysis**"
      ],
      "metadata": {
        "id": "cQSAn87f9qNX"
      }
    },
    {
      "cell_type": "code",
      "source": [
        "def preprocess_text(text):\n",
        "    text = text.lower()  # Lowercase\n",
        "    text = re.sub(r'\\d+', '', text)  # Remove numbers\n",
        "    text = re.sub(r'[^\\w\\s]', '', text)  # Remove punctuation\n",
        "    return text\n",
        "\n",
        "processed_sentences = [preprocess_text(sentence) for sentence in sentences]\n",
        "print(processed_sentences)"
      ],
      "metadata": {
        "colab": {
          "base_uri": "https://localhost:8080/"
        },
        "id": "6X-eP9838d9T",
        "outputId": "62972967-3989-4e44-8440-bfd38f10e85c"
      },
      "execution_count": 20,
      "outputs": [
        {
          "output_type": "stream",
          "name": "stdout",
          "text": [
            "['i love the new design of the iphone', 'the recent update on the software is terrible', 'the movie was amazing']\n"
          ]
        }
      ]
    },
    {
      "cell_type": "markdown",
      "source": [
        "## **9. Sentiment Analysis using VADER**"
      ],
      "metadata": {
        "id": "d56tmDs09udR"
      }
    },
    {
      "cell_type": "code",
      "source": [
        "sia = SentimentIntensityAnalyzer()\n",
        "sentiment_scores = [sia.polarity_scores(sentence) for sentence in processed_sentences]\n",
        "\n",
        "for i, sentence in enumerate(processed_sentences):\n",
        "    print(f\"Sentence: {sentence}\")\n",
        "    print(f\"Sentiment Score: {sentiment_scores[i]}\")"
      ],
      "metadata": {
        "colab": {
          "base_uri": "https://localhost:8080/"
        },
        "id": "7DxDtecX8htl",
        "outputId": "475c59cc-cd9d-49c6-c79f-8a0006477a9f"
      },
      "execution_count": 21,
      "outputs": [
        {
          "output_type": "stream",
          "name": "stdout",
          "text": [
            "Sentence: i love the new design of the iphone\n",
            "Sentiment Score: {'neg': 0.0, 'neu': 0.588, 'pos': 0.412, 'compound': 0.6369}\n",
            "Sentence: the recent update on the software is terrible\n",
            "Sentiment Score: {'neg': 0.307, 'neu': 0.693, 'pos': 0.0, 'compound': -0.4767}\n",
            "Sentence: the movie was amazing\n",
            "Sentiment Score: {'neg': 0.0, 'neu': 0.441, 'pos': 0.559, 'compound': 0.5859}\n"
          ]
        }
      ]
    },
    {
      "cell_type": "markdown",
      "source": [
        "## **10. Visualize Sentiment Analysis Results**"
      ],
      "metadata": {
        "id": "QaaXqIIt9yC4"
      }
    },
    {
      "cell_type": "code",
      "source": [
        "sentiment_df = pd.DataFrame(sentiment_scores)\n",
        "sentiment_df['Sentence'] = sentences\n",
        "\n",
        "plt.figure(figsize=(8, 6))\n",
        "plt.bar(sentiment_df['Sentence'], sentiment_df['compound'])\n",
        "plt.ylabel('Sentiment Score')\n",
        "plt.title('Sentiment Analysis')\n",
        "plt.xticks(rotation=45, ha='right')\n",
        "plt.show()"
      ],
      "metadata": {
        "colab": {
          "base_uri": "https://localhost:8080/",
          "height": 764
        },
        "id": "yVBMY4aE8lai",
        "outputId": "21bd5cd0-2fd0-4c35-dd11-3c8c967e8721"
      },
      "execution_count": 22,
      "outputs": [
        {
          "output_type": "display_data",
          "data": {
            "text/plain": [
              "<Figure size 800x600 with 1 Axes>"
            ],
            "image/png": "[encoded data removed]"
          },
          "metadata": {}
        }
      ]
    }
  ]
}