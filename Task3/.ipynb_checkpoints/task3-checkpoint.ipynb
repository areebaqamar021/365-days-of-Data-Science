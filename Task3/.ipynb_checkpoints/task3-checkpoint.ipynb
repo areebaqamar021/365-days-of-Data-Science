{
 "cells": [
  {
   "cell_type": "code",
   "execution_count": 1,
   "id": "725a181d-05ef-4015-a868-8754674b7ddd",
   "metadata": {},
   "outputs": [
    {
     "name": "stdout",
     "output_type": "stream",
     "text": [
      "my first notebook\n",
      "areeba qamar\n"
     ]
    }
   ],
   "source": [
    "print(\"my first notebook\")\n",
    "print(\"areeba qamar\")\n"
   ]
  },
  {
   "cell_type": "code",
   "execution_count": null,
   "id": "38111cab-0e6e-4789-81dd-9648f14dc8e4",
   "metadata": {},
   "outputs": [],
   "source": []
  }
 ],
 "metadata": {
  "kernelspec": {
   "display_name": "Python 3 (ipykernel)",
   "language": "python",
   "name": "python3"
  },
  "language_info": {
   "codemirror_mode": {
    "name": "ipython",
    "version": 3
   },
   "file_extension": ".py",
   "mimetype": "text/x-python",
   "name": "python",
   "nbconvert_exporter": "python",
   "pygments_lexer": "ipython3",
   "version": "3.11.7"
  }
 },
 "nbformat": 4,
 "nbformat_minor": 5
}
