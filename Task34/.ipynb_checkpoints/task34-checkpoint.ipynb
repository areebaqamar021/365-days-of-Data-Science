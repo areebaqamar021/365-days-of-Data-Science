{
 "cells": [
  {
   "cell_type": "markdown",
   "id": "4fb2e93c-9800-4c93-87e0-c02c09af91e1",
   "metadata": {},
   "source": [
    "# Deep Learning with TensorFlow/Keras\n"
   ]
  },
  {
   "cell_type": "code",
   "execution_count": null,
   "id": "f5f2cea4-1cea-41dd-b05a-2237c9678c0a",
   "metadata": {},
   "outputs": [],
   "source": [
    "!pip install tensorflow"
   ]
  },
  {
   "cell_type": "code",
   "execution_count": null,
   "id": "54a9e9fc-c1f2-4aad-8e2c-23a79cfc7777",
   "metadata": {},
   "outputs": [],
   "source": [
    "import tensorflow as tf\n",
    "from tensorflow.keras.models import Sequential\n",
    "from tensorflow.keras.layers import Dense, Dropout\n",
    "from sklearn.model_selection import train_test_split\n",
    "from sklearn.preprocessing import StandardScaler\n",
    "import pandas as pd\n",
    "import numpy as np\n",
    "import matplotlib.pyplot as plt"
   ]
  },
  {
   "cell_type": "markdown",
   "id": "e3ae3da9-9c46-4ccb-9f07-8a2d3dd6891d",
   "metadata": {},
   "source": [
    "## Load and Preprocess Data"
   ]
  },
  {
   "cell_type": "code",
   "execution_count": null,
   "id": "f860d694-107b-4424-8572-3306897181e8",
   "metadata": {},
   "outputs": [],
   "source": [
    "# Create a dummy dataset\n",
    "X, y = np.random.rand(1000, 20), np.random.randint(0, 2, 1000)\n",
    "\n",
    "# Splitting the dataset into training and testing sets\n",
    "X_train, X_test, y_train, y_test = train_test_split(X, y, test_size=0.2, random_state=42)\n",
    "\n",
    "# Normalize the data\n",
    "scaler = StandardScaler()\n",
    "X_train = scaler.fit_transform(X_train)\n",
    "X_test = scaler.transform(X_test)\n",
    "\n",
    "# Display the shapes of the datasets\n",
    "X_train.shape, X_test.shape, y_train.shape, y_test.shape"
   ]
  },
  {
   "cell_type": "markdown",
   "id": "a17c76d8-088d-4bab-89cd-2e9543b6b410",
   "metadata": {},
   "source": [
    "## Build the Model"
   ]
  },
  {
   "cell_type": "code",
   "execution_count": null,
   "id": "bc5ca7ce-b7e4-4e29-9ed5-42545b46028a",
   "metadata": {},
   "outputs": [],
   "source": [
    "# Initialize the Sequential model\n",
    "model = Sequential()\n",
    "\n",
    "# Add layers\n",
    "model.add(Dense(128, input_dim=X_train.shape[1], activation='relu'))\n",
    "model.add(Dropout(0.5))  # Dropout layer for regularization\n",
    "model.add(Dense(64, activation='relu'))\n",
    "model.add(Dense(32, activation='relu'))\n",
    "model.add(Dense(1, activation='sigmoid'))  # Output layer for binary classification\n",
    "\n",
    "# Print the model summary\n",
    "model.summary()"
   ]
  },
  {
   "cell_type": "markdown",
   "id": "9c6f2b20-1f89-4636-8cce-7946c0d9b937",
   "metadata": {},
   "source": [
    "## Compile the Model"
   ]
  },
  {
   "cell_type": "code",
   "execution_count": null,
   "id": "0326c27b-fda3-4060-81a2-135ea5657664",
   "metadata": {},
   "outputs": [],
   "source": [
    "# Compile the model with optimizer, loss function, and metrics\n",
    "model.compile(optimizer='adam', loss='binary_crossentropy', metrics=['accuracy'])\n",
    "\n",
    "# Output: No direct results, but the model is ready for training"
   ]
  },
  {
   "cell_type": "markdown",
   "id": "58679061-e51b-4acc-8198-23ef40faa3fc",
   "metadata": {},
   "source": [
    "##  Train the Model"
   ]
  },
  {
   "cell_type": "code",
   "execution_count": null,
   "id": "b0721689-6fdf-4ab6-a709-bb502c66cc53",
   "metadata": {},
   "outputs": [],
   "source": [
    "# Train the model on the training data\n",
    "history = model.fit(X_train, y_train, epochs=30, validation_data=(X_test, y_test))\n",
    "\n",
    "# Output: Training history with loss and accuracy values for each epoch\n",
    "history.history.keys()  # Show the keys in history to visualize training and validation performance"
   ]
  },
  {
   "cell_type": "markdown",
   "id": "423718b1-faf3-4a2d-bfe7-63bdb4b1c0c0",
   "metadata": {},
   "source": [
    "## Visualize Training History"
   ]
  },
  {
   "cell_type": "code",
   "execution_count": null,
   "id": "4bc421aa-b12a-4853-a673-7df2f7347979",
   "metadata": {},
   "outputs": [],
   "source": [
    "# Plot training & validation accuracy values\n",
    "plt.plot(history.history['accuracy'], label='Train Accuracy')\n",
    "plt.plot(history.history['val_accuracy'], label='Val Accuracy')\n",
    "plt.title('Model Accuracy')\n",
    "plt.ylabel('Accuracy')\n",
    "plt.xlabel('Epoch')\n",
    "plt.legend(loc='upper left')\n",
    "plt.show()\n",
    "\n",
    "# Plot training & validation loss values\n",
    "plt.plot(history.history['loss'], label='Train Loss')\n",
    "plt.plot(history.history['val_loss'], label='Val Loss')\n",
    "plt.title('Model Loss')\n",
    "plt.ylabel('Loss')\n",
    "plt.xlabel('Epoch')\n",
    "plt.legend(loc='upper left')\n",
    "plt.show()"
   ]
  },
  {
   "cell_type": "markdown",
   "id": "03807b6c-f11e-4b31-9757-3abce81d0234",
   "metadata": {},
   "source": [
    "##  Evaluate the Model"
   ]
  },
  {
   "cell_type": "code",
   "execution_count": null,
   "id": "fbc96b48-d50a-4792-b6c3-85888eb0113c",
   "metadata": {},
   "outputs": [],
   "source": [
    "# Evaluate the model on the test data\n",
    "loss, accuracy = model.evaluate(X_test, y_test)\n",
    "print(f\"Test Loss: {loss:.4f}, Test Accuracy: {accuracy:.4f}\")"
   ]
  },
  {
   "cell_type": "markdown",
   "id": "2ea3c882-de7f-4233-842f-fa4e5bd945ef",
   "metadata": {},
   "source": [
    "## Save the Model"
   ]
  },
  {
   "cell_type": "code",
   "execution_count": null,
   "id": "461e8322-0b99-4708-99d9-ede0e195242e",
   "metadata": {},
   "outputs": [],
   "source": [
    "# Save the trained model to a file\n",
    "model.save('my_deep_learning_model.h5')\n",
    "\n",
    "# Output: Model is saved for future predictions\n"
   ]
  },
  {
   "cell_type": "markdown",
   "id": "e3555b43-5ce4-4bf0-afa0-7bd5b1a5addc",
   "metadata": {},
   "source": [
    "## Load the Model and Make Predictions"
   ]
  },
  {
   "cell_type": "code",
   "execution_count": null,
   "id": "390f110f-6b5d-48d7-a38a-126fd3036d4b",
   "metadata": {},
   "outputs": [],
   "source": [
    "# Load the saved model\n",
    "loaded_model = tf.keras.models.load_model('my_deep_learning_model.h5')\n",
    "\n",
    "# Make predictions on the test set\n",
    "predictions = loaded_model.predict(X_test)\n",
    "\n",
    "# Show the first 5 predictions\n",
    "predictions[:5]\n"
   ]
  },
  {
   "cell_type": "code",
   "execution_count": null,
   "id": "4a19678e-e01d-4534-af1d-f2a65246da54",
   "metadata": {},
   "outputs": [],
   "source": []
  }
 ],
 "metadata": {
  "kernelspec": {
   "display_name": "Python 3 (ipykernel)",
   "language": "python",
   "name": "python3"
  },
  "language_info": {
   "codemirror_mode": {
    "name": "ipython",
    "version": 3
   },
   "file_extension": ".py",
   "mimetype": "text/x-python",
   "name": "python",
   "nbconvert_exporter": "python",
   "pygments_lexer": "ipython3",
   "version": "3.11.7"
  }
 },
 "nbformat": 4,
 "nbformat_minor": 5
}
