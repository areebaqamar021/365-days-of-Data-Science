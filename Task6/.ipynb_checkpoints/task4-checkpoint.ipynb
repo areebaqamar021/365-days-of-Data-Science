{
 "cells": [
  {
   "cell_type": "code",
   "execution_count": 14,
   "id": "366488c9-453d-45bc-bd38-8280e3c35a11",
   "metadata": {},
   "outputs": [
    {
     "name": "stdout",
     "output_type": "stream",
     "text": [
      "\n",
      "1. Add Student\n",
      "2. Search Student\n",
      "3. Delete Student\n",
      "4. Display Students\n",
      "5. Exit\n"
     ]
    },
    {
     "name": "stdin",
     "output_type": "stream",
     "text": [
      "Enter your choice:  1\n",
      "Enter student ID:  03\n",
      "Enter student name:  Reena Kumari\n",
      "Enter student age:  23\n",
      "Enter student grade:  A\n"
     ]
    },
    {
     "name": "stdout",
     "output_type": "stream",
     "text": [
      "Student record added successfully.\n",
      "\n",
      "1. Add Student\n",
      "2. Search Student\n",
      "3. Delete Student\n",
      "4. Display Students\n",
      "5. Exit\n"
     ]
    },
    {
     "name": "stdin",
     "output_type": "stream",
     "text": [
      "Enter your choice:  2\n",
      "Enter student ID to search:  01\n"
     ]
    },
    {
     "name": "stdout",
     "output_type": "stream",
     "text": [
      "Student ID: 01\n",
      "Name: Areeba Qamar\n",
      "Age: 21\n",
      "Grade: A+\n",
      "\n",
      "1. Add Student\n",
      "2. Search Student\n",
      "3. Delete Student\n",
      "4. Display Students\n",
      "5. Exit\n"
     ]
    },
    {
     "name": "stdin",
     "output_type": "stream",
     "text": [
      "Enter your choice:  3\n",
      "Enter student ID to delete:  03\n"
     ]
    },
    {
     "name": "stdout",
     "output_type": "stream",
     "text": [
      "Student record deleted successfully.\n",
      "\n",
      "1. Add Student\n",
      "2. Search Student\n",
      "3. Delete Student\n",
      "4. Display Students\n",
      "5. Exit\n"
     ]
    },
    {
     "name": "stdin",
     "output_type": "stream",
     "text": [
      "Enter your choice:  4\n"
     ]
    },
    {
     "name": "stdout",
     "output_type": "stream",
     "text": [
      "Student ID: 02\n",
      "Name: Hajra Fayyaz\n",
      "Age: 21\n",
      "Grade: A+\n",
      "----------------------------\n",
      "Student ID: 01\n",
      "Name: Areeba Qamar\n",
      "Age: 21\n",
      "Grade: A+\n",
      "----------------------------\n",
      "\n",
      "1. Add Student\n",
      "2. Search Student\n",
      "3. Delete Student\n",
      "4. Display Students\n",
      "5. Exit\n"
     ]
    },
    {
     "name": "stdin",
     "output_type": "stream",
     "text": [
      "Enter your choice:  5\n"
     ]
    }
   ],
   "source": [
    "import json\n",
    "import os\n",
    "\n",
    "FILENAME = 'students.json'\n",
    "\n",
    "# Load student data from file\n",
    "def load_data():\n",
    "    if os.path.exists(FILENAME):\n",
    "        with open(FILENAME, 'r') as file:\n",
    "            return json.load(file)\n",
    "    return {}\n",
    "\n",
    "# Save student data to file\n",
    "def save_data(data):\n",
    "    with open(FILENAME, 'w') as file:\n",
    "        json.dump(data, file, indent=4)\n",
    "\n",
    "# Add a new student record\n",
    "def add_student(data):\n",
    "    student_id = input(\"Enter student ID: \")\n",
    "    if student_id in data:\n",
    "        print(\"Student ID already exists. Please use a unique ID.\")\n",
    "        return\n",
    "    student_name = input(\"Enter student name: \")\n",
    "    student_age = input(\"Enter student age: \")\n",
    "    student_grade = input(\"Enter student grade: \")\n",
    "    data[student_id] = {\n",
    "        'name': student_name,\n",
    "        'age': student_age,\n",
    "        'grade': student_grade\n",
    "    }\n",
    "    save_data(data)\n",
    "    print(\"Student record added successfully.\")\n",
    "\n",
    "# Search for a student record by ID\n",
    "def search_student(data):\n",
    "    student_id = input(\"Enter student ID to search: \")\n",
    "    if student_id in data:\n",
    "        print(f\"Student ID: {student_id}\")\n",
    "        print(f\"Name: {data[student_id]['name']}\")\n",
    "        print(f\"Age: {data[student_id]['age']}\")\n",
    "        print(f\"Grade: {data[student_id]['grade']}\")\n",
    "    else:\n",
    "        print(\"Student not found.\")\n",
    "\n",
    "# Delete a student record by ID\n",
    "def delete_student(data):\n",
    "    student_id = input(\"Enter student ID to delete: \")\n",
    "    if student_id in data:\n",
    "        del data[student_id]\n",
    "        save_data(data)\n",
    "        print(\"Student record deleted successfully.\")\n",
    "    else:\n",
    "        print(\"Student not found.\")\n",
    "\n",
    "# Display all student records\n",
    "def display_students(data):\n",
    "    if data:\n",
    "        for student_id, info in data.items():\n",
    "            print(f\"Student ID: {student_id}\")\n",
    "            print(f\"Name: {info['name']}\")\n",
    "            print(f\"Age: {info['age']}\")\n",
    "            print(f\"Grade: {info['grade']}\")\n",
    "            print(\"----------------------------\")\n",
    "    else:\n",
    "        print(\"No student records found.\")\n",
    "\n",
    "# Main function\n",
    "def main():\n",
    "    data = load_data()\n",
    "    while True:\n",
    "        print(\"\\n1. Add Student\")\n",
    "        print(\"2. Search Student\")\n",
    "        print(\"3. Delete Student\")\n",
    "        print(\"4. Display Students\")\n",
    "        print(\"5. Exit\")\n",
    "        choice = input(\"Enter your choice: \")\n",
    "\n",
    "        if choice == '1':\n",
    "            add_student(data)\n",
    "        elif choice == '2':\n",
    "            search_student(data)\n",
    "        elif choice == '3':\n",
    "            delete_student(data)\n",
    "        elif choice == '4':\n",
    "            display_students(data)\n",
    "        elif choice == '5':\n",
    "            break\n",
    "        else:\n",
    "            print(\"Invalid choice. Please try again.\")\n",
    "\n",
    "if __name__ == \"__main__\":\n",
    "    main()\n"
   ]
  },
  {
   "cell_type": "code",
   "execution_count": null,
   "id": "8386ef11-b0aa-4fad-beb4-29d70c36242a",
   "metadata": {},
   "outputs": [],
   "source": []
  }
 ],
 "metadata": {
  "kernelspec": {
   "display_name": "Python 3 (ipykernel)",
   "language": "python",
   "name": "python3"
  },
  "language_info": {
   "codemirror_mode": {
    "name": "ipython",
    "version": 3
   },
   "file_extension": ".py",
   "mimetype": "text/x-python",
   "name": "python",
   "nbconvert_exporter": "python",
   "pygments_lexer": "ipython3",
   "version": "3.11.7"
  }
 },
 "nbformat": 4,
 "nbformat_minor": 5
}
