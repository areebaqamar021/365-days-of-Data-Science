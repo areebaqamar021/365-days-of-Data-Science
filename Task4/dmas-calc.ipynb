{
 "cells": [
  {
   "cell_type": "code",
   "execution_count": 1,
   "id": "233d01f9-b312-4009-b28b-b84ec796e07c",
   "metadata": {},
   "outputs": [
    {
     "name": "stdin",
     "output_type": "stream",
     "text": [
      "Enter the first number:  4\n",
      "Enter the second number:  7\n"
     ]
    },
    {
     "name": "stdout",
     "output_type": "stream",
     "text": [
      "Sum: 11.0\n",
      "Difference: -3.0\n",
      "Product: 28.0\n",
      "Quotient: 0.5714285714285714\n"
     ]
    }
   ],
   "source": [
    "def dmas_calculator():\n",
    "    # Prompt the user to input two numbers\n",
    "    num1 = float(input(\"Enter the first number: \"))\n",
    "    num2 = float(input(\"Enter the second number: \"))\n",
    "\n",
    "    # Calculate the sum, difference, product, and quotient\n",
    "    sum_result = num1 + num2\n",
    "    difference_result = num1 - num2\n",
    "    product_result = num1 * num2\n",
    "\n",
    "    # Handle division by zero\n",
    "    if num2 != 0:\n",
    "        quotient_result = num1 / num2\n",
    "    else:\n",
    "        quotient_result = \"undefined (division by zero)\"\n",
    "\n",
    "    # Display the results\n",
    "    print(f\"Sum: {sum_result}\")\n",
    "    print(f\"Difference: {difference_result}\")\n",
    "    print(f\"Product: {product_result}\")\n",
    "    print(f\"Quotient: {quotient_result}\")\n",
    "\n",
    "# Run the calculator function\n",
    "dmas_calculator()\n"
   ]
  },
  {
   "cell_type": "code",
   "execution_count": null,
   "id": "44343742-6305-424e-b811-0dcbe021c217",
   "metadata": {},
   "outputs": [],
   "source": []
  }
 ],
 "metadata": {
  "kernelspec": {
   "display_name": "Python 3 (ipykernel)",
   "language": "python",
   "name": "python3"
  },
  "language_info": {
   "codemirror_mode": {
    "name": "ipython",
    "version": 3
   },
   "file_extension": ".py",
   "mimetype": "text/x-python",
   "name": "python",
   "nbconvert_exporter": "python",
   "pygments_lexer": "ipython3",
   "version": "3.11.7"
  }
 },
 "nbformat": 4,
 "nbformat_minor": 5
}
