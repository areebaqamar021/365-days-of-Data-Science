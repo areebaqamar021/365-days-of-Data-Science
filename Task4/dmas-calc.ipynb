{
 "cells": [
  {
   "cell_type": "code",
   "execution_count": 1,
   "id": "233d01f9-b312-4009-b28b-b84ec796e07c",
   "metadata": {},
   "outputs": [
    {
     "name": "stdin",
     "output_type": "stream",
     "text": [
      "Enter the first number:  4\n",
      "Enter the second number:  7\n"
     ]
    },
    {
     "name": "stdout",
     "output_type": "stream",
     "text": [
      "Sum: 11.0\n",
      "Difference: -3.0\n",
      "Product: 28.0\n",
      "Quotient: 0.5714285714285714\n"
     ]
    }
   ],
   "source": [
    "def dmas_calculator():\n",
    "    # Prompt the user to input two numbers\n",
    "    num1 = float(input(\"Enter the first number: \"))\n",
    "    num2 = float(input(\"Enter the second number: \"))\n",
    "\n",
    "    # Calculate the sum, difference, product, and quotient\n",
    "    sum_result = num1 + num2\n",
    "    difference_result = num1 - num2\n",
    "    product_result = num1 * num2\n",
    "\n",
    "    # Handle division by zero\n",
    "    if num2 != 0:\n",
    "        quotient_result = num1 / num2\n",
    "    else:\n",
    "        quotient_result = \"undefined (division by zero)\"\n",
    "\n",
    "    # Display the results\n",
    "    print(f\"Sum: {sum_result}\")\n",
    "    print(f\"Difference: {difference_result}\")\n",
    "    print(f\"Product: {product_result}\")\n",
    "    print(f\"Quotient: {quotient_result}\")\n",
    "\n",
    "# Run the calculator function\n",
    "dmas_calculator()\n"
   ]
  },
  {
   "cell_type": "code",
   "execution_count": 2,
   "id": "44343742-6305-424e-b811-0dcbe021c217",
   "metadata": {},
   "outputs": [
    {
     "name": "stdout",
     "output_type": "stream",
     "text": [
      "The area of the circle with radius 5.0 is 78.53975\n"
     ]
    }
   ],
   "source": [
    "# Variables\n",
    "radius = 5.0  # float datatype\n",
    "\n",
    "# Constant for pi\n",
    "pi = 3.14159\n",
    "\n",
    "# Calculate area\n",
    "area = pi * radius * radius  # area = πr²\n",
    "\n",
    "# Display the result\n",
    "print(\"The area of the circle with radius\", radius, \"is\", area)\n"
   ]
  },
  {
   "cell_type": "code",
   "execution_count": 4,
   "id": "fa654ea7-49d3-4591-8d75-b2d523092f2a",
   "metadata": {},
   "outputs": [
    {
     "name": "stdout",
     "output_type": "stream",
     "text": [
      "The simple interest for a principal amount of 1000 at a rate of 5 % for 2 years is 100.0\n"
     ]
    }
   ],
   "source": [
    "# Variables\n",
    "principal = 1000  # int datatype\n",
    "rate = 5  # float datatype (as percentage)\n",
    "time = 2  # int datatype (years)\n",
    "\n",
    "# Calculate simple interest\n",
    "simple_interest = (principal * rate * time) / 100\n",
    "\n",
    "# Display the result\n",
    "print(\"The simple interest for a principal amount of\", principal, \"at a rate of\", rate, \"% for\", time, \"years is\", simple_interest)\n"
   ]
  },
  {
   "cell_type": "code",
   "execution_count": 6,
   "id": "96b2378b-b668-4e93-9ab8-fd7990c82c8a",
   "metadata": {},
   "outputs": [
    {
     "name": "stdout",
     "output_type": "stream",
     "text": [
      "25 degrees Celsius is equal to 77.0 degrees Fahrenheit\n"
     ]
    }
   ],
   "source": [
    "# Variable\n",
    "celsius = 25  # int datatype\n",
    "\n",
    "# Convert Celsius to Fahrenheit\n",
    "fahrenheit = (celsius * 9/5) + 32\n",
    "\n",
    "# Display the result\n",
    "print(celsius, \"degrees Celsius is equal to\", fahrenheit, \"degrees Fahrenheit\")\n"
   ]
  },
  {
   "cell_type": "code",
   "execution_count": 8,
   "id": "eaf836c8-15f0-43fd-afa2-e2e3977eb00c",
   "metadata": {},
   "outputs": [
    {
     "name": "stdout",
     "output_type": "stream",
     "text": [
      "Addition: 10 + 5 = 15\n",
      "Subtraction: 10 - 5 = 5\n",
      "Multiplication: 10 * 5 = 50\n",
      "Division: 10 / 5 = 2.0\n"
     ]
    }
   ],
   "source": [
    "# Variables\n",
    "num1 = 10  # int datatype\n",
    "num2 = 5   # int datatype\n",
    "\n",
    "# Addition\n",
    "addition = num1 + num2\n",
    "\n",
    "# Subtraction\n",
    "subtraction = num1 - num2\n",
    "\n",
    "# Multiplication\n",
    "multiplication = num1 * num2\n",
    "\n",
    "# Division\n",
    "division = num1 / num2\n",
    "\n",
    "# Display the results\n",
    "print(\"Addition:\", num1, \"+\", num2, \"=\", addition)\n",
    "print(\"Subtraction:\", num1, \"-\", num2, \"=\", subtraction)\n",
    "print(\"Multiplication:\", num1, \"*\", num2, \"=\", multiplication)\n",
    "print(\"Division:\", num1, \"/\", num2, \"=\", division)\n"
   ]
  },
  {
   "cell_type": "code",
   "execution_count": 14,
   "id": "4a4b46b5-4e32-43b4-a1ff-90f7772d115f",
   "metadata": {},
   "outputs": [
    {
     "name": "stdout",
     "output_type": "stream",
     "text": [
      "Full Name: Areeba Mirza\n"
     ]
    }
   ],
   "source": [
    "# Variables\n",
    "first_name = \"Areeba\"  # str datatype\n",
    "last_name = \"Mirza\"    # str datatype\n",
    "\n",
    "# Concatenate strings\n",
    "full_name = first_name + \" \" + last_name\n",
    "\n",
    "# Display the result\n",
    "print(\"Full Name:\", full_name)\n"
   ]
  },
  {
   "cell_type": "code",
   "execution_count": 12,
   "id": "cb79bb45-0148-48ff-92bf-3a53a8220343",
   "metadata": {},
   "outputs": [
    {
     "name": "stdout",
     "output_type": "stream",
     "text": [
      "The number 7 is odd\n"
     ]
    }
   ],
   "source": [
    "# Variable\n",
    "number = 7  # int datatype\n",
    "\n",
    "# Check even or odd\n",
    "if number % 2 == 0:\n",
    "    result = \"even\"\n",
    "else:\n",
    "    result = \"odd\"\n",
    "\n",
    "# Display the result\n",
    "print(\"The number\", number, \"is\", result)\n"
   ]
  },
  {
   "cell_type": "code",
   "execution_count": null,
   "id": "20c3fe30-c658-42e3-999b-b5cafc63d231",
   "metadata": {},
   "outputs": [],
   "source": []
  }
 ],
 "metadata": {
  "kernelspec": {
   "display_name": "Python 3 (ipykernel)",
   "language": "python",
   "name": "python3"
  },
  "language_info": {
   "codemirror_mode": {
    "name": "ipython",
    "version": 3
   },
   "file_extension": ".py",
   "mimetype": "text/x-python",
   "name": "python",
   "nbconvert_exporter": "python",
   "pygments_lexer": "ipython3",
   "version": "3.11.7"
  }
 },
 "nbformat": 4,
 "nbformat_minor": 5
}
