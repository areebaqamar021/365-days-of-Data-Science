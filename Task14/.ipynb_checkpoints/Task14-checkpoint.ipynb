{
 "cells": [
  {
   "cell_type": "markdown",
   "id": "879b9c22-b6ef-4ea5-9aed-f9ae25aa3446",
   "metadata": {},
   "source": [
    "## Data cleaning and preprocessing with Pandas\n"
   ]
  },
  {
   "cell_type": "code",
   "execution_count": 2,
   "id": "4f387462-7ff8-4396-8477-792d9215d66e",
   "metadata": {},
   "outputs": [
    {
     "name": "stdout",
     "output_type": "stream",
     "text": [
      "DataFrame loaded from CSV file:\n",
      "    Age Attrition     BusinessTravel  DailyRate              Department  \\\n",
      "0   41       Yes      Travel_Rarely       1102                   Sales   \n",
      "1   49        No  Travel_Frequently        279  Research & Development   \n",
      "2   37       Yes      Travel_Rarely       1373  Research & Development   \n",
      "3   33        No  Travel_Frequently       1392  Research & Development   \n",
      "4   27        No      Travel_Rarely        591  Research & Development   \n",
      "\n",
      "   DistanceFromHome  Education EducationField  EmployeeCount  EmployeeNumber  \\\n",
      "0                 1          2  Life Sciences              1               1   \n",
      "1                 8          1  Life Sciences              1               2   \n",
      "2                 2          2          Other              1               4   \n",
      "3                 3          4  Life Sciences              1               5   \n",
      "4                 2          1        Medical              1               7   \n",
      "\n",
      "   ...  RelationshipSatisfaction StandardHours  StockOptionLevel  \\\n",
      "0  ...                         1            80                 0   \n",
      "1  ...                         4            80                 1   \n",
      "2  ...                         2            80                 0   \n",
      "3  ...                         3            80                 0   \n",
      "4  ...                         4            80                 1   \n",
      "\n",
      "   TotalWorkingYears  TrainingTimesLastYear WorkLifeBalance  YearsAtCompany  \\\n",
      "0                  8                      0               1               6   \n",
      "1                 10                      3               3              10   \n",
      "2                  7                      3               3               0   \n",
      "3                  8                      3               3               8   \n",
      "4                  6                      3               3               2   \n",
      "\n",
      "  YearsInCurrentRole  YearsSinceLastPromotion  YearsWithCurrManager  \n",
      "0                  4                        0                     5  \n",
      "1                  7                        1                     7  \n",
      "2                  0                        0                     0  \n",
      "3                  7                        3                     0  \n",
      "4                  2                        2                     2  \n",
      "\n",
      "[5 rows x 35 columns]\n"
     ]
    }
   ],
   "source": [
    "import pandas as pd\n",
    "from sklearn.preprocessing import MinMaxScaler, StandardScaler, LabelEncoder, PolynomialFeatures\n",
    "\n",
    "df = pd.read_csv('WA_Fn-UseC_-HR-Employee-Attrition.csv')\n",
    "print(\"DataFrame loaded from CSV file:\\n\", df.head())"
   ]
  },
  {
   "cell_type": "code",
   "execution_count": 4,
   "id": "39eda250-58c3-4b7f-a139-b542ebca5e4c",
   "metadata": {},
   "outputs": [
    {
     "name": "stdout",
     "output_type": "stream",
     "text": [
      "\n",
      "Missing values in each column:\n",
      " Age                         0\n",
      "Attrition                   0\n",
      "BusinessTravel              0\n",
      "DailyRate                   0\n",
      "Department                  0\n",
      "DistanceFromHome            0\n",
      "Education                   0\n",
      "EducationField              0\n",
      "EmployeeCount               0\n",
      "EmployeeNumber              0\n",
      "EnvironmentSatisfaction     0\n",
      "Gender                      0\n",
      "HourlyRate                  0\n",
      "JobInvolvement              0\n",
      "JobLevel                    0\n",
      "JobRole                     0\n",
      "JobSatisfaction             0\n",
      "MaritalStatus               0\n",
      "MonthlyIncome               0\n",
      "MonthlyRate                 0\n",
      "NumCompaniesWorked          0\n",
      "Over18                      0\n",
      "OverTime                    0\n",
      "PercentSalaryHike           0\n",
      "PerformanceRating           0\n",
      "RelationshipSatisfaction    0\n",
      "StandardHours               0\n",
      "StockOptionLevel            0\n",
      "TotalWorkingYears           0\n",
      "TrainingTimesLastYear       0\n",
      "WorkLifeBalance             0\n",
      "YearsAtCompany              0\n",
      "YearsInCurrentRole          0\n",
      "YearsSinceLastPromotion     0\n",
      "YearsWithCurrManager        0\n",
      "dtype: int64\n"
     ]
    }
   ],
   "source": [
    "# 1. Identify missing values in the DataFrame.\n",
    "def identify_missing_values(dataframe):\n",
    "    return dataframe.isnull().sum()\n",
    "\n",
    "print(\"\\nMissing values in each column:\\n\", identify_missing_values(df))"
   ]
  },
  {
   "cell_type": "code",
   "execution_count": 6,
   "id": "4b95b938-bb13-45a5-b791-6f2fa19412b9",
   "metadata": {},
   "outputs": [
    {
     "name": "stdout",
     "output_type": "stream",
     "text": [
      "\n",
      "DataFrame after dropping rows with missing values:\n",
      "    Age Attrition     BusinessTravel  DailyRate              Department  \\\n",
      "0   41       Yes      Travel_Rarely       1102                   Sales   \n",
      "1   49        No  Travel_Frequently        279  Research & Development   \n",
      "2   37       Yes      Travel_Rarely       1373  Research & Development   \n",
      "3   33        No  Travel_Frequently       1392  Research & Development   \n",
      "4   27        No      Travel_Rarely        591  Research & Development   \n",
      "\n",
      "   DistanceFromHome  Education EducationField  EmployeeCount  EmployeeNumber  \\\n",
      "0                 1          2  Life Sciences              1               1   \n",
      "1                 8          1  Life Sciences              1               2   \n",
      "2                 2          2          Other              1               4   \n",
      "3                 3          4  Life Sciences              1               5   \n",
      "4                 2          1        Medical              1               7   \n",
      "\n",
      "   ...  RelationshipSatisfaction StandardHours  StockOptionLevel  \\\n",
      "0  ...                         1            80                 0   \n",
      "1  ...                         4            80                 1   \n",
      "2  ...                         2            80                 0   \n",
      "3  ...                         3            80                 0   \n",
      "4  ...                         4            80                 1   \n",
      "\n",
      "   TotalWorkingYears  TrainingTimesLastYear WorkLifeBalance  YearsAtCompany  \\\n",
      "0                  8                      0               1               6   \n",
      "1                 10                      3               3              10   \n",
      "2                  7                      3               3               0   \n",
      "3                  8                      3               3               8   \n",
      "4                  6                      3               3               2   \n",
      "\n",
      "  YearsInCurrentRole  YearsSinceLastPromotion  YearsWithCurrManager  \n",
      "0                  4                        0                     5  \n",
      "1                  7                        1                     7  \n",
      "2                  0                        0                     0  \n",
      "3                  7                        3                     0  \n",
      "4                  2                        2                     2  \n",
      "\n",
      "[5 rows x 35 columns]\n"
     ]
    }
   ],
   "source": [
    "# 2. Drop rows with any missing values.\n",
    "def drop_rows_with_missing_values(dataframe):\n",
    "    return dataframe.dropna()\n",
    "\n",
    "df_dropped_rows = drop_rows_with_missing_values(df)\n",
    "print(\"\\nDataFrame after dropping rows with missing values:\\n\", df_dropped_rows.head())"
   ]
  },
  {
   "cell_type": "code",
   "execution_count": 8,
   "id": "b3462219-9db7-47a3-89ad-3f7183d9a0bd",
   "metadata": {},
   "outputs": [
    {
     "name": "stdout",
     "output_type": "stream",
     "text": [
      "\n",
      "DataFrame after dropping columns with missing values:\n",
      "    Age Attrition     BusinessTravel  DailyRate              Department  \\\n",
      "0   41       Yes      Travel_Rarely       1102                   Sales   \n",
      "1   49        No  Travel_Frequently        279  Research & Development   \n",
      "2   37       Yes      Travel_Rarely       1373  Research & Development   \n",
      "3   33        No  Travel_Frequently       1392  Research & Development   \n",
      "4   27        No      Travel_Rarely        591  Research & Development   \n",
      "\n",
      "   DistanceFromHome  Education EducationField  EmployeeCount  EmployeeNumber  \\\n",
      "0                 1          2  Life Sciences              1               1   \n",
      "1                 8          1  Life Sciences              1               2   \n",
      "2                 2          2          Other              1               4   \n",
      "3                 3          4  Life Sciences              1               5   \n",
      "4                 2          1        Medical              1               7   \n",
      "\n",
      "   ...  RelationshipSatisfaction StandardHours  StockOptionLevel  \\\n",
      "0  ...                         1            80                 0   \n",
      "1  ...                         4            80                 1   \n",
      "2  ...                         2            80                 0   \n",
      "3  ...                         3            80                 0   \n",
      "4  ...                         4            80                 1   \n",
      "\n",
      "   TotalWorkingYears  TrainingTimesLastYear WorkLifeBalance  YearsAtCompany  \\\n",
      "0                  8                      0               1               6   \n",
      "1                 10                      3               3              10   \n",
      "2                  7                      3               3               0   \n",
      "3                  8                      3               3               8   \n",
      "4                  6                      3               3               2   \n",
      "\n",
      "  YearsInCurrentRole  YearsSinceLastPromotion  YearsWithCurrManager  \n",
      "0                  4                        0                     5  \n",
      "1                  7                        1                     7  \n",
      "2                  0                        0                     0  \n",
      "3                  7                        3                     0  \n",
      "4                  2                        2                     2  \n",
      "\n",
      "[5 rows x 35 columns]\n"
     ]
    }
   ],
   "source": [
    "# 3. Drop columns with any missing values.\n",
    "def drop_columns_with_missing_values(dataframe):\n",
    "    return dataframe.dropna(axis=1)\n",
    "\n",
    "df_dropped_cols = drop_columns_with_missing_values(df)\n",
    "print(\"\\nDataFrame after dropping columns with missing values:\\n\", df_dropped_cols.head())"
   ]
  },
  {
   "cell_type": "code",
   "execution_count": 10,
   "id": "37f7ea70-426c-497f-a6b1-3b66b577c3a2",
   "metadata": {},
   "outputs": [
    {
     "name": "stdout",
     "output_type": "stream",
     "text": [
      "\n",
      "DataFrame after filling missing values with 0:\n",
      "    Age Attrition     BusinessTravel  DailyRate              Department  \\\n",
      "0   41       Yes      Travel_Rarely       1102                   Sales   \n",
      "1   49        No  Travel_Frequently        279  Research & Development   \n",
      "2   37       Yes      Travel_Rarely       1373  Research & Development   \n",
      "3   33        No  Travel_Frequently       1392  Research & Development   \n",
      "4   27        No      Travel_Rarely        591  Research & Development   \n",
      "\n",
      "   DistanceFromHome  Education EducationField  EmployeeCount  EmployeeNumber  \\\n",
      "0                 1          2  Life Sciences              1               1   \n",
      "1                 8          1  Life Sciences              1               2   \n",
      "2                 2          2          Other              1               4   \n",
      "3                 3          4  Life Sciences              1               5   \n",
      "4                 2          1        Medical              1               7   \n",
      "\n",
      "   ...  RelationshipSatisfaction StandardHours  StockOptionLevel  \\\n",
      "0  ...                         1            80                 0   \n",
      "1  ...                         4            80                 1   \n",
      "2  ...                         2            80                 0   \n",
      "3  ...                         3            80                 0   \n",
      "4  ...                         4            80                 1   \n",
      "\n",
      "   TotalWorkingYears  TrainingTimesLastYear WorkLifeBalance  YearsAtCompany  \\\n",
      "0                  8                      0               1               6   \n",
      "1                 10                      3               3              10   \n",
      "2                  7                      3               3               0   \n",
      "3                  8                      3               3               8   \n",
      "4                  6                      3               3               2   \n",
      "\n",
      "  YearsInCurrentRole  YearsSinceLastPromotion  YearsWithCurrManager  \n",
      "0                  4                        0                     5  \n",
      "1                  7                        1                     7  \n",
      "2                  0                        0                     0  \n",
      "3                  7                        3                     0  \n",
      "4                  2                        2                     2  \n",
      "\n",
      "[5 rows x 35 columns]\n"
     ]
    }
   ],
   "source": [
    "# 4. Fill missing values with a specific value.\n",
    "def fill_missing_values_with_value(dataframe, value):\n",
    "    return dataframe.fillna(value)\n",
    "\n",
    "df_filled = fill_missing_values_with_value(df, 0)\n",
    "print(\"\\nDataFrame after filling missing values with 0:\\n\", df_filled.head())"
   ]
  },
  {
   "cell_type": "code",
   "execution_count": 12,
   "id": "0d91bfc9-7dab-457f-ad6f-8e5c39df000c",
   "metadata": {},
   "outputs": [
    {
     "name": "stdout",
     "output_type": "stream",
     "text": [
      "\n",
      "DataFrame after forward filling missing values:\n",
      "    Age Attrition     BusinessTravel  DailyRate              Department  \\\n",
      "0   41       Yes      Travel_Rarely       1102                   Sales   \n",
      "1   49        No  Travel_Frequently        279  Research & Development   \n",
      "2   37       Yes      Travel_Rarely       1373  Research & Development   \n",
      "3   33        No  Travel_Frequently       1392  Research & Development   \n",
      "4   27        No      Travel_Rarely        591  Research & Development   \n",
      "\n",
      "   DistanceFromHome  Education EducationField  EmployeeCount  EmployeeNumber  \\\n",
      "0                 1          2  Life Sciences              1               1   \n",
      "1                 8          1  Life Sciences              1               2   \n",
      "2                 2          2          Other              1               4   \n",
      "3                 3          4  Life Sciences              1               5   \n",
      "4                 2          1        Medical              1               7   \n",
      "\n",
      "   ...  RelationshipSatisfaction StandardHours  StockOptionLevel  \\\n",
      "0  ...                         1            80                 0   \n",
      "1  ...                         4            80                 1   \n",
      "2  ...                         2            80                 0   \n",
      "3  ...                         3            80                 0   \n",
      "4  ...                         4            80                 1   \n",
      "\n",
      "   TotalWorkingYears  TrainingTimesLastYear WorkLifeBalance  YearsAtCompany  \\\n",
      "0                  8                      0               1               6   \n",
      "1                 10                      3               3              10   \n",
      "2                  7                      3               3               0   \n",
      "3                  8                      3               3               8   \n",
      "4                  6                      3               3               2   \n",
      "\n",
      "  YearsInCurrentRole  YearsSinceLastPromotion  YearsWithCurrManager  \n",
      "0                  4                        0                     5  \n",
      "1                  7                        1                     7  \n",
      "2                  0                        0                     0  \n",
      "3                  7                        3                     0  \n",
      "4                  2                        2                     2  \n",
      "\n",
      "[5 rows x 35 columns]\n",
      "\n",
      "DataFrame after backward filling missing values:\n",
      "    Age Attrition     BusinessTravel  DailyRate              Department  \\\n",
      "0   41       Yes      Travel_Rarely       1102                   Sales   \n",
      "1   49        No  Travel_Frequently        279  Research & Development   \n",
      "2   37       Yes      Travel_Rarely       1373  Research & Development   \n",
      "3   33        No  Travel_Frequently       1392  Research & Development   \n",
      "4   27        No      Travel_Rarely        591  Research & Development   \n",
      "\n",
      "   DistanceFromHome  Education EducationField  EmployeeCount  EmployeeNumber  \\\n",
      "0                 1          2  Life Sciences              1               1   \n",
      "1                 8          1  Life Sciences              1               2   \n",
      "2                 2          2          Other              1               4   \n",
      "3                 3          4  Life Sciences              1               5   \n",
      "4                 2          1        Medical              1               7   \n",
      "\n",
      "   ...  RelationshipSatisfaction StandardHours  StockOptionLevel  \\\n",
      "0  ...                         1            80                 0   \n",
      "1  ...                         4            80                 1   \n",
      "2  ...                         2            80                 0   \n",
      "3  ...                         3            80                 0   \n",
      "4  ...                         4            80                 1   \n",
      "\n",
      "   TotalWorkingYears  TrainingTimesLastYear WorkLifeBalance  YearsAtCompany  \\\n",
      "0                  8                      0               1               6   \n",
      "1                 10                      3               3              10   \n",
      "2                  7                      3               3               0   \n",
      "3                  8                      3               3               8   \n",
      "4                  6                      3               3               2   \n",
      "\n",
      "  YearsInCurrentRole  YearsSinceLastPromotion  YearsWithCurrManager  \n",
      "0                  4                        0                     5  \n",
      "1                  7                        1                     7  \n",
      "2                  0                        0                     0  \n",
      "3                  7                        3                     0  \n",
      "4                  2                        2                     2  \n",
      "\n",
      "[5 rows x 35 columns]\n"
     ]
    }
   ],
   "source": [
    "# 5. Fill missing values using forward fill and backward fill methods.\n",
    "def fill_missing_values_ffill(dataframe):\n",
    "    return dataframe.ffill()\n",
    "\n",
    "def fill_missing_values_bfill(dataframe):\n",
    "    return dataframe.bfill()\n",
    "\n",
    "df_filled_ffill = fill_missing_values_ffill(df)\n",
    "print(\"\\nDataFrame after forward filling missing values:\\n\", df_filled_ffill.head())\n",
    "\n",
    "df_filled_bfill = fill_missing_values_bfill(df)\n",
    "print(\"\\nDataFrame after backward filling missing values:\\n\", df_filled_bfill.head())"
   ]
  },
  {
   "cell_type": "code",
   "execution_count": 14,
   "id": "6ff682aa-dff9-4a4d-ba45-d8dff2847424",
   "metadata": {},
   "outputs": [
    {
     "name": "stdout",
     "output_type": "stream",
     "text": [
      "\n",
      "DataFrame after interpolating missing values:\n",
      "    Age Attrition     BusinessTravel  DailyRate              Department  \\\n",
      "0   41       Yes      Travel_Rarely       1102                   Sales   \n",
      "1   49        No  Travel_Frequently        279  Research & Development   \n",
      "2   37       Yes      Travel_Rarely       1373  Research & Development   \n",
      "3   33        No  Travel_Frequently       1392  Research & Development   \n",
      "4   27        No      Travel_Rarely        591  Research & Development   \n",
      "\n",
      "   DistanceFromHome  Education EducationField  EmployeeCount  EmployeeNumber  \\\n",
      "0                 1          2  Life Sciences              1               1   \n",
      "1                 8          1  Life Sciences              1               2   \n",
      "2                 2          2          Other              1               4   \n",
      "3                 3          4  Life Sciences              1               5   \n",
      "4                 2          1        Medical              1               7   \n",
      "\n",
      "   ...  RelationshipSatisfaction StandardHours  StockOptionLevel  \\\n",
      "0  ...                         1            80                 0   \n",
      "1  ...                         4            80                 1   \n",
      "2  ...                         2            80                 0   \n",
      "3  ...                         3            80                 0   \n",
      "4  ...                         4            80                 1   \n",
      "\n",
      "   TotalWorkingYears  TrainingTimesLastYear WorkLifeBalance  YearsAtCompany  \\\n",
      "0                  8                      0               1               6   \n",
      "1                 10                      3               3              10   \n",
      "2                  7                      3               3               0   \n",
      "3                  8                      3               3               8   \n",
      "4                  6                      3               3               2   \n",
      "\n",
      "  YearsInCurrentRole  YearsSinceLastPromotion  YearsWithCurrManager  \n",
      "0                  4                        0                     5  \n",
      "1                  7                        1                     7  \n",
      "2                  0                        0                     0  \n",
      "3                  7                        3                     0  \n",
      "4                  2                        2                     2  \n",
      "\n",
      "[5 rows x 35 columns]\n"
     ]
    }
   ],
   "source": [
    "# 6. Interpolate missing values.\n",
    "def interpolate_missing_values(dataframe):\n",
    "    dataframe = dataframe.infer_objects(copy=False)\n",
    "    return dataframe.apply(lambda col: col.interpolate() if col.dtype != 'object' else col)\n",
    "\n",
    "df_interpolated = interpolate_missing_values(df)\n",
    "print(\"\\nDataFrame after interpolating missing values:\\n\", df_interpolated.head())"
   ]
  },
  {
   "cell_type": "code",
   "execution_count": 16,
   "id": "f13fd21a-d55a-4f51-ba96-5a2c60e721e1",
   "metadata": {},
   "outputs": [
    {
     "name": "stdout",
     "output_type": "stream",
     "text": [
      "\n",
      "DataFrame after converting 'Age' column to float:\n",
      "     Age Attrition     BusinessTravel  DailyRate              Department  \\\n",
      "0  41.0       Yes      Travel_Rarely       1102                   Sales   \n",
      "1  49.0        No  Travel_Frequently        279  Research & Development   \n",
      "2  37.0       Yes      Travel_Rarely       1373  Research & Development   \n",
      "3  33.0        No  Travel_Frequently       1392  Research & Development   \n",
      "4  27.0        No      Travel_Rarely        591  Research & Development   \n",
      "\n",
      "   DistanceFromHome  Education EducationField  EmployeeCount  EmployeeNumber  \\\n",
      "0                 1          2  Life Sciences              1               1   \n",
      "1                 8          1  Life Sciences              1               2   \n",
      "2                 2          2          Other              1               4   \n",
      "3                 3          4  Life Sciences              1               5   \n",
      "4                 2          1        Medical              1               7   \n",
      "\n",
      "   ...  RelationshipSatisfaction StandardHours  StockOptionLevel  \\\n",
      "0  ...                         1            80                 0   \n",
      "1  ...                         4            80                 1   \n",
      "2  ...                         2            80                 0   \n",
      "3  ...                         3            80                 0   \n",
      "4  ...                         4            80                 1   \n",
      "\n",
      "   TotalWorkingYears  TrainingTimesLastYear WorkLifeBalance  YearsAtCompany  \\\n",
      "0                  8                      0               1               6   \n",
      "1                 10                      3               3              10   \n",
      "2                  7                      3               3               0   \n",
      "3                  8                      3               3               8   \n",
      "4                  6                      3               3               2   \n",
      "\n",
      "  YearsInCurrentRole  YearsSinceLastPromotion  YearsWithCurrManager  \n",
      "0                  4                        0                     5  \n",
      "1                  7                        1                     7  \n",
      "2                  0                        0                     0  \n",
      "3                  7                        3                     0  \n",
      "4                  2                        2                     2  \n",
      "\n",
      "[5 rows x 35 columns]\n"
     ]
    }
   ],
   "source": [
    "# 7. Convert a column to a different data type.\n",
    "def convert_column_type(dataframe, column_name, new_type):\n",
    "    dataframe[column_name] = dataframe[column_name].astype(new_type)\n",
    "    return dataframe\n",
    "\n",
    "df_converted = convert_column_type(df, 'Age', 'float')\n",
    "print(\"\\nDataFrame after converting 'Age' column to float:\\n\", df_converted.head())"
   ]
  },
  {
   "cell_type": "code",
   "execution_count": 18,
   "id": "f5e93e69-7900-4391-8955-3c185a7fd165",
   "metadata": {},
   "outputs": [
    {
     "name": "stdout",
     "output_type": "stream",
     "text": [
      "\n",
      "DataFrame after transforming 'MonthlyIncome' column values:\n",
      "     Age Attrition     BusinessTravel  DailyRate              Department  \\\n",
      "0  41.0       Yes      Travel_Rarely       1102                   Sales   \n",
      "1  49.0        No  Travel_Frequently        279  Research & Development   \n",
      "2  37.0       Yes      Travel_Rarely       1373  Research & Development   \n",
      "3  33.0        No  Travel_Frequently       1392  Research & Development   \n",
      "4  27.0        No      Travel_Rarely        591  Research & Development   \n",
      "\n",
      "   DistanceFromHome  Education EducationField  EmployeeCount  EmployeeNumber  \\\n",
      "0                 1          2  Life Sciences              1               1   \n",
      "1                 8          1  Life Sciences              1               2   \n",
      "2                 2          2          Other              1               4   \n",
      "3                 3          4  Life Sciences              1               5   \n",
      "4                 2          1        Medical              1               7   \n",
      "\n",
      "   ...  RelationshipSatisfaction StandardHours  StockOptionLevel  \\\n",
      "0  ...                         1            80                 0   \n",
      "1  ...                         4            80                 1   \n",
      "2  ...                         2            80                 0   \n",
      "3  ...                         3            80                 0   \n",
      "4  ...                         4            80                 1   \n",
      "\n",
      "   TotalWorkingYears  TrainingTimesLastYear WorkLifeBalance  YearsAtCompany  \\\n",
      "0                  8                      0               1               6   \n",
      "1                 10                      3               3              10   \n",
      "2                  7                      3               3               0   \n",
      "3                  8                      3               3               8   \n",
      "4                  6                      3               3               2   \n",
      "\n",
      "  YearsInCurrentRole  YearsSinceLastPromotion  YearsWithCurrManager  \n",
      "0                  4                        0                     5  \n",
      "1                  7                        1                     7  \n",
      "2                  0                        0                     0  \n",
      "3                  7                        3                     0  \n",
      "4                  2                        2                     2  \n",
      "\n",
      "[5 rows x 35 columns]\n"
     ]
    }
   ],
   "source": [
    "# 8. Apply a function to transform the values of a column.\n",
    "def transform_column_values(dataframe, column_name, func):\n",
    "    dataframe[column_name] = dataframe[column_name].apply(func)\n",
    "    return dataframe\n",
    "\n",
    "df_transformed = transform_column_values(df, 'MonthlyIncome', lambda x: x / 1000)\n",
    "print(\"\\nDataFrame after transforming 'MonthlyIncome' column values:\\n\", df_transformed.head())"
   ]
  },
  {
   "cell_type": "code",
   "execution_count": 20,
   "id": "c6dbed94-aa8d-47fc-953d-d9b3a1f3b757",
   "metadata": {},
   "outputs": [
    {
     "name": "stdout",
     "output_type": "stream",
     "text": [
      "\n",
      "DataFrame after normalizing 'MonthlyIncome' column:\n",
      "     Age Attrition     BusinessTravel  DailyRate              Department  \\\n",
      "0  41.0       Yes      Travel_Rarely       1102                   Sales   \n",
      "1  49.0        No  Travel_Frequently        279  Research & Development   \n",
      "2  37.0       Yes      Travel_Rarely       1373  Research & Development   \n",
      "3  33.0        No  Travel_Frequently       1392  Research & Development   \n",
      "4  27.0        No      Travel_Rarely        591  Research & Development   \n",
      "\n",
      "   DistanceFromHome  Education EducationField  EmployeeCount  EmployeeNumber  \\\n",
      "0                 1          2  Life Sciences              1               1   \n",
      "1                 8          1  Life Sciences              1               2   \n",
      "2                 2          2          Other              1               4   \n",
      "3                 3          4  Life Sciences              1               5   \n",
      "4                 2          1        Medical              1               7   \n",
      "\n",
      "   ...  RelationshipSatisfaction StandardHours  StockOptionLevel  \\\n",
      "0  ...                         1            80                 0   \n",
      "1  ...                         4            80                 1   \n",
      "2  ...                         2            80                 0   \n",
      "3  ...                         3            80                 0   \n",
      "4  ...                         4            80                 1   \n",
      "\n",
      "   TotalWorkingYears  TrainingTimesLastYear WorkLifeBalance  YearsAtCompany  \\\n",
      "0                  8                      0               1               6   \n",
      "1                 10                      3               3              10   \n",
      "2                  7                      3               3               0   \n",
      "3                  8                      3               3               8   \n",
      "4                  6                      3               3               2   \n",
      "\n",
      "  YearsInCurrentRole  YearsSinceLastPromotion  YearsWithCurrManager  \n",
      "0                  4                        0                     5  \n",
      "1                  7                        1                     7  \n",
      "2                  0                        0                     0  \n",
      "3                  7                        3                     0  \n",
      "4                  2                        2                     2  \n",
      "\n",
      "[5 rows x 35 columns]\n"
     ]
    }
   ],
   "source": [
    "# 9. Normalize a column using Min-Max scaling.\n",
    "def normalize_column(dataframe, column_name):\n",
    "    scaler = MinMaxScaler()\n",
    "    dataframe[column_name] = scaler.fit_transform(dataframe[[column_name]])\n",
    "    return dataframe\n",
    "\n",
    "df_normalized = normalize_column(df, 'MonthlyIncome')\n",
    "print(\"\\nDataFrame after normalizing 'MonthlyIncome' column:\\n\", df_normalized.head())"
   ]
  },
  {
   "cell_type": "code",
   "execution_count": 22,
   "id": "88d2904e-6d9f-44e6-9032-cd851fa91a7f",
   "metadata": {},
   "outputs": [
    {
     "name": "stdout",
     "output_type": "stream",
     "text": [
      "\n",
      "DataFrame after standardizing 'MonthlyIncome' column:\n",
      "     Age Attrition     BusinessTravel  DailyRate              Department  \\\n",
      "0  41.0       Yes      Travel_Rarely       1102                   Sales   \n",
      "1  49.0        No  Travel_Frequently        279  Research & Development   \n",
      "2  37.0       Yes      Travel_Rarely       1373  Research & Development   \n",
      "3  33.0        No  Travel_Frequently       1392  Research & Development   \n",
      "4  27.0        No      Travel_Rarely        591  Research & Development   \n",
      "\n",
      "   DistanceFromHome  Education EducationField  EmployeeCount  EmployeeNumber  \\\n",
      "0                 1          2  Life Sciences              1               1   \n",
      "1                 8          1  Life Sciences              1               2   \n",
      "2                 2          2          Other              1               4   \n",
      "3                 3          4  Life Sciences              1               5   \n",
      "4                 2          1        Medical              1               7   \n",
      "\n",
      "   ...  RelationshipSatisfaction StandardHours  StockOptionLevel  \\\n",
      "0  ...                         1            80                 0   \n",
      "1  ...                         4            80                 1   \n",
      "2  ...                         2            80                 0   \n",
      "3  ...                         3            80                 0   \n",
      "4  ...                         4            80                 1   \n",
      "\n",
      "   TotalWorkingYears  TrainingTimesLastYear WorkLifeBalance  YearsAtCompany  \\\n",
      "0                  8                      0               1               6   \n",
      "1                 10                      3               3              10   \n",
      "2                  7                      3               3               0   \n",
      "3                  8                      3               3               8   \n",
      "4                  6                      3               3               2   \n",
      "\n",
      "  YearsInCurrentRole  YearsSinceLastPromotion  YearsWithCurrManager  \n",
      "0                  4                        0                     5  \n",
      "1                  7                        1                     7  \n",
      "2                  0                        0                     0  \n",
      "3                  7                        3                     0  \n",
      "4                  2                        2                     2  \n",
      "\n",
      "[5 rows x 35 columns]\n"
     ]
    }
   ],
   "source": [
    "# 10. Standardize a column (z-score normalization).\n",
    "def standardize_column(dataframe, column_name):\n",
    "    scaler = StandardScaler()\n",
    "    dataframe[column_name] = scaler.fit_transform(dataframe[[column_name]])\n",
    "    return dataframe\n",
    "\n",
    "df_standardized = standardize_column(df, 'MonthlyIncome')\n",
    "print(\"\\nDataFrame after standardizing 'MonthlyIncome' column:\\n\", df_standardized.head())"
   ]
  },
  {
   "cell_type": "code",
   "execution_count": 24,
   "id": "a47f9dd4-a884-42e6-bb68-1e662c20aad6",
   "metadata": {},
   "outputs": [
    {
     "name": "stdout",
     "output_type": "stream",
     "text": [
      "\n",
      "Duplicate rows in DataFrame:\n",
      " Empty DataFrame\n",
      "Columns: [Age, Attrition, BusinessTravel, DailyRate, Department, DistanceFromHome, Education, EducationField, EmployeeCount, EmployeeNumber, EnvironmentSatisfaction, Gender, HourlyRate, JobInvolvement, JobLevel, JobRole, JobSatisfaction, MaritalStatus, MonthlyIncome, MonthlyRate, NumCompaniesWorked, Over18, OverTime, PercentSalaryHike, PerformanceRating, RelationshipSatisfaction, StandardHours, StockOptionLevel, TotalWorkingYears, TrainingTimesLastYear, WorkLifeBalance, YearsAtCompany, YearsInCurrentRole, YearsSinceLastPromotion, YearsWithCurrManager]\n",
      "Index: []\n",
      "\n",
      "[0 rows x 35 columns]\n"
     ]
    }
   ],
   "source": [
    "# 11. Identify duplicate rows in the DataFrame.\n",
    "def identify_duplicate_rows(dataframe):\n",
    "    return dataframe[dataframe.duplicated()]\n",
    "\n",
    "duplicates = identify_duplicate_rows(df)\n",
    "print(\"\\nDuplicate rows in DataFrame:\\n\", duplicates)"
   ]
  },
  {
   "cell_type": "code",
   "execution_count": 26,
   "id": "d5ba794b-fb1f-4ebf-83c2-360ae5927db1",
   "metadata": {},
   "outputs": [
    {
     "name": "stdout",
     "output_type": "stream",
     "text": [
      "\n",
      "DataFrame after dropping duplicate rows:\n",
      "     Age Attrition     BusinessTravel  DailyRate              Department  \\\n",
      "0  41.0       Yes      Travel_Rarely       1102                   Sales   \n",
      "1  49.0        No  Travel_Frequently        279  Research & Development   \n",
      "2  37.0       Yes      Travel_Rarely       1373  Research & Development   \n",
      "3  33.0        No  Travel_Frequently       1392  Research & Development   \n",
      "4  27.0        No      Travel_Rarely        591  Research & Development   \n",
      "\n",
      "   DistanceFromHome  Education EducationField  EmployeeCount  EmployeeNumber  \\\n",
      "0                 1          2  Life Sciences              1               1   \n",
      "1                 8          1  Life Sciences              1               2   \n",
      "2                 2          2          Other              1               4   \n",
      "3                 3          4  Life Sciences              1               5   \n",
      "4                 2          1        Medical              1               7   \n",
      "\n",
      "   ...  RelationshipSatisfaction StandardHours  StockOptionLevel  \\\n",
      "0  ...                         1            80                 0   \n",
      "1  ...                         4            80                 1   \n",
      "2  ...                         2            80                 0   \n",
      "3  ...                         3            80                 0   \n",
      "4  ...                         4            80                 1   \n",
      "\n",
      "   TotalWorkingYears  TrainingTimesLastYear WorkLifeBalance  YearsAtCompany  \\\n",
      "0                  8                      0               1               6   \n",
      "1                 10                      3               3              10   \n",
      "2                  7                      3               3               0   \n",
      "3                  8                      3               3               8   \n",
      "4                  6                      3               3               2   \n",
      "\n",
      "  YearsInCurrentRole  YearsSinceLastPromotion  YearsWithCurrManager  \n",
      "0                  4                        0                     5  \n",
      "1                  7                        1                     7  \n",
      "2                  0                        0                     0  \n",
      "3                  7                        3                     0  \n",
      "4                  2                        2                     2  \n",
      "\n",
      "[5 rows x 35 columns]\n"
     ]
    }
   ],
   "source": [
    "# 12. Drop duplicate rows.\n",
    "def drop_duplicate_rows(dataframe):\n",
    "    return dataframe.drop_duplicates()\n",
    "\n",
    "df_no_duplicates = drop_duplicate_rows(df)\n",
    "print(\"\\nDataFrame after dropping duplicate rows:\\n\", df_no_duplicates.head())"
   ]
  },
  {
   "cell_type": "code",
   "execution_count": 28,
   "id": "68d1d053-46cf-4385-96b4-1d0b436f8a14",
   "metadata": {},
   "outputs": [
    {
     "name": "stdout",
     "output_type": "stream",
     "text": [
      "\n",
      "DataFrame after dropping duplicate rows based on 'EmployeeNumber':\n",
      "     Age Attrition     BusinessTravel  DailyRate              Department  \\\n",
      "0  41.0       Yes      Travel_Rarely       1102                   Sales   \n",
      "1  49.0        No  Travel_Frequently        279  Research & Development   \n",
      "2  37.0       Yes      Travel_Rarely       1373  Research & Development   \n",
      "3  33.0        No  Travel_Frequently       1392  Research & Development   \n",
      "4  27.0        No      Travel_Rarely        591  Research & Development   \n",
      "\n",
      "   DistanceFromHome  Education EducationField  EmployeeCount  EmployeeNumber  \\\n",
      "0                 1          2  Life Sciences              1               1   \n",
      "1                 8          1  Life Sciences              1               2   \n",
      "2                 2          2          Other              1               4   \n",
      "3                 3          4  Life Sciences              1               5   \n",
      "4                 2          1        Medical              1               7   \n",
      "\n",
      "   ...  RelationshipSatisfaction StandardHours  StockOptionLevel  \\\n",
      "0  ...                         1            80                 0   \n",
      "1  ...                         4            80                 1   \n",
      "2  ...                         2            80                 0   \n",
      "3  ...                         3            80                 0   \n",
      "4  ...                         4            80                 1   \n",
      "\n",
      "   TotalWorkingYears  TrainingTimesLastYear WorkLifeBalance  YearsAtCompany  \\\n",
      "0                  8                      0               1               6   \n",
      "1                 10                      3               3              10   \n",
      "2                  7                      3               3               0   \n",
      "3                  8                      3               3               8   \n",
      "4                  6                      3               3               2   \n",
      "\n",
      "  YearsInCurrentRole  YearsSinceLastPromotion  YearsWithCurrManager  \n",
      "0                  4                        0                     5  \n",
      "1                  7                        1                     7  \n",
      "2                  0                        0                     0  \n",
      "3                  7                        3                     0  \n",
      "4                  2                        2                     2  \n",
      "\n",
      "[5 rows x 35 columns]\n"
     ]
    }
   ],
   "source": [
    "# 13. Drop duplicate rows based on specific columns.\n",
    "def drop_duplicate_rows_specific_columns(dataframe, column_names):\n",
    "    return dataframe.drop_duplicates(subset=column_names)\n",
    "\n",
    "df_no_duplicates_specific = drop_duplicate_rows_specific_columns(df, ['EmployeeNumber'])\n",
    "print(\"\\nDataFrame after dropping duplicate rows based on 'EmployeeNumber':\\n\", df_no_duplicates_specific.head())"
   ]
  },
  {
   "cell_type": "code",
   "execution_count": 30,
   "id": "71e26fe7-fbb0-4f48-b291-915fa4f713de",
   "metadata": {},
   "outputs": [
    {
     "name": "stdout",
     "output_type": "stream",
     "text": [
      "\n",
      "DataFrame after converting 'Department' column to lowercase:\n",
      "     Age Attrition     BusinessTravel  DailyRate              Department  \\\n",
      "0  41.0       Yes      Travel_Rarely       1102                   sales   \n",
      "1  49.0        No  Travel_Frequently        279  research & development   \n",
      "2  37.0       Yes      Travel_Rarely       1373  research & development   \n",
      "3  33.0        No  Travel_Frequently       1392  research & development   \n",
      "4  27.0        No      Travel_Rarely        591  research & development   \n",
      "\n",
      "   DistanceFromHome  Education EducationField  EmployeeCount  EmployeeNumber  \\\n",
      "0                 1          2  Life Sciences              1               1   \n",
      "1                 8          1  Life Sciences              1               2   \n",
      "2                 2          2          Other              1               4   \n",
      "3                 3          4  Life Sciences              1               5   \n",
      "4                 2          1        Medical              1               7   \n",
      "\n",
      "   ...  RelationshipSatisfaction StandardHours  StockOptionLevel  \\\n",
      "0  ...                         1            80                 0   \n",
      "1  ...                         4            80                 1   \n",
      "2  ...                         2            80                 0   \n",
      "3  ...                         3            80                 0   \n",
      "4  ...                         4            80                 1   \n",
      "\n",
      "   TotalWorkingYears  TrainingTimesLastYear WorkLifeBalance  YearsAtCompany  \\\n",
      "0                  8                      0               1               6   \n",
      "1                 10                      3               3              10   \n",
      "2                  7                      3               3               0   \n",
      "3                  8                      3               3               8   \n",
      "4                  6                      3               3               2   \n",
      "\n",
      "  YearsInCurrentRole  YearsSinceLastPromotion  YearsWithCurrManager  \n",
      "0                  4                        0                     5  \n",
      "1                  7                        1                     7  \n",
      "2                  0                        0                     0  \n",
      "3                  7                        3                     0  \n",
      "4                  2                        2                     2  \n",
      "\n",
      "[5 rows x 35 columns]\n"
     ]
    }
   ],
   "source": [
    "# 14. Convert all string values in a column to lowercase.\n",
    "def convert_column_to_lowercase(dataframe, column_name):\n",
    "    dataframe[column_name] = dataframe[column_name].str.lower()\n",
    "    return dataframe\n",
    "\n",
    "df_lowercase = convert_column_to_lowercase(df, 'Department')\n",
    "print(\"\\nDataFrame after converting 'Department' column to lowercase:\\n\", df_lowercase.head())"
   ]
  },
  {
   "cell_type": "code",
   "execution_count": 32,
   "id": "176f8675-54d8-42f5-a6e2-25cdd1ad32d0",
   "metadata": {},
   "outputs": [
    {
     "name": "stdout",
     "output_type": "stream",
     "text": [
      "\n",
      "DataFrame after stripping spaces from 'Department' column:\n",
      "     Age Attrition     BusinessTravel  DailyRate              Department  \\\n",
      "0  41.0       Yes      Travel_Rarely       1102                   sales   \n",
      "1  49.0        No  Travel_Frequently        279  research & development   \n",
      "2  37.0       Yes      Travel_Rarely       1373  research & development   \n",
      "3  33.0        No  Travel_Frequently       1392  research & development   \n",
      "4  27.0        No      Travel_Rarely        591  research & development   \n",
      "\n",
      "   DistanceFromHome  Education EducationField  EmployeeCount  EmployeeNumber  \\\n",
      "0                 1          2  Life Sciences              1               1   \n",
      "1                 8          1  Life Sciences              1               2   \n",
      "2                 2          2          Other              1               4   \n",
      "3                 3          4  Life Sciences              1               5   \n",
      "4                 2          1        Medical              1               7   \n",
      "\n",
      "   ...  RelationshipSatisfaction StandardHours  StockOptionLevel  \\\n",
      "0  ...                         1            80                 0   \n",
      "1  ...                         4            80                 1   \n",
      "2  ...                         2            80                 0   \n",
      "3  ...                         3            80                 0   \n",
      "4  ...                         4            80                 1   \n",
      "\n",
      "   TotalWorkingYears  TrainingTimesLastYear WorkLifeBalance  YearsAtCompany  \\\n",
      "0                  8                      0               1               6   \n",
      "1                 10                      3               3              10   \n",
      "2                  7                      3               3               0   \n",
      "3                  8                      3               3               8   \n",
      "4                  6                      3               3               2   \n",
      "\n",
      "  YearsInCurrentRole  YearsSinceLastPromotion  YearsWithCurrManager  \n",
      "0                  4                        0                     5  \n",
      "1                  7                        1                     7  \n",
      "2                  0                        0                     0  \n",
      "3                  7                        3                     0  \n",
      "4                  2                        2                     2  \n",
      "\n",
      "[5 rows x 35 columns]\n"
     ]
    }
   ],
   "source": [
    "# 15. Remove leading and trailing spaces from string values in a column.\n",
    "def strip_spaces_from_column(dataframe, column_name):\n",
    "    dataframe[column_name] = dataframe[column_name].str.strip()\n",
    "    return dataframe\n",
    "\n",
    "df_stripped = strip_spaces_from_column(df, 'Department')\n",
    "print(\"\\nDataFrame after stripping spaces from 'Department' column:\\n\", df_stripped.head())"
   ]
  },
  {
   "cell_type": "markdown",
   "id": "c8ffb1bf-bedc-4370-b8e6-a5736c485635",
   "metadata": {},
   "source": [
    "## From 16 to 29 Using different dataset"
   ]
  },
  {
   "cell_type": "code",
   "execution_count": 34,
   "id": "322e9921-2926-4606-9f29-f8c6d981663c",
   "metadata": {},
   "outputs": [
    {
     "name": "stdout",
     "output_type": "stream",
     "text": [
      "           id             date     price  bedrooms  bathrooms  sqft_living  \\\n",
      "0  7129300520  20141013T000000  221900.0         3       1.00         1180   \n",
      "1  6414100192  20141209T000000  538000.0         3       2.25         2570   \n",
      "2  5631500400  20150225T000000  180000.0         2       1.00          770   \n",
      "3  2487200875  20141209T000000  604000.0         4       3.00         1960   \n",
      "4  1954400510  20150218T000000  510000.0         3       2.00         1680   \n",
      "\n",
      "   sqft_lot  floors  waterfront  view  ...  grade  sqft_above  sqft_basement  \\\n",
      "0      5650     1.0           0     0  ...      7        1180              0   \n",
      "1      7242     2.0           0     0  ...      7        2170            400   \n",
      "2     10000     1.0           0     0  ...      6         770              0   \n",
      "3      5000     1.0           0     0  ...      7        1050            910   \n",
      "4      8080     1.0           0     0  ...      8        1680              0   \n",
      "\n",
      "   yr_built  yr_renovated  zipcode      lat     long  sqft_living15  \\\n",
      "0      1955             0    98178  47.5112 -122.257           1340   \n",
      "1      1951          1991    98125  47.7210 -122.319           1690   \n",
      "2      1933             0    98028  47.7379 -122.233           2720   \n",
      "3      1965             0    98136  47.5208 -122.393           1360   \n",
      "4      1987             0    98074  47.6168 -122.045           1800   \n",
      "\n",
      "   sqft_lot15  \n",
      "0        5650  \n",
      "1        7639  \n",
      "2        8062  \n",
      "3        5000  \n",
      "4        7503  \n",
      "\n",
      "[5 rows x 21 columns]\n"
     ]
    }
   ],
   "source": [
    "import pandas as pd\n",
    "df = pd.read_csv('kc_house_data.csv')\n",
    "print(df.head())"
   ]
  },
  {
   "cell_type": "code",
   "execution_count": 40,
   "id": "78dabc38-7e7c-45ec-bfe3-20a658d9645f",
   "metadata": {},
   "outputs": [
    {
     "name": "stdout",
     "output_type": "stream",
     "text": [
      "  zipcode\n",
      "0   98178\n",
      "1   98125\n",
      "2   99028\n",
      "3   98136\n",
      "4   99074\n"
     ]
    }
   ],
   "source": [
    "# 16. Replace a specific substring in a column with another substring.\n",
    "def replace_substring_in_column(dataframe, column_name, to_replace, replacement):\n",
    "    dataframe[column_name] = dataframe[column_name].str.replace(to_replace, replacement)\n",
    "    return dataframe\n",
    "\n",
    "df['zipcode'] = df['zipcode'].astype(str)  # Ensure the column is of string type\n",
    "df = replace_substring_in_column(df, 'zipcode', '980', '990')\n",
    "print(df[['zipcode']].head())"
   ]
  },
  {
   "cell_type": "code",
   "execution_count": 38,
   "id": "c93f64c1-5dec-4518-b6ed-0c85e869a6d1",
   "metadata": {},
   "outputs": [
    {
     "name": "stdout",
     "output_type": "stream",
     "text": [
      "  zipcode zipcode_substring\n",
      "0   98178               981\n",
      "1   98125               981\n",
      "2   99028               990\n",
      "3   98136               981\n",
      "4   99074               990\n"
     ]
    }
   ],
   "source": [
    "# 17. Extract a substring from each value in a column.\n",
    "def extract_substring_from_column(dataframe, column_name, start, end):\n",
    "    dataframe[column_name + '_substring'] = dataframe[column_name].str[start:end]\n",
    "    return dataframe\n",
    "\n",
    "df['zipcode_substring'] = df['zipcode'].str[0:3]\n",
    "print(df[['zipcode', 'zipcode_substring']].head())"
   ]
  },
  {
   "cell_type": "code",
   "execution_count": 42,
   "id": "49c3957e-887d-471e-9c9e-e6cd253c12b3",
   "metadata": {},
   "outputs": [
    {
     "name": "stdout",
     "output_type": "stream",
     "text": [
      "        date\n",
      "0 2014-10-13\n",
      "1 2014-12-09\n",
      "2 2015-02-25\n",
      "3 2014-12-09\n",
      "4 2015-02-18\n"
     ]
    }
   ],
   "source": [
    "# 18. Convert a column to datetime format.\n",
    "def convert_column_to_datetime(dataframe, column_name):\n",
    "    dataframe[column_name] = pd.to_datetime(dataframe[column_name])\n",
    "    return dataframe\n",
    "    \n",
    "df = convert_column_to_datetime(df, 'date')\n",
    "print(df[['date']].head())"
   ]
  },
  {
   "cell_type": "code",
   "execution_count": 44,
   "id": "aa102b2e-bdf0-4274-8992-bf009bd296b3",
   "metadata": {},
   "outputs": [
    {
     "name": "stdout",
     "output_type": "stream",
     "text": [
      "        date  Year  Month  Day\n",
      "0 2014-10-13  2014     10   13\n",
      "1 2014-12-09  2014     12    9\n",
      "2 2015-02-25  2015      2   25\n",
      "3 2014-12-09  2014     12    9\n",
      "4 2015-02-18  2015      2   18\n"
     ]
    }
   ],
   "source": [
    "# 19. Extract year, month, and day from a datetime column.\n",
    "def extract_date_parts(dataframe, column_name):\n",
    "    dataframe['Year'] = dataframe[column_name].dt.year\n",
    "    dataframe['Month'] = dataframe[column_name].dt.month\n",
    "    dataframe['Day'] = dataframe[column_name].dt.day\n",
    "    return dataframe\n",
    "\n",
    "df = extract_date_parts(df, 'date')\n",
    "print(df[['date', 'Year', 'Month', 'Day']].head())"
   ]
  },
  {
   "cell_type": "code",
   "execution_count": 46,
   "id": "14793bac-b012-4a36-90a8-c96f99816c49",
   "metadata": {},
   "outputs": [
    {
     "name": "stdout",
     "output_type": "stream",
     "text": [
      "           id       date      price  bedrooms  bathrooms  sqft_living  \\\n",
      "0  7129300520 2014-10-13   221900.0         3       1.00         1180   \n",
      "1  6414100192 2014-12-09   538000.0         3       2.25         2570   \n",
      "3  2487200875 2014-12-09   604000.0         4       3.00         1960   \n",
      "5  7237550310 2014-05-12  1225000.0         4       4.50         5420   \n",
      "6  1321400060 2014-06-27   257500.0         3       2.25         1715   \n",
      "\n",
      "   sqft_lot  floors  waterfront  view  ...  yr_renovated  zipcode      lat  \\\n",
      "0      5650     1.0           0     0  ...             0    98178  47.5112   \n",
      "1      7242     2.0           0     0  ...          1991    98125  47.7210   \n",
      "3      5000     1.0           0     0  ...             0    98136  47.5208   \n",
      "5    101930     1.0           0     0  ...             0    99053  47.6561   \n",
      "6      6819     2.0           0     0  ...             0    99003  47.3097   \n",
      "\n",
      "      long  sqft_living15  sqft_lot15 zipcode_substring  Year  Month  Day  \n",
      "0 -122.257           1340        5650               981  2014     10   13  \n",
      "1 -122.319           1690        7639               981  2014     12    9  \n",
      "3 -122.393           1360        5000               981  2014     12    9  \n",
      "5 -122.005           4760      101930               990  2014      5   12  \n",
      "6 -122.327           2238        6819               990  2014      6   27  \n",
      "\n",
      "[5 rows x 25 columns]\n"
     ]
    }
   ],
   "source": [
    "# 20. Filter rows based on a date range.\n",
    "def filter_rows_by_date_range(dataframe, column_name, start_date, end_date):\n",
    "    mask = (dataframe[column_name] >= start_date) & (dataframe[column_name] <= end_date)\n",
    "    return dataframe.loc[mask]\n",
    "\n",
    "df_filtered_dates = filter_rows_by_date_range(df, 'date', '2014-01-01', '2015-01-01')\n",
    "print(df_filtered_dates.head())"
   ]
  },
  {
   "cell_type": "code",
   "execution_count": 48,
   "id": "10a3052f-ff32-4ab9-9c3e-15243997d2a9",
   "metadata": {},
   "outputs": [
    {
     "name": "stdout",
     "output_type": "stream",
     "text": [
      "           id       date     price  bedrooms  bathrooms  sqft_living  \\\n",
      "0  7129300520 2014-10-13  221900.0         3       1.00         1180   \n",
      "1  6414100192 2014-12-09  538000.0         3       2.25         2570   \n",
      "2  5631500400 2015-02-25  180000.0         2       1.00          770   \n",
      "3  2487200875 2014-12-09  604000.0         4       3.00         1960   \n",
      "4  1954400510 2015-02-18  510000.0         3       2.00         1680   \n",
      "\n",
      "   sqft_lot  floors  waterfront  view  ...  zipcode_99056  zipcode_99058  \\\n",
      "0      5650     1.0           0     0  ...          False          False   \n",
      "1      7242     2.0           0     0  ...          False          False   \n",
      "2     10000     1.0           0     0  ...          False          False   \n",
      "3      5000     1.0           0     0  ...          False          False   \n",
      "4      8080     1.0           0     0  ...          False          False   \n",
      "\n",
      "   zipcode_99059  zipcode_99065  zipcode_99070  zipcode_99072  zipcode_99074  \\\n",
      "0          False          False          False          False          False   \n",
      "1          False          False          False          False          False   \n",
      "2          False          False          False          False          False   \n",
      "3          False          False          False          False          False   \n",
      "4          False          False          False          False           True   \n",
      "\n",
      "   zipcode_99075  zipcode_99077  zipcode_99092  \n",
      "0          False          False          False  \n",
      "1          False          False          False  \n",
      "2          False          False          False  \n",
      "3          False          False          False  \n",
      "4          False          False          False  \n",
      "\n",
      "[5 rows x 94 columns]\n"
     ]
    }
   ],
   "source": [
    "# 21. Convert a categorical column to numerical using one-hot encoding.\n",
    "def one_hot_encode_column(dataframe, column_name):\n",
    "    return pd.get_dummies(dataframe, columns=[column_name])\n",
    "\n",
    "df_one_hot_encoded = one_hot_encode_column(df, 'zipcode')\n",
    "print(df_one_hot_encoded.head())"
   ]
  },
  {
   "cell_type": "code",
   "execution_count": 50,
   "id": "4ebd2628-6cdb-44b5-b1e3-07c0a98dd787",
   "metadata": {},
   "outputs": [
    {
     "name": "stdout",
     "output_type": "stream",
     "text": [
      "   zipcode\n",
      "0       25\n",
      "1       14\n",
      "2       45\n",
      "3       17\n",
      "4       66\n"
     ]
    }
   ],
   "source": [
    "# 22. Convert a categorical column to numerical using label encoding.\n",
    "from sklearn.preprocessing import LabelEncoder\n",
    "\n",
    "def label_encode_column(dataframe, column_name):\n",
    "    le = LabelEncoder()\n",
    "    dataframe[column_name] = le.fit_transform(dataframe[column_name])\n",
    "    return dataframe\n",
    "\n",
    "df['zipcode'] = df['zipcode'].astype(str)  # Ensure the column is of string type\n",
    "df_label_encoded = label_encode_column(df, 'zipcode')\n",
    "print(df_label_encoded[['zipcode']].head())"
   ]
  },
  {
   "cell_type": "code",
   "execution_count": 52,
   "id": "83b62e0a-b286-482c-b5f7-8f27d02f634d",
   "metadata": {},
   "outputs": [
    {
     "name": "stdout",
     "output_type": "stream",
     "text": [
      "  zipcode zipcode_grouped\n",
      "0      25        Group 25\n",
      "1      14        Group 14\n",
      "2      45        Group 45\n",
      "3      17        Group 17\n",
      "4      66        Group 66\n"
     ]
    }
   ],
   "source": [
    "# 23. Group values in a categorical column and create a new column with grouped categories.\n",
    "def group_values_in_column(dataframe, column_name, groups):\n",
    "    dataframe[column_name + '_grouped'] = dataframe[column_name].map(groups)\n",
    "    return dataframe\n",
    "\n",
    "df['zipcode'] = df['zipcode'].astype(str)\n",
    "\n",
    "zipcode_groups = {zipcode: f'Group {zipcode[:3]}' for zipcode in df['zipcode'].unique()}\n",
    "\n",
    "df_grouped = group_values_in_column(df, 'zipcode', zipcode_groups)\n",
    "print(df_grouped[['zipcode', 'zipcode_grouped']].head())"
   ]
  },
  {
   "cell_type": "code",
   "execution_count": 54,
   "id": "95678ce7-36f0-494c-bad1-4e20a0226d62",
   "metadata": {},
   "outputs": [
    {
     "name": "stdout",
     "output_type": "stream",
     "text": [
      "           id       date     price  bedrooms  bathrooms  sqft_living  \\\n",
      "0  7129300520 2014-10-13  221900.0         3       1.00         1180   \n",
      "1  6414100192 2014-12-09  538000.0         3       2.25         2570   \n",
      "2  5631500400 2015-02-25  180000.0         2       1.00          770   \n",
      "3  2487200875 2014-12-09  604000.0         4       3.00         1960   \n",
      "4  1954400510 2015-02-18  510000.0         3       2.00         1680   \n",
      "\n",
      "   sqft_lot  floors  waterfront  view  ...      lat     long  sqft_living15  \\\n",
      "0      5650     1.0           0     0  ...  47.5112 -122.257           1340   \n",
      "1      7242     2.0           0     0  ...  47.7210 -122.319           1690   \n",
      "2     10000     1.0           0     0  ...  47.7379 -122.233           2720   \n",
      "3      5000     1.0           0     0  ...  47.5208 -122.393           1360   \n",
      "4      8080     1.0           0     0  ...  47.6168 -122.045           1800   \n",
      "\n",
      "   sqft_lot15  zipcode_substring  Year Month  Day  zipcode_grouped  \\\n",
      "0        5650                981  2014    10   13         Group 25   \n",
      "1        7639                981  2014    12    9         Group 14   \n",
      "2        8062                990  2015     2   25         Group 45   \n",
      "3        5000                981  2014    12    9         Group 17   \n",
      "4        7503                990  2015     2   18         Group 66   \n",
      "\n",
      "   new_feature  \n",
      "0            0  \n",
      "1            1  \n",
      "2            2  \n",
      "3            3  \n",
      "4            4  \n",
      "\n",
      "[5 rows x 27 columns]\n"
     ]
    }
   ],
   "source": [
    "# 24. Merge two DataFrames based on a common column.\n",
    "additional_data = pd.DataFrame({\n",
    "    'id': df['id'],\n",
    "    'new_feature': range(len(df))\n",
    "})\n",
    "\n",
    "def merge_dataframes(df1, df2, column_name):\n",
    "    return pd.merge(df1, df2, on=column_name)\n",
    "\n",
    "df_merged = merge_dataframes(df, additional_data, 'id')\n",
    "print(df_merged.head())"
   ]
  },
  {
   "cell_type": "code",
   "execution_count": 56,
   "id": "66e9db17-2406-4d66-827b-13ae0d6473e7",
   "metadata": {},
   "outputs": [
    {
     "name": "stdout",
     "output_type": "stream",
     "text": [
      "(43226, 26)\n"
     ]
    }
   ],
   "source": [
    "# 25. Concatenate two DataFrames vertically.\n",
    "def concatenate_dataframes_vertically(df1, df2):\n",
    "    return pd.concat([df1, df2], axis=0)\n",
    "    \n",
    "df_concatenated_vertically = concatenate_dataframes_vertically(df, df)\n",
    "print(df_concatenated_vertically.shape)"
   ]
  },
  {
   "cell_type": "code",
   "execution_count": 58,
   "id": "76df499b-78e9-485f-aa39-f665885bd3e1",
   "metadata": {},
   "outputs": [
    {
     "name": "stdout",
     "output_type": "stream",
     "text": [
      "(21613, 28)\n"
     ]
    }
   ],
   "source": [
    "# 26. Concatenate two DataFrames horizontally.\n",
    "def concatenate_dataframes_horizontally(df1, df2):\n",
    "    return pd.concat([df1, df2], axis=1)\n",
    "\n",
    "df_concatenated_horizontally = concatenate_dataframes_horizontally(df, additional_data)\n",
    "print(df_concatenated_horizontally.shape)"
   ]
  },
  {
   "cell_type": "code",
   "execution_count": 60,
   "id": "5b98a0f8-35f5-4772-a5cb-00298880f40a",
   "metadata": {},
   "outputs": [
    {
     "name": "stdout",
     "output_type": "stream",
     "text": [
      "      price  sqft_living  price_per_sqft\n",
      "0  221900.0         1180      188.050847\n",
      "1  538000.0         2570      209.338521\n",
      "2  180000.0          770      233.766234\n",
      "3  604000.0         1960      308.163265\n",
      "4  510000.0         1680      303.571429\n"
     ]
    }
   ],
   "source": [
    "# 27. Create a new column based on existing columns.\n",
    "def create_new_column_based_on_existing(df):\n",
    "    df['price_per_sqft'] = df['price'] / df['sqft_living']\n",
    "    return df\n",
    "\n",
    "df_new_column = create_new_column_based_on_existing(df)\n",
    "print(df_new_column[['price', 'sqft_living', 'price_per_sqft']].head())"
   ]
  },
  {
   "cell_type": "code",
   "execution_count": 62,
   "id": "66aa95f9-b823-4c79-94c6-c322a595da0b",
   "metadata": {},
   "outputs": [
    {
     "name": "stdout",
     "output_type": "stream",
     "text": [
      "      price price_binned\n",
      "0  221900.0       0-500K\n",
      "1  538000.0      500K-1M\n",
      "2  180000.0       0-500K\n",
      "3  604000.0      500K-1M\n",
      "4  510000.0      500K-1M\n"
     ]
    }
   ],
   "source": [
    "# 28. Discretize a continuous column into bins.\n",
    "def discretize_column(dataframe, column_name, bins, labels):\n",
    "    dataframe[column_name + '_binned'] = pd.cut(dataframe[column_name], bins=bins, labels=labels)\n",
    "    return dataframe\n",
    "\n",
    "bins = [0, 500000, 1000000, 1500000, 2000000, 3000000]\n",
    "labels = ['0-500K', '500K-1M', '1M-1.5M', '1.5M-2M', '2M-3M']\n",
    "df_binned = discretize_column(df, 'price', bins, labels)\n",
    "print(df_binned[['price', 'price_binned']].head())"
   ]
  },
  {
   "cell_type": "code",
   "execution_count": 64,
   "id": "5405ccc7-712a-473b-9154-d77680a4b27c",
   "metadata": {},
   "outputs": [
    {
     "name": "stdout",
     "output_type": "stream",
     "text": [
      "           id       date     price  bedrooms  bathrooms  sqft_living  \\\n",
      "0  7129300520 2014-10-13  221900.0         3       1.00         1180   \n",
      "1  6414100192 2014-12-09  538000.0         3       2.25         2570   \n",
      "2  5631500400 2015-02-25  180000.0         2       1.00          770   \n",
      "3  2487200875 2014-12-09  604000.0         4       3.00         1960   \n",
      "4  1954400510 2015-02-18  510000.0         3       2.00         1680   \n",
      "\n",
      "   sqft_lot  floors  waterfront  view  ...  Day  zipcode_grouped  \\\n",
      "0      5650     1.0           0     0  ...   13         Group 25   \n",
      "1      7242     2.0           0     0  ...    9         Group 14   \n",
      "2     10000     1.0           0     0  ...   25         Group 45   \n",
      "3      5000     1.0           0     0  ...    9         Group 17   \n",
      "4      8080     1.0           0     0  ...   18         Group 66   \n",
      "\n",
      "   price_per_sqft  price_binned    1  sqft_living     price  sqft_living^2  \\\n",
      "0      188.050847        0-500K  1.0       1180.0  221900.0      1392400.0   \n",
      "1      209.338521       500K-1M  1.0       2570.0  538000.0      6604900.0   \n",
      "2      233.766234        0-500K  1.0        770.0  180000.0       592900.0   \n",
      "3      308.163265       500K-1M  1.0       1960.0  604000.0      3841600.0   \n",
      "4      303.571429       500K-1M  1.0       1680.0  510000.0      2822400.0   \n",
      "\n",
      "   sqft_living price       price^2  \n",
      "0       2.618420e+08  4.923961e+10  \n",
      "1       1.382660e+09  2.894440e+11  \n",
      "2       1.386000e+08  3.240000e+10  \n",
      "3       1.183840e+09  3.648160e+11  \n",
      "4       8.568000e+08  2.601000e+11  \n",
      "\n",
      "[5 rows x 34 columns]\n"
     ]
    }
   ],
   "source": [
    "# 29. Create polynomial features from existing numerical columns.\n",
    "from sklearn.preprocessing import PolynomialFeatures\n",
    "\n",
    "def create_polynomial_features(dataframe, column_names, degree):\n",
    "    poly = PolynomialFeatures(degree)\n",
    "    poly_features = poly.fit_transform(dataframe[column_names])\n",
    "    poly_feature_names = poly.get_feature_names_out(column_names)\n",
    "    poly_df = pd.DataFrame(poly_features, columns=poly_feature_names)\n",
    "    return pd.concat([dataframe, poly_df], axis=1)\n",
    "    \n",
    "df_poly_features = create_polynomial_features(df, ['sqft_living', 'price'], degree=2)\n",
    "print(df_poly_features.head())"
   ]
  }
 ],
 "metadata": {
  "kernelspec": {
   "display_name": "Python 3 (ipykernel)",
   "language": "python",
   "name": "python3"
  },
  "language_info": {
   "codemirror_mode": {
    "name": "ipython",
    "version": 3
   },
   "file_extension": ".py",
   "mimetype": "text/x-python",
   "name": "python",
   "nbconvert_exporter": "python",
   "pygments_lexer": "ipython3",
   "version": "3.11.7"
  }
 },
 "nbformat": 4,
 "nbformat_minor": 5
}
