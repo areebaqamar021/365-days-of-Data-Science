{
 "cells": [
  {
   "cell_type": "code",
   "execution_count": 2,
   "id": "6e2c9dea-c25d-4f4c-a85b-35595492a177",
   "metadata": {},
   "outputs": [
    {
     "name": "stdout",
     "output_type": "stream",
     "text": [
      "    *\n",
      "   ***\n",
      "  *****\n",
      " *******\n",
      "*********\n"
     ]
    }
   ],
   "source": [
    "def pyramid_of_asterisks(n):\n",
    "    for i in range(1, n + 1):\n",
    "        print(' ' * (n - i) + '*' * (2 * i - 1))\n",
    "\n",
    "pyramid_of_asterisks(5)\n"
   ]
  },
  {
   "cell_type": "code",
   "execution_count": 29,
   "id": "0a637d4c-7e1c-4447-b3ef-d94c90a13614",
   "metadata": {},
   "outputs": [
    {
     "name": "stdout",
     "output_type": "stream",
     "text": [
      "15 \n",
      "15 16 \n",
      "15 16 17 \n",
      "15 16 17 18 \n",
      "15 16 17 18 19 \n"
     ]
    }
   ],
   "source": [
    "def alphabet_pyramid(n):\n",
    "    for i in range(1, n + 1):\n",
    "        for j in range(0, i):\n",
    "            print((15 + j), end=\" \")\n",
    "        print()\n",
    "\n",
    "alphabet_pyramid(5)\n"
   ]
  },
  {
   "cell_type": "code",
   "execution_count": null,
   "id": "60087db3-e991-4357-afa7-44788e0c616d",
   "metadata": {},
   "outputs": [],
   "source": []
  }
 ],
 "metadata": {
  "kernelspec": {
   "display_name": "Python 3 (ipykernel)",
   "language": "python",
   "name": "python3"
  },
  "language_info": {
   "codemirror_mode": {
    "name": "ipython",
    "version": 3
   },
   "file_extension": ".py",
   "mimetype": "text/x-python",
   "name": "python",
   "nbconvert_exporter": "python",
   "pygments_lexer": "ipython3",
   "version": "3.11.7"
  }
 },
 "nbformat": 4,
 "nbformat_minor": 5
}
